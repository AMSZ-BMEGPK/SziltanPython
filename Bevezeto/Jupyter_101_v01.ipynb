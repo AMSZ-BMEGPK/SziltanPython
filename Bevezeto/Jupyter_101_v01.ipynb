{
 "cells": [
  {
   "cell_type": "markdown",
   "metadata": {},
   "source": [
    "# Jupyter \"101\" a szilárdságtan feladatokhoz - a legfontosabbak\n",
    "\n",
    "#### Fontos! Ennek a leírásnak <u>nem</u> célja, hogy egy széles körű leírást adjon a Pythonról, Jupyterről vagy a használt modulokról.\n",
    "\n",
    "Sykora Henrik - BME-GPK Műszaki Mechanikai Tanszék (sykora@mm.bme.hu)\n",
    "### Python programozási nyelv\n",
    "\n",
    "A Python egy open-source (OS), interpretált, általános célú programozási nyelv (vagy script-nyelv).\n",
    "\n",
    "**Tulajdonságai:**\n",
    "- Objektum orientált\n",
    "- Interpretált\n",
    "    - Nem szükséges fordítani (mint a pl a *C++*-t), elég csak beírni a parancsot, és már futtatható is a kód\n",
    "    - Alkalmas számítások gyors-prototipizálására\n",
    "    - Cserébe lassú\n",
    "- Open-source:\n",
    "    - Ingyenes\n",
    "    - Folyamatosan karban tartott \n",
    "    - Széles körben felhasznált iparban és akadémiában is\n",
    "    - Nagy \"Community\", sok segédlettel, fórummal (pl.: [stackoverflow](https://stackoverflow.com/questions/tagged/python)) \n",
    "- Moduláris:\n",
    "    - Rengetek feladatra létezik \"*package*\" (pl.: numerikus számításokra *numpy*/*scipy*, szimbolikus számításokra *sympy*, táblázatfájl-kezelésre *CSV*)\n",
    "    - Csak azt kell behívni, amire szükségünk van\n",
    "    - Ismerni kell a *package* ekoszisztémát, mik léteznek, mi mire jó, stb...\n",
    "- Sok IDE (*Integrated Development Environment*) létezik:\n",
    "    - Alapvetően shell (terminál) alapú\n",
    "    - Notebook: **_jupyter notebook_**, *jupyter lab*\n",
    "    - Szövegszerkesztő: *Spyder*, *VS Code* (ingyenes/open source - ezek tartalmaznak *Debugger*-t is)\n",
    "    - Fizetős szövegszerkeszők (lista nem teljes): *Visual Studio*, *PyCharm*, stb...\n",
    "    \n",
    "### Jupyter notebook működése (+ Python kernel):\n",
    "\n",
    "Legfontosabb tudnivalók:\n",
    "\n",
    "- Csak egy *front-end*, ami kommunikál egy *kernel*-lel (ez a kernel menüben választható).\n",
    "- Két mód létezik:\n",
    "    - Command mode (cellaműveleteket lehet végezni)\n",
    "    - Edit mode (szövegbevitel cellába)\n",
    "- Command mode (`ESC` billentyű lenyomásával érhető el, kék csík a cella kijelölése esetén):\n",
    "    - Notebook mentése: `s`\n",
    "    - Cellák hozzáadása: `b` az aktuális cella alá, `a` az aktuális cella fölé\n",
    "    - Cella törlése: kétszer egymás után a `d` billentyű lenyomása\n",
    "    - Cella törlésének visszavonása: `z`\n",
    "    - Cella másolás: `c`, kivágás: `x`, beillesztés az aktuális cella alá: `v`\n",
    "    - Számozás bekapcsolása a cella soraira: `l` (kis L), vagy `Shift + l` az összes cellára\n",
    "    - Cellamódok: futtatandó kód: `y`, nyers kód (nem futtatható): `r`, markdown (formázott szöveg): `m` \n",
    "- Edit mode (`Enter` billenytű lenyomásával érhető el, zöld szín):\n",
    "    - Sor \"kikommentelése\"/\"visszaállítása\": `Ctrl + /`\n",
    "    - Több kurzor lehelyezése: `Ctrl + Bal egérgomb` \n",
    "    - Téglalap-szerű kijelölés (rectangular selection): `Alt + Bal egérgomb` \"húzása\" (dragging)\n",
    "- Közös\n",
    "    - Cella futtatása, majd cellaléptetés: `Shift + Enter` (ez létrehoz egy új cellát, ha nincs hova lépnie)\n",
    "    - Cella futtatása cellaléptetés nélkül: `Ctrl + Enter` \n",
    "\n",
    "**Jupyter notebook help-jének előhozása**: *Edit mode*-ban `h` lenyomásával  \n",
    "**Python help**: Kurzorral a függvény nevén állva `Shift + Tab` vagy egy cellába `?\"fv_név\"` beírása és futtatása"
   ]
  },
  {
   "cell_type": "markdown",
   "metadata": {},
   "source": [
    "# Python alapok"
   ]
  },
  {
   "cell_type": "markdown",
   "metadata": {},
   "source": [
    "## Alapműveletek (Shift/Ctrl + Enter-rel futtassuk)<a id='Alapmuveletek'></a>"
   ]
  },
  {
   "cell_type": "markdown",
   "metadata": {},
   "source": [
    "### Matematika:"
   ]
  },
  {
   "cell_type": "code",
   "execution_count": 1,
   "metadata": {},
   "outputs": [
    {
     "data": {
      "text/plain": [
       "0.5714285714285714"
      ]
     },
     "execution_count": 1,
     "metadata": {},
     "output_type": "execute_result"
    }
   ],
   "source": [
    "#Összeadás, kivonás, szorzás, osztás, zárójelek: +, -, *, /, ()\n",
    "(-1+3)*2/7"
   ]
  },
  {
   "cell_type": "code",
   "execution_count": 2,
   "metadata": {},
   "outputs": [
    {
     "data": {
      "text/plain": [
       "1024"
      ]
     },
     "execution_count": 2,
     "metadata": {},
     "output_type": "execute_result"
    }
   ],
   "source": [
    "2**10 #hatványozás: **, NEM ^ !"
   ]
  },
  {
   "cell_type": "code",
   "execution_count": 3,
   "metadata": {},
   "outputs": [
    {
     "data": {
      "text/plain": [
       "1.4142135623730951"
      ]
     },
     "execution_count": 3,
     "metadata": {},
     "output_type": "execute_result"
    }
   ],
   "source": [
    "2**0.5 #gyökvonás ** segítségével"
   ]
  },
  {
   "cell_type": "markdown",
   "metadata": {},
   "source": [
    "### Értékadás:\n",
    "A változók neve betűkből, számokból és néhány speciáls karakterből (pl: _ -) állhat, számmal nem kezdődhet. A név elvileg tartalmazhat ékezetet is, de ilyet nem \"illik\" csinálni... A legtöbbször célszerű \"beszédes\" neveket adni."
   ]
  },
  {
   "cell_type": "code",
   "execution_count": 4,
   "metadata": {},
   "outputs": [
    {
     "data": {
      "text/plain": [
       "5"
      ]
     },
     "execution_count": 4,
     "metadata": {},
     "output_type": "execute_result"
    }
   ],
   "source": [
    "legszebb_jegy=5 #az \"legszebb_jegy\" változó értéke 5 lesz\n",
    "legszebb_jegy #kiíratjuk a \"legszebb_jegy\" értékét"
   ]
  },
  {
   "cell_type": "markdown",
   "metadata": {},
   "source": [
    "### Összehasonlítás:\n",
    "Műveletek: `<, >, <=, =<, >=, =>, ==`. <b>Fontos! Egyenlőséget `==`-vel ellenőrzünk, a szimpla `=` az értékadás művelete!</b>"
   ]
  },
  {
   "cell_type": "code",
   "execution_count": 5,
   "metadata": {},
   "outputs": [
    {
     "data": {
      "text/plain": [
       "True"
      ]
     },
     "execution_count": 5,
     "metadata": {},
     "output_type": "execute_result"
    }
   ],
   "source": [
    "legszebb_jegy<=5 #a \"legszebb_jegy=<5\" pontosan ugyan ezt jelenti"
   ]
  },
  {
   "cell_type": "code",
   "execution_count": 6,
   "metadata": {},
   "outputs": [
    {
     "data": {
      "text/plain": [
       "False"
      ]
     },
     "execution_count": 6,
     "metadata": {},
     "output_type": "execute_result"
    }
   ],
   "source": [
    "legszebb_jegy==2"
   ]
  },
  {
   "cell_type": "code",
   "execution_count": 7,
   "metadata": {},
   "outputs": [
    {
     "data": {
      "text/plain": [
       "True"
      ]
     },
     "execution_count": 7,
     "metadata": {},
     "output_type": "execute_result"
    }
   ],
   "source": [
    "legszebb_jegy==5"
   ]
  },
  {
   "cell_type": "markdown",
   "metadata": {},
   "source": [
    "## Alapvető típusok<a id='Tipusok'></a>"
   ]
  },
  {
   "cell_type": "markdown",
   "metadata": {},
   "source": [
    "`Integer:` egész szám, pontos érték tárolódik."
   ]
  },
  {
   "cell_type": "code",
   "execution_count": 8,
   "metadata": {},
   "outputs": [
    {
     "data": {
      "text/plain": [
       "48"
      ]
     },
     "execution_count": 8,
     "metadata": {},
     "output_type": "execute_result"
    }
   ],
   "source": [
    "3+5*9"
   ]
  },
  {
   "cell_type": "markdown",
   "metadata": {},
   "source": [
    "`Float:` lebegőpontos (~tört) szám, számábrázolási/kerekítési hibák lehetnek! Bár ezek a sokadik tizedesben jelentkeznek, néha fontos rájuk odafigyelni."
   ]
  },
  {
   "cell_type": "code",
   "execution_count": 9,
   "metadata": {},
   "outputs": [
    {
     "data": {
      "text/plain": [
       "5.390000000000001"
      ]
     },
     "execution_count": 9,
     "metadata": {},
     "output_type": "execute_result"
    }
   ],
   "source": [
    "1.1*4.9 #a pontos eredmény 5.39 lenne!"
   ]
  },
  {
   "cell_type": "markdown",
   "metadata": {},
   "source": [
    "`String:`szöveg tárolására. Jelölhető 'string' vagy \"string\"-ként is. Néhány alapművelet működik rajtuk."
   ]
  },
  {
   "cell_type": "code",
   "execution_count": 10,
   "metadata": {},
   "outputs": [
    {
     "data": {
      "text/plain": [
       "'árvíztűrőárvíztűrő tükörfúrógép'"
      ]
     },
     "execution_count": 10,
     "metadata": {},
     "output_type": "execute_result"
    }
   ],
   "source": [
    "2*\"árvíztűrő\"+' tükörfúrógép' #az ékezetes betűket is kezelik"
   ]
  },
  {
   "cell_type": "markdown",
   "metadata": {},
   "source": [
    "`List:` lista, különböző elemek (akár más listák, függvények...) tárolására. Az egyes elemeket 0.-tól kezdett indexekkel (~sorszámokkal) érhetjük el. Ha negatív indexet adunk meg, akkor \"hátulról\" számolunk, a lista utolsó eleme a -1-es. Az indexet [ ]-be írjuk."
   ]
  },
  {
   "cell_type": "code",
   "execution_count": 11,
   "metadata": {},
   "outputs": [],
   "source": [
    "pici_lista=['alma', 17]\n",
    "nagy_lista=[\"körte\", 3.1415, pici_lista]"
   ]
  },
  {
   "cell_type": "code",
   "execution_count": 12,
   "metadata": {},
   "outputs": [
    {
     "data": {
      "text/plain": [
       "'alma'"
      ]
     },
     "execution_count": 12,
     "metadata": {},
     "output_type": "execute_result"
    }
   ],
   "source": [
    "pici_lista[0]"
   ]
  },
  {
   "cell_type": "code",
   "execution_count": 13,
   "metadata": {},
   "outputs": [
    {
     "data": {
      "text/plain": [
       "['alma', 17]"
      ]
     },
     "execution_count": 13,
     "metadata": {},
     "output_type": "execute_result"
    }
   ],
   "source": [
    "nagy_lista[-1]"
   ]
  },
  {
   "cell_type": "markdown",
   "metadata": {},
   "source": [
    "## Szerkezetek<a id='Szerkezetek'></a>"
   ]
  },
  {
   "cell_type": "markdown",
   "metadata": {},
   "source": [
    "### Feltételes szerkezet:\n",
    "Valamilyen feltételek alapján \"döntést hoz\" a program. Az egyes feltételek az `and` (és) illetve az `or` (vagy) szavakkal kapcsolhatók össze. Az `if` ágnak muszáj léteznie, a többnek nem. `elif` ágból bármennyi lehet.\n",
    "\n",
    "```python\n",
    "if feltetel1:\n",
    "    utasitas1\n",
    "elif feltetel2:\n",
    "    utasitas2\n",
    "elif feltetel3:\n",
    "    utasitas3\n",
    "else:\n",
    "    utasitas4\n",
    "```\n",
    "    "
   ]
  },
  {
   "cell_type": "markdown",
   "metadata": {},
   "source": [
    "### For ciklus:\n",
    "Egy lista elemein megy végig és végrehajt rajtuk egy utastítássort. Ha sorszámokra van szükségünk, használhatjuk a `range(n)` kifejezést, ami 0-től n-1-ig egyesével növekvő számokat ad vissza.    "
   ]
  },
  {
   "cell_type": "code",
   "execution_count": 14,
   "metadata": {},
   "outputs": [
    {
     "name": "stdout",
     "output_type": "stream",
     "text": [
      "A(z) 0 négyzete a(z) 0\n",
      "A(z) 1 négyzete a(z) 1\n",
      "A(z) 2 négyzete a(z) 4\n",
      "A(z) 3 négyzete a(z) 9\n",
      "A(z) 4 négyzete a(z) 16\n"
     ]
    }
   ],
   "source": [
    "for i in range(5):\n",
    "    negyzet=i**2\n",
    "    print(\"A(z)\",i,\"négyzete a(z)\",negyzet)"
   ]
  },
  {
   "cell_type": "code",
   "execution_count": 15,
   "metadata": {},
   "outputs": [
    {
     "name": "stdout",
     "output_type": "stream",
     "text": [
      "körte\n",
      "3.1415\n",
      "['alma', 17]\n"
     ]
    }
   ],
   "source": [
    "for elem in nagy_lista:\n",
    "    print(elem)"
   ]
  },
  {
   "cell_type": "markdown",
   "metadata": {},
   "source": [
    "### Saját függvények:\n",
    "Ha többször használunk egy utasítássorozatot, akkor célszerű lehet rá írni egy saját függvényt. A függvény nevére hasonló szabályok vonatkoznak, mint a vátozók neveire"
   ]
  },
  {
   "cell_type": "code",
   "execution_count": 16,
   "metadata": {},
   "outputs": [
    {
     "data": {
      "text/plain": [
       "5.0"
      ]
     },
     "execution_count": 16,
     "metadata": {},
     "output_type": "execute_result"
    }
   ],
   "source": [
    "def pitagorasz(a,b): #zárójelben: bementeti értékek\n",
    "    c=(a**2+b**2)**0.5\n",
    "    return c #vesszővel elválasztva több visszatérési érték is lehet, vagy \"becsomagolhatjuk őket\" egy listába\n",
    "\n",
    "valami=pitagorasz(3,4)\n",
    "valami"
   ]
  },
  {
   "cell_type": "markdown",
   "metadata": {},
   "source": [
    "## Modulok betöltése<a id='Modulok'></a>"
   ]
  },
  {
   "cell_type": "markdown",
   "metadata": {},
   "source": [
    "A Pythonhoz nagyon sok modul érhető el. A telepített modulokat a következő módon tölthetjük be:"
   ]
  },
  {
   "cell_type": "code",
   "execution_count": null,
   "metadata": {},
   "outputs": [],
   "source": [
    "import sympy #a sympy nevű modul betöltése\n",
    "sympy.sin(1) #a sympy modulban lévő szinusz függvény meghívása"
   ]
  },
  {
   "cell_type": "markdown",
   "metadata": {},
   "source": [
    "Betöltés más néven, mint a modul neve: (így nem kell mindig a teljes nevet kiírni...)"
   ]
  },
  {
   "cell_type": "code",
   "execution_count": 18,
   "metadata": {},
   "outputs": [
    {
     "data": {
      "text/latex": [
       "$\\displaystyle \\cos{\\left(1 \\right)}$"
      ],
      "text/plain": [
       "cos(1)"
      ]
     },
     "execution_count": 18,
     "metadata": {},
     "output_type": "execute_result"
    }
   ],
   "source": [
    "import sympy as sp #a sympy nevű modul betöltése sp néven\n",
    "sp.cos(1) #a sympy modulban lévő szinusz függvény meghívása"
   ]
  },
  {
   "cell_type": "markdown",
   "metadata": {},
   "source": [
    "Csak bizonyos függvények betöltése: (ez gyorsabb lehet, de tudunk kell, hogy mit akarunk használni)"
   ]
  },
  {
   "cell_type": "code",
   "execution_count": 19,
   "metadata": {},
   "outputs": [
    {
     "data": {
      "text/latex": [
       "$\\displaystyle \\sin{\\left(1 \\right)}$"
      ],
      "text/plain": [
       "sin(1)"
      ]
     },
     "execution_count": 19,
     "metadata": {},
     "output_type": "execute_result"
    }
   ],
   "source": [
    "from sympy import sin #a sympy modulból csak a sin() függvény betöltése\n",
    "sin(1) #ebben az esetben nem kell a függvény neve elé előtag"
   ]
  },
  {
   "cell_type": "markdown",
   "metadata": {},
   "source": [
    "Minden függvény betöltése, \"előtag\" nélküli használatra: <b>Fontos! Ha több modult is így töltünk be abból problémák lehetnek.</b> Például a szinusz függvény több modulban megtalálható sin néven. Ha így töltjük be ezeket a függvényeket, akkor csak az utoljára betöltöttet tudjuk használni."
   ]
  },
  {
   "cell_type": "code",
   "execution_count": 20,
   "metadata": {},
   "outputs": [],
   "source": [
    "from sympy import * #a sympy modulból mindennek a betöltése"
   ]
  },
  {
   "cell_type": "markdown",
   "metadata": {},
   "source": [
    "# Sympy modul\n",
    "Ez a modul szimulikus számításokat tesz lehetővé. Szimbolikus számítás: amikor nem konkrét értékekkel számolunk, hanem például egyenleteket rendezünk át."
   ]
  },
  {
   "cell_type": "markdown",
   "metadata": {},
   "source": [
    "## Szimbólumok\n",
    "Mielőtt egy szimbólumot használhatnánk, definiálnunk kell. Minden szimbólumnak meg kell adni azt a nevét, ami megjelenik, ha kiíratjuk a változót. Egy sorban több szimbólumot is definiálhatunk:"
   ]
  },
  {
   "cell_type": "code",
   "execution_count": 21,
   "metadata": {},
   "outputs": [
    {
     "data": {
      "text/latex": [
       "$\\displaystyle d_{2}$"
      ],
      "text/plain": [
       "d_2"
      ]
     },
     "execution_count": 21,
     "metadata": {},
     "output_type": "execute_result"
    }
   ],
   "source": [
    "import sympy as sp\n",
    "a,b,d1,d2=sp.symbols(\"a b d_1 d_2\") #a kiírandó neveket szóközzel vagy ,-vel válaszhatjuk el\n",
    "d2"
   ]
  },
  {
   "cell_type": "markdown",
   "metadata": {},
   "source": [
    "A definiált szimbólumokkal felírhatunk kifejezéseket:"
   ]
  },
  {
   "cell_type": "code",
   "execution_count": 22,
   "metadata": {},
   "outputs": [
    {
     "data": {
      "text/latex": [
       "$\\displaystyle \\frac{a b^{3}}{12}$"
      ],
      "text/plain": [
       "a*b**3/12"
      ]
     },
     "execution_count": 22,
     "metadata": {},
     "output_type": "execute_result"
    }
   ],
   "source": [
    "I_teglalap=a*b**3/12\n",
    "I_teglalap"
   ]
  },
  {
   "cell_type": "code",
   "execution_count": 23,
   "metadata": {},
   "outputs": [
    {
     "data": {
      "text/latex": [
       "$\\displaystyle \\frac{\\pi \\left(d_{1}^{4} - d_{2}^{4}\\right)}{64}$"
      ],
      "text/plain": [
       "pi*(d_1**4 - d_2**4)/64"
      ]
     },
     "execution_count": 23,
     "metadata": {},
     "output_type": "execute_result"
    }
   ],
   "source": [
    "I_cso=sp.pi/64*(d1**4-d2**4)\n",
    "I_cso"
   ]
  },
  {
   "cell_type": "markdown",
   "metadata": {},
   "source": [
    "## Behelyettesítés, konkrét értékek\n",
    "Akár a végeredmények számszerűsíténél, akár köztes lépésnél szükség lehet konkrét számok használatára. Egyszerű behelyettísétést a `subs()` utasítással végezhetünk, akár többször egymás után."
   ]
  },
  {
   "cell_type": "code",
   "execution_count": 24,
   "metadata": {},
   "outputs": [
    {
     "data": {
      "text/latex": [
       "$\\displaystyle \\frac{63}{2}$"
      ],
      "text/plain": [
       "63/2"
      ]
     },
     "execution_count": 24,
     "metadata": {},
     "output_type": "execute_result"
    }
   ],
   "source": [
    "I_teglalap.subs(a,14).subs(b,3)"
   ]
  },
  {
   "cell_type": "markdown",
   "metadata": {},
   "source": [
    "A következő módon több értéket helyettesíthetünk be egyszerre:"
   ]
  },
  {
   "cell_type": "code",
   "execution_count": 25,
   "metadata": {},
   "outputs": [
    {
     "data": {
      "text/latex": [
       "$\\displaystyle \\frac{9375 \\pi}{64}$"
      ],
      "text/plain": [
       "9375*pi/64"
      ]
     },
     "execution_count": 25,
     "metadata": {},
     "output_type": "execute_result"
    }
   ],
   "source": [
    "I_cso.subs([(d1,10),(d2,5)])"
   ]
  },
  {
   "cell_type": "markdown",
   "metadata": {},
   "source": [
    "Ezt a szintaktikát felhasználhatjuk arra, hogy egy feladatban lévő összes adatot egyszerre helyettesítsük be, így a feldat során sok gépelést spórolhatunk meg. Ha egy kifejezésbe olyan szimbólumot helyettesítünk, ami nincs benne használva, akkor a program ezt figyelmen kívül hagyja. (Pédául: az előbbi $I_{teglalap}$ képletben nincs benne a $d_1$, de ha behelyettesítünk `.subs(d1,10)`-t, akkor nem kapunk hibaüzenetet, csak nem történik semmi.)"
   ]
  },
  {
   "cell_type": "code",
   "execution_count": 26,
   "metadata": {},
   "outputs": [
    {
     "data": {
      "text/latex": [
       "$\\displaystyle \\frac{63}{2}$"
      ],
      "text/plain": [
       "63/2"
      ]
     },
     "execution_count": 26,
     "metadata": {},
     "output_type": "execute_result"
    }
   ],
   "source": [
    "osszes_adat=[(a,14),(b,3),(d1,10),(d2,5)]\n",
    "I_teglalap_konkret=I_teglalap.subs(osszes_adat)\n",
    "I_teglalap_konkret"
   ]
  },
  {
   "cell_type": "markdown",
   "metadata": {},
   "source": [
    "Az előbbi példákból láthatjuk, hogy a kapott eredmények pontosak, viszont számunkra a numerikus értékük is fontos. Ezt az `evalf()` utasítással érhejük el. Ha `evalf(n)`-t írunk, akkor n tizedesre kapjuk meg a numerikus eredményt."
   ]
  },
  {
   "cell_type": "code",
   "execution_count": 27,
   "metadata": {},
   "outputs": [
    {
     "data": {
      "text/latex": [
       "$\\displaystyle 460.194236365692$"
      ],
      "text/plain": [
       "460.194236365692"
      ]
     },
     "execution_count": 27,
     "metadata": {},
     "output_type": "execute_result"
    }
   ],
   "source": [
    "I_cso_konkret=I_cso.subs([(d1,10),(d2,5)])\n",
    "I_cso_konkret.evalf()"
   ]
  },
  {
   "cell_type": "markdown",
   "metadata": {},
   "source": [
    "A `subs()` paranccsal nem csak konkért számot, hanem egy kifejezést is behelyettesíthetünk egy szimbólu helyére. Például írjuk be az $I_{teglalap}$-ba $b$ helyére $d_1+d_2$-t!"
   ]
  },
  {
   "cell_type": "code",
   "execution_count": 31,
   "metadata": {},
   "outputs": [
    {
     "data": {
      "text/latex": [
       "$\\displaystyle \\frac{a \\left(d_{1} + d_{2}\\right)^{3}}{12}$"
      ],
      "text/plain": [
       "a*(d_1 + d_2)**3/12"
      ]
     },
     "execution_count": 31,
     "metadata": {},
     "output_type": "execute_result"
    }
   ],
   "source": [
    "I_teglalap.subs(b,d1+d2)"
   ]
  },
  {
   "cell_type": "markdown",
   "metadata": {},
   "source": [
    "## Lebegőpontos számok (elkerülése)\n",
    "A lebegőpontos számokat kezeli a Sympy, de nem lesz olyan \"szép\" az eredmény, ha ilyen kerül a kifejezések közé. Osszuk el az előbbi $I_{teglalap;konkret}=\\frac{63}{2}$-t 3.2-vel! Az eredmény 9.84375 lesz. Ez most éppen pontos érték, de könnyen előfordulhat olyan eset, ahol ez zavaró (például a program nem végez el bizonyos egyszerűsítéseket), vagy számítási pontatlansághoz vezet, különösen hosszabb számításoknál."
   ]
  },
  {
   "cell_type": "code",
   "execution_count": 28,
   "metadata": {},
   "outputs": [
    {
     "data": {
      "text/latex": [
       "$\\displaystyle 9.84375$"
      ],
      "text/plain": [
       "9.84375000000000"
      ]
     },
     "execution_count": 28,
     "metadata": {},
     "output_type": "execute_result"
    }
   ],
   "source": [
    "I_teglalap_konkret/3.2"
   ]
  },
  {
   "cell_type": "markdown",
   "metadata": {},
   "source": [
    "Ennek elkerülésére több lehetőségünk van. Felírhatjuk a 3.2-t racionális számként, így a Sympy már pontosan számol vele."
   ]
  },
  {
   "cell_type": "code",
   "execution_count": 29,
   "metadata": {},
   "outputs": [
    {
     "data": {
      "text/latex": [
       "$\\displaystyle \\frac{315}{32}$"
      ],
      "text/plain": [
       "315/32"
      ]
     },
     "execution_count": 29,
     "metadata": {},
     "output_type": "execute_result"
    }
   ],
   "source": [
    "I_teglalap_konkret/sp.Rational(32,10)"
   ]
  },
  {
   "cell_type": "markdown",
   "metadata": {},
   "source": [
    "Egy másik lehetőség az `nsimplyify()` parancs, ami automatikusan megfelelő alakra hozza a számot."
   ]
  },
  {
   "cell_type": "code",
   "execution_count": 30,
   "metadata": {},
   "outputs": [
    {
     "data": {
      "text/latex": [
       "$\\displaystyle \\frac{315}{32}$"
      ],
      "text/plain": [
       "315/32"
      ]
     },
     "execution_count": 30,
     "metadata": {},
     "output_type": "execute_result"
    }
   ],
   "source": [
    "I_teglalap_konkret/sp.nsimplify(3.2)"
   ]
  }
 ],
 "metadata": {
  "kernelspec": {
   "display_name": "Python 3",
   "language": "python",
   "name": "python3"
  },
  "language_info": {
   "codemirror_mode": {
    "name": "ipython",
    "version": 3
   },
   "file_extension": ".py",
   "mimetype": "text/x-python",
   "name": "python",
   "nbconvert_exporter": "python",
   "pygments_lexer": "ipython3",
   "version": "3.7.4"
  }
 },
 "nbformat": 4,
 "nbformat_minor": 2
}
