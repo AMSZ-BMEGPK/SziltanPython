{
 "cells": [
  {
   "cell_type": "markdown",
   "metadata": {},
   "source": [
    "# Bevezetés\n",
    "Sykora Henrik - BME-GPK Műszaki Mechanikai Tanszék (sykora@mm.bme.hu)\n",
    "### Python programozási nyelv\n",
    "\n",
    "A Python egy open-source (OS), interpretált, általános célú programozási nyelv (vagy script-nyelv).\n",
    "\n",
    "**Tulajdonságai:**\n",
    "- Objektum orientált\n",
    "- Interpretált\n",
    "    - Nem szükséges fordítani (mint a pl a *C++*-t), elég csak beírni a parancsot, és már futtatható is a kód\n",
    "    - Alkalmas teszi számítások gyors-prototipizálására\n",
    "    - Cserébe lassú\n",
    "- Open-source:\n",
    "    - Ingyenes\n",
    "    - Folyamatosan karban tartott \n",
    "    - Széles körben felhasznált iparban és akadémiában is\n",
    "    - Nagy \"Community\", sok segédlettel, fórummal (pl.: [stackoverflow](https://stackoverflow.com/questions/tagged/python)) \n",
    "- Moduláris:\n",
    "    - Rengetek feladatra létezik \"*package*\" (pl.: numerikus számításokra *numpy*/*scipy*, szimbolikus számításokra *sympy*, táblázatfájl-kezelésre *CSV*)\n",
    "    - Csak azt kell behívni, amire szükségünk van\n",
    "    - Ismerni kell a *package* ekoszisztémát, mik léteznek, mi mire jó, stb...\n",
    "- Sok IDE (*Integrated Development Environment*) létezik:\n",
    "    - Alapvetően shell (terminál) alapú\n",
    "    - Notebook: **_jupyter notebook_**, *jupyter lab*\n",
    "    - Szövegszerkesztő: *Spyder*, *VS Code* (ingyenes/open source - ezek tartalmaznak *Debugger*-t is)\n",
    "    - Fizetős szövegszerkeszők (lista nem teljes): *Visual Studio*, *PyCharm*, stb...\n",
    "    \n",
    "### Jupyter notebook működése (+ Python kernel):\n",
    "\n",
    "Legfontosabb tudnivalók:\n",
    "\n",
    "- Csak egy *front-end*, ami kommunikál egy *kernel*-lel (ez a kernel menüben választható).\n",
    "- Két mód létezik:\n",
    "    - Command mode (cellaműveleteket lehet végezni)\n",
    "    - Edit mode (szövegbevitel cellába)\n",
    "- Command mode (`ESC` billentyű lenyomásával érhető el, kék csík a cella kijelölése esetén):\n",
    "    - Notebook mentése: `s`\n",
    "    - Cellák hozzáadása: `b` az aktuális cella alá, `a` az aktuális cella fölé\n",
    "    - Cella törlése: kétszer egymás után a `d` billentyű lenyomása\n",
    "    - Cella törlésének visszavonása: `z`\n",
    "    - Cella másolás: `c`, kivágás: `x`, beillesztés az aktuális cella alá: `v`\n",
    "    - Számozás bekapcsolása a cella soraira: `l` (kis L), vagy `Shift + l` az összes cellára\n",
    "    - Cellamódok: futtatandó kód: `y`, nyers kód (nem futtatható): `r`, markdown (formázott szöveg): `m` \n",
    "- Edit mode (`Enter` billenytű lenyomásával érhető el, zöld szín):\n",
    "    - Sor \"kikommentelése\"/\"visszaállítása\": `Ctrl + /`\n",
    "    - Több kurzor lehelyezése: `Ctrl + Bal egérgomb` \n",
    "    - Téglalap-szerű kijelölés (rectangular selection): `Alt + Bal egérgomb` \"húzása\" (dragging)\n",
    "- Közös\n",
    "    - Cella futtatása, majd cellaléptetés: `Shift + Enter` (ez létrehoz egy új cellát, ha nincs hova lépnie)\n",
    "    - Cella futtatása cellaléptetés nélkül: `Ctrl + Enter` \n",
    "\n",
    "**Jupyter notebook help-jének előhozása**: *Edit mode*-ban `h` lenyomásával  \n",
    "**Python help**: Kurzorral a függvény nevén állva `Shift + Tab` vagy egy cellába `?\"fv_név\"` beírása és futtatása\n",
    "\n",
    "### A bevezető felépítése:\n",
    "- [Alapműveletek](#Alapmuveletek)\n",
    "- [Összetett függvények](#Osszetettfuggvenyek)\n",
    "- [Saját függvények](#Sajatfuggvenyek)\n",
    "- [Listák és vezérlési szerkezetek](#Vezerlesiszerkezetek)\n",
    "- [Külső függvénykönyvtárak](#Kulsofuggvenykonyvtarak)\n",
    "    - [Szimbolikus matematikai műveletek](#Szimbolikus)\n",
    "    - [Deriválás/Integrálás](#DerivalIntegral)\n",
    "    - [Vektor és mátrixszámítások Sympy-ban](#SzimVektorMatrix)\n",
    "    - [Vektor és mátrixszámítások Numpy-ban](#NumVektorMatrix)\n",
    "    - [Egyenletek megoldása Scipy-ban](#Egyenletek)\n",
    "    - [Szimbolikus függvényekből numerikus függvények](#SymToNum)\n",
    "- [Egyszerű ábrák készítése](#Egyszeruabrak)\n",
    "- [+ Osztályok](#Osztalyok)"
   ]
  },
  {
   "cell_type": "markdown",
   "metadata": {},
   "source": [
    "# Python bevezető "
   ]
  },
  {
   "cell_type": "markdown",
   "metadata": {},
   "source": [
    "## Alapműveletek (Shift/Ctrl + Enter-rel futtassuk)<a id='Alapmuveletek'></a>"
   ]
  },
  {
   "cell_type": "code",
   "execution_count": 1,
   "metadata": {
    "ExecuteTime": {
     "end_time": "2020-02-24T14:30:27.030566Z",
     "start_time": "2020-02-24T14:30:27.011636Z"
    }
   },
   "outputs": [
    {
     "data": {
      "text/plain": [
       "24"
      ]
     },
     "execution_count": 1,
     "metadata": {},
     "output_type": "execute_result"
    }
   ],
   "source": [
    "17 + 7 #Összeadás"
   ]
  },
  {
   "cell_type": "code",
   "execution_count": 2,
   "metadata": {
    "ExecuteTime": {
     "end_time": "2020-02-24T14:30:27.048421Z",
     "start_time": "2020-02-24T14:30:27.032860Z"
    }
   },
   "outputs": [
    {
     "data": {
      "text/plain": [
       "2"
      ]
     },
     "execution_count": 2,
     "metadata": {},
     "output_type": "execute_result"
    }
   ],
   "source": [
    "1+1"
   ]
  },
  {
   "cell_type": "code",
   "execution_count": 3,
   "metadata": {
    "ExecuteTime": {
     "end_time": "2020-02-24T14:30:27.064491Z",
     "start_time": "2020-02-24T14:30:27.054480Z"
    }
   },
   "outputs": [
    {
     "data": {
      "text/plain": [
       "326"
      ]
     },
     "execution_count": 3,
     "metadata": {},
     "output_type": "execute_result"
    }
   ],
   "source": [
    "333 - 7 #Kivonás"
   ]
  },
  {
   "cell_type": "code",
   "execution_count": 4,
   "metadata": {
    "ExecuteTime": {
     "end_time": "2020-02-24T14:30:27.079706Z",
     "start_time": "2020-02-24T14:30:27.066825Z"
    },
    "scrolled": false
   },
   "outputs": [
    {
     "data": {
      "text/plain": [
       "242"
      ]
     },
     "execution_count": 4,
     "metadata": {},
     "output_type": "execute_result"
    }
   ],
   "source": [
    "11 * 22 #Szorzás"
   ]
  },
  {
   "cell_type": "code",
   "execution_count": 5,
   "metadata": {
    "ExecuteTime": {
     "end_time": "2020-02-24T14:30:27.094382Z",
     "start_time": "2020-02-24T14:30:27.082300Z"
    }
   },
   "outputs": [
    {
     "data": {
      "text/plain": [
       "1.2857142857142858"
      ]
     },
     "execution_count": 5,
     "metadata": {},
     "output_type": "execute_result"
    }
   ],
   "source": [
    "9/7 #Osztás (ez nem egész (int) lesz: külön típus float)"
   ]
  },
  {
   "cell_type": "code",
   "execution_count": 6,
   "metadata": {
    "ExecuteTime": {
     "end_time": "2020-02-24T14:30:27.108835Z",
     "start_time": "2020-02-24T14:30:27.096313Z"
    }
   },
   "outputs": [
    {
     "data": {
      "text/plain": [
       "1"
      ]
     },
     "execution_count": 6,
     "metadata": {},
     "output_type": "execute_result"
    }
   ],
   "source": [
    "9//7"
   ]
  },
  {
   "cell_type": "code",
   "execution_count": 7,
   "metadata": {
    "ExecuteTime": {
     "end_time": "2020-02-24T14:30:27.122691Z",
     "start_time": "2020-02-24T14:30:27.110438Z"
    },
    "scrolled": true
   },
   "outputs": [
    {
     "data": {
      "text/plain": [
       "-2.7755575615628914e-17"
      ]
     },
     "execution_count": 7,
     "metadata": {},
     "output_type": "execute_result"
    }
   ],
   "source": [
    "0.3-0.1-0.2 # float: számábrázolási hiba lehet!!"
   ]
  },
  {
   "cell_type": "code",
   "execution_count": 8,
   "metadata": {
    "ExecuteTime": {
     "end_time": "2020-02-24T14:30:27.136661Z",
     "start_time": "2020-02-24T14:30:27.124273Z"
    }
   },
   "outputs": [
    {
     "data": {
      "text/plain": [
       "81"
      ]
     },
     "execution_count": 8,
     "metadata": {},
     "output_type": "execute_result"
    }
   ],
   "source": [
    "9**2 # Hatványozás (** és NEM ^!)"
   ]
  },
  {
   "cell_type": "code",
   "execution_count": 9,
   "metadata": {
    "ExecuteTime": {
     "end_time": "2020-02-24T14:30:27.151890Z",
     "start_time": "2020-02-24T14:30:27.138916Z"
    }
   },
   "outputs": [
    {
     "data": {
      "text/plain": [
       "1.4142135623730951"
      ]
     },
     "execution_count": 9,
     "metadata": {},
     "output_type": "execute_result"
    }
   ],
   "source": [
    "2**(0.5) # Gyökvönás hatványozás segítségével"
   ]
  },
  {
   "cell_type": "code",
   "execution_count": 10,
   "metadata": {
    "ExecuteTime": {
     "end_time": "2020-02-24T14:30:27.166327Z",
     "start_time": "2020-02-24T14:30:27.153901Z"
    }
   },
   "outputs": [
    {
     "data": {
      "text/plain": [
       "0.005"
      ]
     },
     "execution_count": 10,
     "metadata": {},
     "output_type": "execute_result"
    }
   ],
   "source": [
    "5e-3 #normálalak e segítségével (vagy 5E-3)"
   ]
  },
  {
   "cell_type": "markdown",
   "metadata": {},
   "source": [
    "Néhány alapművelet működik szövegre is"
   ]
  },
  {
   "cell_type": "code",
   "execution_count": 11,
   "metadata": {
    "ExecuteTime": {
     "end_time": "2020-02-24T14:30:27.181132Z",
     "start_time": "2020-02-24T14:30:27.168589Z"
    }
   },
   "outputs": [
    {
     "data": {
      "text/plain": [
       "'str1_str2_'"
      ]
     },
     "execution_count": 11,
     "metadata": {},
     "output_type": "execute_result"
    }
   ],
   "source": [
    "'str1_' + 'str2_' #Összeadás"
   ]
  },
  {
   "cell_type": "code",
   "execution_count": 12,
   "metadata": {
    "ExecuteTime": {
     "end_time": "2020-02-24T14:30:27.194650Z",
     "start_time": "2020-02-24T14:30:27.183558Z"
    },
    "scrolled": true
   },
   "outputs": [
    {
     "data": {
      "text/plain": [
       "'str2_str2_'"
      ]
     },
     "execution_count": 12,
     "metadata": {},
     "output_type": "execute_result"
    }
   ],
   "source": [
    "2 * 'str2_' #Szorzás"
   ]
  },
  {
   "cell_type": "markdown",
   "metadata": {},
   "source": [
    "## Összetettebb függvények <a id='Osszetettfuggvenyek'></a>"
   ]
  },
  {
   "cell_type": "code",
   "execution_count": 13,
   "metadata": {
    "ExecuteTime": {
     "end_time": "2020-02-24T14:30:27.239794Z",
     "start_time": "2020-02-24T14:30:27.197061Z"
    },
    "scrolled": true
   },
   "outputs": [
    {
     "ename": "NameError",
     "evalue": "name 'sin' is not defined",
     "output_type": "error",
     "traceback": [
      "\u001b[0;31m---------------------------------------------------------------------------\u001b[0m",
      "\u001b[0;31mNameError\u001b[0m                                 Traceback (most recent call last)",
      "\u001b[0;32m<ipython-input-13-f662c61863ec>\u001b[0m in \u001b[0;36m<module>\u001b[0;34m\u001b[0m\n\u001b[0;32m----> 1\u001b[0;31m \u001b[0msin\u001b[0m\u001b[0;34m(\u001b[0m\u001b[0;36m2\u001b[0m\u001b[0;34m)\u001b[0m \u001b[0;31m#szinusz\u001b[0m\u001b[0;34m\u001b[0m\u001b[0;34m\u001b[0m\u001b[0m\n\u001b[0m",
      "\u001b[0;31mNameError\u001b[0m: name 'sin' is not defined"
     ]
    }
   ],
   "source": [
    "sin(2) #szinusz"
   ]
  },
  {
   "cell_type": "markdown",
   "metadata": {},
   "source": [
    "Összetettebb függvények már nincsenek a python alapnyelvben - ilyenkor szükséges behívni külső csomagokat, pl a **math** csomagot"
   ]
  },
  {
   "cell_type": "code",
   "execution_count": 34,
   "metadata": {
    "ExecuteTime": {
     "end_time": "2020-02-24T14:30:37.494160Z",
     "start_time": "2020-02-24T14:30:37.490940Z"
    }
   },
   "outputs": [],
   "source": [
    "import math"
   ]
  },
  {
   "cell_type": "code",
   "execution_count": 35,
   "metadata": {
    "ExecuteTime": {
     "end_time": "2020-02-24T14:30:37.654331Z",
     "start_time": "2020-02-24T14:30:37.640304Z"
    }
   },
   "outputs": [
    {
     "ename": "NameError",
     "evalue": "name 'sin' is not defined",
     "output_type": "error",
     "traceback": [
      "\u001b[0;31m---------------------------------------------------------------------------\u001b[0m",
      "\u001b[0;31mNameError\u001b[0m                                 Traceback (most recent call last)",
      "\u001b[0;32m<ipython-input-35-a0912eaca942>\u001b[0m in \u001b[0;36m<module>\u001b[0;34m\u001b[0m\n\u001b[0;32m----> 1\u001b[0;31m \u001b[0msin\u001b[0m\u001b[0;34m(\u001b[0m\u001b[0;36m2\u001b[0m\u001b[0;34m)\u001b[0m \u001b[0;31m# ez így továbbra sem létezik\u001b[0m\u001b[0;34m\u001b[0m\u001b[0;34m\u001b[0m\u001b[0m\n\u001b[0m",
      "\u001b[0;31mNameError\u001b[0m: name 'sin' is not defined"
     ]
    }
   ],
   "source": [
    "sin(2) # ez így továbbra sem létezik"
   ]
  },
  {
   "cell_type": "code",
   "execution_count": 36,
   "metadata": {
    "ExecuteTime": {
     "end_time": "2020-02-24T14:30:38.278324Z",
     "start_time": "2020-02-24T14:30:37.811454Z"
    }
   },
   "outputs": [
    {
     "data": {
      "image/png": "[encoded data removed]",
      "text/latex": [
       "$\\displaystyle 0.9092974268256817$"
      ],
      "text/plain": [
       "0.9092974268256817"
      ]
     },
     "execution_count": 36,
     "metadata": {},
     "output_type": "execute_result"
    }
   ],
   "source": [
    "math.sin(2)"
   ]
  },
  {
   "cell_type": "code",
   "execution_count": 37,
   "metadata": {
    "ExecuteTime": {
     "end_time": "2020-02-24T14:30:38.282905Z",
     "start_time": "2020-02-24T14:30:38.280034Z"
    }
   },
   "outputs": [
    {
     "name": "stdout",
     "output_type": "stream",
     "text": [
      "1.4142135623730951\n",
      "-2.185039863261519\n",
      "1.1071487177940904\n"
     ]
    }
   ],
   "source": [
    "# Több parancs együttes beírásakor nem látszik, csak az utolsó sor kimenete: print függvény alkalmazása!\n",
    "print(math.sqrt(2))\n",
    "print(math.tan(2))\n",
    "print(math.atan(2))"
   ]
  },
  {
   "cell_type": "code",
   "execution_count": 38,
   "metadata": {
    "ExecuteTime": {
     "end_time": "2020-02-24T14:30:38.298398Z",
     "start_time": "2020-02-24T14:30:38.284168Z"
    }
   },
   "outputs": [],
   "source": [
    "# Kimenet el is rejthető a ; segítségével (\"suppress output\")\n",
    "1+1;"
   ]
  },
  {
   "cell_type": "markdown",
   "metadata": {},
   "source": [
    "Amennyiben szükséges, definiálhatunk mi is saját változókat az `=` jellel.  \n",
    "Megjegyzés: a `=` értékadó függvénynek nincs kimenete"
   ]
  },
  {
   "cell_type": "code",
   "execution_count": 39,
   "metadata": {
    "ExecuteTime": {
     "end_time": "2020-02-24T14:30:38.919260Z",
     "start_time": "2020-02-24T14:30:38.914779Z"
    }
   },
   "outputs": [],
   "source": [
    "a=2\n",
    "b=3\n",
    "c=4.0 # automatikus típusadás"
   ]
  },
  {
   "cell_type": "code",
   "execution_count": 40,
   "metadata": {
    "ExecuteTime": {
     "end_time": "2020-02-24T14:30:39.669381Z",
     "start_time": "2020-02-24T14:30:39.224038Z"
    },
    "scrolled": true
   },
   "outputs": [
    {
     "data": {
      "image/png": "[encoded data removed]",
      "text/latex": [
       "$\\displaystyle 196.0$"
      ],
      "text/plain": [
       "196.0"
      ]
     },
     "execution_count": 40,
     "metadata": {},
     "output_type": "execute_result"
    }
   ],
   "source": [
    "(a+b*c)**a # a legáltalánosabb típus lesz a kimenet (int < float)"
   ]
  },
  {
   "cell_type": "raw",
   "metadata": {
    "ExecuteTime": {
     "end_time": "2019-09-09T09:30:55.312952Z",
     "start_time": "2019-09-09T09:30:55.302551Z"
    }
   },
   "source": [
    "# Fontos, hogy igyekezzük kerülni védett változó neveket! ILYET NE!\n",
    "math.sqrt = 1\n",
    "math.sqrt(2)\n",
    "\n",
    "# KERNEL RESTART SZÜKSÉGES"
   ]
  },
  {
   "cell_type": "markdown",
   "metadata": {},
   "source": [
    "**Ha véletlenül ilyet teszünk, akkor érdemes újraindítani a *kernel* a fent látható körkörös nyíllal, vagy a *Kernel* $\\rightarrow$ *Restart* segítségével**"
   ]
  },
  {
   "cell_type": "markdown",
   "metadata": {},
   "source": [
    "## Saját függvények <a id='Sajatfuggvenyek'></a>\n",
    "\n",
    "Szerkezet:\n",
    "```python\n",
    "def function(*arguments):\n",
    "    instruction1\n",
    "    instruction2\n",
    "    ...\n",
    "    return result\n",
    "```\n",
    "\n",
    "A függvény alá tartozó utasításokat tabulátoros behúzással (indent) kell beírni (nincs `{}` zárójel, vagy `end`). A függvény neve után jönnek az argumentumok majd kettősponttal `:` jelezzük, hogy hol kezdődik a függvény."
   ]
  },
  {
   "cell_type": "code",
   "execution_count": 41,
   "metadata": {
    "ExecuteTime": {
     "end_time": "2020-02-24T14:30:39.971178Z",
     "start_time": "2020-02-24T14:30:39.964602Z"
    }
   },
   "outputs": [],
   "source": [
    "def foo(x):\n",
    "    return 3*x\n",
    "\n",
    "def bar(x,y):\n",
    "    a = x+y**2\n",
    "    return 2*a + 4"
   ]
  },
  {
   "cell_type": "code",
   "execution_count": 42,
   "metadata": {
    "ExecuteTime": {
     "end_time": "2020-02-24T14:30:40.165605Z",
     "start_time": "2020-02-24T14:30:40.157459Z"
    }
   },
   "outputs": [
    {
     "name": "stdout",
     "output_type": "stream",
     "text": [
      "9\n",
      "9.0\n",
      "szöveg_szöveg_szöveg_\n",
      "42.0\n"
     ]
    }
   ],
   "source": [
    "print(foo(3))\n",
    "print(foo(3.))\n",
    "print(foo('szöveg_'))\n",
    "\n",
    "print(bar(3,4.))"
   ]
  },
  {
   "cell_type": "markdown",
   "metadata": {},
   "source": [
    "Lehetséges úgynevezett anonim függvényeket (*anonymous function* vagy *lambda function*) is létrehozni, amely gyors módja az egyszerű, egysoros függvények létrehozására:\n",
    "\n",
    "```python\n",
    "lambda arguments: instruction\n",
    "```\n",
    "\n",
    "Ez akár egy változóhoz is hozzárendelhető, mint egy szám vagy string."
   ]
  },
  {
   "cell_type": "code",
   "execution_count": 43,
   "metadata": {
    "ExecuteTime": {
     "end_time": "2020-02-24T14:30:40.765556Z",
     "start_time": "2020-02-24T14:30:40.761230Z"
    }
   },
   "outputs": [],
   "source": [
    "double = lambda x : x*2\n",
    "multiply = lambda x,y : x*y"
   ]
  },
  {
   "cell_type": "code",
   "execution_count": 44,
   "metadata": {
    "ExecuteTime": {
     "end_time": "2020-02-24T14:30:40.963430Z",
     "start_time": "2020-02-24T14:30:40.958127Z"
    }
   },
   "outputs": [
    {
     "name": "stdout",
     "output_type": "stream",
     "text": [
      "6\n",
      "30\n"
     ]
    }
   ],
   "source": [
    "print(double(3))\n",
    "print(multiply(10,3))"
   ]
  },
  {
   "cell_type": "markdown",
   "metadata": {},
   "source": [
    "## Listák és vezérlési szerkezetek (Control Flow) - csak a legfontosabbak <a id='Vezerlesiszerkezetek'></a>"
   ]
  },
  {
   "cell_type": "markdown",
   "metadata": {},
   "source": [
    "### Listák"
   ]
  },
  {
   "cell_type": "code",
   "execution_count": 45,
   "metadata": {
    "ExecuteTime": {
     "end_time": "2020-02-24T14:30:41.588956Z",
     "start_time": "2020-02-24T14:30:41.580914Z"
    }
   },
   "outputs": [],
   "source": [
    "lista = [1,2,3,4,\"valami\",[1.0,4]]"
   ]
  },
  {
   "cell_type": "code",
   "execution_count": 46,
   "metadata": {
    "ExecuteTime": {
     "end_time": "2020-02-24T14:30:41.808134Z",
     "start_time": "2020-02-24T14:30:41.800693Z"
    }
   },
   "outputs": [
    {
     "name": "stdout",
     "output_type": "stream",
     "text": [
      "1\n",
      "4\n",
      "[1.0, 4]\n",
      "valami\n"
     ]
    }
   ],
   "source": [
    "print(lista[0]) # lista 1. eleme\n",
    "print(lista[3]) # lista 4. eleme\n",
    "print(lista[-1]) # negatív számokkal hátulról indexeljük a listát, és (-1)-től indul\n",
    "print(lista[-2]) # lista utolsó előtti eleme"
   ]
  },
  {
   "cell_type": "code",
   "execution_count": 47,
   "metadata": {
    "ExecuteTime": {
     "end_time": "2020-02-24T14:30:42.018213Z",
     "start_time": "2020-02-24T14:30:42.009461Z"
    }
   },
   "outputs": [
    {
     "name": "stdout",
     "output_type": "stream",
     "text": [
      "[2, 3, 4, 'valami']\n",
      "[2]\n",
      "[3, 4, 'valami', [1.0, 4]]\n"
     ]
    }
   ],
   "source": [
    "print(lista[1:-1]) # egyszerre több elem [inkluzív:exklúzív módon]\n",
    "print(lista[1:2]) # egyszerre több elem [inkluzív:exklúzív módon]\n",
    "print(lista[2:]) # lista utolsó elemét is figyelembe vesszük"
   ]
  },
  {
   "cell_type": "code",
   "execution_count": 48,
   "metadata": {
    "ExecuteTime": {
     "end_time": "2020-02-24T14:30:42.709853Z",
     "start_time": "2020-02-24T14:30:42.226340Z"
    }
   },
   "outputs": [
    {
     "data": {
      "image/png": "[encoded data removed]",
      "text/latex": [
       "$\\displaystyle \\left[ 0, \\  1, \\  1, \\  2, \\  3, \\  4, \\  9, \\  64, \\  89\\right]$"
      ],
      "text/plain": [
       "[0, 1, 1, 2, 3, 4, 9, 64, 89]"
      ]
     },
     "execution_count": 48,
     "metadata": {},
     "output_type": "execute_result"
    }
   ],
   "source": [
    "lista = [2,3,64,89,1,4,9,0,1]\n",
    "\n",
    "lista.sort()\n",
    "lista"
   ]
  },
  {
   "cell_type": "markdown",
   "metadata": {},
   "source": [
    "### if-then-else\n",
    "\n",
    "```python\n",
    "if condition:\n",
    "    instruction1\n",
    "elif condition2:\n",
    "    instruction2\n",
    "else:\n",
    "    intsturction3\n",
    "```"
   ]
  },
  {
   "cell_type": "code",
   "execution_count": 49,
   "metadata": {
    "ExecuteTime": {
     "end_time": "2020-02-24T14:30:42.715958Z",
     "start_time": "2020-02-24T14:30:42.711849Z"
    }
   },
   "outputs": [
    {
     "name": "stdout",
     "output_type": "stream",
     "text": [
      "\"a\" nagyobb mint 3, de kisebb mint 10\n"
     ]
    }
   ],
   "source": [
    "a=4\n",
    "if a<=3:\n",
    "    print('\"a\" nem nagyobb, mint 3')\n",
    "elif a>=10:\n",
    "    print('\"a\" nem kisebb, mint 10')\n",
    "else:\n",
    "    print('\"a\" nagyobb mint 3, de kisebb mint 10')"
   ]
  },
  {
   "cell_type": "markdown",
   "metadata": {},
   "source": [
    "### for ciklus (for loop)\n",
    "```python\n",
    "for i in array:\n",
    "    instruction\n",
    "```"
   ]
  },
  {
   "cell_type": "code",
   "execution_count": 50,
   "metadata": {
    "ExecuteTime": {
     "end_time": "2020-02-24T14:30:42.986576Z",
     "start_time": "2020-02-24T14:30:42.971779Z"
    }
   },
   "outputs": [
    {
     "name": "stdout",
     "output_type": "stream",
     "text": [
      "0\n",
      "1\n",
      "2\n",
      "\n",
      "lista 0. eleme: 0\n",
      "lista 1. eleme: 1\n",
      "lista 2. eleme: 1\n",
      "lista 3. eleme: 2\n",
      "lista 4. eleme: 3\n",
      "lista 5. eleme: 4\n",
      "lista 6. eleme: 9\n",
      "lista 7. eleme: 64\n",
      "lista 8. eleme: 89\n"
     ]
    }
   ],
   "source": [
    "for i in range(3):\n",
    "    print(i)\n",
    "    \n",
    "print()\n",
    "\n",
    "for (i,elem) in enumerate(lista):\n",
    "    print('lista ',i,'. eleme: ',elem,sep='') # több elem printelése egyszerr, szeparátor = ''\n"
   ]
  },
  {
   "cell_type": "markdown",
   "metadata": {},
   "source": [
    "## Listák gyors létrehozása (List comprehension)"
   ]
  },
  {
   "cell_type": "code",
   "execution_count": 51,
   "metadata": {
    "ExecuteTime": {
     "end_time": "2020-02-24T14:30:43.781146Z",
     "start_time": "2020-02-24T14:30:43.359439Z"
    }
   },
   "outputs": [
    {
     "data": {
      "image/png": "[encoded data removed]",
      "text/latex": [
       "$\\displaystyle \\left[ 12, \\  27, \\  48\\right]$"
      ],
      "text/plain": [
       "[12, 27, 48]"
      ]
     },
     "execution_count": 51,
     "metadata": {},
     "output_type": "execute_result"
    }
   ],
   "source": [
    "lista2 = [3*i**2 for i in range(2,5)] # range: 2,3,4\n",
    "lista2"
   ]
  },
  {
   "cell_type": "code",
   "execution_count": 52,
   "metadata": {
    "ExecuteTime": {
     "end_time": "2020-02-24T14:30:43.787406Z",
     "start_time": "2020-02-24T14:30:43.783334Z"
    }
   },
   "outputs": [
    {
     "data": {
      "text/plain": [
       "range(0, 10000)"
      ]
     },
     "execution_count": 52,
     "metadata": {},
     "output_type": "execute_result"
    }
   ],
   "source": [
    "range(10000)"
   ]
  },
  {
   "cell_type": "code",
   "execution_count": 53,
   "metadata": {
    "ExecuteTime": {
     "end_time": "2020-02-24T14:30:44.326285Z",
     "start_time": "2020-02-24T14:30:43.789447Z"
    }
   },
   "outputs": [
    {
     "data": {
      "image/png": "[encoded data removed]",
      "text/latex": [
       "$\\displaystyle \\left[ 0, \\  1, \\  2, \\  3, \\  4, \\  5, \\  6, \\  7, \\  8, \\  9\\right]$"
      ],
      "text/plain": [
       "[0, 1, 2, 3, 4, 5, 6, 7, 8, 9]"
      ]
     },
     "execution_count": 53,
     "metadata": {},
     "output_type": "execute_result"
    }
   ],
   "source": [
    "lista3 = list(range(10))\n",
    "lista3"
   ]
  },
  {
   "cell_type": "code",
   "execution_count": 54,
   "metadata": {
    "ExecuteTime": {
     "end_time": "2020-02-24T14:30:44.828780Z",
     "start_time": "2020-02-24T14:30:44.329304Z"
    }
   },
   "outputs": [
    {
     "data": {
      "image/png": "[encoded data removed]",
      "text/latex": [
       "$\\displaystyle \\left[ 12, \\  48, \\  75, \\  147, \\  192\\right]$"
      ],
      "text/plain": [
       "[12, 48, 75, 147, 192]"
      ]
     },
     "execution_count": 54,
     "metadata": {},
     "output_type": "execute_result"
    }
   ],
   "source": [
    "myfun = lambda x: 3*x**2\n",
    "\n",
    "lista4 = [myfun(i) for i in range(2,10) if i%3 != 0] # ha i nem osztható 3-al\n",
    "lista4"
   ]
  },
  {
   "cell_type": "markdown",
   "metadata": {},
   "source": [
    "# Külső függvénykönyvtárak: <a id='Kulsofuggvenykonyvtarak'></a>"
   ]
  },
  {
   "cell_type": "markdown",
   "metadata": {},
   "source": [
    "A mérnöki gyakorlatban előforduló alapszámításokhoz 2 fő csomag importálása ajánlott:\n",
    "- `sympy`: szimbolikus számításokhoz\n",
    "- `scipy`/`numpy`: numerikus számításokhoz (pl mátrix algebra)\n",
    "- `matplotlib.pyplot`: Függvények ábrázolása\n",
    "A `module`-ok hívása az alábbi módokon történhet\n",
    "- `import` *`modulename`* : importálja az adott `module`-t. Ekkor a `module`-ban lévő függvények hívása a `module.functionname(arguments)` segítségével történik (Az *1_Alapok.ipynb*-ben láthattunk erre példát a `math` `module` esetében).  \n",
    "- `import` *`modulename`* `as` *`alias`* : hasonló az előzőhöz, de megválasztjuk, hogy milyen *alias*-ként hivatkozunk a `module`-unkra\n",
    "- `from` *`modulename`* ` import` *`function1, function2, ...`* : csak bizonyos függvények importálása (nem szükséges a `module`-ra hivatkozni a függvények hívása során)\n",
    "- `from` *`modulename`* ` import *` : a `module` összes függvényének importálása (nem szükséges a `module`-ra hivatkozni a függvények hívása során)\n"
   ]
  },
  {
   "cell_type": "markdown",
   "metadata": {},
   "source": [
    "## Szimbolikus matematikai műveletek <a id='Szimbolikus'></a>"
   ]
  },
  {
   "cell_type": "code",
   "execution_count": 55,
   "metadata": {
    "ExecuteTime": {
     "end_time": "2020-02-24T14:30:44.834533Z",
     "start_time": "2020-02-24T14:30:44.830880Z"
    }
   },
   "outputs": [],
   "source": [
    "import math\n",
    "import sympy as sp\n",
    "import scipy as sc\n",
    "sp.init_printing()"
   ]
  },
  {
   "cell_type": "code",
   "execution_count": 56,
   "metadata": {
    "ExecuteTime": {
     "end_time": "2020-02-24T14:30:44.960902Z",
     "start_time": "2020-02-24T14:30:44.956953Z"
    }
   },
   "outputs": [],
   "source": [
    "F, m, a, b, c, x = sp.symbols(\"F m a b c x\")"
   ]
  },
  {
   "cell_type": "code",
   "execution_count": 57,
   "metadata": {
    "ExecuteTime": {
     "end_time": "2020-02-24T14:30:45.152461Z",
     "start_time": "2020-02-24T14:30:45.147206Z"
    }
   },
   "outputs": [],
   "source": [
    "F=m*a"
   ]
  },
  {
   "cell_type": "code",
   "execution_count": 58,
   "metadata": {
    "ExecuteTime": {
     "end_time": "2020-02-24T14:30:45.827638Z",
     "start_time": "2020-02-24T14:30:45.343873Z"
    }
   },
   "outputs": [
    {
     "data": {
      "image/png": "[encoded data removed]",
      "text/latex": [
       "$\\displaystyle \\left( a, \\  7\\right)$"
      ],
      "text/plain": [
       "(a, 7)"
      ]
     },
     "execution_count": 58,
     "metadata": {},
     "output_type": "execute_result"
    }
   ],
   "source": [
    "(a,7)"
   ]
  },
  {
   "cell_type": "code",
   "execution_count": 59,
   "metadata": {
    "ExecuteTime": {
     "end_time": "2020-02-24T14:30:46.299119Z",
     "start_time": "2020-02-24T14:30:45.829733Z"
    }
   },
   "outputs": [
    {
     "data": {
      "image/png": "[encoded data removed]",
      "text/latex": [
       "$\\displaystyle 7 m$"
      ],
      "text/plain": [
       "7⋅m"
      ]
     },
     "execution_count": 59,
     "metadata": {},
     "output_type": "execute_result"
    }
   ],
   "source": [
    "F.subs(a,7)"
   ]
  },
  {
   "cell_type": "code",
   "execution_count": 60,
   "metadata": {
    "ExecuteTime": {
     "end_time": "2020-02-24T14:30:46.797595Z",
     "start_time": "2020-02-24T14:30:46.301353Z"
    }
   },
   "outputs": [
    {
     "data": {
      "image/png": "[encoded data removed]",
      "text/latex": [
       "$\\displaystyle 7.7$"
      ],
      "text/plain": [
       "7.70000000000000"
      ]
     },
     "execution_count": 60,
     "metadata": {},
     "output_type": "execute_result"
    }
   ],
   "source": [
    "F.subs([(a,7),(m,1.1)])"
   ]
  },
  {
   "cell_type": "code",
   "execution_count": 61,
   "metadata": {
    "ExecuteTime": {
     "end_time": "2020-02-24T14:30:47.363940Z",
     "start_time": "2020-02-24T14:30:46.801139Z"
    }
   },
   "outputs": [
    {
     "data": {
      "image/png": "[encoded data removed]",
      "text/latex": [
       "$\\displaystyle a^{3} + 3 a^{2} b + 3 a b^{2} + b^{3}$"
      ],
      "text/plain": [
       " 3      2          2    3\n",
       "a  + 3⋅a ⋅b + 3⋅a⋅b  + b "
      ]
     },
     "execution_count": 61,
     "metadata": {},
     "output_type": "execute_result"
    }
   ],
   "source": [
    "((a+b)**3).expand()"
   ]
  },
  {
   "cell_type": "code",
   "execution_count": 62,
   "metadata": {
    "ExecuteTime": {
     "end_time": "2020-02-24T14:30:47.877779Z",
     "start_time": "2020-02-24T14:30:47.366027Z"
    }
   },
   "outputs": [
    {
     "data": {
      "image/png": "[encoded data removed]",
      "text/latex": [
       "$\\displaystyle a^{7} + 7 a^{6} b + 21 a^{5} b^{2} + 35 a^{4} b^{3} + 35 a^{3} b^{4} - 8 a^{3} + 21 a^{2} b^{5} - 12 a^{2} b + 7 a b^{6} - 6 a b^{2} + b^{7} - b^{3}$"
      ],
      "text/plain": [
       " 7      6         5  2       4  3       3  4      3       2  5       2        \n",
       "a  + 7⋅a ⋅b + 21⋅a ⋅b  + 35⋅a ⋅b  + 35⋅a ⋅b  - 8⋅a  + 21⋅a ⋅b  - 12⋅a ⋅b + 7⋅a\n",
       "\n",
       "  6        2    7    3\n",
       "⋅b  - 6⋅a⋅b  + b  - b "
      ]
     },
     "execution_count": 62,
     "metadata": {},
     "output_type": "execute_result"
    }
   ],
   "source": [
    "((a+b)**7 - (b+2*a)**3).expand()"
   ]
  },
  {
   "cell_type": "code",
   "execution_count": 63,
   "metadata": {
    "ExecuteTime": {
     "end_time": "2020-02-24T14:30:48.368238Z",
     "start_time": "2020-02-24T14:30:47.880176Z"
    }
   },
   "outputs": [
    {
     "data": {
      "image/png": "[encoded data removed]",
      "text/latex": [
       "$\\displaystyle \\left(a + b\\right)^{2}$"
      ],
      "text/plain": [
       "       2\n",
       "(a + b) "
      ]
     },
     "execution_count": 63,
     "metadata": {},
     "output_type": "execute_result"
    }
   ],
   "source": [
    "(a**2+b**2+2*a*b).factor()"
   ]
  },
  {
   "cell_type": "code",
   "execution_count": 64,
   "metadata": {
    "ExecuteTime": {
     "end_time": "2020-02-24T14:30:48.856643Z",
     "start_time": "2020-02-24T14:30:48.370976Z"
    }
   },
   "outputs": [
    {
     "data": {
      "image/png": "[encoded data removed]",
      "text/latex": [
       "$\\displaystyle \\left(a + b\\right)^{2}$"
      ],
      "text/plain": [
       "       2\n",
       "(a + b) "
      ]
     },
     "execution_count": 64,
     "metadata": {},
     "output_type": "execute_result"
    }
   ],
   "source": [
    "sp.factor(a**2+b**2+2*a*b)"
   ]
  },
  {
   "cell_type": "code",
   "execution_count": 65,
   "metadata": {
    "ExecuteTime": {
     "end_time": "2020-02-24T14:30:49.357643Z",
     "start_time": "2020-02-24T14:30:48.858711Z"
    }
   },
   "outputs": [
    {
     "data": {
      "image/png": "[encoded data removed]",
      "text/latex": [
       "$\\displaystyle \\left(a + b\\right)^{3}$"
      ],
      "text/plain": [
       "       3\n",
       "(a + b) "
      ]
     },
     "execution_count": 65,
     "metadata": {},
     "output_type": "execute_result"
    }
   ],
   "source": [
    "sp.factor(b**3 + 3*a*b**2 + 3*a**2*b + a**3)"
   ]
  },
  {
   "cell_type": "code",
   "execution_count": 66,
   "metadata": {
    "ExecuteTime": {
     "end_time": "2020-02-24T14:30:49.882404Z",
     "start_time": "2020-02-24T14:30:49.361845Z"
    }
   },
   "outputs": [
    {
     "data": {
      "image/png": "[encoded data removed]",
      "text/latex": [
       "$\\displaystyle \\frac{a}{b} + \\frac{c}{b} + \\frac{7}{b}$"
      ],
      "text/plain": [
       "a   c   7\n",
       "─ + ─ + ─\n",
       "b   b   b"
      ]
     },
     "execution_count": 66,
     "metadata": {},
     "output_type": "execute_result"
    }
   ],
   "source": [
    "a/b+c/b+7/b"
   ]
  },
  {
   "cell_type": "code",
   "execution_count": 67,
   "metadata": {
    "ExecuteTime": {
     "end_time": "2020-02-24T14:30:50.346024Z",
     "start_time": "2020-02-24T14:30:49.883959Z"
    }
   },
   "outputs": [
    {
     "data": {
      "image/png": "[encoded data removed]",
      "text/latex": [
       "$\\displaystyle \\frac{a + c + 7}{b}$"
      ],
      "text/plain": [
       "a + c + 7\n",
       "─────────\n",
       "    b    "
      ]
     },
     "execution_count": 67,
     "metadata": {},
     "output_type": "execute_result"
    }
   ],
   "source": [
    "sp.ratsimp(a/b+c/b+7/b)"
   ]
  },
  {
   "cell_type": "code",
   "execution_count": 68,
   "metadata": {
    "ExecuteTime": {
     "end_time": "2020-02-24T14:30:50.858971Z",
     "start_time": "2020-02-24T14:30:50.347747Z"
    }
   },
   "outputs": [
    {
     "data": {
      "image/png": "[encoded data removed]",
      "text/latex": [
       "$\\displaystyle \\frac{a + c + 7}{b}$"
      ],
      "text/plain": [
       "a + c + 7\n",
       "─────────\n",
       "    b    "
      ]
     },
     "execution_count": 68,
     "metadata": {},
     "output_type": "execute_result"
    }
   ],
   "source": [
    "(a/b+c/b+7/b).ratsimp()"
   ]
  },
  {
   "cell_type": "code",
   "execution_count": 69,
   "metadata": {
    "ExecuteTime": {
     "end_time": "2020-02-24T14:30:51.406560Z",
     "start_time": "2020-02-24T14:30:50.863638Z"
    }
   },
   "outputs": [
    {
     "data": {
      "image/png": "[encoded data removed]",
      "text/latex": [
       "$\\displaystyle 1$"
      ],
      "text/plain": [
       "1"
      ]
     },
     "execution_count": 69,
     "metadata": {},
     "output_type": "execute_result"
    }
   ],
   "source": [
    "(sp.sin(x)**2 + sp.cos(x)**2).simplify().expand()"
   ]
  },
  {
   "cell_type": "code",
   "execution_count": 70,
   "metadata": {
    "ExecuteTime": {
     "end_time": "2020-02-24T14:30:51.911217Z",
     "start_time": "2020-02-24T14:30:51.408590Z"
    }
   },
   "outputs": [
    {
     "data": {
      "image/png": "[encoded data removed]",
      "text/latex": [
       "$\\displaystyle \\cos{\\left(2 x \\right)}$"
      ],
      "text/plain": [
       "cos(2⋅x)"
      ]
     },
     "execution_count": 70,
     "metadata": {},
     "output_type": "execute_result"
    }
   ],
   "source": [
    "(sp.cos(2*x)).expand()"
   ]
  },
  {
   "cell_type": "code",
   "execution_count": 71,
   "metadata": {
    "ExecuteTime": {
     "end_time": "2020-02-24T14:30:52.437696Z",
     "start_time": "2020-02-24T14:30:51.913785Z"
    }
   },
   "outputs": [
    {
     "data": {
      "image/png": "[encoded data removed]",
      "text/latex": [
       "$\\displaystyle 2 \\cos^{2}{\\left(x \\right)} - 1$"
      ],
      "text/plain": [
       "     2       \n",
       "2⋅cos (x) - 1"
      ]
     },
     "execution_count": 71,
     "metadata": {},
     "output_type": "execute_result"
    }
   ],
   "source": [
    "sp.expand_trig(sp.cos(2*x))"
   ]
  },
  {
   "cell_type": "code",
   "execution_count": 72,
   "metadata": {
    "ExecuteTime": {
     "end_time": "2020-02-24T14:30:52.443179Z",
     "start_time": "2020-02-24T14:30:52.440376Z"
    }
   },
   "outputs": [],
   "source": [
    "import scipy.constants"
   ]
  },
  {
   "cell_type": "code",
   "execution_count": 73,
   "metadata": {
    "ExecuteTime": {
     "end_time": "2020-02-24T14:30:52.953415Z",
     "start_time": "2020-02-24T14:30:52.445167Z"
    }
   },
   "outputs": [
    {
     "data": {
      "image/png": "[encoded data removed]",
      "text/latex": [
       "$\\displaystyle 1.618033988749895$"
      ],
      "text/plain": [
       "1.618033988749895"
      ]
     },
     "execution_count": 73,
     "metadata": {},
     "output_type": "execute_result"
    }
   ],
   "source": [
    "sc.constants.golden"
   ]
  },
  {
   "cell_type": "code",
   "execution_count": 74,
   "metadata": {
    "ExecuteTime": {
     "end_time": "2020-02-24T14:30:52.975935Z",
     "start_time": "2020-02-24T14:30:52.957853Z"
    }
   },
   "outputs": [
    {
     "ename": "TypeError",
     "evalue": "can't convert complex to float",
     "output_type": "error",
     "traceback": [
      "\u001b[0;31m---------------------------------------------------------------------------\u001b[0m",
      "\u001b[0;31mTypeError\u001b[0m                                 Traceback (most recent call last)",
      "\u001b[0;32m<ipython-input-74-f6807a18ccc0>\u001b[0m in \u001b[0;36m<module>\u001b[0;34m\u001b[0m\n\u001b[0;32m----> 1\u001b[0;31m \u001b[0mmath\u001b[0m\u001b[0;34m.\u001b[0m\u001b[0msqrt\u001b[0m\u001b[0;34m(\u001b[0m\u001b[0;34m-\u001b[0m\u001b[0;36m1\u001b[0m\u001b[0;34m+\u001b[0m\u001b[0;36m0j\u001b[0m\u001b[0;34m)\u001b[0m \u001b[0;31m# A math csomagban nincsenek implementálva a komplex számok!\u001b[0m\u001b[0;34m\u001b[0m\u001b[0;34m\u001b[0m\u001b[0m\n\u001b[0m",
      "\u001b[0;31mTypeError\u001b[0m: can't convert complex to float"
     ]
    }
   ],
   "source": [
    "math.sqrt(-1+0j) # A math csomagban nincsenek implementálva a komplex számok!"
   ]
  },
  {
   "cell_type": "code",
   "execution_count": null,
   "metadata": {
    "ExecuteTime": {
     "end_time": "2020-02-24T14:30:52.980622Z",
     "start_time": "2020-02-24T14:30:51.148Z"
    }
   },
   "outputs": [],
   "source": [
    "sc.sqrt(-1+0j)"
   ]
  },
  {
   "cell_type": "code",
   "execution_count": null,
   "metadata": {
    "ExecuteTime": {
     "end_time": "2020-02-24T14:30:52.982560Z",
     "start_time": "2020-02-24T14:30:51.655Z"
    }
   },
   "outputs": [],
   "source": [
    "sp.limit(sp.sin(x)/x,x,0)"
   ]
  },
  {
   "cell_type": "markdown",
   "metadata": {},
   "source": [
    "\n",
    "Taylor-sor megadása. Első paraméter a függvény, második a változó, harmadik az érték ami körül akarjuk a sort kifejteni, negyedik pedig a fokszám:\n",
    "\n",
    "$$f\\left(x\\right) \\approx \\sum\\limits_{i=0}^{N} \\dfrac{\\left(x - x_0\\right)^i}{i!} \\left.\\dfrac{\\mathrm{d}^i f}{\\mathrm{d} x^i}\\right|_{x = x_0}$$"
   ]
  },
  {
   "cell_type": "code",
   "execution_count": null,
   "metadata": {
    "ExecuteTime": {
     "end_time": "2020-02-24T14:30:52.984881Z",
     "start_time": "2020-02-24T14:30:52.400Z"
    }
   },
   "outputs": [],
   "source": [
    "sp.series(sp.sin(x),x,0,20)"
   ]
  },
  {
   "cell_type": "markdown",
   "metadata": {},
   "source": [
    "### Deriválás/Integrálás <a id='DerivalIntegral'></a>"
   ]
  },
  {
   "cell_type": "code",
   "execution_count": 75,
   "metadata": {
    "ExecuteTime": {
     "end_time": "2020-02-24T14:30:53.092158Z",
     "start_time": "2020-02-24T14:30:53.088452Z"
    }
   },
   "outputs": [],
   "source": [
    "a,Δt,x = sp.symbols('a,Δt,x')"
   ]
  },
  {
   "cell_type": "markdown",
   "metadata": {},
   "source": [
    "Deriválás"
   ]
  },
  {
   "cell_type": "code",
   "execution_count": 76,
   "metadata": {
    "ExecuteTime": {
     "end_time": "2020-02-24T14:30:54.021312Z",
     "start_time": "2020-02-24T14:30:53.658992Z"
    }
   },
   "outputs": [
    {
     "data": {
      "image/png": "[encoded data removed]",
      "text/latex": [
       "$\\displaystyle 3 x^{2} \\cos{\\left(x^{3} \\right)}$"
      ],
      "text/plain": [
       "   2    ⎛ 3⎞\n",
       "3⋅x ⋅cos⎝x ⎠"
      ]
     },
     "execution_count": 76,
     "metadata": {},
     "output_type": "execute_result"
    }
   ],
   "source": [
    "sp.diff(sp.sin(x**3),x)"
   ]
  },
  {
   "cell_type": "markdown",
   "metadata": {},
   "source": [
    "Többszöri deriválás"
   ]
  },
  {
   "cell_type": "code",
   "execution_count": 77,
   "metadata": {
    "ExecuteTime": {
     "end_time": "2020-02-24T14:30:54.725092Z",
     "start_time": "2020-02-24T14:30:54.405133Z"
    }
   },
   "outputs": [
    {
     "data": {
      "image/png": "[encoded data removed]",
      "text/latex": [
       "$\\displaystyle 3 \\left(- 9 x^{6} \\cos{\\left(x^{3} \\right)} - 18 x^{3} \\sin{\\left(x^{3} \\right)} + 2 \\cos{\\left(x^{3} \\right)}\\right)$"
      ],
      "text/plain": [
       "  ⎛     6    ⎛ 3⎞       3    ⎛ 3⎞        ⎛ 3⎞⎞\n",
       "3⋅⎝- 9⋅x ⋅cos⎝x ⎠ - 18⋅x ⋅sin⎝x ⎠ + 2⋅cos⎝x ⎠⎠"
      ]
     },
     "execution_count": 77,
     "metadata": {},
     "output_type": "execute_result"
    }
   ],
   "source": [
    "sp.diff(sp.sin(x**3),x,3)"
   ]
  },
  {
   "cell_type": "markdown",
   "metadata": {},
   "source": [
    "Integrálás"
   ]
  },
  {
   "cell_type": "code",
   "execution_count": 78,
   "metadata": {
    "ExecuteTime": {
     "end_time": "2020-02-24T14:30:55.457551Z",
     "start_time": "2020-02-24T14:30:55.046178Z"
    }
   },
   "outputs": [
    {
     "data": {
      "image/png": "[encoded data removed]",
      "text/latex": [
       "$\\displaystyle \\log{\\left(x + 1 \\right)}$"
      ],
      "text/plain": [
       "log(x + 1)"
      ]
     },
     "execution_count": 78,
     "metadata": {},
     "output_type": "execute_result"
    }
   ],
   "source": [
    "sp.integrate(1/(1+x),x)"
   ]
  },
  {
   "cell_type": "markdown",
   "metadata": {},
   "source": [
    "Határozott integrál"
   ]
  },
  {
   "cell_type": "code",
   "execution_count": 79,
   "metadata": {
    "ExecuteTime": {
     "end_time": "2020-02-24T14:30:56.048298Z",
     "start_time": "2020-02-24T14:30:55.489243Z"
    }
   },
   "outputs": [
    {
     "data": {
      "image/png": "[encoded data removed]",
      "text/latex": [
       "$\\displaystyle - \\log{\\left(2 \\right)} + \\log{\\left(3 \\right)}$"
      ],
      "text/plain": [
       "-log(2) + log(3)"
      ]
     },
     "execution_count": 79,
     "metadata": {},
     "output_type": "execute_result"
    }
   ],
   "source": [
    "sp.integrate(1/(1+x),(x,1,2))"
   ]
  },
  {
   "cell_type": "code",
   "execution_count": 80,
   "metadata": {
    "ExecuteTime": {
     "end_time": "2020-02-24T14:30:56.055047Z",
     "start_time": "2020-02-24T14:30:56.051454Z"
    }
   },
   "outputs": [],
   "source": [
    "a = sp.Symbol('a')"
   ]
  },
  {
   "cell_type": "code",
   "execution_count": 81,
   "metadata": {
    "ExecuteTime": {
     "end_time": "2020-02-24T14:30:56.684318Z",
     "start_time": "2020-02-24T14:30:56.057707Z"
    }
   },
   "outputs": [
    {
     "data": {
      "image/png": "[encoded data removed]",
      "text/latex": [
       "$\\displaystyle - \\frac{\\sqrt{- \\frac{1}{a}} \\log{\\left(- a \\sqrt{- \\frac{1}{a}} + x \\right)}}{2} + \\frac{\\sqrt{- \\frac{1}{a}} \\log{\\left(a \\sqrt{- \\frac{1}{a}} + x \\right)}}{2}$"
      ],
      "text/plain": [
       "      _____    ⎛        _____    ⎞       _____    ⎛      _____    ⎞\n",
       "     ╱ -1      ⎜       ╱ -1      ⎟      ╱ -1      ⎜     ╱ -1      ⎟\n",
       "    ╱  ─── ⋅log⎜- a⋅  ╱  ───  + x⎟     ╱  ─── ⋅log⎜a⋅  ╱  ───  + x⎟\n",
       "  ╲╱    a      ⎝    ╲╱    a      ⎠   ╲╱    a      ⎝  ╲╱    a      ⎠\n",
       "- ──────────────────────────────── + ──────────────────────────────\n",
       "                 2                                 2               "
      ]
     },
     "execution_count": 81,
     "metadata": {},
     "output_type": "execute_result"
    }
   ],
   "source": [
    "sp.integrate(1/(x**2 + a),x)"
   ]
  },
  {
   "cell_type": "markdown",
   "metadata": {},
   "source": [
    "Láncszabályt is ismeri a szoftver"
   ]
  },
  {
   "cell_type": "code",
   "execution_count": 82,
   "metadata": {
    "ExecuteTime": {
     "end_time": "2020-02-24T14:30:56.796990Z",
     "start_time": "2020-02-24T14:30:56.792744Z"
    }
   },
   "outputs": [],
   "source": [
    "y = sp.Symbol('y')\n",
    "def f(x):\n",
    "    return x**2\n",
    "def g(y):\n",
    "    return sp.sin(y)"
   ]
  },
  {
   "cell_type": "code",
   "execution_count": 83,
   "metadata": {
    "ExecuteTime": {
     "end_time": "2020-02-24T14:30:58.130704Z",
     "start_time": "2020-02-24T14:30:57.777512Z"
    }
   },
   "outputs": [
    {
     "data": {
      "image/png": "[encoded data removed]",
      "text/latex": [
       "$\\displaystyle \\sin^{2}{\\left(y \\right)}$"
      ],
      "text/plain": [
       "   2   \n",
       "sin (y)"
      ]
     },
     "execution_count": 83,
     "metadata": {},
     "output_type": "execute_result"
    }
   ],
   "source": [
    "f(g(y))"
   ]
  },
  {
   "cell_type": "code",
   "execution_count": 84,
   "metadata": {
    "ExecuteTime": {
     "end_time": "2020-02-24T14:30:58.638096Z",
     "start_time": "2020-02-24T14:30:58.132064Z"
    }
   },
   "outputs": [
    {
     "data": {
      "image/png": "[encoded data removed]",
      "text/latex": [
       "$\\displaystyle 2 \\sin{\\left(y \\right)} \\cos{\\left(y \\right)}$"
      ],
      "text/plain": [
       "2⋅sin(y)⋅cos(y)"
      ]
     },
     "execution_count": 84,
     "metadata": {},
     "output_type": "execute_result"
    }
   ],
   "source": [
    "sp.diff(f(g(y)),y)"
   ]
  },
  {
   "cell_type": "code",
   "execution_count": 85,
   "metadata": {
    "ExecuteTime": {
     "end_time": "2020-02-24T14:30:59.154720Z",
     "start_time": "2020-02-24T14:30:58.640047Z"
    }
   },
   "outputs": [
    {
     "data": {
      "image/png": "[encoded data removed]",
      "text/latex": [
       "$\\displaystyle 2 x \\cos{\\left(x^{2} \\right)}$"
      ],
      "text/plain": [
       "       ⎛ 2⎞\n",
       "2⋅x⋅cos⎝x ⎠"
      ]
     },
     "execution_count": 85,
     "metadata": {},
     "output_type": "execute_result"
    }
   ],
   "source": [
    "sp.diff(g(f(x)),x)"
   ]
  },
  {
   "cell_type": "markdown",
   "metadata": {},
   "source": [
    "Sok esetben nem létezik zárt alakú kifejezés a határozatlan integrálhoz. Ebben az esetben használhatjuk a [numerikus integrálást](https://en.wikipedia.org/wiki/Numerical_integration) a határozott integrál számításához:"
   ]
  },
  {
   "cell_type": "code",
   "execution_count": 86,
   "metadata": {
    "ExecuteTime": {
     "end_time": "2020-02-24T14:31:00.188255Z",
     "start_time": "2020-02-24T14:30:59.156424Z"
    }
   },
   "outputs": [
    {
     "data": {
      "image/png": "[encoded data removed]",
      "text/latex": [
       "$\\displaystyle \\int \\sin{\\left(\\cos{\\left(x \\right)} \\right)}\\, dx$"
      ],
      "text/plain": [
       "⌠               \n",
       "⎮ sin(cos(x)) dx\n",
       "⌡               "
      ]
     },
     "execution_count": 86,
     "metadata": {},
     "output_type": "execute_result"
    }
   ],
   "source": [
    "sp.integrate(sp.sin(sp.cos(x)),x)"
   ]
  },
  {
   "cell_type": "markdown",
   "metadata": {},
   "source": [
    "[numerikus intágráls SymPy-vel](https://docs.sympy.org/latest/modules/integrals/integrals.html#numeric-integrals)\n",
    "\n",
    "nem triviális"
   ]
  },
  {
   "cell_type": "markdown",
   "metadata": {},
   "source": [
    "## Vektor- és mátrixszámítások *sympy*-ban <a id='SzimVektorMatrix'></a>\n",
    "Kisebb méretek esetén, amelyek akár szimbolikus számokat is tartalmaznak"
   ]
  },
  {
   "cell_type": "code",
   "execution_count": 87,
   "metadata": {
    "ExecuteTime": {
     "end_time": "2020-02-24T14:31:00.200099Z",
     "start_time": "2020-02-24T14:31:00.190218Z"
    }
   },
   "outputs": [],
   "source": [
    "v1= sp.Matrix([2.,3.,4.]) # oszlopvektor\n",
    "v2= sp.Matrix([[3.,-2.,-7.]]) # sorvektor (még 1 szögletes zárójel)\n",
    "mx1 = sp.Matrix([[1.,2.,3.],[2.,0.,4.],[3.,4.,1.]])\n",
    "mx2 = sp.Matrix([[1.,2.,3.],[4.,5.,6.],[7.,8.,9.]])\n",
    "EM = sp.eye(3) # egységmátrix"
   ]
  },
  {
   "cell_type": "code",
   "execution_count": 88,
   "metadata": {
    "ExecuteTime": {
     "end_time": "2020-02-24T14:31:00.936217Z",
     "start_time": "2020-02-24T14:31:00.508876Z"
    }
   },
   "outputs": [
    {
     "data": {
      "image/png": "[encoded data removed]",
      "text/latex": [
       "$\\displaystyle \\left[\\begin{matrix}2.0\\\\3.0\\\\4.0\\end{matrix}\\right]$"
      ],
      "text/plain": [
       "⎡2.0⎤\n",
       "⎢   ⎥\n",
       "⎢3.0⎥\n",
       "⎢   ⎥\n",
       "⎣4.0⎦"
      ]
     },
     "execution_count": 88,
     "metadata": {},
     "output_type": "execute_result"
    }
   ],
   "source": [
    "v1"
   ]
  },
  {
   "cell_type": "code",
   "execution_count": 89,
   "metadata": {
    "ExecuteTime": {
     "end_time": "2020-02-24T14:31:01.396324Z",
     "start_time": "2020-02-24T14:31:00.938194Z"
    }
   },
   "outputs": [
    {
     "data": {
      "image/png": "[encoded data removed]",
      "text/latex": [
       "$\\displaystyle \\left[\\begin{matrix}3.0 & -2.0 & -7.0\\end{matrix}\\right]$"
      ],
      "text/plain": [
       "[3.0  -2.0  -7.0]"
      ]
     },
     "execution_count": 89,
     "metadata": {},
     "output_type": "execute_result"
    }
   ],
   "source": [
    "v2"
   ]
  },
  {
   "cell_type": "code",
   "execution_count": 90,
   "metadata": {
    "ExecuteTime": {
     "end_time": "2020-02-24T14:31:01.844378Z",
     "start_time": "2020-02-24T14:31:01.404834Z"
    }
   },
   "outputs": [
    {
     "data": {
      "image/png": "[encoded data removed]",
      "text/latex": [
       "$\\displaystyle \\left[\\begin{matrix}-28.0\\end{matrix}\\right]$"
      ],
      "text/plain": [
       "[-28.0]"
      ]
     },
     "execution_count": 90,
     "metadata": {},
     "output_type": "execute_result"
    }
   ],
   "source": [
    "v2.multiply(v1)"
   ]
  },
  {
   "cell_type": "code",
   "execution_count": 91,
   "metadata": {
    "ExecuteTime": {
     "end_time": "2020-02-24T14:31:02.333778Z",
     "start_time": "2020-02-24T14:31:01.846774Z"
    }
   },
   "outputs": [
    {
     "data": {
      "image/png": "[encoded data removed]",
      "text/latex": [
       "$\\displaystyle \\left[\\begin{matrix}20.0\\\\47.0\\\\74.0\\end{matrix}\\right]$"
      ],
      "text/plain": [
       "⎡20.0⎤\n",
       "⎢    ⎥\n",
       "⎢47.0⎥\n",
       "⎢    ⎥\n",
       "⎣74.0⎦"
      ]
     },
     "execution_count": 91,
     "metadata": {},
     "output_type": "execute_result"
    }
   ],
   "source": [
    "mx2.multiply(v1)"
   ]
  },
  {
   "cell_type": "code",
   "execution_count": 92,
   "metadata": {
    "ExecuteTime": {
     "end_time": "2020-02-24T14:31:02.819298Z",
     "start_time": "2020-02-24T14:31:02.336141Z"
    }
   },
   "outputs": [
    {
     "data": {
      "image/png": "[encoded data removed]",
      "text/latex": [
       "$\\displaystyle \\left[\\begin{matrix}-54.0 & -60.0 & -66.0\\end{matrix}\\right]$"
      ],
      "text/plain": [
       "[-54.0  -60.0  -66.0]"
      ]
     },
     "execution_count": 92,
     "metadata": {},
     "output_type": "execute_result"
    }
   ],
   "source": [
    "v2.multiply(mx2)"
   ]
  },
  {
   "cell_type": "code",
   "execution_count": 93,
   "metadata": {
    "ExecuteTime": {
     "end_time": "2020-02-24T14:31:03.315668Z",
     "start_time": "2020-02-24T14:31:02.824350Z"
    }
   },
   "outputs": [
    {
     "data": {
      "image/png": "[encoded data removed]",
      "text/latex": [
       "$\\displaystyle \\left[\\begin{matrix}1 & 0 & 0\\\\0 & 1 & 0\\\\0 & 0 & 1\\end{matrix}\\right]$"
      ],
      "text/plain": [
       "⎡1  0  0⎤\n",
       "⎢       ⎥\n",
       "⎢0  1  0⎥\n",
       "⎢       ⎥\n",
       "⎣0  0  1⎦"
      ]
     },
     "execution_count": 93,
     "metadata": {},
     "output_type": "execute_result"
    }
   ],
   "source": [
    "EM"
   ]
  },
  {
   "cell_type": "code",
   "execution_count": 94,
   "metadata": {
    "ExecuteTime": {
     "end_time": "2020-02-24T14:31:03.381187Z",
     "start_time": "2020-02-24T14:31:03.320039Z"
    }
   },
   "outputs": [],
   "source": [
    "EVs=mx1.eigenvals() # sajátértékek és multiplicitásuk (racionális számokkal)"
   ]
  },
  {
   "cell_type": "code",
   "execution_count": 95,
   "metadata": {
    "ExecuteTime": {
     "end_time": "2020-02-24T14:31:03.823589Z",
     "start_time": "2020-02-24T14:31:03.383153Z"
    }
   },
   "outputs": [
    {
     "data": {
      "image/png": "[encoded data removed]",
      "text/latex": [
       "$\\displaystyle \\left\\{ -3.6088213318864 : 1, \\  -1.14824478501694 : 1, \\  6.75706611690333 : 1\\right\\}$"
      ],
      "text/plain": [
       "{-3.6088213318864: 1, -1.14824478501694: 1, 6.75706611690333: 1}"
      ]
     },
     "execution_count": 95,
     "metadata": {},
     "output_type": "execute_result"
    }
   ],
   "source": [
    "mx1.eigenvals(rational=False) # sajátértékek numerikusan"
   ]
  },
  {
   "cell_type": "code",
   "execution_count": 96,
   "metadata": {
    "ExecuteTime": {
     "end_time": "2020-02-24T14:31:04.217569Z",
     "start_time": "2020-02-24T14:31:03.825447Z"
    }
   },
   "outputs": [
    {
     "data": {
      "image/png": "[encoded data removed]",
      "text/latex": [
       "$\\displaystyle \\left[ -3.6088213318864, \\  -1.14824478501694, \\  6.75706611690333\\right]$"
      ],
      "text/plain": [
       "[-3.6088213318864, -1.14824478501694, 6.75706611690333]"
      ]
     },
     "execution_count": 96,
     "metadata": {},
     "output_type": "execute_result"
    }
   ],
   "source": [
    "list(mx1.eigenvals(rational=False)) # sajátértékek numerikusan, listaként (multiplicitás nélkül)"
   ]
  },
  {
   "cell_type": "code",
   "execution_count": 97,
   "metadata": {
    "ExecuteTime": {
     "end_time": "2020-02-24T14:31:04.694469Z",
     "start_time": "2020-02-24T14:31:04.218939Z"
    }
   },
   "outputs": [
    {
     "data": {
      "image/png": "[encoded data removed]",
      "text/latex": [
       "$\\displaystyle 28.0$"
      ],
      "text/plain": [
       "28.0000000000000"
      ]
     },
     "execution_count": 97,
     "metadata": {},
     "output_type": "execute_result"
    }
   ],
   "source": [
    "mx1.det() # mx1 determinánsa"
   ]
  },
  {
   "cell_type": "code",
   "execution_count": 98,
   "metadata": {
    "ExecuteTime": {
     "end_time": "2020-02-24T14:31:05.892297Z",
     "start_time": "2020-02-24T14:31:04.697112Z"
    },
    "scrolled": true
   },
   "outputs": [
    {
     "data": {
      "image/png": "[encoded data removed]",
      "text/latex": [
       "$\\displaystyle \\left[\\begin{matrix}Ix & - Ixy\\\\- Ixy & Iy\\end{matrix}\\right]$"
      ],
      "text/plain": [
       "⎡ Ix   -Ixy⎤\n",
       "⎢          ⎥\n",
       "⎣-Ixy   Iy ⎦"
      ]
     },
     "metadata": {},
     "output_type": "display_data"
    },
    {
     "name": "stdout",
     "output_type": "stream",
     "text": [
      "\n",
      " Sajátértékek, vektorok: \n",
      "\n"
     ]
    },
    {
     "data": {
      "image/png": "[encoded data removed]",
      "text/latex": [
       "$\\displaystyle \\left[ \\left( \\frac{Ix}{2} + \\frac{Iy}{2} - \\frac{\\sqrt{Ix^{2} - 2 Ix Iy + 4 Ixy^{2} + Iy^{2}}}{2}, \\  1, \\  \\left[ \\left[\\begin{matrix}\\frac{Ixy}{\\frac{Ix}{2} - \\frac{Iy}{2} + \\frac{\\sqrt{Ix^{2} - 2 Ix Iy + 4 Ixy^{2} + Iy^{2}}}{2}}\\\\1\\end{matrix}\\right]\\right]\\right), \\  \\left( \\frac{Ix}{2} + \\frac{Iy}{2} + \\frac{\\sqrt{Ix^{2} - 2 Ix Iy + 4 Ixy^{2} + Iy^{2}}}{2}, \\  1, \\  \\left[ \\left[\\begin{matrix}\\frac{Ixy}{\\frac{Ix}{2} - \\frac{Iy}{2} - \\frac{\\sqrt{Ix^{2} - 2 Ix Iy + 4 Ixy^{2} + Iy^{2}}}{2}}\\\\1\\end{matrix}\\right]\\right]\\right)\\right]$"
      ],
      "text/plain": [
       "⎡⎛                                                ⎡⎡                    Ixy   \n",
       "⎢⎜             ______________________________     ⎢⎢──────────────────────────\n",
       "⎢⎜            ╱   2                  2     2      ⎢⎢             _____________\n",
       "⎢⎜Ix   Iy   ╲╱  Ix  - 2⋅Ix⋅Iy + 4⋅Ixy  + Iy       ⎢⎢            ╱   2         \n",
       "⎢⎜── + ── - ─────────────────────────────────, 1, ⎢⎢Ix   Iy   ╲╱  Ix  - 2⋅Ix⋅I\n",
       "⎢⎜2    2                    2                     ⎢⎢── - ── + ────────────────\n",
       "⎢⎜                                                ⎢⎢2    2                    \n",
       "⎢⎜                                                ⎢⎢                          \n",
       "⎣⎝                                                ⎣⎣                     1    \n",
       "\n",
       "                 ⎤⎤⎞  ⎛                                                ⎡⎡     \n",
       "─────────────────⎥⎥⎟  ⎜             ______________________________     ⎢⎢─────\n",
       "_________________⎥⎥⎟  ⎜            ╱   2                  2     2      ⎢⎢     \n",
       "         2     2 ⎥⎥⎟  ⎜Ix   Iy   ╲╱  Ix  - 2⋅Ix⋅Iy + 4⋅Ixy  + Iy       ⎢⎢     \n",
       "y + 4⋅Ixy  + Iy  ⎥⎥⎟, ⎜── + ── + ─────────────────────────────────, 1, ⎢⎢Ix   \n",
       "─────────────────⎥⎥⎟  ⎜2    2                    2                     ⎢⎢── - \n",
       "2                ⎥⎥⎟  ⎜                                                ⎢⎢2    \n",
       "                 ⎥⎥⎟  ⎜                                                ⎢⎢     \n",
       "                 ⎦⎦⎠  ⎝                                                ⎣⎣     \n",
       "\n",
       "               Ixy                    ⎤⎤⎞⎤\n",
       "──────────────────────────────────────⎥⎥⎟⎥\n",
       "        ______________________________⎥⎥⎟⎥\n",
       "       ╱   2                  2     2 ⎥⎥⎟⎥\n",
       "Iy   ╲╱  Ix  - 2⋅Ix⋅Iy + 4⋅Ixy  + Iy  ⎥⎥⎟⎥\n",
       "── - ─────────────────────────────────⎥⎥⎟⎥\n",
       "2                    2                ⎥⎥⎟⎥\n",
       "                                      ⎥⎥⎟⎥\n",
       "                1                     ⎦⎦⎠⎦"
      ]
     },
     "execution_count": 98,
     "metadata": {},
     "output_type": "execute_result"
    }
   ],
   "source": [
    "Ix,Iy,Ixy = sp.symbols('Ix,Iy,Ixy')\n",
    "mxSP=sp.Matrix([[Ix,-Ixy],[-Ixy,Iy]])\n",
    "display(mxSP)\n",
    "\n",
    "print('\\n Sajátértékek, vektorok: \\n')\n",
    "mxSP.eigenvects()"
   ]
  },
  {
   "cell_type": "code",
   "execution_count": 99,
   "metadata": {
    "ExecuteTime": {
     "end_time": "2020-02-24T14:31:05.920073Z",
     "start_time": "2020-02-24T14:31:05.893627Z"
    }
   },
   "outputs": [],
   "source": [
    "ev=mxSP.eigenvals()"
   ]
  },
  {
   "cell_type": "code",
   "execution_count": 100,
   "metadata": {
    "ExecuteTime": {
     "end_time": "2020-02-24T14:31:06.908101Z",
     "start_time": "2020-02-24T14:31:05.921607Z"
    }
   },
   "outputs": [
    {
     "data": {
      "image/png": "[encoded data removed]",
      "text/latex": [
       "$\\displaystyle \\left[\\begin{matrix}Ix & 0 & 0\\\\0 & Ix & 0\\\\0 & 0 & Iy\\end{matrix}\\right]$"
      ],
      "text/plain": [
       "⎡Ix  0   0 ⎤\n",
       "⎢          ⎥\n",
       "⎢0   Ix  0 ⎥\n",
       "⎢          ⎥\n",
       "⎣0   0   Iy⎦"
      ]
     },
     "metadata": {},
     "output_type": "display_data"
    },
    {
     "name": "stdout",
     "output_type": "stream",
     "text": [
      "\n",
      " Sajátértékek, vektorok: \n",
      "\n"
     ]
    },
    {
     "data": {
      "image/png": "[encoded data removed]",
      "text/latex": [
       "$\\displaystyle \\left[ \\left( Ix, \\  2, \\  \\left[ \\left[\\begin{matrix}1\\\\0\\\\0\\end{matrix}\\right], \\  \\left[\\begin{matrix}0\\\\1\\\\0\\end{matrix}\\right]\\right]\\right), \\  \\left( Iy, \\  1, \\  \\left[ \\left[\\begin{matrix}0\\\\0\\\\1\\end{matrix}\\right]\\right]\\right)\\right]$"
      ],
      "text/plain": [
       "⎡⎛       ⎡⎡1⎤  ⎡0⎤⎤⎞  ⎛       ⎡⎡0⎤⎤⎞⎤\n",
       "⎢⎜       ⎢⎢ ⎥  ⎢ ⎥⎥⎟  ⎜       ⎢⎢ ⎥⎥⎟⎥\n",
       "⎢⎜Ix, 2, ⎢⎢0⎥, ⎢1⎥⎥⎟, ⎜Iy, 1, ⎢⎢0⎥⎥⎟⎥\n",
       "⎢⎜       ⎢⎢ ⎥  ⎢ ⎥⎥⎟  ⎜       ⎢⎢ ⎥⎥⎟⎥\n",
       "⎣⎝       ⎣⎣0⎦  ⎣0⎦⎦⎠  ⎝       ⎣⎣1⎦⎦⎠⎦"
      ]
     },
     "execution_count": 100,
     "metadata": {},
     "output_type": "execute_result"
    }
   ],
   "source": [
    "mxSP=sp.Matrix([[Ix,0,0],[0,Ix,0],[0,0,Iy]])\n",
    "display(mxSP)\n",
    "\n",
    "print('\\n Sajátértékek, vektorok: \\n')\n",
    "mxSP.eigenvects()"
   ]
  },
  {
   "cell_type": "markdown",
   "metadata": {},
   "source": [
    "## Vektor- és mátrixszámítások *numpy*-ban  <a id='NumVektorMatrix'></a>\n",
    "Nagy mátrixok és vektorok esetén érdemes ezt használni, vagy ha sok numerikus adattal dolgozik az ember. Továbbá a sajátérték-sajátvektor számítások is jobban megoldott ebben a csomagban"
   ]
  },
  {
   "cell_type": "code",
   "execution_count": 101,
   "metadata": {
    "ExecuteTime": {
     "end_time": "2020-02-24T14:31:06.912380Z",
     "start_time": "2020-02-24T14:31:06.910193Z"
    }
   },
   "outputs": [],
   "source": [
    "import sympy as sp\n",
    "import numpy as np\n",
    "import numpy.linalg"
   ]
  },
  {
   "cell_type": "code",
   "execution_count": 102,
   "metadata": {
    "ExecuteTime": {
     "end_time": "2020-02-24T14:31:06.942061Z",
     "start_time": "2020-02-24T14:31:06.913892Z"
    }
   },
   "outputs": [],
   "source": [
    "v1= np.array([2.,3.,4.])\n",
    "v2= np.array([3.,-2.,-7.])\n",
    "mx1 = np.array([[1.,2.,3.],[2.,0.,4.],[3.,4.,1.]])\n",
    "mx2 = np.array([[1.,2.,3.],[4.,5.,6.],[7.,8.,9.]])"
   ]
  },
  {
   "cell_type": "code",
   "execution_count": 103,
   "metadata": {
    "ExecuteTime": {
     "end_time": "2020-02-24T14:31:06.958540Z",
     "start_time": "2020-02-24T14:31:06.943692Z"
    }
   },
   "outputs": [
    {
     "name": "stdout",
     "output_type": "stream",
     "text": [
      "[20. 47. 74.]\n",
      "[42. 51. 60.]\n",
      "[-13.  26. -13.]\n"
     ]
    }
   ],
   "source": [
    "print( np.dot(mx2,v1) )  # skalár szorat mx2*v1\n",
    "print( np.dot(v1,mx2) )  # skalár szorat transpose(v1)*mx2\n",
    "print( np.cross(v1,v2) ) # keresztszorzat v1×v2"
   ]
  },
  {
   "cell_type": "code",
   "execution_count": 104,
   "metadata": {
    "ExecuteTime": {
     "end_time": "2020-02-24T14:31:06.980852Z",
     "start_time": "2020-02-24T14:31:06.961098Z"
    }
   },
   "outputs": [
    {
     "name": "stdout",
     "output_type": "stream",
     "text": [
      "1. sajátérték és -vektor:\n",
      "λ = 6.76; v = [0.529, 0.834, -0.157]\n",
      "\n",
      "2. sajátérték és -vektor:\n",
      "λ = -1.15; v = [0.543, -0.475, -0.693]\n",
      "\n",
      "3. sajátérték és -vektor:\n",
      "λ = -3.61; v = [0.653, -0.281, 0.704]\n",
      "\n"
     ]
    }
   ],
   "source": [
    "(λ,V) = np.linalg.eig(mx1) # Mátrix sajátértékei, sajátvektorai a λ és a V változókban\n",
    "\n",
    "# kiíratás 2 értékes tizedes jeggyel és for ciklusra példa\n",
    "for (i,v) in enumerate(V):\n",
    "    print(i+1, '. sajátérték és -vektor:',sep='')\n",
    "    print('λ = ', sp.N(λ[i],3), '; v = ', [sp.N(e,3) for e in v], sep='', end='\\n\\n')"
   ]
  },
  {
   "cell_type": "markdown",
   "metadata": {},
   "source": [
    "Figyeljük meg, hogy a numpy a sajátvektorokat 1 hosszúre normálja!"
   ]
  },
  {
   "cell_type": "markdown",
   "metadata": {},
   "source": [
    "## Egyenletek megoldása  <a id='Egyenletek'></a>"
   ]
  },
  {
   "cell_type": "code",
   "execution_count": 105,
   "metadata": {
    "ExecuteTime": {
     "end_time": "2020-02-24T14:31:06.991548Z",
     "start_time": "2020-02-24T14:31:06.984867Z"
    }
   },
   "outputs": [],
   "source": [
    "x, y, z = sp.symbols(\"x y z\")"
   ]
  },
  {
   "cell_type": "code",
   "execution_count": 106,
   "metadata": {
    "ExecuteTime": {
     "end_time": "2020-02-24T14:31:07.006546Z",
     "start_time": "2020-02-24T14:31:06.993406Z"
    }
   },
   "outputs": [],
   "source": [
    "egy1=77*x+6 - 160"
   ]
  },
  {
   "cell_type": "code",
   "execution_count": 107,
   "metadata": {
    "ExecuteTime": {
     "end_time": "2020-02-24T14:31:07.391310Z",
     "start_time": "2020-02-24T14:31:07.008628Z"
    }
   },
   "outputs": [
    {
     "data": {
      "image/png": "[encoded data removed]",
      "text/latex": [
       "$\\displaystyle \\left[ 2\\right]$"
      ],
      "text/plain": [
       "[2]"
      ]
     },
     "execution_count": 107,
     "metadata": {},
     "output_type": "execute_result"
    }
   ],
   "source": [
    "sp.solve(egy1,x)"
   ]
  },
  {
   "cell_type": "code",
   "execution_count": 108,
   "metadata": {
    "ExecuteTime": {
     "end_time": "2020-02-24T14:31:07.885783Z",
     "start_time": "2020-02-24T14:31:07.392803Z"
    }
   },
   "outputs": [
    {
     "data": {
      "image/png": "[encoded data removed]",
      "text/latex": [
       "$\\displaystyle \\left[ - \\sqrt{5}, \\  \\sqrt{5}\\right]$"
      ],
      "text/plain": [
       "[-√5, √5]"
      ]
     },
     "execution_count": 108,
     "metadata": {},
     "output_type": "execute_result"
    }
   ],
   "source": [
    "sp.solve(x**2 - 5, x)"
   ]
  },
  {
   "cell_type": "code",
   "execution_count": 109,
   "metadata": {
    "ExecuteTime": {
     "end_time": "2020-02-24T14:31:08.420286Z",
     "start_time": "2020-02-24T14:31:07.890394Z"
    }
   },
   "outputs": [
    {
     "data": {
      "image/png": "[encoded data removed]",
      "text/latex": [
       "$\\displaystyle x$"
      ],
      "text/plain": [
       "x"
      ]
     },
     "execution_count": 109,
     "metadata": {},
     "output_type": "execute_result"
    }
   ],
   "source": [
    "x"
   ]
  },
  {
   "cell_type": "code",
   "execution_count": 110,
   "metadata": {
    "ExecuteTime": {
     "end_time": "2020-02-24T14:31:08.428102Z",
     "start_time": "2020-02-24T14:31:08.422615Z"
    }
   },
   "outputs": [],
   "source": [
    "e1 = 3*z + 2*y + 1*x - 7\n",
    "e2 = 4*z + 0*y + 2*x - 8\n",
    "e3 = 1*z + 4*y + 3*x - 9"
   ]
  },
  {
   "cell_type": "code",
   "execution_count": 111,
   "metadata": {
    "ExecuteTime": {
     "end_time": "2020-02-24T14:31:08.890159Z",
     "start_time": "2020-02-24T14:31:08.429994Z"
    }
   },
   "outputs": [
    {
     "data": {
      "image/png": "[encoded data removed]",
      "text/latex": [
       "$\\displaystyle \\left\\{ x : \\frac{10}{7}, \\  y : \\frac{6}{7}, \\  z : \\frac{9}{7}\\right\\}$"
      ],
      "text/plain": [
       "{x: 10/7, y: 6/7, z: 9/7}"
      ]
     },
     "execution_count": 111,
     "metadata": {},
     "output_type": "execute_result"
    }
   ],
   "source": [
    "sp.solve([e1,e2,e3],[x,y,z])"
   ]
  },
  {
   "cell_type": "code",
   "execution_count": 112,
   "metadata": {
    "ExecuteTime": {
     "end_time": "2020-02-24T14:31:08.895355Z",
     "start_time": "2020-02-24T14:31:08.892718Z"
    }
   },
   "outputs": [],
   "source": [
    "def f(x):\n",
    "    return x**2 - 4"
   ]
  },
  {
   "cell_type": "code",
   "execution_count": 113,
   "metadata": {
    "ExecuteTime": {
     "end_time": "2020-02-24T14:31:09.004684Z",
     "start_time": "2020-02-24T14:31:08.897042Z"
    }
   },
   "outputs": [
    {
     "name": "stdout",
     "output_type": "stream",
     "text": [
      "2.0\n"
     ]
    }
   ],
   "source": [
    "# Numerikus gyökkereséssel scipy segítségével\n",
    "from scipy import optimize\n",
    "\n",
    "gyok = optimize.brentq(f,0,10)\n",
    "print(gyok)"
   ]
  },
  {
   "cell_type": "markdown",
   "metadata": {},
   "source": [
    "### Szimbolikus függvényekből numerikus függvények <a id='SymToNum'></a>\n",
    "\n",
    "Ezt a legegyszerűbben [*lambda function*](#Sajatfuggvenyek)-ök segítségével tehetjük meg, de van más mód is rá: [lásd ezt az összefoglalót](https://docs.sympy.org/latest/modules/numeric-computation.html)."
   ]
  },
  {
   "cell_type": "code",
   "execution_count": 114,
   "metadata": {
    "ExecuteTime": {
     "end_time": "2020-02-24T14:31:09.381881Z",
     "start_time": "2020-02-24T14:31:09.006558Z"
    }
   },
   "outputs": [
    {
     "data": {
      "image/png": "[encoded data removed]",
      "text/latex": [
       "$\\displaystyle a x^{2} + b x + c$"
      ],
      "text/plain": [
       "   2          \n",
       "a⋅x  + b⋅x + c"
      ]
     },
     "execution_count": 114,
     "metadata": {},
     "output_type": "execute_result"
    }
   ],
   "source": [
    "a,b,c,x = sp.symbols('a,b,c,x')\n",
    "adat = [(a, 3.0), (b,-2.), (c,1.0)]\n",
    "\n",
    "masodfoku_x = a*x**2 + b*x + c\n",
    "\n",
    "masodfoku_x"
   ]
  },
  {
   "cell_type": "code",
   "execution_count": 115,
   "metadata": {
    "ExecuteTime": {
     "end_time": "2020-02-24T14:31:09.782575Z",
     "start_time": "2020-02-24T14:31:09.383607Z"
    }
   },
   "outputs": [
    {
     "data": {
      "image/png": "[encoded data removed]",
      "text/latex": [
       "$\\displaystyle 2.0$"
      ],
      "text/plain": [
       "2.0"
      ]
     },
     "execution_count": 115,
     "metadata": {},
     "output_type": "execute_result"
    }
   ],
   "source": [
    "masodfoku_num = sp.lambdify(x,masodfoku_x.subs(adat))\n",
    "masodfoku_num(1.)"
   ]
  },
  {
   "cell_type": "markdown",
   "metadata": {},
   "source": [
    "# Egyszerű ábrák készítése  <a id='Egyszeruabrak'></a>"
   ]
  },
  {
   "cell_type": "code",
   "execution_count": 116,
   "metadata": {
    "ExecuteTime": {
     "end_time": "2020-02-24T14:31:10.018942Z",
     "start_time": "2020-02-24T14:31:09.785732Z"
    }
   },
   "outputs": [],
   "source": [
    "import numpy as np # Ez egyszerűsíti a sok függvénnyel való munkát\n",
    "import matplotlib.pyplot as plt # matplotlib csomag python rajzolójának behívása"
   ]
  },
  {
   "cell_type": "markdown",
   "metadata": {},
   "source": [
    "## Függvények ábrázolása egyszerű diagramokon"
   ]
  },
  {
   "cell_type": "code",
   "execution_count": 117,
   "metadata": {
    "ExecuteTime": {
     "end_time": "2020-02-24T14:31:10.025434Z",
     "start_time": "2020-02-24T14:31:10.021305Z"
    }
   },
   "outputs": [],
   "source": [
    "def f(x):\n",
    "    return np.sin(x)*(1-4*np.exp(0.7*x)/(x**3))\n",
    "\n",
    "x1 = np.linspace(2,10,30)\n",
    "y1 = f(x1)"
   ]
  },
  {
   "cell_type": "code",
   "execution_count": 118,
   "metadata": {
    "ExecuteTime": {
     "end_time": "2020-02-24T14:31:10.345881Z",
     "start_time": "2020-02-24T14:31:10.027431Z"
    },
    "scrolled": true
   },
   "outputs": [
    {
     "data": {
      "image/png": "[encoded data removed]",
      "text/plain": [
       "<Figure size 566.929x340.157 with 1 Axes>"
      ]
     },
     "metadata": {
      "needs_background": "light"
     },
     "output_type": "display_data"
    }
   ],
   "source": [
    "plt.figure(figsize=(20/2.54,12/2.54)) #inch-ben lehet megadni az ábra méretét - nem kötelező de érdemes, ha dokumentációba szánjuk\n",
    "\n",
    "#plot objektum létrehozása\n",
    "plt.plot(x1,y1)\n",
    "\n",
    "# tengelyfeliratok\n",
    "plt.xlabel('x',fontsize=12)\n",
    "plt.ylabel('f(x)',fontsize=12)\n",
    "\n",
    "# rácsozás\n",
    "plt.grid()\n",
    "\n",
    "# ábra mentés (még azelőtt kell, mielőtt kirajzolunk)\n",
    "# plt.savefig(\"abra1.png\", bbox_inches=\"tight\") \n",
    "# plt.savefig(\"abra1.pdf\", bbox_inches=\"tight\")\n",
    "\n",
    "# plot kirajzolása\n",
    "# plt.show()\n",
    "\n",
    "# plot mentése\n",
    "plt.savefig('abra1.png')  # lehet .pdf, .svg formátumokban is menteni"
   ]
  },
  {
   "cell_type": "code",
   "execution_count": 119,
   "metadata": {
    "ExecuteTime": {
     "end_time": "2020-02-24T14:31:10.492321Z",
     "start_time": "2020-02-24T14:31:10.347175Z"
    }
   },
   "outputs": [
    {
     "data": {
      "image/png": "[encoded data removed]",
      "text/plain": [
       "<Figure size 432x288 with 1 Axes>"
      ]
     },
     "metadata": {
      "needs_background": "light"
     },
     "output_type": "display_data"
    }
   ],
   "source": [
    "plt.plot(x1,y1,linewidth=3,color='k',linestyle='-.') # vonalvastagság, -szín, és -stílus módosítása\n",
    "plt.xlabel('x')\n",
    "plt.ylabel('f(x)')\n",
    "# megjelenítési határ\n",
    "plt.ylim(-0.5,0.5) #-0.5...0.5\n",
    "plt.xlim(None,8) # xmin...8\n",
    "plt.grid()\n",
    " \n",
    "plt.show()"
   ]
  },
  {
   "cell_type": "code",
   "execution_count": 120,
   "metadata": {
    "ExecuteTime": {
     "end_time": "2020-02-24T14:31:11.030244Z",
     "start_time": "2020-02-24T14:31:10.493687Z"
    }
   },
   "outputs": [
    {
     "data": {
      "image/png": "[encoded data removed]",
      "text/plain": [
       "<Figure size 432x288 with 1 Axes>"
      ]
     },
     "metadata": {
      "needs_background": "light"
     },
     "output_type": "display_data"
    }
   ],
   "source": [
    "def g(x):\n",
    "    return np.sqrt(x)\n",
    "def h(x):\n",
    "    return x**2\n",
    "\n",
    "x2 = np.linspace(0.,1.,100) \n",
    "\n",
    "plt.plot(x2,g(x2))\n",
    "plt.plot(x2,h(x2))\n",
    "\n",
    "plt.xlabel('x',fontsize=12)\n",
    "# felirat\n",
    "plt.legend((r'$\\sqrt{x}$',r'$x^2$'), fontsize=12, loc = 5) # loc: 1:jobbfenn, 2: balfent, 3:ballent,...10\n",
    "plt.grid()\n",
    "\n",
    "\n",
    "plt.show()"
   ]
  },
  {
   "cell_type": "code",
   "execution_count": 121,
   "metadata": {
    "ExecuteTime": {
     "end_time": "2020-02-24T14:31:11.216770Z",
     "start_time": "2020-02-24T14:31:11.031343Z"
    }
   },
   "outputs": [
    {
     "data": {
      "image/png": "[encoded data removed]",
      "text/plain": [
       "<Figure size 432x288 with 1 Axes>"
      ]
     },
     "metadata": {
      "needs_background": "light"
     },
     "output_type": "display_data"
    }
   ],
   "source": [
    "x3 = np.arange(1,14+1)\n",
    "y3 = np.exp(x3)/(1.4e4)\n",
    "plt.plot(x3, y3, linestyle = '', marker = 'o')\n",
    "plt.xlabel('szorgalmi hét sorszáma')\n",
    "plt.ylabel('hallgatók terheltsége [%]-ban')\n",
    "plt.grid()\n",
    "plt.show()"
   ]
  },
  {
   "cell_type": "code",
   "execution_count": 122,
   "metadata": {
    "ExecuteTime": {
     "end_time": "2020-02-24T14:31:11.638397Z",
     "start_time": "2020-02-24T14:31:11.218979Z"
    }
   },
   "outputs": [
    {
     "data": {
      "image/png": "[encoded data removed]",
      "text/plain": [
       "<Figure size 432x288 with 1 Axes>"
      ]
     },
     "metadata": {
      "needs_background": "light"
     },
     "output_type": "display_data"
    }
   ],
   "source": [
    "plt.plot(x3, y3, linestyle = '-', marker = 'o')\n",
    "plt.yscale('log')\n",
    "plt.xlabel('szorgalmi hét sorszáma')\n",
    "plt.ylabel(r'hallgatók terheltsége [%]-ban')\n",
    "plt.grid()\n",
    "plt.show()"
   ]
  },
  {
   "cell_type": "markdown",
   "metadata": {},
   "source": [
    "## Parametrikus függvényábrázolás:"
   ]
  },
  {
   "cell_type": "code",
   "execution_count": 123,
   "metadata": {
    "ExecuteTime": {
     "end_time": "2020-02-24T14:31:11.770176Z",
     "start_time": "2020-02-24T14:31:11.639694Z"
    }
   },
   "outputs": [
    {
     "data": {
      "image/png": "[encoded data removed]",
      "text/plain": [
       "<Figure size 432x288 with 1 Axes>"
      ]
     },
     "metadata": {
      "needs_background": "light"
     },
     "output_type": "display_data"
    }
   ],
   "source": [
    "t = np.linspace(0,2*sc.pi,100)\n",
    "x = np.sin(t)\n",
    "y = np.cos(t)\n",
    "\n",
    "plt.plot(x, y, linestyle = '--')\n",
    "plt.grid()\n",
    "plt.axis('equal')\n",
    "plt.show()"
   ]
  },
  {
   "cell_type": "markdown",
   "metadata": {},
   "source": [
    "## 3D függvényábrázolás"
   ]
  },
  {
   "cell_type": "code",
   "execution_count": 124,
   "metadata": {
    "ExecuteTime": {
     "end_time": "2020-02-24T14:31:11.777285Z",
     "start_time": "2020-02-24T14:31:11.771346Z"
    }
   },
   "outputs": [],
   "source": [
    "from mpl_toolkits.mplot3d import Axes3D"
   ]
  },
  {
   "cell_type": "code",
   "execution_count": 125,
   "metadata": {
    "ExecuteTime": {
     "end_time": "2020-02-24T14:31:11.790553Z",
     "start_time": "2020-02-24T14:31:11.778673Z"
    }
   },
   "outputs": [],
   "source": [
    "def f(x, y):\n",
    "    return np.sin(np.exp( - x ** 2 - y ** 2))\n",
    "\n",
    "x = np.linspace(-2, 2, 30)\n",
    "y = np.linspace(-2, 2, 30)\n",
    "\n",
    "X, Y = np.meshgrid(x, y)\n",
    "Z = f(X, Y)"
   ]
  },
  {
   "cell_type": "code",
   "execution_count": 126,
   "metadata": {
    "ExecuteTime": {
     "end_time": "2020-02-24T14:31:12.397847Z",
     "start_time": "2020-02-24T14:31:11.877643Z"
    },
    "scrolled": false
   },
   "outputs": [
    {
     "data": {
      "image/png": "[encoded data removed]",
      "text/plain": [
       "<Figure size 453.543x283.465 with 1 Axes>"
      ]
     },
     "metadata": {
      "needs_background": "light"
     },
     "output_type": "display_data"
    }
   ],
   "source": [
    "fig = plt.figure(figsize=(16/2.54,10/2.54)) # itt manuálisan létre kell hozni a plot (figure) objektumot\n",
    "ax = fig.add_subplot(111, projection='3d')\n",
    "ax.plot_surface(X, Y, Z, cmap='viridis')\n",
    "plt.show()"
   ]
  },
  {
   "cell_type": "markdown",
   "metadata": {},
   "source": [
    "## + Osztályok <a id='Osztalyok'></a>"
   ]
  },
  {
   "cell_type": "code",
   "execution_count": 129,
   "metadata": {
    "ExecuteTime": {
     "end_time": "2020-02-24T14:31:24.203235Z",
     "start_time": "2020-02-24T14:31:24.190593Z"
    }
   },
   "outputs": [],
   "source": [
    "def foo(x):\n",
    "    return x**2\n",
    "\n",
    "class MyClass:\n",
    "    def __init__(self,x,y,z):\n",
    "        self.square = foo(x)-z\n",
    "        self.cubic = y**3+foo(y)\n",
    "\n",
    "    @classmethod\n",
    "    def createfrom_x(cls,x):\n",
    "        return MyClass(x,x,x)\n",
    "    \n",
    "    def return_stuff(self):\n",
    "        return self.square+3*self.cubic"
   ]
  },
  {
   "cell_type": "code",
   "execution_count": 130,
   "metadata": {
    "ExecuteTime": {
     "end_time": "2020-02-24T14:31:24.987569Z",
     "start_time": "2020-02-24T14:31:24.980216Z"
    }
   },
   "outputs": [],
   "source": [
    "mcl=MyClass.createfrom_x(2)"
   ]
  }
 ],
 "metadata": {
  "@webio": {
   "lastCommId": null,
   "lastKernelId": null
  },
  "kernelspec": {
   "display_name": "Python 3",
   "language": "python",
   "name": "python3"
  },
  "language_info": {
   "codemirror_mode": {
    "name": "ipython",
    "version": 3
   },
   "file_extension": ".py",
   "mimetype": "text/x-python",
   "name": "python",
   "nbconvert_exporter": "python",
   "pygments_lexer": "ipython3",
   "version": "3.7.3"
  },
  "toc": {
   "base_numbering": 1,
   "nav_menu": {},
   "number_sections": true,
   "sideBar": true,
   "skip_h1_title": false,
   "title_cell": "Table of Contents",
   "title_sidebar": "Contents",
   "toc_cell": false,
   "toc_position": {},
   "toc_section_display": true,
   "toc_window_display": false
  }
 },
 "nbformat": 4,
 "nbformat_minor": 2
}
