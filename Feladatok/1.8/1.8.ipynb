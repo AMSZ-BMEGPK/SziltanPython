{
 "cells": [
  {
   "cell_type": "markdown",
   "metadata": {},
   "source": [
    "# Példa 1.8\n",
    "Egy függőleges oszlop terhelése a felső végén működő koncentrált erő az ábrán látható módon.\n",
    "Célunk meghatározni az oszlop anyagát és keresztmetszetét az alábbi módon:\n",
    "\n",
    "a) Tömör kör keresztmetszetű fából kívánjuk elkészíteni\n",
    "\n",
    "b) Alumínium csőből gyártjuk le úgy, hogy a cső falvastagsága a külső átmérő nyolcada.\n",
    "\n",
    " A fára és az alumíniumra megengedhető feszültségek: \n",
    "$\\sigma_{\\mathrm{meg,fa}}=15 \\, {\\rm MPa}$, $\\sigma_{\\mathrm{meg,alu}}=50\\, {\\rm MPa}$.\n",
    "\n",
    "<img src=\"./Fig_1.8.png\" style=\"width: 400px;\">"
   ]
  },
  {
   "cell_type": "markdown",
   "metadata": {},
   "source": [
    "# Megoldás"
   ]
  },
  {
   "cell_type": "markdown",
   "metadata": {},
   "source": [
    "A megoldás során szimbolikus számításokat fogunk végezni \n",
    "(azaz a konkrét értékeket csak a végén helyettesítjük be, előtte a képleteket írjuk fel és rendezzük át). Ehhez szükségünk van a `sympy` modulra."
   ]
  },
  {
   "cell_type": "code",
   "execution_count": 1,
   "metadata": {
    "ExecuteTime": {
     "end_time": "2020-02-18T08:30:08.037146Z",
     "start_time": "2020-02-18T08:30:07.489420Z"
    }
   },
   "outputs": [],
   "source": [
    "import sympy as sp #betöltünk a sympy modul összes függvényét, és sp-ként hivatkozunk rá:\n",
    "# ami függvényt a sympyből használunk azt sp.függvény formában hívjuk meg,"
   ]
  },
  {
   "cell_type": "markdown",
   "metadata": {},
   "source": [
    "Definiálnunk kell a később haszált szimbólumokat. Az átláthatóság kedvéért mi most a kód legelején definiáljuk őket."
   ]
  },
  {
   "cell_type": "code",
   "execution_count": 2,
   "metadata": {
    "ExecuteTime": {
     "end_time": "2020-02-18T08:30:08.044305Z",
     "start_time": "2020-02-18T08:30:08.039627Z"
    }
   },
   "outputs": [],
   "source": [
    "P = sp.symbols(\"P\")\n",
    "h = sp.symbols(\"h\")\n",
    "\n",
    "# vagy egyszerre többet meg tudunk adni:\n",
    "d1,d2,σ_meg=sp.symbols(\"d1,d2,σ_meg\") # sigma: \\sigma + TAB \n",
    "# a görög szimbólumok a \"LaTeX jelölésük\" + TAB segítségével hívhatók meg"
   ]
  },
  {
   "cell_type": "markdown",
   "metadata": {},
   "source": [
    "A feladat megad néhány konkrét értéket, amit később behelyettesítetünk. Ezeket az átláthatóság kedvéért itt, a feladat elején definiáluk."
   ]
  },
  {
   "cell_type": "code",
   "execution_count": 3,
   "metadata": {
    "ExecuteTime": {
     "end_time": "2020-02-18T08:30:08.064208Z",
     "start_time": "2020-02-18T08:30:08.046879Z"
    }
   },
   "outputs": [],
   "source": [
    "P_adat=12 #kN\n",
    "h_adat=2.5 #m\n",
    "σ_meg_al_adat=50 #MPa\n",
    "σ_meg_fa_adat=15 #MPa"
   ]
  },
  {
   "cell_type": "markdown",
   "metadata": {},
   "source": [
    "Hajlító nyomatéki függvény értéke az oszlop tövében: $M_{\\rm hajl}=h P$"
   ]
  },
  {
   "cell_type": "code",
   "execution_count": 4,
   "metadata": {
    "ExecuteTime": {
     "end_time": "2020-02-18T08:30:08.080910Z",
     "start_time": "2020-02-18T08:30:08.066636Z"
    }
   },
   "outputs": [],
   "source": [
    "M_hajl=h*P"
   ]
  },
  {
   "cell_type": "markdown",
   "metadata": {},
   "source": [
    "Maximuma: $h=2.5\\, {\\rm m}$-nél. "
   ]
  },
  {
   "cell_type": "code",
   "execution_count": 5,
   "metadata": {
    "ExecuteTime": {
     "end_time": "2020-02-18T08:30:08.109125Z",
     "start_time": "2020-02-18T08:30:08.083241Z"
    }
   },
   "outputs": [
    {
     "data": {
      "text/latex": [
       "$\\displaystyle 30.0$"
      ],
      "text/plain": [
       "30.0000000000000"
      ]
     },
     "execution_count": 5,
     "metadata": {},
     "output_type": "execute_result"
    }
   ],
   "source": [
    "M_hajl_max=M_hajl.subs(P,P_adat).subs(h,h_adat)\n",
    "M_hajl_max #megnézzük az eredményt, mértékegység: kNm"
   ]
  },
  {
   "cell_type": "markdown",
   "metadata": {},
   "source": [
    "## a) feladatrész\n",
    "\n",
    "Minimális keresztmetszeti tényező: $$K_{\\rm min}=\\frac{M_{\\rm hajl,max}}{\\sigma_{\\rm meg}}.$$\n",
    "Mértékegységek egyeztetése: $M_{\\rm hajl,max}$ átváltása kNm-ről Nmm-re."
   ]
  },
  {
   "cell_type": "code",
   "execution_count": 6,
   "metadata": {
    "ExecuteTime": {
     "end_time": "2020-02-18T08:30:08.127355Z",
     "start_time": "2020-02-18T08:30:08.114973Z"
    }
   },
   "outputs": [],
   "source": [
    "K_min=1e6*M_hajl_max/σ_meg"
   ]
  },
  {
   "cell_type": "markdown",
   "metadata": {},
   "source": [
    "Fa esetén: $$K_{\\rm min,fa}=\\frac{M_{\\rm hajl,max}}{\\sigma_{\\rm meg,fa}}.$$\n"
   ]
  },
  {
   "cell_type": "code",
   "execution_count": 7,
   "metadata": {
    "ExecuteTime": {
     "end_time": "2020-02-18T08:30:08.149292Z",
     "start_time": "2020-02-18T08:30:08.130369Z"
    }
   },
   "outputs": [
    {
     "data": {
      "text/latex": [
       "$\\displaystyle 2000000.0$"
      ],
      "text/plain": [
       "2000000.00000000"
      ]
     },
     "execution_count": 7,
     "metadata": {},
     "output_type": "execute_result"
    }
   ],
   "source": [
    "K_min_fa=K_min.subs(σ_meg,σ_meg_fa_adat)\n",
    "K_min_fa #mm**3"
   ]
  },
  {
   "cell_type": "markdown",
   "metadata": {},
   "source": [
    "Az összefüggés a keresztmetszeti tényező és az átmérő között: $$K=\\frac{I}{\\frac{d_1}{2}}=\\frac{\\frac{d_1^4 \\pi}{64}}{ \\frac{d_1}{2}}=\\frac{d_1^3 \\pi}{32}$$\n",
    "Ebből kifejezhető: $$d_1=\\sqrt[3]{\\frac{32 K_{\\rm min,fa}}{\\pi}}$$"
   ]
  },
  {
   "cell_type": "code",
   "execution_count": 8,
   "metadata": {
    "ExecuteTime": {
     "end_time": "2020-02-18T08:30:08.643482Z",
     "start_time": "2020-02-18T08:30:08.155469Z"
    }
   },
   "outputs": [
    {
     "data": {
      "text/latex": [
       "$\\displaystyle \\frac{400.0}{\\sqrt[3]{\\pi}}$"
      ],
      "text/plain": [
       "400.0/pi**(1/3)"
      ]
     },
     "execution_count": 8,
     "metadata": {},
     "output_type": "execute_result"
    }
   ],
   "source": [
    "d1_eredmeny=sp.root(32*K_min_fa/sp.pi,3) #valami n-edik gyöke: sympy.root(valami, n)\n",
    "d1_eredmeny #mm"
   ]
  },
  {
   "cell_type": "markdown",
   "metadata": {},
   "source": [
    "Ezt az eredényt célszerű numerikusan kifejezni:"
   ]
  },
  {
   "cell_type": "code",
   "execution_count": 9,
   "metadata": {
    "ExecuteTime": {
     "end_time": "2020-02-18T08:30:08.650454Z",
     "start_time": "2020-02-18T08:30:08.645570Z"
    }
   },
   "outputs": [
    {
     "data": {
      "text/latex": [
       "$\\displaystyle 273.11$"
      ],
      "text/plain": [
       "273.11"
      ]
     },
     "execution_count": 9,
     "metadata": {},
     "output_type": "execute_result"
    }
   ],
   "source": [
    "# Numerikus végeredmény 5 értékes jegyre az evalf(5) metódusával/tagfüggvényével\n",
    "d1_eredmeny.evalf(5)"
   ]
  },
  {
   "cell_type": "markdown",
   "metadata": {},
   "source": [
    "## b) feladatrész\n",
    "\n",
    "A csőkeresztmetszet másodrendű nyomatéka: $$I_{\\rm cso}=\\frac{\\pi}{64}(d_{\\rm kulso}^4-d_{\\rm belso}^4)$$\n",
    "Jelen esetben: $$d_{\\rm kulso}=d_2, \\qquad d_{\\rm belso}=d_{\\rm kulso}-2 \\frac{1}{8}d_{\\rm kulso}=\\frac{3}{4}d_{2}$$.\n",
    "\n",
    "Azaz:\n",
    "$$I_{\\rm cso}=\\frac{\\pi}{64}\\left(d_{2}^4-\\left(\\frac{3}{4}d_{2}\\right)^4\\right)$$"
   ]
  },
  {
   "cell_type": "code",
   "execution_count": 10,
   "metadata": {
    "ExecuteTime": {
     "end_time": "2020-02-18T08:30:08.679280Z",
     "start_time": "2020-02-18T08:30:08.653260Z"
    }
   },
   "outputs": [
    {
     "data": {
      "text/latex": [
       "$\\displaystyle \\frac{175 \\pi d_{2}^{4}}{16384}$"
      ],
      "text/plain": [
       "175*pi*d2**4/16384"
      ]
     },
     "execution_count": 10,
     "metadata": {},
     "output_type": "execute_result"
    }
   ],
   "source": [
    "# sympy.Rational(3,4): a 3/4-et racionális számként kezeljük,\n",
    "# Ellenkező esetben a program a 3/4-et float-ként kezeli\n",
    "I_cso=sp.pi/64*(d2**4-(sp.Rational(3,4)*d2)**4) \n",
    "I_cso"
   ]
  },
  {
   "cell_type": "markdown",
   "metadata": {},
   "source": [
    "A szükséges keresztmetszeti tényező: $$K_{\\rm min,al}=\\frac{M_{\\rm hajl,max}}{\\sigma_{\\rm meg,al}}=\\frac{I_{\\rm cso}}{\\frac{d_2}{2}}$$"
   ]
  },
  {
   "cell_type": "code",
   "execution_count": 11,
   "metadata": {
    "ExecuteTime": {
     "end_time": "2020-02-18T08:30:08.696845Z",
     "start_time": "2020-02-18T08:30:08.682998Z"
    }
   },
   "outputs": [
    {
     "data": {
      "text/latex": [
       "$\\displaystyle 600000.0$"
      ],
      "text/plain": [
       "600000.000000000"
      ]
     },
     "execution_count": 11,
     "metadata": {},
     "output_type": "execute_result"
    }
   ],
   "source": [
    "K_min_al=K_min.subs(σ_meg,σ_meg_al_adat)\n",
    "K_min_al #mm**3"
   ]
  },
  {
   "cell_type": "markdown",
   "metadata": {},
   "source": [
    "Az előbbiek alapján:\n",
    "$$K_{\\rm min,al}=\\frac{I_{\\rm cso}}{\\frac{d_2}{2}}=\\frac{175 \\pi d_2^3}{8192}$$\n",
    "Ebből kifelezhető $d_2$ értéke:\n",
    "$$d_2=\\sqrt[3]{\\frac{8192 K_{\\rm min,al}}{175 \\pi}}$$"
   ]
  },
  {
   "cell_type": "code",
   "execution_count": 12,
   "metadata": {
    "ExecuteTime": {
     "end_time": "2020-02-18T08:30:08.715954Z",
     "start_time": "2020-02-18T08:30:08.699682Z"
    }
   },
   "outputs": [
    {
     "data": {
      "text/latex": [
       "$\\displaystyle \\frac{303.972560509759}{\\sqrt[3]{\\pi}}$"
      ],
      "text/plain": [
       "303.972560509759/pi**(1/3)"
      ]
     },
     "execution_count": 12,
     "metadata": {},
     "output_type": "execute_result"
    }
   ],
   "source": [
    "d2_eredmeny = sp.root((8192*K_min_al)/(175*sp.pi),3)\n",
    "d2_eredmeny #mm"
   ]
  },
  {
   "cell_type": "markdown",
   "metadata": {},
   "source": [
    "Ez az eredmény elég rosszul olvasható, mert a `K_min_al` változó lebegőpontos (`float`) típusként van tárolva. Az olvashatóság kedvéért használjuk az `sympy.nsimplify` függvényt.\n",
    "\n",
    "(Ennek elsősorban jóval hosszabb, komplexebb számításoknál van jelentőssége, de jó \"rászokni\" már egyszerű feladatoknál is. Ebben a segédletben az átláthatóság kedvéért csak így, a legvégén alkalmaztuk.)"
   ]
  },
  {
   "cell_type": "code",
   "execution_count": 13,
   "metadata": {
    "ExecuteTime": {
     "end_time": "2020-02-18T08:30:08.797652Z",
     "start_time": "2020-02-18T08:30:08.720995Z"
    }
   },
   "outputs": [
    {
     "data": {
      "text/latex": [
       "$\\displaystyle \\frac{320 \\sqrt[3]{6} \\cdot 7^{\\frac{2}{3}}}{7 \\sqrt[3]{\\pi}}$"
      ],
      "text/plain": [
       "320*6**(1/3)*7**(2/3)/(7*pi**(1/3))"
      ]
     },
     "execution_count": 13,
     "metadata": {},
     "output_type": "execute_result"
    }
   ],
   "source": [
    "d2_eredmeny = sp.root((8192*sp.nsimplify(K_min_al))/(175*sp.pi),3)\n",
    "d2_eredmeny #mm"
   ]
  },
  {
   "cell_type": "code",
   "execution_count": 14,
   "metadata": {
    "ExecuteTime": {
     "end_time": "2020-02-18T08:30:08.806777Z",
     "start_time": "2020-02-18T08:30:08.800530Z"
    }
   },
   "outputs": [
    {
     "data": {
      "text/latex": [
       "$\\displaystyle 207.55$"
      ],
      "text/plain": [
       "207.55"
      ]
     },
     "execution_count": 14,
     "metadata": {},
     "output_type": "execute_result"
    }
   ],
   "source": [
    "# Numerikus végeredmény 5 értékes jegyig\n",
    "d2_eredmeny.evalf(5)"
   ]
  }
 ],
 "metadata": {
  "kernelspec": {
   "display_name": "Python 3",
   "language": "python",
   "name": "python3"
  },
  "language_info": {
   "codemirror_mode": {
    "name": "ipython",
    "version": 3
   },
   "file_extension": ".py",
   "mimetype": "text/x-python",
   "name": "python",
   "nbconvert_exporter": "python",
   "pygments_lexer": "ipython3",
   "version": "3.7.3"
  },
  "toc": {
   "base_numbering": 1,
   "nav_menu": {},
   "number_sections": true,
   "sideBar": true,
   "skip_h1_title": false,
   "title_cell": "Table of Contents",
   "title_sidebar": "Contents",
   "toc_cell": false,
   "toc_position": {},
   "toc_section_display": true,
   "toc_window_display": false
  }
 },
 "nbformat": 4,
 "nbformat_minor": 2
}
