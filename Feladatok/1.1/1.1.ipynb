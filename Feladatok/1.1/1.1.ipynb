{
 "cells": [
  {
   "cell_type": "markdown",
   "metadata": {},
   "source": [
    "# Példa 1.1\n",
    "Egy $G=700 \\, \\rm{N}$ súlyú lámpatestet szeretnénk felfüggeszteni a merevnek tekintett falak közé egy $Ød=3 \\, \\rm{mm}$ átmérőjű acélhuzallal, melyre húzás esetén a megengedett feszültség $\\sigma_{\\mathrm{meg}}=285 \\, \\rm{MPa}$. Határozzuk meg, hogy mekkora lehet minimálisan a huzal vízszintessel bezárt szöge annak érdekében, hogy a huzalban ébredő normálfeszültség a megengedett érték alatt maradjon.\n",
    "\n",
    "<img src=\"Fig_1.1.png\" style=\"width: 400px;\">"
   ]
  },
  {
   "cell_type": "markdown",
   "metadata": {},
   "source": [
    "# Megoldás"
   ]
  },
  {
   "cell_type": "markdown",
   "metadata": {},
   "source": [
    "A megoldás során szimbolikus számításokat fogunk végezni \n",
    "(azaz a konkrét értékeket csak a végén helyettesítjük be, előtte a képleteket írjuk fel és rendezzük át). Ehhez szükségünk van a `sympy` modulra."
   ]
  },
  {
   "cell_type": "code",
   "execution_count": 1,
   "metadata": {
    "ExecuteTime": {
     "end_time": "2020-02-18T08:30:08.037146Z",
     "start_time": "2020-02-18T08:30:07.489420Z"
    }
   },
   "outputs": [],
   "source": [
    "import sympy as sp #betöltjük a sympy modul összes függvényét, és sp-ként hivatkozunk rá:\n",
    "# ami függvényt a sympyból használunk azt sp.függvény formában hívjuk meg"
   ]
  },
  {
   "cell_type": "markdown",
   "metadata": {},
   "source": [
    "Definiálnunk kell a később haszált szimbólumokat. Az átláthatóság kedvéért mi most a kód legelején definiáljuk őket.\n",
    "\n",
    "A szintaktika: `valtozonev = sp.symbols(\"kiirt_nev\")`. A programkódban a szimbólumra a `valtozonev`-vel hivatkozunk. A `\"kiirt_nev\"` (a \" kell az elejére és végére) az a karaktersor, amit kiír a program, mint a szimbólum neve, amikor ki akarunk íratni egy végeredményt. A `valtozonev` és `\"kiirt_nev\"` bármi lehet, de célszerű, hogy megegyezzenek."
   ]
  },
  {
   "cell_type": "code",
   "execution_count": 2,
   "metadata": {
    "ExecuteTime": {
     "end_time": "2020-02-18T08:30:08.044305Z",
     "start_time": "2020-02-18T08:30:08.039627Z"
    }
   },
   "outputs": [],
   "source": [
    "G = sp.symbols(\"G\")\n",
    "d = sp.symbols(\"d\")\n",
    "σ_meg = sp.symbols(\"σ_meg\") # sigma: \\sigma + TAB \n",
    "α = sp.symbols(\"α\") # alpha: \\alpha + TAB \n",
    "# a görög szimbólumok a \"LaTeX jelölésük\" + TAB segítségével hívhatók meg"
   ]
  },
  {
   "cell_type": "markdown",
   "metadata": {},
   "source": [
    "A feladat megad néhány konkrét értéket, amit később behelyettesíthetünk. Ezeket az átláthatóság kedvéért itt, a feladat elején definiáljuk."
   ]
  },
  {
   "cell_type": "code",
   "execution_count": 3,
   "metadata": {
    "ExecuteTime": {
     "end_time": "2020-02-18T08:30:08.064208Z",
     "start_time": "2020-02-18T08:30:08.046879Z"
    }
   },
   "outputs": [],
   "source": [
    "G_adat = 700 #N\n",
    "d_adat = 3 #mm\n",
    "σ_meg_adat = 285 #MPa"
   ]
  },
  {
   "cell_type": "markdown",
   "metadata": {},
   "source": [
    "Írjuk fel a szükséges összefüggéseket a szabadtest ábra alapján.\n",
    "\n",
    "<img src=\"Fig_1.1b.png\" style=\"width: 300px;\">\n",
    "\n",
    "$$2F \\sin{\\alpha}=G.$$\n",
    "\n",
    "A fenti egyenletből kell kifejeznünk $F$-et. Ekkor az alábbi összefüggést kapjuk:\n",
    "$$F=\\frac{G}{2 \\sin{\\alpha}}.$$\n",
    "\n",
    "(Természetesen az átrendezést megcsinálhatnánk a `sympy` segítségével - akár sokkal bonyolultabb összefüggés esetén is -, ezt a félév későbbi részében mutatjuk be.)\n",
    "\n",
    "Írjuk be a fenti összefüggést $F$-re a programkódba is! A szinusz függvény a `sympy` modul része, ezért a  $\\sin{\\alpha}$-t `sp.sin(α)`-ként programozhatjuk be. Fontos megjegyezni, hogy Pythonban a szorzásjeleket ki <b>kell</b> tenni. Nem írhatunk `2 sp.sin(α)`-t a kódban, kell közé a `*`: `2*sp.sin(α)`."
   ]
  },
  {
   "cell_type": "code",
   "execution_count": 4,
   "metadata": {},
   "outputs": [
    {
     "data": {
      "text/latex": [
       "$\\displaystyle \\frac{G}{2 \\sin{\\left(α \\right)}}$"
      ],
      "text/plain": [
       "G/(2*sin(α))"
      ]
     },
     "execution_count": 4,
     "metadata": {},
     "output_type": "execute_result"
    }
   ],
   "source": [
    "F = G/(2*sp.sin(α)) # az összefüggést eltároljuk az 'F' nevű változóban\n",
    "F # megnézzük, hogy mi van az 'F' változóban \n",
    "  #(ennek az utasításnak a hatására csak akkor kapunk kimenetet, ha ez a cella utolsó utasítása)"
   ]
  },
  {
   "cell_type": "markdown",
   "metadata": {},
   "source": [
    "Tudjuk, hogy a huzal keresztmetszete:\n",
    "$$A=\\frac{d^2 \\pi}{4}.$$\n",
    "\n",
    "Programozzuk be ezt is, az $F$-hez hasonló módon! Figyeljünk arra, hogy **Pythonban a hatványozás jele a** `**`. A $\\pi$ ismét a `sympy` modul része, ezért `sp.pi`-ként adhatjuk meg."
   ]
  },
  {
   "cell_type": "code",
   "execution_count": 5,
   "metadata": {},
   "outputs": [
    {
     "data": {
      "text/latex": [
       "$\\displaystyle \\frac{\\pi d^{2}}{4}$"
      ],
      "text/plain": [
       "pi*d**2/4"
      ]
     },
     "execution_count": 5,
     "metadata": {},
     "output_type": "execute_result"
    }
   ],
   "source": [
    "A = d**2*sp.pi/4 # az összefüggést eltároljuk az 'A' nevű változóban\n",
    "A # megnézzük, hogy mi van az 'A' változóban (ez csak akkor működik, ha ez a cella utolsó utasítása)"
   ]
  },
  {
   "cell_type": "markdown",
   "metadata": {},
   "source": [
    "A normálerő és feszültség között az alábbi összefüggés áll fent:\n",
    "$$\\sigma = \\frac{F}{A}.$$\n",
    "\n",
    "Ebbe ha behelyettesítjük az $F$-re kapott összefüggést, akkor a következőt kaphatjuk:\n",
    "\n",
    "$$\\frac{G}{2 \\sin{\\alpha}}=A\\sigma_{meg}.$$\n",
    "\n",
    "Ebből a keresett $\\alpha$ szög:\n",
    "$$\\alpha = \\arcsin{\\frac{G}{2A\\sigma_{meg}}}.$$\n",
    "\n",
    "Az $\\arcsin$ a `sympy` modul része, `sp.asin()`-ként érjük el."
   ]
  },
  {
   "cell_type": "code",
   "execution_count": 6,
   "metadata": {},
   "outputs": [
    {
     "data": {
      "text/latex": [
       "$\\displaystyle \\operatorname{asin}{\\left(\\frac{2 G}{\\pi d^{2} σ_{meg}} \\right)}$"
      ],
      "text/plain": [
       "asin(2*G/(pi*d**2*σ_meg))"
      ]
     },
     "execution_count": 6,
     "metadata": {},
     "output_type": "execute_result"
    }
   ],
   "source": [
    "α_megoldas = sp.asin(G/(2*A*σ_meg))\n",
    "α_megoldas # nézzük meg, hogy mit kaptunk"
   ]
  },
  {
   "cell_type": "markdown",
   "metadata": {},
   "source": [
    "Láthatjuk, hogy visszakaptunk az összefüggést, nem kaptunk numerikus eredményt, hiszen nem helyettesítettük be az adatokat.\n",
    "\n",
    "Egy összefüggésbe behelyettesíteni az `osszefugges.subs(regi,uj)` szintaktikával tudunk, ahol `regi` az a változó, amelyet az `uj`-ra szeretnénk kicserélni. Ez esetünkben egy szimbolikus változó kicserélése egy numerikus értéket tároló változóra. Egy sorban több értéket is behelyettesíthetünk több `.subs()` utasítással."
   ]
  },
  {
   "cell_type": "code",
   "execution_count": 7,
   "metadata": {},
   "outputs": [],
   "source": [
    "α_behely = α_megoldas.subs(G,G_adat).subs(d,d_adat).subs(σ_meg,σ_meg_adat)"
   ]
  },
  {
   "cell_type": "markdown",
   "metadata": {},
   "source": [
    "Ennél általában olvasatóbb egy alternatív szintaktika. Ebben a behelyettesítendő `(regi,uj)` párokat egy listában tároljuk el, majd a listát írjuk bele a `.subs()`-ba. Ez főként akkor előnyös, ha több kifejezésbe is be kell helyettesítenünk, hiszen a listát csak egyszer kell létrehozni."
   ]
  },
  {
   "cell_type": "code",
   "execution_count": 8,
   "metadata": {},
   "outputs": [
    {
     "data": {
      "text/latex": [
       "$\\displaystyle \\operatorname{asin}{\\left(\\frac{280}{513 \\pi} \\right)}$"
      ],
      "text/plain": [
       "asin(280/(513*pi))"
      ]
     },
     "execution_count": 8,
     "metadata": {},
     "output_type": "execute_result"
    }
   ],
   "source": [
    "adatok = [(G,G_adat),(d,d_adat),(σ_meg,σ_meg_adat)]\n",
    "α_behely = α_megoldas.subs(adatok)\n",
    "α_behely # megnézzük, hogy mit kapunk a behelyettesítés után"
   ]
  },
  {
   "cell_type": "markdown",
   "metadata": {},
   "source": [
    "Láthatjuk, hogy most sem kaptunk számszerű eredményt. Ennek az oka, hogy a `sympy` egy szimbolikus csomag, ezért magától csak azokat az átalakításokat végzi el, amik matematikailag teljesen ekvivalensek. Azaz magától nem ad numerikus eredményt, hiszen a kerekítések és véges számú tizdesjegy miatt óhatatlanul sérülne a matematikai egzaktság.\n",
    "\n",
    "Ilyenkor ki kell adni egy utasítást, hogy a kedvünkért mégis adjon numerikus eredményt. Az `.evalf(N)` utasítással értékelhetünk ki egy kifejezést N értékesjegyre. Az `.evalf()` nem olyan \"függvény\", mint amiket korábban használtunk, ezért a szintaktikája `kifejezes.evalf()` azaz a kiértékelendő dolog után írjuk. \n",
    "\n",
    "<i>Kíváncsiaknak: ez azért van így, mert az `.evalf()` önmagában nem létezik, nincsen `sp.evalf()` függvény. Az `evalf()` csak bizonyos típusokhoz - pontosabban osztályokhoz - kötötten létezik, mint azok saját magukon alkalmazható \"függvénye\". Ezt úgy precízen mondjuk, hogy az `.evalf()` ezeknek az osztályoknak metódusa. Mivel a Szilárdságtan tárgyhoz készült segédleteknek nem a programozási szaknyelv megtanítása a fő célja, ezért mi gyakran nem fogunk különbséget tenni a szövegben függvény és metódus között. </i>\n",
    "\n",
    "Értékeljük ki a kapott kifejezést 5 értékesjegyre! Az eredményt radiánban kapjuk, a `sympy` mindig radiánban számol."
   ]
  },
  {
   "cell_type": "code",
   "execution_count": 9,
   "metadata": {},
   "outputs": [
    {
     "data": {
      "text/latex": [
       "$\\displaystyle 0.17462$"
      ],
      "text/plain": [
       "0.17462"
      ]
     },
     "execution_count": 9,
     "metadata": {},
     "output_type": "execute_result"
    }
   ],
   "source": [
    "α_behely.evalf(5)"
   ]
  },
  {
   "cell_type": "markdown",
   "metadata": {},
   "source": [
    "A legegyszerűbben úgy kaphatunk ebből fokot, ha az ismert módon megszorozzuk $\\frac{180}{\\pi}$-vel. Ezután írjuk ki az eredmény 5 értékesjegyre, fokban."
   ]
  },
  {
   "cell_type": "code",
   "execution_count": 10,
   "metadata": {},
   "outputs": [
    {
     "data": {
      "text/latex": [
       "$\\displaystyle 10.005$"
      ],
      "text/plain": [
       "10.005"
      ]
     },
     "execution_count": 10,
     "metadata": {},
     "output_type": "execute_result"
    }
   ],
   "source": [
    "α_fok = α_behely*180/sp.pi # eltároljuk a beszorzott értéket az α_fok változóban\n",
    "α_fok.evalf(5) # kiírjuk az eredményt 5 értékesjegyre °-ban"
   ]
  },
  {
   "cell_type": "markdown",
   "metadata": {},
   "source": [
    "Megjegyzés: az eredményt elvileg akárhány értékesjegyre kiírhatnánk, ennek viszont sok értelme nincs a gyakrolatban. A különböző közelítések használata jó eséllyel nagyobb hibát okoz, mint hogy csak 5 értékesjegyre értékelünk ki. A jelen feldatban például elhanyagoltuk az acélhuzal saját súlyát."
   ]
  }
 ],
 "metadata": {
  "kernelspec": {
   "display_name": "Python 3",
   "language": "python",
   "name": "python3"
  },
  "language_info": {
   "codemirror_mode": {
    "name": "ipython",
    "version": 3
   },
   "file_extension": ".py",
   "mimetype": "text/x-python",
   "name": "python",
   "nbconvert_exporter": "python",
   "pygments_lexer": "ipython3",
   "version": "3.8.2"
  },
  "toc": {
   "base_numbering": 1,
   "nav_menu": {},
   "number_sections": true,
   "sideBar": true,
   "skip_h1_title": false,
   "title_cell": "Table of Contents",
   "title_sidebar": "Contents",
   "toc_cell": false,
   "toc_position": {},
   "toc_section_display": true,
   "toc_window_display": false
  }
 },
 "nbformat": 4,
 "nbformat_minor": 2
}
