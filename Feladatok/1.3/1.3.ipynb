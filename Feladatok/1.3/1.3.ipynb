{
 "cells": [
  {
   "cell_type": "markdown",
   "metadata": {},
   "source": [
    "# Példa 1.3\n",
    "\n",
    "A C végkeresztmetszet és a fal közötti hézag $0{,}15\\, \\rm{mm}$ az alábbi feladatnál látható hengeres tömör rudakból álló szerkezetnél a terheletlen állapotban. A terhelés nagysága $P=300\\, \\rm{kN}$. Határozzuk meg a falakban ébredő reakcióerőket a terhelés alkalmazásakor. Mekkora az egyes részek hosszváltozása és a bennük ébredő feszültség? Az anyag rugalmassági modulusza $70 \\, \\rm{GPa}$.\n",
    "\n",
    "<img src=\"1.3.png\" style=\"width: 400px;\">"
   ]
  },
  {
   "cell_type": "markdown",
   "metadata": {},
   "source": [
    "# Megoldás"
   ]
  },
  {
   "cell_type": "markdown",
   "metadata": {},
   "source": [
    "A megoldás során szimbolikus számításokat fogunk végezni (azaz a konkrét értékeket csak a végén helyettesítjük be, előtte a képleteket írjuk fel és rendezzük át). Ehhez szükségünk van a `sympy` modulra."
   ]
  },
  {
   "cell_type": "code",
   "execution_count": 1,
   "metadata": {},
   "outputs": [],
   "source": [
    "import sympy as sp #betöltjük a sympy modul összes függvényét, és sp-ként hivatkozunk rá:\n",
    "# ami függvényt a sympyból használunk azt sp.függvény formában hívjuk meg"
   ]
  },
  {
   "cell_type": "markdown",
   "metadata": {},
   "source": [
    "Definiálnunk kell a később haszált szimbólumokat. Az átláthatóság kedvéért mi most a kód legelején definiáljuk őket.\n",
    "\n",
    "A szintaktika: `valtozonev = sp.symbols(\"kiirt_nev\")`. A programkódban a szimbólumra a `valtozonev`-vel hivatkozunk. A `\"kiirt_nev\"` (a \" kell az elejére és végére) az a karaktersor, amit kiír a program, mint a szimbólum neve, amikor ki akarunk íratni egy végeredményt. A `valtozonev` és `\"kiirt_nev\"` gyakorlatilag bármi lehet, de célszerű, hogy megegyezzenek.\n",
    "\n",
    "Egy sorban több szimbólumot is definiálhatunk a lent bemutatott szintaktikával. A `\"kiirt_nev\"`-ben az egyes változók nevét szóközzel vagy vesszővel választjuk el. Emiatt egy szimbólum neve sem tartalmazhatja ezeket az elválasztó karaktereket!"
   ]
  },
  {
   "cell_type": "code",
   "execution_count": 2,
   "metadata": {},
   "outputs": [],
   "source": [
    "P, FA, Δ, d1, d2, L1, L2, E = sp.symbols(\"P, F_A, Δ, d1, d2, L1, L2, E\")\n",
    "# Δ: \\Delta + tab"
   ]
  },
  {
   "cell_type": "markdown",
   "metadata": {},
   "source": [
    "A feladat megad néhány konkrét értéket, amit később behelyettesíthetünk. Ezeket az átláthatóság kedvéért itt, a feladat elején definiáljuk. Az adatokat a $\\rm{mm - N - MPa}$ mértékegységeknek megfelelően adjuk meg."
   ]
  },
  {
   "cell_type": "code",
   "execution_count": 3,
   "metadata": {},
   "outputs": [],
   "source": [
    "P_adat = 300000 # N\n",
    "Δ_adat = 0.15 # mm\n",
    "d1_adat = 50 # mm\n",
    "d2_adat = 25 # mm\n",
    "L1_adat = 600 # mm\n",
    "L2_adat = 600 # mm\n",
    "E_adat = 70000 # MPa"
   ]
  },
  {
   "cell_type": "markdown",
   "metadata": {},
   "source": [
    "Hogy később egyszerűbben helyettesíthessünk be, készítsük el az ezt segítő listát a `(szimbolum, adat)` párokból.\n",
    "\n",
    "Megjegyzés: az nem okoz hibát, ha egy kifejezésbe olyan szimbólumot (is) be akarunk helyettesíteni, ami nem szerepel a kifejezésben."
   ]
  },
  {
   "cell_type": "code",
   "execution_count": 4,
   "metadata": {},
   "outputs": [],
   "source": [
    "adatok = [(P,P_adat),(Δ,Δ_adat),(d1,d1_adat),(d2,d2_adat),(L1,L1_adat),(L2,L2_adat),(E,E_adat)]"
   ]
  },
  {
   "cell_type": "markdown",
   "metadata": {},
   "source": [
    "Írjuk fel a két keresztmetszet területét. A $\\pi$-t `sp.pi`-ként tudjuk beírni. Figyeljünk arra, hogy a hatványozás jele `**`!"
   ]
  },
  {
   "cell_type": "code",
   "execution_count": 5,
   "metadata": {},
   "outputs": [],
   "source": [
    "A1 = d1**2*sp.pi/4\n",
    "A2 = d2**2*sp.pi/4"
   ]
  },
  {
   "cell_type": "markdown",
   "metadata": {},
   "source": [
    "Írjuk fel az AB illetve BC szakaszokon a normálerő kifejezését!\n",
    "\n",
    "$$N_{AB}=-F_A,$$\n",
    "\n",
    "$$N_{BC}=-F_A-P=F_B.$$\n"
   ]
  },
  {
   "cell_type": "code",
   "execution_count": 6,
   "metadata": {},
   "outputs": [],
   "source": [
    "N_AB = -FA\n",
    "N_BC = -FA-P\n",
    "FB = N_BC"
   ]
  },
  {
   "cell_type": "markdown",
   "metadata": {},
   "source": [
    "A terhelés elég nagy ahhoz, hogy a jobb oldali falat nyomja a szerkezet jobb vége, így az AB és BC szakaszok nyúlásának összege megegyezik a $\\Delta$ hézag méretével.\n",
    "\n",
    "$$\\Delta L = \\frac{F L}{A E}.$$\n",
    "\n",
    "A következő egyenletet írhatjuk:\n",
    "$$\\frac{N_{AB} L_{1}}{A_{1}E}+\\frac{N_{BC} L_{2}}{A_{2}E}=\\Delta.$$\n",
    "\n",
    "Ebben az egyetlen ismeretlen a két normálerő kifejezésében szereplő $F_A$. Ezt kifejezhetnénk kézzel is az egyenletből. Ehelyett használjuk a `sympy`-t az átrendezésre! Ezt úgy tudjuk megtenni, hogy a fenti egyenletet gyakorlatilag megoldjuk $F_A$-ra. Erre az `sp.solve()` függvényt használhatjuk.\n",
    "\n",
    "Most a `solve()` legegyszerűbb szintaktikáját fogjuk használni: `solve(egyenlet, ismeretlen)`. Az egyenleteket a `sympy`-ban 0-ra rendezve adjuk meg, azaz\n",
    "$$\\frac{N_{AB} L_{1}}{A_{1}E}+\\frac{N_{BC} L_{2}}{A_{2}E}-\\Delta=0$$\n",
    "\n",
    "alakban. Azért kell megadnunk, hogy mire oldjuk meg az egyenletet, mert a `sympy` nem \"tudja\", hogy a többi szimbólum valójában ismert mennyiségeket jelöl.\n",
    "\n",
    "Vigyük be az egyenletet, fejezzük ki $F_A$-t!"
   ]
  },
  {
   "cell_type": "code",
   "execution_count": 7,
   "metadata": {},
   "outputs": [],
   "source": [
    "egyenl = N_AB*L1/A1/E + N_BC*L2/A2/E - Δ # bevisszük az egyenletet\n",
    "kifej = sp.solve(egyenl,FA) # kifejezzük a 'solve()' segítségével FA-t"
   ]
  },
  {
   "cell_type": "markdown",
   "metadata": {},
   "source": [
    "Írjuk ki a végeredményt!\n",
    "\n",
    "Megjegyzés: Ennek a cellának az első sora alapállapotba hoz egy beállítást, amit később át fogunk állítani. Ez a sor csupán azért kell, hogy újrafuttatáskor ugyan azt kapjuk, mint az első futtatáskor. Ezt normál esetben nem kell megtenni, itt is csak demonstrációs célokat szolgál."
   ]
  },
  {
   "cell_type": "code",
   "execution_count": 8,
   "metadata": {},
   "outputs": [
    {
     "data": {
      "text/plain": [
       "[-d1**2*(pi*E*d2**2*Δ/4 + L2*P)/(L1*d2**2 + L2*d1**2)]"
      ]
     },
     "execution_count": 8,
     "metadata": {},
     "output_type": "execute_result"
    }
   ],
   "source": [
    "sp.init_printing(pretty_print=False) # ez valójában nem kell ide\n",
    "kifej # kiírjuk"
   ]
  },
  {
   "cell_type": "markdown",
   "metadata": {},
   "source": [
    "Két dolgot vehetünk észre: egyrészt nehezen olvashaó az eredmény, kód-szerű formátumban kapjuk. Másrészt a kifejezés `[]`-ben van. Ez arról árulkodik, hogy egy listát kaptunk vissza.\n",
    "\n",
    "Az olvashatóságot nagyban javítja, ha használjuk az `sp.init_printing()` beállítást (ezt kapcsoltuk ki az előbb, alapból sincs bekapcsolva). Bármilyen ez után futtatott cellának az eredményét \"szépen\" fogjuk megkapni (ha újrafuttatunk egy korábbi cellát, azt is)."
   ]
  },
  {
   "cell_type": "code",
   "execution_count": 9,
   "metadata": {},
   "outputs": [
    {
     "data": {
      "image/png": "[encoded data removed]",
      "text/latex": [
       "$\\displaystyle \\left[ - \\frac{d_{1}^{2} \\left(\\frac{\\pi E d_{2}^{2} Δ}{4} + L_{2} P\\right)}{L_{1} d_{2}^{2} + L_{2} d_{1}^{2}}\\right]$"
      ],
      "text/plain": [
       "⎡     ⎛      2         ⎞ ⎤\n",
       "⎢   2 ⎜π⋅E⋅d₂ ⋅Δ       ⎟ ⎥\n",
       "⎢-d₁ ⋅⎜───────── + L₂⋅P⎟ ⎥\n",
       "⎢     ⎝    4           ⎠ ⎥\n",
       "⎢────────────────────────⎥\n",
       "⎢         2        2     ⎥\n",
       "⎣    L₁⋅d₂  + L₂⋅d₁      ⎦"
      ]
     },
     "execution_count": 9,
     "metadata": {},
     "output_type": "execute_result"
    }
   ],
   "source": [
    "sp.init_printing() # bekapcsoljuk a \"szép\" kiíratást\n",
    "kifej # kiírjuk"
   ]
  },
  {
   "cell_type": "markdown",
   "metadata": {},
   "source": [
    "Az eredmény továbbra is egy listában van (aminek ez az egyetlen eleme), hogy később egyszerűbben tudjuk használni, ki kell szednünk a listából. A lista első elemét a 0-s sorszámmal - pontosabban indexszel - érjük el. Ehhez a `lista[0]` szintaktikát használjuk. (A programozásban 0-tól indexelünk, ezt minden normális programnyelv betartja. <font color='white'>Looking at you, MATLAB...</font>)\n",
    "\n",
    "Megjegyzés: azért listában kapjuk az eredményt, mert a `solve()` képes kezelni több egyenletet/ismeretlent. Ekkor gyakran több megoldást is kapunk, amiket egy listába kell tenni, hogy vissza tudjuk kapni."
   ]
  },
  {
   "cell_type": "code",
   "execution_count": 10,
   "metadata": {},
   "outputs": [
    {
     "data": {
      "image/png": "[encoded data removed]",
      "text/latex": [
       "$\\displaystyle - \\frac{d_{1}^{2} \\left(\\frac{\\pi E d_{2}^{2} Δ}{4} + L_{2} P\\right)}{L_{1} d_{2}^{2} + L_{2} d_{1}^{2}}$"
      ],
      "text/plain": [
       "     ⎛      2         ⎞ \n",
       "   2 ⎜π⋅E⋅d₂ ⋅Δ       ⎟ \n",
       "-d₁ ⋅⎜───────── + L₂⋅P⎟ \n",
       "     ⎝    4           ⎠ \n",
       "────────────────────────\n",
       "         2        2     \n",
       "    L₁⋅d₂  + L₂⋅d₁      "
      ]
     },
     "execution_count": 10,
     "metadata": {},
     "output_type": "execute_result"
    }
   ],
   "source": [
    "elem = kifej[0] # kiszedjük a lista első elemét és betesszük az 'elem' változóba\n",
    "elem # kírjuk"
   ]
  },
  {
   "cell_type": "markdown",
   "metadata": {},
   "source": [
    "Most már egyszerűen tudjuk használni $F_A$-nak a kifejezését. Itt minden szimbólum ismert mennyiség, végezzük el a behelyettesítést a `.subs()` segítségével!"
   ]
  },
  {
   "cell_type": "code",
   "execution_count": 11,
   "metadata": {},
   "outputs": [
    {
     "data": {
      "image/png": "[encoded data removed]",
      "text/latex": [
       "$\\displaystyle -240000 - 2187.5 \\pi$"
      ],
      "text/plain": [
       "-240000 - 2187.5⋅π"
      ]
     },
     "execution_count": 11,
     "metadata": {},
     "output_type": "execute_result"
    }
   ],
   "source": [
    "FAeredmeny = elem.subs(adatok)\n",
    "FAeredmeny"
   ]
  },
  {
   "cell_type": "markdown",
   "metadata": {},
   "source": [
    "Végezzük el a numerikus kiértékelést 10 értékesjegyre!"
   ]
  },
  {
   "cell_type": "code",
   "execution_count": 12,
   "metadata": {},
   "outputs": [
    {
     "data": {
      "image/png": "[encoded data removed]",
      "text/latex": [
       "$\\displaystyle -246872.2339$"
      ],
      "text/plain": [
       "-246872.2339"
      ]
     },
     "execution_count": 12,
     "metadata": {},
     "output_type": "execute_result"
    }
   ],
   "source": [
    "FAeredmeny.evalf(10) # N"
   ]
  },
  {
   "cell_type": "markdown",
   "metadata": {},
   "source": [
    "Ez az A pontban ébredő reakcióerő. A C-beli reakcióerő megegyezik $F_B$-vel, amit a korábban felírtak alapján $F_B=-P-F_A$-ként számíthatunk."
   ]
  },
  {
   "cell_type": "code",
   "execution_count": 13,
   "metadata": {},
   "outputs": [
    {
     "data": {
      "image/png": "[encoded data removed]",
      "text/latex": [
       "$\\displaystyle -53127.76607$"
      ],
      "text/plain": [
       "-53127.76607"
      ]
     },
     "execution_count": 13,
     "metadata": {},
     "output_type": "execute_result"
    }
   ],
   "source": [
    "FBeredmeny = -FAeredmeny-P_adat # most egyből beírjuk az adatot, mert 'FAeredmeny'-be már behelyettesítettünk\n",
    "FBeredmeny.evalf(10) # N; kiértékel 10 értékesjegyre"
   ]
  },
  {
   "cell_type": "markdown",
   "metadata": {},
   "source": [
    "Az alakváltozásokat a korábban felírt módon számítjuk:\n",
    "$$\\Delta L = \\frac{F L}{A E}.$$\n",
    "\n",
    "Az `A1` és `A2` nem egyszerű szimbólumok, hanem kifejezések. Emiatt nem írhatjuk az összes szimbólum helyére a neki megfelelő adatot, hanem be kell helyettesítenünk. Egy összetettebb kifejezésbe behelyettesíthetünk a `.subs()`-al, de ekkor zárójelbe kell tennünk a kifejezést, hogy \"tudja\" a fordító, hogy az egész kifejezésbe szeretnénk behelyettesíteni, nem csak a kifejezésben szereplő utolsó változóba.\n",
    "\n",
    "$F_A$ negatív előjelet kap, mert $N_{AB}$ kifejezésésben negatív előjellel szerepel."
   ]
  },
  {
   "cell_type": "code",
   "execution_count": 14,
   "metadata": {},
   "outputs": [
    {
     "data": {
      "image/png": "[encoded data removed]",
      "text/latex": [
       "$\\displaystyle 1.0777$"
      ],
      "text/plain": [
       "1.0777"
      ]
     },
     "execution_count": 14,
     "metadata": {},
     "output_type": "execute_result"
    }
   ],
   "source": [
    "ΔL1 = (-FAeredmeny*L1/A1/E).subs(adatok) # számolás, behelyettesítés\n",
    "ΔL1.evalf(5) #mm; kiértékelés 5 értékesjegyre"
   ]
  },
  {
   "cell_type": "code",
   "execution_count": 15,
   "metadata": {},
   "outputs": [
    {
     "data": {
      "image/png": "[encoded data removed]",
      "text/latex": [
       "$\\displaystyle -0.92769$"
      ],
      "text/plain": [
       "-0.92769"
      ]
     },
     "execution_count": 15,
     "metadata": {},
     "output_type": "execute_result"
    }
   ],
   "source": [
    "ΔL2 = (FBeredmeny*L2/A2/E).subs(adatok) # számolás, behelyettesítés\n",
    "ΔL2.evalf(5) #mm; kiértékelés 5 értékesjegyre"
   ]
  },
  {
   "cell_type": "markdown",
   "metadata": {},
   "source": [
    "A feszültségek a $\\sigma=\\frac{N}{A}$-nak megfelelően számíthatók. Az általunk használt mértékegységeknek megfelelően az eredményt $\\rm{MPa}$-ban kapjuk."
   ]
  },
  {
   "cell_type": "code",
   "execution_count": 16,
   "metadata": {},
   "outputs": [
    {
     "data": {
      "image/png": "[encoded data removed]",
      "text/latex": [
       "$\\displaystyle 125.73$"
      ],
      "text/plain": [
       "125.73"
      ]
     },
     "execution_count": 16,
     "metadata": {},
     "output_type": "execute_result"
    }
   ],
   "source": [
    "σ1 = (-FAeredmeny/A1).subs(adatok)\n",
    "σ1.evalf(5) # MPa"
   ]
  },
  {
   "cell_type": "code",
   "execution_count": 17,
   "metadata": {},
   "outputs": [
    {
     "data": {
      "image/png": "[encoded data removed]",
      "text/latex": [
       "$\\displaystyle -108.23$"
      ],
      "text/plain": [
       "-108.23"
      ]
     },
     "execution_count": 17,
     "metadata": {},
     "output_type": "execute_result"
    }
   ],
   "source": [
    "σ2 = (FBeredmeny/A2).subs(adatok)\n",
    "σ2.evalf(5) # MPa"
   ]
  }
 ],
 "metadata": {
  "kernelspec": {
   "display_name": "Python 3",
   "language": "python",
   "name": "python3"
  },
  "language_info": {
   "codemirror_mode": {
    "name": "ipython",
    "version": 3
   },
   "file_extension": ".py",
   "mimetype": "text/x-python",
   "name": "python",
   "nbconvert_exporter": "python",
   "pygments_lexer": "ipython3",
   "version": "3.8.2"
  },
  "toc": {
   "base_numbering": 1,
   "nav_menu": {},
   "number_sections": true,
   "sideBar": true,
   "skip_h1_title": false,
   "title_cell": "Table of Contents",
   "title_sidebar": "Contents",
   "toc_cell": false,
   "toc_position": {},
   "toc_section_display": true,
   "toc_window_display": false
  }
 },
 "nbformat": 4,
 "nbformat_minor": 2
}
