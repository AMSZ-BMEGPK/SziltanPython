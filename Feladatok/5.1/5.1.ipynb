{
 "cells": [
  {
   "cell_type": "markdown",
   "metadata": {},
   "source": [
    "# Példa 5.1\n",
    "Egy $a\\times a$ állandó négyzet keresztmetszetű, rugalmas betonhasábot merev fal vesz\n",
    "körül. A hasábot egy merev fedélen keresztül az $F$ nyomóerővel megterheljük. Mekkora feszültségek\n",
    "ébrednek a hasáb belső pontjaiban és mekkora lesz a $h$ magasságú hasáb zsugorodása?\n",
    "\n",
    "<img src=\"./Fig_5.1.png\" style=\"width: 300px;\">"
   ]
  },
  {
   "cell_type": "markdown",
   "metadata": {},
   "source": [
    "Importáljuk a `sympy` csomagot, deklaráljuk a szimbolikus változókat és a numerikus adatokat!"
   ]
  },
  {
   "cell_type": "code",
   "execution_count": 47,
   "metadata": {},
   "outputs": [],
   "source": [
    "import sympy as sp\n",
    "ε_z, σ_x, σ_y = sp.symbols('ε_z,σ_x,σ_y')\n",
    "\n",
    "a = 200   #mm\n",
    "F = 160e3 #kN\n",
    "E = 50e3  #MPa\n",
    "ν = 0.35  #-\n",
    "h = 1     #m"
   ]
  },
  {
   "cell_type": "markdown",
   "metadata": {},
   "source": [
    "A befogás miatt az alakváltozási állapotról tudjuk, hogy a $z$ irányon kívül minden irányban zérus. A nemzérus $\\varepsilon_z$:\n",
    "$$\\varepsilon_z=\\dfrac{\\Delta h}{h}.$$\n",
    "Az általános Hooke-törvény:\n",
    "$$\\boldsymbol{\\sigma}=\\dfrac{E}{1+\\nu}\\left[\\boldsymbol{\\varepsilon}+\\dfrac{\\nu}{1-2\\nu}\\varepsilon_I \\mathbf{I}\\right].$$  \n",
    "Jelen esetben észrevehetjük, hogy az alakváltozási tenzor első skalár invariánsa (mivel az $\\boldsymbol{\\varepsilon}$-ban $\\varepsilon_z$ az egyetlen elem):\n",
    "$$\\varepsilon_I=\\varepsilon_z.$$"
   ]
  },
  {
   "cell_type": "markdown",
   "metadata": {},
   "source": [
    "Továbbá vegyük észre, hogy a befogásokból és a terhelés jellegéből adódan nem ébrednek csúsztatófeszültségek a testben! Így a normálfeszültségek értéke:  \n",
    "$$\\sigma_x = \\sigma_y = \\dfrac{E\\nu}{(1+\\nu)(1-2\\nu)}\\varepsilon_z$$  \n",
    "$$\\sigma_z = \\dfrac{E(1-\\nu)}{(1+\\nu)(1-2\\nu)}\\varepsilon_z$$  \n",
    "Továbbá $\\sigma_z$ értéke a nyomásból adódó $-\\dfrac{F}{A}$-val egyenlő."
   ]
  },
  {
   "cell_type": "code",
   "execution_count": 48,
   "metadata": {},
   "outputs": [
    {
     "data": {
      "text/plain": [
       "-4.0"
      ]
     },
     "execution_count": 48,
     "metadata": {},
     "output_type": "execute_result"
    }
   ],
   "source": [
    "σ_z = -F/a**2\n",
    "σ_z"
   ]
  },
  {
   "cell_type": "code",
   "execution_count": 49,
   "metadata": {},
   "outputs": [
    {
     "data": {
      "text/latex": [
       "$\\displaystyle -4.9846 \\cdot 10^{-5}$"
      ],
      "text/plain": [
       "-4.9846e-5"
      ]
     },
     "execution_count": 49,
     "metadata": {},
     "output_type": "execute_result"
    }
   ],
   "source": [
    "# A Hooke törvényből  a már ismert technikával, egyenletet\n",
    "# definiálunk 'ε_z'-re amit a 'solve' parancs megold számunkra.\n",
    "\n",
    "eq1 = E*(1-ν)/((1+ν)*(1-2*ν))*ε_z - σ_z\n",
    "sol1 = sp.solve(eq1,ε_z)\n",
    "ε_z_num = sol1[0]\n",
    "ε_z_num.evalf(5) # -"
   ]
  },
  {
   "cell_type": "code",
   "execution_count": 50,
   "metadata": {},
   "outputs": [
    {
     "data": {
      "text/latex": [
       "$\\displaystyle -2.1538$"
      ],
      "text/plain": [
       "-2.1538"
      ]
     },
     "execution_count": 50,
     "metadata": {},
     "output_type": "execute_result"
    }
   ],
   "source": [
    "# Továbbá az ismeretlen feszültség komponensek:\n",
    "\n",
    "eq2 = E*ν/((1+ν)*(1-2*ν))*ε_z_num-σ_x\n",
    "sol2 = sp.solve(eq2, σ_x)\n",
    "σ_x_num = sol2[0]\n",
    "σ_y_num = sol2[0]\n",
    "\n",
    "σ_x_num.evalf(5) #MPa"
   ]
  },
  {
   "cell_type": "markdown",
   "metadata": {},
   "source": [
    "Végül meghatározhatjuk az ismert alakváltozásból a hasáb zsugorodását:"
   ]
  },
  {
   "cell_type": "code",
   "execution_count": 51,
   "metadata": {},
   "outputs": [
    {
     "data": {
      "text/latex": [
       "$\\displaystyle -4.9846 \\cdot 10^{-5}$"
      ],
      "text/plain": [
       "-4.9846e-5"
      ]
     },
     "execution_count": 51,
     "metadata": {},
     "output_type": "execute_result"
    }
   ],
   "source": [
    "dh = h*ε_z_num\n",
    "dh.evalf(5) #mm"
   ]
  }
 ],
 "metadata": {
  "kernelspec": {
   "display_name": "Python 3",
   "language": "python",
   "name": "python3"
  },
  "language_info": {
   "codemirror_mode": {
    "name": "ipython",
    "version": 3
   },
   "file_extension": ".py",
   "mimetype": "text/x-python",
   "name": "python",
   "nbconvert_exporter": "python",
   "pygments_lexer": "ipython3",
   "version": "3.8.2"
  },
  "toc": {
   "base_numbering": 1,
   "nav_menu": {},
   "number_sections": true,
   "sideBar": true,
   "skip_h1_title": false,
   "title_cell": "Table of Contents",
   "title_sidebar": "Contents",
   "toc_cell": false,
   "toc_position": {},
   "toc_section_display": true,
   "toc_window_display": false
  }
 },
 "nbformat": 4,
 "nbformat_minor": 2
}
