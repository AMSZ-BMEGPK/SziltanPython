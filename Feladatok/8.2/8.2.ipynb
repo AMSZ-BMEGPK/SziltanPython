{
 "cells": [
  {
   "cell_type": "markdown",
   "metadata": {},
   "source": [
    "# Példa 8.2\n",
    "\n",
    "Laboratóriumi használatra készült hengeres tartályban a gáz nyomása $p=15 \\, \\rm{bar}$. A tartály közepes átmérője $D=250\\, \\rm{mm}$. A Mohr-féle elmélet alkalmazásával határozzuk meg a szükséges falvastagságot,\n",
    " ha a megengedett feszültség $\\sigma_{\\mathrm{meg}}=92\\,\\rm{MPa}$!\n"
   ]
  },
  {
   "cell_type": "markdown",
   "metadata": {},
   "source": [
    "# Megoldás\n",
    "\n",
    "Betöltjük a `sympy` modult. Definiáljuk a szimbólumokat és adatokat."
   ]
  },
  {
   "cell_type": "code",
   "execution_count": 1,
   "metadata": {},
   "outputs": [],
   "source": [
    "import sympy as sp\n",
    "sp.init_printing()\n",
    "\n",
    "p, D, v, σ_meg = sp.symbols(\"p, D, v, σ_meg\")\n",
    "\n",
    "p_adat = 1.5 #MPa\n",
    "D_adat = 250 #mm\n",
    "σ_meg_adat = 92 #MPa\n",
    "adatok = [(p,p_adat),(D,D_adat),(σ_meg,σ_meg_adat)]"
   ]
  },
  {
   "cell_type": "markdown",
   "metadata": {},
   "source": [
    "A meridián és tangenciális feszültségek képlete:\n",
    "$$\\sigma_m=\\frac{p\\varrho_t}{2v},$$\n",
    "\n",
    "$$\\sigma_t=\\sigma_m \\left( 2-\\frac{\\varrho_t}{\\varrho_m}\\right),$$\n",
    "ahol $\\varrho_t = D$ és $\\varrho_m = \\infty$, mert a tartályunk hengeres.\n",
    "\n",
    "A tartály falára ható terhelést a következő ábrán szemléltetjük.\n",
    "<img src=\"Fig_8.2.png\" style=\"width: 500px;\">\n",
    "\n",
    "Ekkor egy belső felületi pontban a feszültség:\n",
    "$$\\boldsymbol{\\sigma}=\\left[\\begin{matrix} \\sigma_m & 0 & 0\\\\ 0 & \\sigma_t & 0\\\\ 0 & 0 & -p \\end{matrix}\\right].$$\n",
    "\n",
    "Ezek közül a legnagyobb főfeszültség $\\sigma_1=\\sigma_t$, a legkisebb $\\sigma_3=-p$. A Mohr-féle egyenértékű feszültség:\n",
    "\n",
    "$$\\sigma_1-\\sigma_3.$$"
   ]
  },
  {
   "cell_type": "code",
   "execution_count": 2,
   "metadata": {},
   "outputs": [
    {
     "data": {
      "image/png": "[encoded data removed]",
      "text/latex": [
       "$\\displaystyle \\frac{D p}{2 v} + p$"
      ],
      "text/plain": [
       "D⋅p    \n",
       "─── + p\n",
       "2⋅v    "
      ]
     },
     "execution_count": 2,
     "metadata": {},
     "output_type": "execute_result"
    }
   ],
   "source": [
    "σ_m = p*D/4/v\n",
    "σ_t = 2*σ_m #mert ϱ_m = ∞\n",
    "\n",
    "σ_1 = σ_t\n",
    "σ_3 = -p\n",
    "\n",
    "σ_egy = σ_1-σ_3\n",
    "σ_egy"
   ]
  },
  {
   "cell_type": "markdown",
   "metadata": {},
   "source": [
    "Ebbe a kifejezezésbe (ne felejtsük 0-ra rendezni, azaz a megengedett feszültséget kivonni a fenti kifejezésből) kell behelyettesítenünk az adatokat, majd kifejeznünk belőle $v$-t."
   ]
  },
  {
   "cell_type": "code",
   "execution_count": 3,
   "metadata": {},
   "outputs": [
    {
     "data": {
      "image/png": "[encoded data removed]",
      "text/latex": [
       "$\\displaystyle 2.0718$"
      ],
      "text/plain": [
       "2.0718"
      ]
     },
     "execution_count": 3,
     "metadata": {},
     "output_type": "execute_result"
    }
   ],
   "source": [
    "σ_egy_adatok = (σ_egy-σ_meg).subs(adatok)\n",
    "v_sol = sp.solve(σ_egy_adatok,v)\n",
    "v_sol = v_sol[0]\n",
    "v_sol.evalf(5) #mm"
   ]
  }
 ],
 "metadata": {
  "kernelspec": {
   "display_name": "Python 3",
   "language": "python",
   "name": "python3"
  },
  "language_info": {
   "codemirror_mode": {
    "name": "ipython",
    "version": 3
   },
   "file_extension": ".py",
   "mimetype": "text/x-python",
   "name": "python",
   "nbconvert_exporter": "python",
   "pygments_lexer": "ipython3",
   "version": "3.8.2"
  },
  "toc": {
   "base_numbering": 1,
   "nav_menu": {},
   "number_sections": true,
   "sideBar": true,
   "skip_h1_title": false,
   "title_cell": "Table of Contents",
   "title_sidebar": "Contents",
   "toc_cell": false,
   "toc_position": {},
   "toc_section_display": true,
   "toc_window_display": false
  }
 },
 "nbformat": 4,
 "nbformat_minor": 2
}
