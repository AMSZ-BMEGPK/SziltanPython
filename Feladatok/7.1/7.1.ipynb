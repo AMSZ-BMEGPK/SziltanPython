{
 "cells": [
  {
   "cell_type": "markdown",
   "metadata": {},
   "source": [
    "# Példa 7.1\n",
    "\n",
    "Határozzuk meg a végkeresztmetszet függőleges elmozdulását!\n",
    "\n",
    "a) Az alakváltozási energia számításakor hanyagoljuk el a normál igénybevétel hatását;\n",
    "\n",
    "b) Vegyük figyelembe a normál igénybevétel hatását is!\n",
    "\n",
    "<img src=\"7.1.png\" style=\"width: 400px;\">"
   ]
  },
  {
   "cell_type": "markdown",
   "metadata": {},
   "source": [
    "# Megoldás\n",
    "\n",
    "Betöltjük a `sympy` modult. Definiáljuk a szimbólumokat."
   ]
  },
  {
   "cell_type": "code",
   "execution_count": 1,
   "metadata": {},
   "outputs": [],
   "source": [
    "import sympy as sp\n",
    "sp.init_printing()\n",
    "\n",
    "F, R, φ, I, E, A = sp.symbols('F, R, φ, I, E, A') #φ: \\varphi + tab\n"
   ]
  },
  {
   "cell_type": "markdown",
   "metadata": {},
   "source": [
    "## a) feladat\n",
    "\n",
    "Az alakváltozási energia:\n",
    "$$U=U_{Mh}.$$\n",
    "\n",
    "A hajlító igénybevétel $\\varphi$ koordináta szerint:\n",
    "$$M_h(\\varphi)=F R (1-\\cos \\varphi).$$\n",
    "\n",
    "A csak hajlítást figyelembe vévő esetben az elmozdulást a következő integrál meghatározásával kapjuk:\n",
    "$$f_h= \\frac{\\partial U}{\\partial F}=\\frac{1}{I E}\\int_{0}^{\\pi} M_h \\frac{\\partial M_h}{\\partial F} R \\mathrm{d}\\varphi.$$\n",
    "\n",
    "A korábban haszált `.diff(x)` utasítás használható parciális deriváltak előállításához, hiszen csak `x` szerint derivál."
   ]
  },
  {
   "cell_type": "code",
   "execution_count": 2,
   "metadata": {},
   "outputs": [
    {
     "data": {
      "image/png": "[encoded data removed]",
      "text/latex": [
       "$\\displaystyle R \\left(1 - \\cos{\\left(φ \\right)}\\right)$"
      ],
      "text/plain": [
       "R⋅(1 - cos(φ))"
      ]
     },
     "execution_count": 2,
     "metadata": {},
     "output_type": "execute_result"
    }
   ],
   "source": [
    "Mh = F*R*(1-sp.cos(φ))\n",
    "Mhparcder = Mh.diff(F)\n",
    "Mhparcder"
   ]
  },
  {
   "cell_type": "markdown",
   "metadata": {},
   "source": [
    "A `sympy`-ban integrálni az `integrate(kifejezes, valtozo)` utasítással tudunk. Határozott integrál számításához meg kell adnunk a határokat is a következő szintaktikával: `integrate(kifejezes, (valtozo, also_hatar, felso_hatar))`.\n",
    "\n",
    "Megjegyzés: az integrálás határa lehet $\\infty$. Ez `sp.oo`-ként adhatjuk meg (ha a `sp` néven töltöttük be a `sympy`-t)."
   ]
  },
  {
   "cell_type": "code",
   "execution_count": 3,
   "metadata": {},
   "outputs": [
    {
     "data": {
      "image/png": "[encoded data removed]",
      "text/latex": [
       "$\\displaystyle \\frac{3 \\pi F R^{3}}{2 E I}$"
      ],
      "text/plain": [
       "       3\n",
       "3⋅π⋅F⋅R \n",
       "────────\n",
       " 2⋅E⋅I  "
      ]
     },
     "execution_count": 3,
     "metadata": {},
     "output_type": "execute_result"
    }
   ],
   "source": [
    "fh = 1/(I*E)*sp.integrate(Mh*Mhparcder*R,(φ, 0, sp.pi))\n",
    "fh"
   ]
  },
  {
   "cell_type": "markdown",
   "metadata": {},
   "source": [
    "## b) feladat\n",
    "\n",
    "Az alakváltozási energia:\n",
    "$$U=U_{Mh}+U_N.$$\n",
    "\n",
    "Az elmozdulás a normálerőt is figyelembe véve:\n",
    "$$f_{hN}= \\frac{\\partial U}{\\partial F}=\\frac{\\partial U_{Mh}}{\\partial F}+\\frac{\\partial U_N}{\\partial F},$$\n",
    "ahol felhaszálhatjuk az a) feladatrész eredményét, hiszen:\n",
    "$$\\frac{\\partial U_{Mh}}{\\partial F}=f_h.$$\n",
    "\n",
    "A normál igénybevétel $\\varphi$ szerint:\n",
    "$$N(\\varphi)=F \\cos(\\varphi).$$\n",
    "\n",
    "A következő integrált kell kiszámítanunk:\n",
    "$$f_N=\\frac{\\partial U_N}{\\partial F}=\\frac{1}{E A}\\int_{0}^{\\pi} N \\frac{\\partial N}{\\partial F} R \\mathrm{d}\\varphi.$$"
   ]
  },
  {
   "cell_type": "code",
   "execution_count": 4,
   "metadata": {},
   "outputs": [
    {
     "data": {
      "image/png": "[encoded data removed]",
      "text/latex": [
       "$\\displaystyle \\frac{\\pi F R}{2 A E}$"
      ],
      "text/plain": [
       "π⋅F⋅R\n",
       "─────\n",
       "2⋅A⋅E"
      ]
     },
     "execution_count": 4,
     "metadata": {},
     "output_type": "execute_result"
    }
   ],
   "source": [
    "N = F*sp.cos(φ)\n",
    "Nparcder = N.diff(F)\n",
    "fN = 1/(E*A)*sp.integrate(N*Nparcder*R,(φ, 0, sp.pi))\n",
    "fN"
   ]
  },
  {
   "cell_type": "markdown",
   "metadata": {},
   "source": [
    "A normál és hajlító igénybevételből származó elmozdulás:\n",
    "$$f_{hN}=f_h+f_N.$$"
   ]
  },
  {
   "cell_type": "code",
   "execution_count": 5,
   "metadata": {},
   "outputs": [
    {
     "data": {
      "image/png": "[encoded data removed]",
      "text/latex": [
       "$\\displaystyle \\frac{3 \\pi F R^{3}}{2 E I} + \\frac{\\pi F R}{2 A E}$"
      ],
      "text/plain": [
       "       3        \n",
       "3⋅π⋅F⋅R    π⋅F⋅R\n",
       "──────── + ─────\n",
       " 2⋅E⋅I     2⋅A⋅E"
      ]
     },
     "execution_count": 5,
     "metadata": {},
     "output_type": "execute_result"
    }
   ],
   "source": [
    "fhN = fh + fN\n",
    "fhN"
   ]
  }
 ],
 "metadata": {
  "kernelspec": {
   "display_name": "Python 3",
   "language": "python",
   "name": "python3"
  },
  "language_info": {
   "codemirror_mode": {
    "name": "ipython",
    "version": 3
   },
   "file_extension": ".py",
   "mimetype": "text/x-python",
   "name": "python",
   "nbconvert_exporter": "python",
   "pygments_lexer": "ipython3",
   "version": "3.8.2"
  },
  "toc": {
   "base_numbering": 1,
   "nav_menu": {},
   "number_sections": true,
   "sideBar": true,
   "skip_h1_title": false,
   "title_cell": "Table of Contents",
   "title_sidebar": "Contents",
   "toc_cell": false,
   "toc_position": {},
   "toc_section_display": true,
   "toc_window_display": false
  }
 },
 "nbformat": 4,
 "nbformat_minor": 2
}
