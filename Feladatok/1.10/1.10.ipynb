{
 "cells": [
  {
   "cell_type": "markdown",
   "metadata": {},
   "source": [
    "# Példa 1.10\n",
    "Határozzuk meg az alábbi tartó AC és CB részein a keresztmetszet méreteit úgy, hogy a $b_{2}/a_{2}=b_{1}/a_{1}=2$ feltétel mellett hajlításra megfeleljen a tartó! Adatok: \n",
    "\n",
    "$L_{1}=2 \\rm{m}$, \n",
    "\n",
    "$L_{2}=1\\rm{m}$,\n",
    "\n",
    "$L_{3}=4\\rm{m}$,\n",
    "\n",
    "$F=14\\rm{kN}$,\n",
    "\n",
    "$\\sigma_{\\mathrm{meg}}=100\\rm{MPa}$.\n",
    "\n",
    "<img src=\"Fig_1.10.png\" style=\"width: 400px;\">"
   ]
  },
  {
   "cell_type": "markdown",
   "metadata": {},
   "source": [
    "# Megoldás"
   ]
  },
  {
   "cell_type": "markdown",
   "metadata": {},
   "source": [
    "A megoldás során szimbolikus számításokat fogunk végezni, ehhez importáljuk a `sympy` modult."
   ]
  },
  {
   "cell_type": "code",
   "execution_count": 1,
   "metadata": {
    "ExecuteTime": {
     "end_time": "2020-02-21T22:24:33.313646Z",
     "start_time": "2020-02-21T22:24:32.867335Z"
    }
   },
   "outputs": [],
   "source": [
    "import sympy as sp #betöltjük a sympy modult"
   ]
  },
  {
   "cell_type": "markdown",
   "metadata": {},
   "source": [
    "Definiáljuk a szükséges szimbólumokat.\n",
    "A feladatkiírás alapján $b_{1}$-t és $b_{2}$-t az $a_1$-ből és $a_2$-ből állítjuk elő, ezért ahhoz nem definiálunk külön szimbólumot."
   ]
  },
  {
   "cell_type": "code",
   "execution_count": 2,
   "metadata": {
    "ExecuteTime": {
     "end_time": "2020-02-21T22:24:33.322405Z",
     "start_time": "2020-02-21T22:24:33.315904Z"
    }
   },
   "outputs": [],
   "source": [
    "a1,a2,L1,L2,L3,F,σ_meg = sp.symbols(\"a1,a2,L1,L2,L3,F,σ_meg\")\n",
    "b1 = 2*a1\n",
    "b2 = 2*a2"
   ]
  },
  {
   "cell_type": "markdown",
   "metadata": {},
   "source": [
    "A következő lépésben megadjuk a rendelkezésre álló adatokat."
   ]
  },
  {
   "cell_type": "code",
   "execution_count": 3,
   "metadata": {
    "ExecuteTime": {
     "end_time": "2020-02-21T22:24:33.343274Z",
     "start_time": "2020-02-21T22:24:33.325254Z"
    }
   },
   "outputs": [],
   "source": [
    "L1_adat = 2 #m\n",
    "L2_adat = 1 #m\n",
    "L3_adat = 4 #m\n",
    "F_adat = 14 #kN\n",
    "σ_meg_adat = 100 #MPa"
   ]
  },
  {
   "cell_type": "markdown",
   "metadata": {},
   "source": [
    "Ahhoz, hogy a behelyettesítést ne kelljen egyesével megtenni, csinálunk egy behelyettesítési listát, így amikor behelyettesítésre kerül sor, futtatáskor a program tudni fogja, hogy az adott szimbólum helyére milyen numerikus értéket kívánunk behelyettesíteni. Ennek formája:\n",
    "```python\n",
    "behelyettesítési lista = [(szimbólum, adat), (szimbólum, adat),...,(szimbólum, adat)]\n",
    "```"
   ]
  },
  {
   "cell_type": "code",
   "execution_count": 4,
   "metadata": {
    "ExecuteTime": {
     "end_time": "2020-02-21T22:24:33.360651Z",
     "start_time": "2020-02-21T22:24:33.348845Z"
    }
   },
   "outputs": [],
   "source": [
    "adatok = [(L1,L1_adat),(L2,L2_adat),(L3,L3_adat),(F,F_adat),(σ_meg,σ_meg_adat)]"
   ]
  },
  {
   "cell_type": "markdown",
   "metadata": {},
   "source": [
    "## Igénybevételi függvények\n",
    "### Reakcióerők\n",
    "Az igénybevételi függvények meghatározásához szükségünk van a reakcíóerőkre.  \n",
    "Az egyensúlyi egyenletek: erőegyensúly a $z$ irányban és nyomatéki egyensúly az $\\rm A$ pontra:  \n",
    "$$ \\sum F_z = 0: \\quad F_A + F_B - F = 0$$  \n",
    "$$ \\sum M_y^{\\rm A} = 0: \\quad F_B(L_1+L_2+L_3) - F L_1 = 0 $$"
   ]
  },
  {
   "cell_type": "code",
   "execution_count": 5,
   "metadata": {
    "ExecuteTime": {
     "end_time": "2020-02-21T22:24:33.869097Z",
     "start_time": "2020-02-21T22:24:33.365984Z"
    }
   },
   "outputs": [
    {
     "data": {
      "text/latex": [
       "$\\displaystyle \\frac{F L_{1}}{L_{1} + L_{2} + L_{3}}$"
      ],
      "text/plain": [
       "F*L1/(L1 + L2 + L3)"
      ]
     },
     "execution_count": 5,
     "metadata": {},
     "output_type": "execute_result"
    }
   ],
   "source": [
    "FB = L1/(L1+L2+L3)*F #nyomatéki egyensúlyból; FB-re szimbolikus kifejezés\n",
    "FB #FB pozitív z irányba mutat, azaz felfelé"
   ]
  },
  {
   "cell_type": "code",
   "execution_count": 6,
   "metadata": {
    "ExecuteTime": {
     "end_time": "2020-02-21T22:24:33.934605Z",
     "start_time": "2020-02-21T22:24:33.872394Z"
    }
   },
   "outputs": [
    {
     "data": {
      "text/latex": [
       "$\\displaystyle \\frac{F \\left(L_{2} + L_{3}\\right)}{L_{1} + L_{2} + L_{3}}$"
      ],
      "text/plain": [
       "F*(L2 + L3)/(L1 + L2 + L3)"
      ]
     },
     "execution_count": 6,
     "metadata": {},
     "output_type": "execute_result"
    }
   ],
   "source": [
    "FA = (F-FB).simplify() #erőegyensúlyból; FA-ra szimbolikus kifejezés (egyszerűsítve a .simplify() függvénnyel)\n",
    "FA #FA pozitív z irányba mutat, azaz felfelé"
   ]
  },
  {
   "cell_type": "markdown",
   "metadata": {},
   "source": [
    "$F_A$, $F_B$ numerikusan:"
   ]
  },
  {
   "cell_type": "code",
   "execution_count": 7,
   "metadata": {
    "ExecuteTime": {
     "end_time": "2020-02-21T22:24:33.953452Z",
     "start_time": "2020-02-21T22:24:33.937569Z"
    }
   },
   "outputs": [],
   "source": [
    "#numerikus adatok behelyettesítése, eredmény kN-ban\n",
    "FAn = FA.subs(adatok)\n",
    "FBn = FB.subs(adatok)"
   ]
  },
  {
   "cell_type": "code",
   "execution_count": 8,
   "metadata": {
    "ExecuteTime": {
     "end_time": "2020-02-21T22:24:33.969782Z",
     "start_time": "2020-02-21T22:24:33.955643Z"
    }
   },
   "outputs": [
    {
     "data": {
      "text/latex": [
       "$\\displaystyle 10$"
      ],
      "text/plain": [
       "10"
      ]
     },
     "execution_count": 8,
     "metadata": {},
     "output_type": "execute_result"
    }
   ],
   "source": [
    "FAn #kN"
   ]
  },
  {
   "cell_type": "code",
   "execution_count": 9,
   "metadata": {
    "ExecuteTime": {
     "end_time": "2020-02-21T22:24:33.984794Z",
     "start_time": "2020-02-21T22:24:33.973244Z"
    }
   },
   "outputs": [
    {
     "data": {
      "text/latex": [
       "$\\displaystyle 4$"
      ],
      "text/plain": [
       "4"
      ]
     },
     "execution_count": 9,
     "metadata": {},
     "output_type": "execute_result"
    }
   ],
   "source": [
    "FBn #kN"
   ]
  },
  {
   "cell_type": "markdown",
   "metadata": {},
   "source": [
    "### Igénybevételi függvények\n",
    "Az igénybevételi függvények felírhatók ez alapján. Ehhez szükségünk lesz az $x$ koordinátára, mint szimbólumra."
   ]
  },
  {
   "cell_type": "code",
   "execution_count": 10,
   "metadata": {
    "ExecuteTime": {
     "end_time": "2020-02-21T22:24:33.998014Z",
     "start_time": "2020-02-21T22:24:33.987487Z"
    }
   },
   "outputs": [],
   "source": [
    "x = sp.symbols(\"x\")"
   ]
  },
  {
   "cell_type": "markdown",
   "metadata": {},
   "source": [
    "Az igénybevételi függvények szakaszonként adhatóak meg. Ehhez a `Piecewise()` függvényt használhatjuk. Fontos, hogy a megfelelő sorrendben adjuk meg a szakaszokat, növekvő $x$ szerint. A nyíró igénybevétel ($V(x)$):"
   ]
  },
  {
   "cell_type": "code",
   "execution_count": 11,
   "metadata": {
    "ExecuteTime": {
     "end_time": "2020-02-21T22:24:34.023901Z",
     "start_time": "2020-02-21T22:24:34.000787Z"
    }
   },
   "outputs": [
    {
     "data": {
      "text/latex": [
       "$\\displaystyle \\begin{cases} \\frac{F \\left(L_{2} + L_{3}\\right)}{L_{1} + L_{2} + L_{3}} & \\text{for}\\: L_{1} \\geq x \\\\\\frac{F \\left(L_{2} + L_{3}\\right)}{L_{1} + L_{2} + L_{3}} - F & \\text{for}\\: x \\leq L_{1} + L_{2} + L_{3} \\end{cases}$"
      ],
      "text/plain": [
       "Piecewise((F*(L2 + L3)/(L1 + L2 + L3), L1 >= x), (F*(L2 + L3)/(L1 + L2 + L3) - F, x <= L1 + L2 + L3))"
      ]
     },
     "execution_count": 11,
     "metadata": {},
     "output_type": "execute_result"
    }
   ],
   "source": [
    "V = sp.Piecewise((FA,x<=L1),(FA-F,x<=L1+L2+L3))\n",
    "# Azaz: V(x) értéke konstans FA, ha x ≤ L1, illetve V(x) értéke konstans FA-F, ha  L1 < x ≤ L1+L2+L3 (teljes hossz).\n",
    "# Az L1 < x ≤ teljes hossz esetén az L1 < x részt nem kell megadni, azt a program kezeli automatikusan.\n",
    "V"
   ]
  },
  {
   "cell_type": "markdown",
   "metadata": {},
   "source": [
    "Nyíró igénybevétel numerikusan:"
   ]
  },
  {
   "cell_type": "code",
   "execution_count": 12,
   "metadata": {
    "ExecuteTime": {
     "end_time": "2020-02-21T22:24:34.055561Z",
     "start_time": "2020-02-21T22:24:34.026253Z"
    }
   },
   "outputs": [
    {
     "data": {
      "text/latex": [
       "$\\displaystyle \\begin{cases} 10 & \\text{for}\\: x \\leq 2 \\\\-4 & \\text{for}\\: x \\leq 7 \\end{cases}$"
      ],
      "text/plain": [
       "Piecewise((10, x <= 2), (-4, x <= 7))"
      ]
     },
     "execution_count": 12,
     "metadata": {},
     "output_type": "execute_result"
    }
   ],
   "source": [
    "Vn = V.subs(adatok) #numerikus értékek behelyettesítve\n",
    "Vn #kN"
   ]
  },
  {
   "cell_type": "markdown",
   "metadata": {},
   "source": [
    "Hasonlóan írhatjuk fel az $M_{\\rm h}(x)$ hajlító igénybevételi függvényt is:"
   ]
  },
  {
   "cell_type": "code",
   "execution_count": 13,
   "metadata": {
    "ExecuteTime": {
     "end_time": "2020-02-21T22:24:34.080437Z",
     "start_time": "2020-02-21T22:24:34.058584Z"
    }
   },
   "outputs": [
    {
     "data": {
      "text/latex": [
       "$\\displaystyle \\begin{cases} - \\frac{F x \\left(L_{2} + L_{3}\\right)}{L_{1} + L_{2} + L_{3}} & \\text{for}\\: L_{1} \\geq x \\\\- \\frac{F x \\left(L_{2} + L_{3}\\right)}{L_{1} + L_{2} + L_{3}} + F \\left(- L_{1} + x\\right) & \\text{for}\\: x \\leq L_{1} + L_{2} + L_{3} \\end{cases}$"
      ],
      "text/plain": [
       "Piecewise((-F*x*(L2 + L3)/(L1 + L2 + L3), L1 >= x), (-F*x*(L2 + L3)/(L1 + L2 + L3) + F*(-L1 + x), x <= L1 + L2 + L3))"
      ]
     },
     "execution_count": 13,
     "metadata": {},
     "output_type": "execute_result"
    }
   ],
   "source": [
    "Mh = sp.Piecewise((-FA*x,x<=L1),(-FA*x+F*(x-L1),x<=L1+L2+L3))\n",
    "# Azaz: Mh(x) értéke -FA*x, ha x ≤ L1, illetve Mh(x) értéke -FA*x+F*(x-L1), ha  L1 < x ≤ teljes hossz.\n",
    "Mh"
   ]
  },
  {
   "cell_type": "code",
   "execution_count": 14,
   "metadata": {
    "ExecuteTime": {
     "end_time": "2020-02-21T22:24:34.105774Z",
     "start_time": "2020-02-21T22:24:34.082841Z"
    }
   },
   "outputs": [
    {
     "data": {
      "text/latex": [
       "$\\displaystyle \\begin{cases} - 10 x & \\text{for}\\: x \\leq 2 \\\\4 x - 28 & \\text{for}\\: x \\leq 7 \\end{cases}$"
      ],
      "text/plain": [
       "Piecewise((-10*x, x <= 2), (4*x - 28, x <= 7))"
      ]
     },
     "execution_count": 14,
     "metadata": {},
     "output_type": "execute_result"
    }
   ],
   "source": [
    "Mhn = Mh.subs(adatok) #numerikus értékek behelyettesítve\n",
    "Mhn #kNm"
   ]
  },
  {
   "cell_type": "markdown",
   "metadata": {},
   "source": [
    "Ha ellenőrizni szeretnénk, hogy a hajlító nyomatéki függvényt jól írtuk-e fel, akkor felhasználhatjuk a $\\frac{d}{d x}M_h(x)= -V(x)$ összefüggést:"
   ]
  },
  {
   "cell_type": "code",
   "execution_count": 15,
   "metadata": {
    "ExecuteTime": {
     "end_time": "2020-02-21T22:24:34.141576Z",
     "start_time": "2020-02-21T22:24:34.108639Z"
    }
   },
   "outputs": [
    {
     "data": {
      "text/latex": [
       "$\\displaystyle - \\begin{cases} - \\frac{F \\left(L_{2} + L_{3}\\right)}{L_{1} + L_{2} + L_{3}} & \\text{for}\\: L_{1} \\geq x \\\\- \\frac{F \\left(L_{2} + L_{3}\\right)}{L_{1} + L_{2} + L_{3}} + F & \\text{for}\\: x \\leq L_{1} + L_{2} + L_{3} \\end{cases}$"
      ],
      "text/plain": [
       "-Piecewise((-F*(L2 + L3)/(L1 + L2 + L3), L1 >= x), (-F*(L2 + L3)/(L1 + L2 + L3) + F, x <= L1 + L2 + L3))"
      ]
     },
     "execution_count": 15,
     "metadata": {},
     "output_type": "execute_result"
    }
   ],
   "source": [
    "V_ellenorzes = -Mh.diff(x) #.diff(x): egyszer deriválunk x szerint\n",
    "V_ellenorzes"
   ]
  },
  {
   "cell_type": "markdown",
   "metadata": {},
   "source": [
    "Az eredmény helyes, de a `simplify()` utasítással szebbé tehetjük:"
   ]
  },
  {
   "cell_type": "code",
   "execution_count": 16,
   "metadata": {
    "ExecuteTime": {
     "end_time": "2020-02-21T22:24:34.682464Z",
     "start_time": "2020-02-21T22:24:34.143799Z"
    }
   },
   "outputs": [
    {
     "data": {
      "text/latex": [
       "$\\displaystyle \\begin{cases} \\frac{F \\left(L_{2} + L_{3}\\right)}{L_{1} + L_{2} + L_{3}} & \\text{for}\\: L_{1} \\geq x \\\\- \\frac{F L_{1}}{L_{1} + L_{2} + L_{3}} & \\text{for}\\: L_{1} \\geq - L_{2} - L_{3} + x \\end{cases}$"
      ],
      "text/plain": [
       "Piecewise((F*(L2 + L3)/(L1 + L2 + L3), L1 >= x), (-F*L1/(L1 + L2 + L3), L1 >= -L2 - L3 + x))"
      ]
     },
     "metadata": {},
     "output_type": "display_data"
    },
    {
     "data": {
      "text/latex": [
       "$\\displaystyle \\begin{cases} 10 & \\text{for}\\: x \\leq 2 \\\\-4 & \\text{for}\\: x \\leq 7 \\end{cases}$"
      ],
      "text/plain": [
       "Piecewise((10, x <= 2), (-4, x <= 7))"
      ]
     },
     "execution_count": 16,
     "metadata": {},
     "output_type": "execute_result"
    }
   ],
   "source": [
    "V_ellenorzes = V_ellenorzes.simplify() #felülírjuk az eredeti függvényt az egyszerűsített verzióval\n",
    "display(V_ellenorzes) #kiíratjuk az egyszerűsített szimbolikus eredményt\n",
    "V_ellenorzes.subs(adatok).simplify() #numerikusan"
   ]
  },
  {
   "cell_type": "markdown",
   "metadata": {},
   "source": [
    "Ez ránézésre valóban azonos a korábban megadott V-vel. Ezt úgy is ellenőrizhetjük, hogy kivonjuk egymásból a kettőt, és 0 eredményt kapunk:"
   ]
  },
  {
   "cell_type": "code",
   "execution_count": 17,
   "metadata": {
    "ExecuteTime": {
     "end_time": "2020-02-21T22:24:35.092023Z",
     "start_time": "2020-02-21T22:24:34.684726Z"
    }
   },
   "outputs": [
    {
     "data": {
      "text/latex": [
       "$\\displaystyle 0$"
      ],
      "text/plain": [
       "0"
      ]
     },
     "execution_count": 17,
     "metadata": {},
     "output_type": "execute_result"
    }
   ],
   "source": [
    "(V - V_ellenorzes).simplify()"
   ]
  },
  {
   "cell_type": "markdown",
   "metadata": {},
   "source": [
    "## Ábrázolás\n",
    "Ehhez szükségünk lesz matplotlib modulra és egy olyan függvényre, amivel könnyen hozhatunk létre egyenlő távolságra lévő értékeket."
   ]
  },
  {
   "cell_type": "code",
   "execution_count": 18,
   "metadata": {
    "ExecuteTime": {
     "end_time": "2020-02-21T22:24:35.889214Z",
     "start_time": "2020-02-21T22:24:35.097964Z"
    }
   },
   "outputs": [],
   "source": [
    "import matplotlib.pyplot as plt # Betöltjük a matplotlib modult, amivel plotolhatunk.\n",
    "from numpy import linspace # Betöltjük csak linspace függvényt a numpy modulból (tehát nem a modul \n",
    "                           # összes függvényét), amivel majd a plotoláshoz készítjük az x értékek sorozatát"
   ]
  },
  {
   "cell_type": "markdown",
   "metadata": {},
   "source": [
    "Létrehozzuk az x, V és Mh adatsort a plotoláshoz:  \n",
    "- `xs`: `N_osztas` darab x érték `0` és `L` között:\n",
    "```python\n",
    "xs = linspace(0,L,N_osztas)\n",
    "```\n",
    "- `Vxs` és `Mhxs`: `N_osztas` darab nyíróerő és hajlítónyomatéki érték az `xs`-ben megadott helyeken \n",
    "[list comprehension](https://www.datacamp.com/community/tutorials/python-list-comprehension?utm_source=adwords_ppc&utm_campaignid=1455363063&utm_adgroupid=65083631748&utm_device=c&utm_keyword=&utm_matchtype=b&utm_network=g&utm_adpostion=&utm_creative=332602034364&utm_targetid=dsa-486527602543&utm_loc_interest_ms=&utm_loc_physical_ms=9063082&gclid=EAIaIQobChMIrZvm-9Hi5wIVR7TtCh0n4w3nEAAYASAAEgJNk_D_BwE) segítségével \n",
    "(tehát gyakorlatilag a létrehozott osztáshelyeken kiértékeljük az adott függvényeket):\n",
    "```python\n",
    "Vxs = [V(x) for x in xs]\n",
    "Mhxs = [Mh(x) for x in xs]\n",
    "```\n",
    "A *list comprehension* gyakorlatilag egy tömör `for` ciklus listák gyors létrehozására.\n"
   ]
  },
  {
   "cell_type": "code",
   "execution_count": 19,
   "metadata": {
    "ExecuteTime": {
     "end_time": "2020-02-21T22:24:36.060553Z",
     "start_time": "2020-02-21T22:24:35.892962Z"
    }
   },
   "outputs": [],
   "source": [
    "L = (L1 + L2 + L3).subs(adatok) # A rúd teljes hossza.\n",
    "xs = linspace(0.,float(L),101)  # Felveszünk 101 darab x értéket a rúd hossza mentén \n",
    "                                # (az L hosszat át kell alakítani float-tá).\n",
    "Vxs = [Vn.subs(x,xi) for xi in xs] # Kiszámoljuk a nyíróerő függvény értékeit a megadott x helyeken. \n",
    "# Vn.subs(x,xi): a Vn függvényben lévő x változó helyére behelyettesítjük xi-t.\n",
    "Mhxs = [Mhn.subs(x,xi) for xi in xs] # Kiszámoljuk a hajlítónyomatéki függvény értékeit a megadott x helyeken."
   ]
  },
  {
   "cell_type": "markdown",
   "metadata": {},
   "source": [
    "Plotoljuk a függvényeket. Mivel V(x)-ben szakadás van x=2-nél, láthatjuk, hogy a vonal nem teljesen függőleges. Ez csak a kirajzolás \"hibája\"."
   ]
  },
  {
   "cell_type": "code",
   "execution_count": 20,
   "metadata": {
    "ExecuteTime": {
     "end_time": "2020-02-21T22:24:36.959296Z",
     "start_time": "2020-02-21T22:24:36.062932Z"
    },
    "scrolled": true
   },
   "outputs": [
    {
     "data": {
      "image/png": "[encoded data removed]",
      "text/plain": [
       "<Figure size 432x288 with 1 Axes>"
      ]
     },
     "metadata": {
      "needs_background": "light"
     },
     "output_type": "display_data"
    }
   ],
   "source": [
    "plt.plot(xs, Vxs, lw = 3) # A V(x) függvény képének létrehozása 3-as vonalvastagsággal (linewidth = lw).\n",
    "plt.xlabel(\"$x$ (m)\") #x tengelyhez tartozó tengelyfelirat\n",
    "plt.ylabel(\"$V(x)$ (kNm)\") #y tengelyhez tartozó tengelyfelirat\n",
    "plt.grid() #rács\n",
    "plt.show() #kirajzolás"
   ]
  },
  {
   "cell_type": "code",
   "execution_count": 34,
   "metadata": {
    "ExecuteTime": {
     "end_time": "2020-02-21T22:24:49.421627Z",
     "start_time": "2020-02-21T22:24:49.070638Z"
    }
   },
   "outputs": [
    {
     "data": {
      "image/png": "[encoded data removed]",
      "text/plain": [
       "<Figure size 432x288 with 1 Axes>"
      ]
     },
     "metadata": {
      "needs_background": "light"
     },
     "output_type": "display_data"
    }
   ],
   "source": [
    "plt.plot(xs, Mhxs, lw = 3) #az Mh(x) függvény képének létrehozása 3-as vonalvastagsággal (linewidth = lw)\n",
    "plt.ylabel(r\"$M_{\\rm h}(x)$ (kNm)\") # x tengelyhez tartozó tengelyfelirat. Az r kell az \"\" elé, ha '\\' (backslash) \n",
    "                                    # karaktert szeretnénk a stringbe tenni a LaTeX parancsok miatt.\n",
    "\n",
    "plt.xlabel(\"$x$ (m)\") #y tengelyhez tartozó tengelyfelirat\n",
    "plt.grid() #rács létrehozása\n",
    "plt.show() #kirajzolás"
   ]
  },
  {
   "cell_type": "markdown",
   "metadata": {
    "ExecuteTime": {
     "end_time": "2020-02-21T12:49:14.728194Z",
     "start_time": "2020-02-21T12:49:14.714371Z"
    }
   },
   "source": [
    "A nyomaték igénybevételi ábrájáról leolvasható, hogy az AC szakaszon $x=2$-nél (vastag KM), míg a CB szakaszon (vékony KM) a keresztmetszetváltásnál, azaz $x=3$-nál a veszi fel hajlító igénybevétel az abszolút értékben maximális értékét."
   ]
  },
  {
   "cell_type": "markdown",
   "metadata": {},
   "source": [
    "## Méretezés"
   ]
  },
  {
   "cell_type": "markdown",
   "metadata": {},
   "source": [
    "### AC szakasz\n",
    "Maximális hajlító igénybevétel:\n",
    "$$M_{\\rm h,ACmax}=M_{\\rm h}(x=2)$$\n",
    "Keresztmetszeti tényező:\n",
    "$$K_{\\rm AC}=\\frac{I_{\\rm AC}}{\\frac{b_1}{2}}=\\frac{\\frac{a_1 b_1^3}{12}}{\\frac{b_1}{2}}$$\n",
    "Megengedett feszülség:\n",
    "$$\\sigma_{\\rm meg}=\\frac{|M_{\\rm h,ACmax}|}{K_{\\rm AC}}$$\n",
    "Mértékegységek egyeztetése: $M_{\\rm h,ACmax}$ átváltása Nmm-re."
   ]
  },
  {
   "cell_type": "code",
   "execution_count": 22,
   "metadata": {
    "ExecuteTime": {
     "end_time": "2020-02-21T22:24:37.130022Z",
     "start_time": "2020-02-21T22:24:37.123289Z"
    }
   },
   "outputs": [
    {
     "data": {
      "text/latex": [
       "$\\displaystyle -20000000.0$"
      ],
      "text/plain": [
       "-20000000.0000000"
      ]
     },
     "execution_count": 22,
     "metadata": {},
     "output_type": "execute_result"
    }
   ],
   "source": [
    "Mh_ACmax=Mhn.subs(x,2)*1e6 #mértékegység átváltás 1 kNm = 10^6 Nmm -> 1e6 = 10^6\n",
    "Mh_ACmax #Nmm"
   ]
  },
  {
   "cell_type": "code",
   "execution_count": 23,
   "metadata": {
    "ExecuteTime": {
     "end_time": "2020-02-21T22:24:37.156600Z",
     "start_time": "2020-02-21T22:24:37.133075Z"
    }
   },
   "outputs": [
    {
     "data": {
      "text/latex": [
       "$\\displaystyle \\frac{2 a_{1}^{4}}{3}$"
      ],
      "text/plain": [
       "2*a1**4/3"
      ]
     },
     "execution_count": 23,
     "metadata": {},
     "output_type": "execute_result"
    }
   ],
   "source": [
    "I_AC=a1*b1**3/12 #ism: ** a hatványozás jele\n",
    "I_AC #b1 = 2*a1 automatikus behelyettesítésével (a szimbólumok definiálása miatt, lsd. a dokumentum eleje)"
   ]
  },
  {
   "cell_type": "code",
   "execution_count": 24,
   "metadata": {
    "ExecuteTime": {
     "end_time": "2020-02-21T22:24:37.174920Z",
     "start_time": "2020-02-21T22:24:37.159231Z"
    }
   },
   "outputs": [
    {
     "data": {
      "text/latex": [
       "$\\displaystyle \\frac{2 a_{1}^{3}}{3}$"
      ],
      "text/plain": [
       "2*a1**3/3"
      ]
     },
     "execution_count": 24,
     "metadata": {},
     "output_type": "execute_result"
    }
   ],
   "source": [
    "K_AC=I_AC/(b1/2) #keresztmetszeti tényező értéke a1 függvényében\n",
    "K_AC"
   ]
  },
  {
   "cell_type": "code",
   "execution_count": 25,
   "metadata": {
    "ExecuteTime": {
     "end_time": "2020-02-21T22:24:37.195674Z",
     "start_time": "2020-02-21T22:24:37.178870Z"
    }
   },
   "outputs": [
    {
     "data": {
      "text/latex": [
       "$\\displaystyle 200000.0$"
      ],
      "text/plain": [
       "200000.000000000"
      ]
     },
     "execution_count": 25,
     "metadata": {},
     "output_type": "execute_result"
    }
   ],
   "source": [
    "# Kiszámoljuk a minimálisan szükséges keresztmetszeti tényezőt:\n",
    "K_AC_min=sp.Abs(Mh_ACmax)/σ_meg #sp.Abs(): abszolút érték\n",
    "K_AC_min=K_AC_min.subs(adatok)\n",
    "K_AC_min # mm^3"
   ]
  },
  {
   "cell_type": "markdown",
   "metadata": {},
   "source": [
    "A minimálisan szükséges $a_1$ méret:"
   ]
  },
  {
   "cell_type": "code",
   "execution_count": 26,
   "metadata": {
    "ExecuteTime": {
     "end_time": "2020-02-21T22:24:37.211708Z",
     "start_time": "2020-02-21T22:24:37.198020Z"
    }
   },
   "outputs": [
    {
     "data": {
      "text/latex": [
       "$\\displaystyle 66.943$"
      ],
      "text/plain": [
       "66.943"
      ]
     },
     "execution_count": 26,
     "metadata": {},
     "output_type": "execute_result"
    }
   ],
   "source": [
    "# Kiszámoljuk a1-t a keresztmetszeti tényező értékének átrendezésével:\n",
    "a1_min=sp.root(3/2*K_AC_min,3)  #sp.root(valami,n): valaminek az n. gyöke\n",
    "a1_min.evalf(5) #mm  - 5 értékes jegyre"
   ]
  },
  {
   "cell_type": "markdown",
   "metadata": {},
   "source": [
    "A minimálisan szükséges $b_1$ méret:"
   ]
  },
  {
   "cell_type": "code",
   "execution_count": 27,
   "metadata": {
    "ExecuteTime": {
     "end_time": "2020-02-21T22:24:37.227413Z",
     "start_time": "2020-02-21T22:24:37.213928Z"
    }
   },
   "outputs": [
    {
     "data": {
      "text/latex": [
       "$\\displaystyle 133.89$"
      ],
      "text/plain": [
       "133.89"
      ]
     },
     "execution_count": 27,
     "metadata": {},
     "output_type": "execute_result"
    }
   ],
   "source": [
    "b1.subs(a1,a1_min).evalf(5) #mm"
   ]
  },
  {
   "cell_type": "markdown",
   "metadata": {},
   "source": [
    "### CB szakasz\n",
    "Maximális hajlító igénybevétel:\n",
    "$$M_{\\rm h,CBmax}=M_{\\rm h}(3)$$\n",
    "Keresztmetszeti tényező:\n",
    "$$K_{\\rm CB}=\\frac{I_{\\rm CB}}{\\frac{b_2}{2}}=\\frac{\\frac{a_2 b_2^3}{12}}{\\frac{b_2}{2}}$$\n",
    "Megengedett feszülség:\n",
    "$$\\sigma_{\\rm meg}=\\frac{|M_{\\rm h,CBmax}|}{K_{\\rm CB}}$$\n",
    "Mértékegységek egyeztetése: $M_{\\rm h,CBmax}$ átváltása Nmm-re."
   ]
  },
  {
   "cell_type": "code",
   "execution_count": 28,
   "metadata": {
    "ExecuteTime": {
     "end_time": "2020-02-21T22:24:37.244059Z",
     "start_time": "2020-02-21T22:24:37.230181Z"
    }
   },
   "outputs": [
    {
     "data": {
      "text/latex": [
       "$\\displaystyle -16000000.0$"
      ],
      "text/plain": [
       "-16000000.0000000"
      ]
     },
     "execution_count": 28,
     "metadata": {},
     "output_type": "execute_result"
    }
   ],
   "source": [
    "Mh_CBmax = Mhn.subs(x,3)*1e6 #mértékegység átváltás 1 kNm = 10^6 Nmm -> 1e6 = 10^6\n",
    "Mh_CBmax #Nmm"
   ]
  },
  {
   "cell_type": "code",
   "execution_count": 29,
   "metadata": {
    "ExecuteTime": {
     "end_time": "2020-02-21T22:24:37.264900Z",
     "start_time": "2020-02-21T22:24:37.249155Z"
    }
   },
   "outputs": [
    {
     "data": {
      "text/latex": [
       "$\\displaystyle \\frac{2 a_{2}^{4}}{3}$"
      ],
      "text/plain": [
       "2*a2**4/3"
      ]
     },
     "execution_count": 29,
     "metadata": {},
     "output_type": "execute_result"
    }
   ],
   "source": [
    "I_CB = a2*b2**3/12\n",
    "I_CB #b2 = 2*a2 automatikus behelyettesítésével (a szimbólumok definiálása miatt)"
   ]
  },
  {
   "cell_type": "code",
   "execution_count": 30,
   "metadata": {
    "ExecuteTime": {
     "end_time": "2020-02-21T22:24:37.282785Z",
     "start_time": "2020-02-21T22:24:37.267769Z"
    }
   },
   "outputs": [
    {
     "data": {
      "text/latex": [
       "$\\displaystyle \\frac{2 a_{2}^{3}}{3}$"
      ],
      "text/plain": [
       "2*a2**3/3"
      ]
     },
     "execution_count": 30,
     "metadata": {},
     "output_type": "execute_result"
    }
   ],
   "source": [
    "K_CB=I_CB/(b2/2) #kifejezzük a keresztmetszeti tényezőt a2-vel\n",
    "K_CB"
   ]
  },
  {
   "cell_type": "code",
   "execution_count": 31,
   "metadata": {
    "ExecuteTime": {
     "end_time": "2020-02-21T22:24:37.302997Z",
     "start_time": "2020-02-21T22:24:37.285976Z"
    }
   },
   "outputs": [
    {
     "data": {
      "text/latex": [
       "$\\displaystyle 160000.0$"
      ],
      "text/plain": [
       "160000.000000000"
      ]
     },
     "execution_count": 31,
     "metadata": {},
     "output_type": "execute_result"
    }
   ],
   "source": [
    "#kiszámoljuk a minimális szükséges keresztmetszeti tényezőt\n",
    "K_CB_min=sp.Abs(Mh_CBmax)/σ_meg #sp.Abs(): abszolút érték\n",
    "K_CB_min=K_CB_min.subs(adatok)\n",
    "K_CB_min # mm^3"
   ]
  },
  {
   "cell_type": "markdown",
   "metadata": {},
   "source": [
    "A minimálisan szükséges $a_2$ méret:"
   ]
  },
  {
   "cell_type": "code",
   "execution_count": 32,
   "metadata": {
    "ExecuteTime": {
     "end_time": "2020-02-21T22:24:37.320827Z",
     "start_time": "2020-02-21T22:24:37.305913Z"
    }
   },
   "outputs": [
    {
     "data": {
      "text/latex": [
       "$\\displaystyle 62.145$"
      ],
      "text/plain": [
       "62.145"
      ]
     },
     "execution_count": 32,
     "metadata": {},
     "output_type": "execute_result"
    }
   ],
   "source": [
    "#kiszámoljuk a1-t a keresztmetszeti tényező értékének átrendezésével\n",
    "a2_min=sp.root(3/2*K_CB_min,3)  #sp.root(valami,n): valaminek az n. gyöke\n",
    "a2_min.evalf(5) #mm  - 5 értékes jegyre"
   ]
  },
  {
   "cell_type": "markdown",
   "metadata": {},
   "source": [
    "A minimálisan szükséges $b_2$ méret:"
   ]
  },
  {
   "cell_type": "code",
   "execution_count": 33,
   "metadata": {
    "ExecuteTime": {
     "end_time": "2020-02-21T22:24:37.337317Z",
     "start_time": "2020-02-21T22:24:37.325232Z"
    }
   },
   "outputs": [
    {
     "data": {
      "text/latex": [
       "$\\displaystyle 124.29$"
      ],
      "text/plain": [
       "124.29"
      ]
     },
     "execution_count": 33,
     "metadata": {},
     "output_type": "execute_result"
    }
   ],
   "source": [
    "b2.subs(a2,a2_min).evalf(5) #mm"
   ]
  }
 ],
 "metadata": {
  "kernelspec": {
   "display_name": "Python 3",
   "language": "python",
   "name": "python3"
  },
  "language_info": {
   "codemirror_mode": {
    "name": "ipython",
    "version": 3
   },
   "file_extension": ".py",
   "mimetype": "text/x-python",
   "name": "python",
   "nbconvert_exporter": "python",
   "pygments_lexer": "ipython3",
   "version": "3.7.3"
  },
  "toc": {
   "base_numbering": 1,
   "nav_menu": {},
   "number_sections": true,
   "sideBar": true,
   "skip_h1_title": false,
   "title_cell": "Table of Contents",
   "title_sidebar": "Contents",
   "toc_cell": false,
   "toc_position": {},
   "toc_section_display": true,
   "toc_window_display": false
  }
 },
 "nbformat": 4,
 "nbformat_minor": 2
}
