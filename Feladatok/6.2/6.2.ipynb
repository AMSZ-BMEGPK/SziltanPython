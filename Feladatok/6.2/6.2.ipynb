{
 "cells": [
  {
   "cell_type": "markdown",
   "metadata": {},
   "source": [
    "# Példa 6.2\n",
    "\n",
    "Egy $L=1 \\,\\rm{m}$ hosszú, $d=10 \\,\\rm{mm}$ átmérőjű egyenes rúd végein $F=1 \\,\\rm{kN}$ húzóerő, $M_{1}$ hajlítónyomaték és $M_{2}$ csavarónyomaték működik. Hogyan válasszuk meg az $M_{1}/F$ ill. $M_{2}/F$ arányt, ha azt akarjuk, hogy az egyes terhelések hatására azonos mértékű alakváltozási energia halmozódjon fel a rúdban? Mekkora lesz ebben az esetben (amikor mindhárom igénybevétel működik) a teljes alakváltozási energia?\n",
    "\n",
    "Adatok: \n",
    "$E=200 \\,\\rm{GPa}$, $\\nu=0,3$."
   ]
  },
  {
   "cell_type": "markdown",
   "metadata": {},
   "source": [
    "# Megoldás\n",
    "\n",
    "Szükségünk lesz a `sympy` modulra és a különböző mennyiségek szimbólmaira. A keresztmetszet területe és másodrendű nyomatéka az átmérőből számolható. A nyírási rugalmassági modulus a rugalmassági modulus és a Poisson tényező segítségével határozható meg."
   ]
  },
  {
   "cell_type": "code",
   "execution_count": 1,
   "metadata": {},
   "outputs": [],
   "source": [
    "import sympy as sp\n",
    "sp.init_printing()\n",
    "\n",
    "L, d, F, M1, M2, E, ν, x = sp.symbols(\"L, d, F, M1, M2, E, ν, x\")\n",
    "A = d**2*sp.pi/4\n",
    "I = d**4*sp.pi/64\n",
    "Ip = d**4*sp.pi/32\n",
    "G = E/(2*(1+ν))"
   ]
  },
  {
   "cell_type": "markdown",
   "metadata": {},
   "source": [
    "Megadjuk az adatokat egy listában, hogy egyszerűen behelyettesíthessünk a későbbiekben. Térjünk át a mm-kN-MPa mértékegységekre!"
   ]
  },
  {
   "cell_type": "code",
   "execution_count": 2,
   "metadata": {},
   "outputs": [],
   "source": [
    "L_adat = 1000 #mm\n",
    "d_adat = 10 #mm\n",
    "F_adat = 1 #kN\n",
    "E_adat = 200000 #MPa\n",
    "ν_adat = 0.3 #1\n",
    "adatok = [(L,L_adat),(d,d_adat),(F,F_adat),(E,E_adat),(ν,ν_adat)]"
   ]
  },
  {
   "cell_type": "markdown",
   "metadata": {},
   "source": [
    "A `sympy`-ban az $\\int_{a}^{b} f(x) \\mathrm{d}x$ határozott integrált `integrate(f, (x, a, b))` szintaktikával tudjuk megadni.\n",
    "\n",
    "Normál igénybevétel esetén:"
   ]
  },
  {
   "cell_type": "code",
   "execution_count": 3,
   "metadata": {},
   "outputs": [
    {
     "data": {
      "image/png": "[encoded data removed]",
      "text/latex": [
       "$\\displaystyle \\frac{2 F^{2} L}{\\pi E d^{2}}$"
      ],
      "text/plain": [
       "   2  \n",
       "2⋅F ⋅L\n",
       "──────\n",
       "     2\n",
       "π⋅E⋅d "
      ]
     },
     "execution_count": 3,
     "metadata": {},
     "output_type": "execute_result"
    }
   ],
   "source": [
    "U_N = sp.integrate(F**2/(2*A*E),(x,0,L))\n",
    "U_N"
   ]
  },
  {
   "cell_type": "markdown",
   "metadata": {},
   "source": [
    "#### Hajlítás esetén:"
   ]
  },
  {
   "cell_type": "code",
   "execution_count": 4,
   "metadata": {},
   "outputs": [
    {
     "data": {
      "image/png": "[encoded data removed]",
      "text/latex": [
       "$\\displaystyle \\frac{32 L M_{1}^{2}}{\\pi E d^{4}}$"
      ],
      "text/plain": [
       "       2\n",
       "32⋅L⋅M₁ \n",
       "────────\n",
       "      4 \n",
       " π⋅E⋅d  "
      ]
     },
     "execution_count": 4,
     "metadata": {},
     "output_type": "execute_result"
    }
   ],
   "source": [
    "U_Mh = sp.integrate(M1**2/(2*I*E),(x,0,L))\n",
    "U_Mh"
   ]
  },
  {
   "cell_type": "markdown",
   "metadata": {},
   "source": [
    "Azonos alakváltozási energia esetén: $U_N=U_{Mh}$. Ezt az egyenletet a `sympy`-ban 0-ra rendezve kell megadnunk. Az $M_1/F$ arányt közvetlenül nem tudjuk megkapni, viszont kifejezhetjük $M_1$-t $F$-el."
   ]
  },
  {
   "cell_type": "code",
   "execution_count": 5,
   "metadata": {},
   "outputs": [
    {
     "data": {
      "image/png": "[encoded data removed]",
      "text/latex": [
       "$\\displaystyle \\left[ - \\frac{F d}{4}, \\  \\frac{F d}{4}\\right]$"
      ],
      "text/plain": [
       "⎡-F⋅d   F⋅d⎤\n",
       "⎢─────, ───⎥\n",
       "⎣  4     4 ⎦"
      ]
     },
     "execution_count": 5,
     "metadata": {},
     "output_type": "execute_result"
    }
   ],
   "source": [
    "egyenlet1 = U_N-U_Mh\n",
    "megoldas1 = sp.solve(egyenlet1, M1) #az egyenlet megoldása M1 hajlítónyomatékra\n",
    "megoldas1"
   ]
  },
  {
   "cell_type": "markdown",
   "metadata": {},
   "source": [
    "Ebből kifejezhető:\n",
    "$$\\frac{M_1}{F}=\\pm \\frac {d}{4}.$$"
   ]
  },
  {
   "cell_type": "markdown",
   "metadata": {},
   "source": [
    "A $\\pm$ előjelnek nagy jelentősége nincsen, mivel az alakváltozási energiák számításakor mind $F$, mind $M_1$ négyzetre van emelve."
   ]
  },
  {
   "cell_type": "markdown",
   "metadata": {},
   "source": [
    "#### Csavarás esetén:"
   ]
  },
  {
   "cell_type": "code",
   "execution_count": 6,
   "metadata": {},
   "outputs": [
    {
     "data": {
      "image/png": "[encoded data removed]",
      "text/latex": [
       "$\\displaystyle \\frac{16 L M_{2}^{2} \\left(2 ν + 2\\right)}{\\pi E d^{4}}$"
      ],
      "text/plain": [
       "       2          \n",
       "16⋅L⋅M₂ ⋅(2⋅ν + 2)\n",
       "──────────────────\n",
       "           4      \n",
       "      π⋅E⋅d       "
      ]
     },
     "execution_count": 6,
     "metadata": {},
     "output_type": "execute_result"
    }
   ],
   "source": [
    "U_Mt = sp.integrate(M2**2/(2*Ip*G),(x,0,L))\n",
    "U_Mt"
   ]
  },
  {
   "cell_type": "markdown",
   "metadata": {},
   "source": [
    "Az előzőekhez hasonlóan az $U_N=U_{Mt}$ egyenletet 0-ra rendezve kell megadnunk. Kifejezzük $M_2$-t $F$-el."
   ]
  },
  {
   "cell_type": "code",
   "execution_count": 7,
   "metadata": {},
   "outputs": [
    {
     "data": {
      "image/png": "[encoded data removed]",
      "text/latex": [
       "$\\displaystyle \\left[ - \\frac{F d \\sqrt{\\frac{1}{ν + 1}}}{4}, \\  \\frac{F d \\sqrt{\\frac{1}{ν + 1}}}{4}\\right]$"
      ],
      "text/plain": [
       "⎡         _______           _______⎤\n",
       "⎢        ╱   1             ╱   1   ⎥\n",
       "⎢-F⋅d⋅  ╱  ─────    F⋅d⋅  ╱  ───── ⎥\n",
       "⎢     ╲╱   ν + 1        ╲╱   ν + 1 ⎥\n",
       "⎢─────────────────, ───────────────⎥\n",
       "⎣        4                 4       ⎦"
      ]
     },
     "execution_count": 7,
     "metadata": {},
     "output_type": "execute_result"
    }
   ],
   "source": [
    "egyenlet2 = U_N-U_Mt\n",
    "megoldas2 = sp.solve(egyenlet2, M2) #az egyenlet megoldása M2 csavarónyomatékra\n",
    "megoldas2"
   ]
  },
  {
   "cell_type": "markdown",
   "metadata": {},
   "source": [
    "Ebből kifejezhető:\n",
    "$$\\frac{M_2}{F}=\\pm \\frac {d \\sqrt{\\frac{1}{\\nu+1}}}{4}.$$"
   ]
  },
  {
   "cell_type": "markdown",
   "metadata": {},
   "source": [
    "A $\\pm$ előjelnek nagy jelentősége itt sincsen, mivel az alakváltozási energiák számításakor mind $F$, mind $M_2$ négyzetre van emelve."
   ]
  },
  {
   "cell_type": "markdown",
   "metadata": {},
   "source": [
    "#### Teljes alakváltozási energia:\n",
    "Mivel a $U_N=U_{Mh}=U_{Mt}$, ezért a teljles alakváltozási energia $3U_N$-ként is számítható. Az eredmény mértékegysége kNm (=kJ) lesz."
   ]
  },
  {
   "cell_type": "code",
   "execution_count": 10,
   "metadata": {},
   "outputs": [
    {
     "data": {
      "image/png": "[encoded data removed]",
      "text/latex": [
       "$\\displaystyle 9.5493 \\cdot 10^{-5}$"
      ],
      "text/plain": [
       "9.5493e-5"
      ]
     },
     "execution_count": 10,
     "metadata": {},
     "output_type": "execute_result"
    }
   ],
   "source": [
    "3*U_N.subs(adatok).evalf(5) #kJ"
   ]
  }
 ],
 "metadata": {
  "kernelspec": {
   "display_name": "Python 3",
   "language": "python",
   "name": "python3"
  },
  "language_info": {
   "codemirror_mode": {
    "name": "ipython",
    "version": 3
   },
   "file_extension": ".py",
   "mimetype": "text/x-python",
   "name": "python",
   "nbconvert_exporter": "python",
   "pygments_lexer": "ipython3",
   "version": "3.8.2"
  },
  "toc": {
   "base_numbering": 1,
   "nav_menu": {},
   "number_sections": true,
   "sideBar": true,
   "skip_h1_title": false,
   "title_cell": "Table of Contents",
   "title_sidebar": "Contents",
   "toc_cell": false,
   "toc_position": {},
   "toc_section_display": true,
   "toc_window_display": false
  }
 },
 "nbformat": 4,
 "nbformat_minor": 2
}
