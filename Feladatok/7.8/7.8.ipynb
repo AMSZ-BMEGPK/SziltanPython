{
 "cells": [
  {
   "cell_type": "markdown",
   "metadata": {},
   "source": [
    "# Példa 7.8\n",
    "\n",
    "\n",
    "Hányszor nagyobb erő ébred az alábbi tartó $B$ alátámasztásánál, mint az $A$ vagy \n",
    "$C$ helyen? Rajzoljuk fel a tartó igénybevételi függvényeit paraméteresen! A tartó anyaga és keresztmetszete végig állandó.\n",
    "\n",
    "<img src=\"Fig_7.8.png\" style=\"width: 400px;\">"
   ]
  },
  {
   "cell_type": "markdown",
   "metadata": {},
   "source": [
    "# Megoldás\n",
    "\n",
    "Betöltjük a `sympy` modult. Definiáljuk a szimbólumokat."
   ]
  },
  {
   "cell_type": "code",
   "execution_count": 1,
   "metadata": {
    "ExecuteTime": {
     "end_time": "2020-05-01T08:05:14.677832Z",
     "start_time": "2020-05-01T08:05:13.400180Z"
    }
   },
   "outputs": [],
   "source": [
    "import sympy as sp\n",
    "sp.init_printing()\n",
    "\n",
    "L, p, x, F_A, F_B, F_C = sp.symbols('L, p, x, F_A, F_B, F_C')"
   ]
  },
  {
   "cell_type": "markdown",
   "metadata": {},
   "source": [
    "## $\\frac{F_B}{F_A}$ hányados\n",
    "\n",
    "A feladat statikailag határozatlan. Tegyük határozottá a $B$ alátámasztás eltávolításával és vegyük fel a koordinátarendszert. Ebben az esetben az alakváltozási feltétel:\n",
    "$$\\frac{\\partial U}{\\partial F_B}=0.$$\n",
    "<img src=\"Fig_7.8b.png\" style=\"width: 400px;\">\n",
    "\n",
    "Ekkor $U=U_{Mh}$. A fenti parciális derivált a következő módon írható fel:\n",
    "$$\\frac{\\partial U}{\\partial F_B}=\\frac{1}{IE}\\left(\\int_0^L M_{h1} \\frac{\\partial M_{h1}}{\\partial F_B}\\mathrm{d}x + \\int_L^{2L} M_{h2} \\frac{\\partial M_{h2}}{\\partial F_B}\\mathrm{d}x\\right)=0.$$"
   ]
  },
  {
   "cell_type": "markdown",
   "metadata": {},
   "source": [
    "Írjuk fel a reakcióerőket $F_B$ függvényeként. Ehhez először írjuk fel a nyomatéki egyenletet az $A$ pontra, majd fejezzük ki belőle $F_C$-t. Az egyenletet 0-ra rendezve írjuk fel."
   ]
  },
  {
   "cell_type": "code",
   "execution_count": 2,
   "metadata": {
    "ExecuteTime": {
     "end_time": "2020-05-01T08:05:15.296074Z",
     "start_time": "2020-05-01T08:05:14.679791Z"
    }
   },
   "outputs": [
    {
     "data": {
      "image/png": "[encoded data removed]",
      "text/latex": [
       "$\\displaystyle - \\frac{F_{B}}{2} + L p$"
      ],
      "text/plain": [
       "  F_B      \n",
       "- ─── + L⋅p\n",
       "   2       "
      ]
     },
     "execution_count": 2,
     "metadata": {},
     "output_type": "execute_result"
    }
   ],
   "source": [
    "MA_egy = -p*2*L*L+F_B*L+F_C*2*L\n",
    "FC_kif = sp.solve(MA_egy,F_C) #kifejezzük F_C-t, a megoldást egy 1 elemű listában kapjuk\n",
    "FC_kif = FC_kif[0] #kiszedjük a listából a megoldást\n",
    "FC_kif"
   ]
  },
  {
   "cell_type": "markdown",
   "metadata": {},
   "source": [
    "Írjuk fel a függőleges irányú erőegyensúlyt. Fejezzük ki $F_A$-t, behelyettesítve $F_C$-re a fent kifejezést."
   ]
  },
  {
   "cell_type": "code",
   "execution_count": 3,
   "metadata": {
    "ExecuteTime": {
     "end_time": "2020-05-01T08:05:15.796862Z",
     "start_time": "2020-05-01T08:05:15.300093Z"
    }
   },
   "outputs": [
    {
     "data": {
      "image/png": "[encoded data removed]",
      "text/latex": [
       "$\\displaystyle - \\frac{F_{B}}{2} + L p$"
      ],
      "text/plain": [
       "  F_B      \n",
       "- ─── + L⋅p\n",
       "   2       "
      ]
     },
     "execution_count": 3,
     "metadata": {},
     "output_type": "execute_result"
    }
   ],
   "source": [
    "Fy_egy = F_A+F_B+F_C-p*2*L\n",
    "Fy_egy = Fy_egy.subs(F_C,FC_kif) #behelyettsítjük az F_C-re fentebb kiszámolt kifejezést\n",
    "FA_kif = sp.solve(Fy_egy,F_A) #kifejezzük F_A-t\n",
    "FA_kif = FA_kif[0]\n",
    "FA_kif"
   ]
  },
  {
   "cell_type": "markdown",
   "metadata": {},
   "source": [
    "Azonos eredményt kaptunk, mint $F_C$-re. Ez nem meglepő, hiszen a rendszer szimmetrikus.\n",
    "\n",
    "Írjuk fel a hajlítónyomatéki függvényeket, szintén $F_B$-vel kifejezve!"
   ]
  },
  {
   "cell_type": "code",
   "execution_count": 4,
   "metadata": {
    "ExecuteTime": {
     "end_time": "2020-05-01T08:05:16.845738Z",
     "start_time": "2020-05-01T08:05:15.800033Z"
    }
   },
   "outputs": [
    {
     "data": {
      "image/png": "[encoded data removed]",
      "text/latex": [
       "$\\displaystyle \\frac{F_{B} x}{2} - L p x + \\frac{p x^{2}}{2}$"
      ],
      "text/plain": [
       "                   2\n",
       "F_B⋅x           p⋅x \n",
       "───── - L⋅p⋅x + ────\n",
       "  2              2  "
      ]
     },
     "metadata": {},
     "output_type": "display_data"
    },
    {
     "data": {
      "image/png": "[encoded data removed]",
      "text/latex": [
       "$\\displaystyle \\frac{x}{2}$"
      ],
      "text/plain": [
       "x\n",
       "─\n",
       "2"
      ]
     },
     "execution_count": 4,
     "metadata": {},
     "output_type": "execute_result"
    }
   ],
   "source": [
    "Mh1 = -F_A*x+p*x**2/2 #a hajlítónyomatéki függvény F_A-val kifejezve\n",
    "Mh1 = Mh1.subs(F_A,FA_kif)\n",
    "display(Mh1.expand()) #.expand(): zárójelek kibontása az olvashatóbb eredményért\n",
    "#parciális derivált:\n",
    "parcMh1 = Mh1.diff(F_B)\n",
    "parcMh1"
   ]
  },
  {
   "cell_type": "code",
   "execution_count": 5,
   "metadata": {
    "ExecuteTime": {
     "end_time": "2020-05-01T08:05:17.899514Z",
     "start_time": "2020-05-01T08:05:16.848124Z"
    }
   },
   "outputs": [
    {
     "data": {
      "image/png": "[encoded data removed]",
      "text/latex": [
       "$\\displaystyle F_{B} L - \\frac{F_{B} x}{2} - L p x + \\frac{p x^{2}}{2}$"
      ],
      "text/plain": [
       "                           2\n",
       "        F_B⋅x           p⋅x \n",
       "F_B⋅L - ───── - L⋅p⋅x + ────\n",
       "          2              2  "
      ]
     },
     "metadata": {},
     "output_type": "display_data"
    },
    {
     "data": {
      "image/png": "[encoded data removed]",
      "text/latex": [
       "$\\displaystyle L - \\frac{x}{2}$"
      ],
      "text/plain": [
       "    x\n",
       "L - ─\n",
       "    2"
      ]
     },
     "execution_count": 5,
     "metadata": {},
     "output_type": "execute_result"
    }
   ],
   "source": [
    "Mh2 = Mh1-F_B*(x-L)\n",
    "display(Mh2.expand()) #.expand(): zárójelek kibontása az olvashatóbb eredményért\n",
    "#parciális derivált:\n",
    "parcMh2 = Mh2.diff(F_B)\n",
    "parcMh2"
   ]
  },
  {
   "cell_type": "markdown",
   "metadata": {},
   "source": [
    "Írjuk be a feladat elején szereplő integrálba a kiszámolt eredményeket. A `sympy`-ban integrálni az `integrate(kifejezes, valtozo)` utasítással tudunk. Határozott integrál számításához meg kell adnunk a határokat is a következő szintaktikával: `integrate(kifejezes, (valtozo, also_hatar, felso_hatar))`."
   ]
  },
  {
   "cell_type": "code",
   "execution_count": 6,
   "metadata": {
    "ExecuteTime": {
     "end_time": "2020-05-01T08:05:18.664845Z",
     "start_time": "2020-05-01T08:05:17.901465Z"
    }
   },
   "outputs": [
    {
     "data": {
      "image/png": "[encoded data removed]",
      "text/latex": [
       "$\\displaystyle \\frac{L^{3} \\left(4 F_{B} - 5 L p\\right)}{24}$"
      ],
      "text/plain": [
       " 3                \n",
       "L ⋅(4⋅F_B - 5⋅L⋅p)\n",
       "──────────────────\n",
       "        24        "
      ]
     },
     "execution_count": 6,
     "metadata": {},
     "output_type": "execute_result"
    }
   ],
   "source": [
    "integr = sp.integrate(Mh1*parcMh1,(x,0,L)) + sp.integrate(Mh2*parcMh2,(x,L,2*L))\n",
    "integr = integr.simplify() #.simplify(): egyszerűsítések elvégzése\n",
    "integr"
   ]
  },
  {
   "cell_type": "markdown",
   "metadata": {},
   "source": [
    "A fenti egyenletet kell megoldanuk $F_B$-re."
   ]
  },
  {
   "cell_type": "code",
   "execution_count": 7,
   "metadata": {
    "ExecuteTime": {
     "end_time": "2020-05-01T08:05:19.210140Z",
     "start_time": "2020-05-01T08:05:18.667929Z"
    }
   },
   "outputs": [
    {
     "data": {
      "image/png": "[encoded data removed]",
      "text/latex": [
       "$\\displaystyle \\frac{5 L p}{4}$"
      ],
      "text/plain": [
       "5⋅L⋅p\n",
       "─────\n",
       "  4  "
      ]
     },
     "execution_count": 7,
     "metadata": {},
     "output_type": "execute_result"
    }
   ],
   "source": [
    "FB_sol = sp.solve(integr,F_B)\n",
    "FB_sol = FB_sol[0]\n",
    "FB_sol"
   ]
  },
  {
   "cell_type": "markdown",
   "metadata": {},
   "source": [
    "Ezt írjuk vissza $F_A=F_C$-be."
   ]
  },
  {
   "cell_type": "code",
   "execution_count": 8,
   "metadata": {
    "ExecuteTime": {
     "end_time": "2020-05-01T08:05:20.078871Z",
     "start_time": "2020-05-01T08:05:19.217791Z"
    }
   },
   "outputs": [
    {
     "data": {
      "image/png": "[encoded data removed]",
      "text/latex": [
       "$\\displaystyle \\frac{3 L p}{8}$"
      ],
      "text/plain": [
       "3⋅L⋅p\n",
       "─────\n",
       "  8  "
      ]
     },
     "metadata": {},
     "output_type": "display_data"
    },
    {
     "data": {
      "image/png": "[encoded data removed]",
      "text/latex": [
       "$\\displaystyle \\frac{3 L p}{8}$"
      ],
      "text/plain": [
       "3⋅L⋅p\n",
       "─────\n",
       "  8  "
      ]
     },
     "execution_count": 8,
     "metadata": {},
     "output_type": "execute_result"
    }
   ],
   "source": [
    "FA_sol = FA_kif.subs(F_B,FB_sol)\n",
    "display(FA_sol)\n",
    "FC_sol = FC_kif.subs(F_B,FB_sol)\n",
    "FC_sol"
   ]
  },
  {
   "cell_type": "markdown",
   "metadata": {},
   "source": [
    "Kiszámítva az $\\frac{F_B}{F_A}$ hányados:"
   ]
  },
  {
   "cell_type": "code",
   "execution_count": 9,
   "metadata": {
    "ExecuteTime": {
     "end_time": "2020-05-01T08:05:20.563027Z",
     "start_time": "2020-05-01T08:05:20.081160Z"
    }
   },
   "outputs": [
    {
     "data": {
      "image/png": "[encoded data removed]",
      "text/latex": [
       "$\\displaystyle \\frac{10}{3}$"
      ],
      "text/plain": [
       "10/3"
      ]
     },
     "execution_count": 9,
     "metadata": {},
     "output_type": "execute_result"
    }
   ],
   "source": [
    "FB_sol/FA_sol"
   ]
  },
  {
   "cell_type": "markdown",
   "metadata": {},
   "source": [
    "## Igénybevételi függvények\n",
    "\n",
    "A korábbi ábrázolásokhoz hasonlóan szakaszosan folytonos függvényt az `sp.Piecewise` segítségével definiálhatunk. A szabadtest ábra, immár a kiszámolt értékekkel:\n",
    "<img src=\"Fig_7.8c.png\" style=\"width: 600px;\">"
   ]
  },
  {
   "cell_type": "markdown",
   "metadata": {},
   "source": [
    "Nyíró igénybevétel: $V(x)$."
   ]
  },
  {
   "cell_type": "code",
   "execution_count": 10,
   "metadata": {
    "ExecuteTime": {
     "end_time": "2020-05-01T08:05:21.006786Z",
     "start_time": "2020-05-01T08:05:20.566230Z"
    }
   },
   "outputs": [
    {
     "data": {
      "image/png": "[encoded data removed]",
      "text/latex": [
       "$\\displaystyle \\begin{cases} \\frac{3 L p}{8} - p x & \\text{for}\\: L > x \\\\\\frac{13 L p}{8} - p x & \\text{for}\\: x < 2 L \\end{cases}$"
      ],
      "text/plain": [
       "⎧3⋅L⋅p                    \n",
       "⎪───── - p⋅x    for L > x \n",
       "⎪  8                      \n",
       "⎨                         \n",
       "⎪13⋅L⋅p                   \n",
       "⎪────── - p⋅x  for x < 2⋅L\n",
       "⎩  8                      "
      ]
     },
     "execution_count": 10,
     "metadata": {},
     "output_type": "execute_result"
    }
   ],
   "source": [
    "Vx = sp.Piecewise((FA_sol-x*p, x<L),(FA_sol-x*p+FB_sol, x<2*L))\n",
    "Vx"
   ]
  },
  {
   "cell_type": "markdown",
   "metadata": {},
   "source": [
    "Hajlító igénybevétel: $M_h(x)$. Felhasználjuk a korábbi eredményeket."
   ]
  },
  {
   "cell_type": "code",
   "execution_count": 11,
   "metadata": {
    "ExecuteTime": {
     "end_time": "2020-05-01T08:05:21.507972Z",
     "start_time": "2020-05-01T08:05:21.008863Z"
    }
   },
   "outputs": [
    {
     "data": {
      "image/png": "[encoded data removed]",
      "text/latex": [
       "$\\displaystyle \\begin{cases} \\frac{x \\left(F_{B} - 2 L p + p x\\right)}{2} & \\text{for}\\: L > x \\\\F_{B} L - \\frac{F_{B} x}{2} - L p x + \\frac{p x^{2}}{2} & \\text{for}\\: x < 2 L \\end{cases}$"
      ],
      "text/plain": [
       "⎧   x⋅(F_B - 2⋅L⋅p + p⋅x)                 \n",
       "⎪   ─────────────────────       for L > x \n",
       "⎪             2                           \n",
       "⎪                                         \n",
       "⎨                           2             \n",
       "⎪        F_B⋅x           p⋅x              \n",
       "⎪F_B⋅L - ───── - L⋅p⋅x + ────  for x < 2⋅L\n",
       "⎪          2              2               \n",
       "⎩                                         "
      ]
     },
     "execution_count": 11,
     "metadata": {},
     "output_type": "execute_result"
    }
   ],
   "source": [
    "Mhx = sp.Piecewise((Mh1.simplify(),x<L),(Mh2.simplify(),x<2*L))\n",
    "Mhx"
   ]
  },
  {
   "cell_type": "markdown",
   "metadata": {},
   "source": [
    "### Ábrázolás\n",
    "\n",
    "Betöltjük a `matplotlib`-et és a `linspace`-t."
   ]
  },
  {
   "cell_type": "code",
   "execution_count": 12,
   "metadata": {
    "ExecuteTime": {
     "end_time": "2020-05-01T08:05:22.078001Z",
     "start_time": "2020-05-01T08:05:21.510348Z"
    }
   },
   "outputs": [],
   "source": [
    "import matplotlib.pyplot as plt\n",
    "from numpy import linspace"
   ]
  },
  {
   "cell_type": "markdown",
   "metadata": {},
   "source": [
    "Láthatjuk, hogy az $x$ koordinátán kívül az $L$ és $p$ is benne marad az igénybevételi függvények kifejezéseiben. Mivel plotolni csak konkrét számokkal tudunk, ezért ezeknek szükséges valamilyen önkényes (de fizikailag értelmes) értéket adnunk. Ez nem befolyásolja az ábrák jelleghelyességét. Itt most $L=1 \\, \\rm{m}$-t és $p=1\\,\\rm{\\frac{N}{m}}$-t választunk."
   ]
  },
  {
   "cell_type": "code",
   "execution_count": 13,
   "metadata": {
    "ExecuteTime": {
     "end_time": "2020-05-01T08:05:23.870390Z",
     "start_time": "2020-05-01T08:05:22.079524Z"
    }
   },
   "outputs": [
    {
     "data": {
      "image/png": "[encoded data removed]",
      "text/latex": [
       "$\\displaystyle \\begin{cases} \\frac{3}{8} - x & \\text{for}\\: x < 1 \\\\\\frac{13}{8} - x & \\text{for}\\: x < 2 \\end{cases}$"
      ],
      "text/plain": [
       "⎧3/8 - x   for x < 1\n",
       "⎨                   \n",
       "⎩13/8 - x  for x < 2"
      ]
     },
     "metadata": {},
     "output_type": "display_data"
    },
    {
     "data": {
      "image/png": "[encoded data removed]",
      "text/plain": [
       "<Figure size 432x288 with 1 Axes>"
      ]
     },
     "metadata": {
      "needs_background": "light"
     },
     "output_type": "display_data"
    }
   ],
   "source": [
    "L_val = 1\n",
    "p_val = 1\n",
    "xs = linspace(0,2*L_val,501) #felveszünk 501 pontot a 2L távolságon\n",
    "Vx_konkret = Vx.subs([(L,L_val),(p,p_val)])\n",
    "display(Vx_konkret)\n",
    "\n",
    "Vxs = [float(Vx_konkret.subs(x,xi)) for xi in xs] #kiszámoljuk V(x) értékeit az adott x értékeken, \n",
    "                                                  #és egyből 'float'-tá alakítjuk őket\n",
    "plt.plot(xs, Vxs, lw = 3) # A V(x) függvény képének létrehozása 3-as vonalvastagsággal (linewidth = lw).\n",
    "plt.fill_between(xs, Vxs, alpha=0.2) #Kiszínezi a függvény alatti területet\n",
    "plt.xlabel(\"$x$ (m)\") #x tengelyhez tartozó tengelyfelirat\n",
    "plt.ylabel(\"$V(x)$ (N)\") #y tengelyhez tartozó tengelyfelirat\n",
    "plt.grid() #rács\n",
    "plt.show() #kirajzolás"
   ]
  },
  {
   "cell_type": "markdown",
   "metadata": {},
   "source": [
    "A hajlítónyomatéki függvényben $F_B$ is szerepel. $F_B$-t már kifejeztük $L$ és $p$ függvényeként, viszont a behelyettesítéseknél figyelnünk kell arra, hogy először $F_B$ helyére írjuk be az $L$-t és $p$-t tartalmazó kifejezést, és csak utána ezek konkrét értékeit. Ellenkező esetben $L$-t és $p$-t tartalmazó eredményt kapunk, és újra be kell helyettesítenünk a konkrét értékeket."
   ]
  },
  {
   "cell_type": "code",
   "execution_count": 14,
   "metadata": {
    "ExecuteTime": {
     "end_time": "2020-05-01T08:05:24.537074Z",
     "start_time": "2020-05-01T08:05:23.874469Z"
    }
   },
   "outputs": [
    {
     "data": {
      "image/png": "[encoded data removed]",
      "text/latex": [
       "$\\displaystyle \\begin{cases} \\frac{x \\left(x - \\frac{3}{4}\\right)}{2} & \\text{for}\\: x < 1 \\\\\\frac{x^{2}}{2} - \\frac{13 x}{8} + \\frac{5}{4} & \\text{for}\\: x < 2 \\end{cases}$"
      ],
      "text/plain": [
       "⎧ x⋅(x - 3/4)            \n",
       "⎪ ───────────   for x < 1\n",
       "⎪      2                 \n",
       "⎪                        \n",
       "⎨ 2                      \n",
       "⎪x    13⋅x   5           \n",
       "⎪── - ──── + ─  for x < 2\n",
       "⎪2     8     4           \n",
       "⎩                        "
      ]
     },
     "metadata": {},
     "output_type": "display_data"
    }
   ],
   "source": [
    "Mhx_konkret = Mhx.subs([(F_B,FB_sol),(L,L_val),(p,p_val)])\n",
    "display(Mhx_konkret)"
   ]
  },
  {
   "cell_type": "code",
   "execution_count": 15,
   "metadata": {
    "ExecuteTime": {
     "end_time": "2020-05-01T08:05:25.785646Z",
     "start_time": "2020-05-01T08:05:24.539790Z"
    }
   },
   "outputs": [
    {
     "data": {
      "image/png": "[encoded data removed]",
      "text/plain": [
       "<Figure size 432x288 with 1 Axes>"
      ]
     },
     "metadata": {
      "needs_background": "light"
     },
     "output_type": "display_data"
    }
   ],
   "source": [
    "Mhxs = [float(Mhx_konkret.subs(x,xi)) for xi in xs] #kiszámoljuk V(x) értékeit az adott x értékeken, \n",
    "                                                    #és egyből 'float'-tá alakítjuk őket\n",
    "plt.plot(xs, Mhxs, lw = 3) # A V(x) függvény képének létrehozása 3-as vonalvastagsággal (linewidth = lw).\n",
    "plt.fill_between(xs, Mhxs, alpha=0.2) #Kiszínezi a függvény alatti területet\n",
    "plt.xlabel(\"$x$ (m)\") #x tengelyhez tartozó tengelyfelirat\n",
    "plt.ylabel(\"$M_h(x)$ (N)\") #y tengelyhez tartozó tengelyfelirat\n",
    "plt.grid() #rács\n",
    "plt.show() #kirajzolás"
   ]
  }
 ],
 "metadata": {
  "kernelspec": {
   "display_name": "Python 3",
   "language": "python",
   "name": "python3"
  },
  "language_info": {
   "codemirror_mode": {
    "name": "ipython",
    "version": 3
   },
   "file_extension": ".py",
   "mimetype": "text/x-python",
   "name": "python",
   "nbconvert_exporter": "python",
   "pygments_lexer": "ipython3",
   "version": "3.8.2"
  },
  "toc": {
   "base_numbering": 1,
   "nav_menu": {},
   "number_sections": true,
   "sideBar": true,
   "skip_h1_title": false,
   "title_cell": "Table of Contents",
   "title_sidebar": "Contents",
   "toc_cell": false,
   "toc_position": {},
   "toc_section_display": true,
   "toc_window_display": false
  }
 },
 "nbformat": 4,
 "nbformat_minor": 2
}
