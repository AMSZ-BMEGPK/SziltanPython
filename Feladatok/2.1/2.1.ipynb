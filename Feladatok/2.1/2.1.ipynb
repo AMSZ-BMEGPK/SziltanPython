{
 "cells": [
  {
   "cell_type": "markdown",
   "metadata": {},
   "source": [
    "# Példa 2.1\n",
    "\n",
    "\n",
    "Az alábbi egyenes rúd terhelése az $\\textbf{A}$ keresztmetszetben működő $M_{1}=2 \\, \\rm{Nm}$ nyomaték.\n",
    " A tartó hajlítómerevsége $150 \\, \\rm{Nm^{2}}$, az $\\textbf{AB}$ és $\\textbf{BC}$ szakaszok hossza $L=1\\,\\rm{m}$.\n",
    " \n",
    "Feladatok:\n",
    "\n",
    "a) Határozzuk meg a $\\textbf{BC}$ szakaszon a maximális lehajlás értékét és helyét; \n",
    "\n",
    "b) Számítsuk ki az $\\textbf{A}$, $\\textbf{B}$ és $\\textbf{C}$ keresztmetszetekben a szögelfordulásokat és az $\\textbf{A}$ helyen a lehajlás értékét!\n",
    "\n",
    "c) Mekkora $d$ átmérőjű kör keresztmetszetű acélból ($E=200\\,\\rm{GPa}$) készítsük a tartót ha azt szeretnék, hogy az $\\textbf{A}$ keresztmetszet lehajlása $10\\, \\rm{mm}$ legyen?\n",
    "\n",
    "\n",
    "\n",
    "<img src=\"Fig_2.1.png\" style=\"width: 400px;\">"
   ]
  },
  {
   "cell_type": "markdown",
   "metadata": {},
   "source": [
    "# Megoldás\n",
    "\n",
    "Szükségünk lesz a `sympy` modulra. Definiáljuk a szimbólumokat, az adatokat megadjuk és listába tesszük a könnyebb behelyettesítés miatt. A hajlítómerevséget IE-vel jelöljük."
   ]
  },
  {
   "cell_type": "code",
   "execution_count": 1,
   "metadata": {
    "ExecuteTime": {
     "end_time": "2020-04-16T15:47:35.865897Z",
     "start_time": "2020-04-16T15:47:34.080575Z"
    }
   },
   "outputs": [],
   "source": [
    "import sympy as sp\n",
    "sp.init_printing()\n",
    "\n",
    "M1, L, IE, E, x = sp.symbols('M1, L, IE, E, x')\n",
    "\n",
    "M1_adat = 2 #Nm\n",
    "L_adat = 1 #m\n",
    "IE_adat = 150 #Nm^2\n",
    "E_adat = 200e9 #Pa\n",
    "\n",
    "adatok = [(M1,M1_adat),(L,L_adat),(IE,IE_adat),(E,E_adat)]\n"
   ]
  },
  {
   "cell_type": "markdown",
   "metadata": {},
   "source": [
    "#### A reakcióerők kiszámítása:\n",
    "\n",
    "Írjuk fel a $\\textbf{C}$ pontra a nyomaték egyensúly egyenletét, majd a rúdra a függőleges ($y$) erők egyensúlyát:\n",
    "$$M_1+L F_{By}=0,$$\n",
    "$$F_{By}+F_{Cy}=0.$$\n"
   ]
  },
  {
   "cell_type": "code",
   "execution_count": 2,
   "metadata": {
    "ExecuteTime": {
     "end_time": "2020-04-16T15:47:35.879150Z",
     "start_time": "2020-04-16T15:47:35.873807Z"
    }
   },
   "outputs": [],
   "source": [
    "FBy = M1/L\n",
    "FCy = -FBy"
   ]
  },
  {
   "cell_type": "markdown",
   "metadata": {},
   "source": [
    "#### Differenciálegyenlet\n",
    "\n",
    "Válasszunk egy koordináta rendszert a differenciálegyenlet felírásához!\n",
    "<img src=\"Fig_2.1b.png\" style=\"width: 400px;\">\n",
    "\n",
    "A hajlító nyomatéki függvény két szakaszból áll:\n",
    "$$M_{h1}(x)=\\frac{M_1}{L}x,\\; \\rm{ha} \\; 0\\le x < L,$$\n",
    "\n",
    "$$M_{h2}(x)=M_1,\\; \\rm{ha} \\; L\\le x \\le 2L.$$"
   ]
  },
  {
   "cell_type": "code",
   "execution_count": 3,
   "metadata": {
    "ExecuteTime": {
     "end_time": "2020-04-16T15:47:35.902346Z",
     "start_time": "2020-04-16T15:47:35.885504Z"
    }
   },
   "outputs": [],
   "source": [
    "Mh1 = M1/L*x\n",
    "Mh2 = M1"
   ]
  },
  {
   "cell_type": "markdown",
   "metadata": {},
   "source": [
    "##### I. szakasz\n",
    "\n",
    "A rugalmas szál differenciálegyenlete az I. szakaszon:\n",
    "$$-IE w_1''=M_{h1}.$$\n",
    "\n",
    "A `sympy` számára $w$-t nem adhatjuk meg egyszerű szimbólumként, ugyanis a szimbólumok (ismeretlen) konkrét értékeket jelölnek (ezeket nem tudjuk rendesen deriválni). Függvényeket a következő szintaktikával kell definiálni: `fuggveny=sp.Function('fuggveny')(valtozo)`.\n",
    "\n",
    "Függvényeket `.diff(valtozo, N)` szintaktikával deriválhatunk `valtozo` szerint `N`-szer. (Az `N=1`-t nem kell kiírni.)\n",
    "\n",
    "A fenti egyenletet 0-ra rendezve adjuk meg a programban. "
   ]
  },
  {
   "cell_type": "code",
   "execution_count": 4,
   "metadata": {
    "ExecuteTime": {
     "end_time": "2020-04-16T15:47:36.749920Z",
     "start_time": "2020-04-16T15:47:35.910362Z"
    },
    "scrolled": true
   },
   "outputs": [
    {
     "data": {
      "image/png": "[encoded data removed]",
      "text/latex": [
       "$\\displaystyle - IE \\frac{d^{2}}{d x^{2}} \\operatorname{w_{1}}{\\left(x \\right)} - \\frac{M_{1} x}{L}$"
      ],
      "text/plain": [
       "       2              \n",
       "      d           M₁⋅x\n",
       "- IE⋅───(w₁(x)) - ────\n",
       "       2           L  \n",
       "     dx               "
      ]
     },
     "execution_count": 4,
     "metadata": {},
     "output_type": "execute_result"
    }
   ],
   "source": [
    "w1 = sp.Function('w1')(x) #megadjuk w1-t, mint x ismeretlen függvényét\n",
    "\n",
    "diffegy1 = -Mh1-IE*w1.diff(x,2)\n",
    "diffegy1"
   ]
  },
  {
   "cell_type": "markdown",
   "metadata": {},
   "source": [
    "Mivel ez egy nagyon egyszerű differenciálegyenlet, ezért a $w_1(x)$-et megkaphatjuk az $-IE w_1''=M_{h1}$ egyenlet kétszeri integrálásával.\n",
    "\n",
    "Megjegyzés: akár a két integrálást manuálisan is megcsinálhatjuk, de ekkor az integrálási konstansokat nem adja hozzá a `sympy`, ezt nekünk kell megtenni:"
   ]
  },
  {
   "cell_type": "code",
   "execution_count": 5,
   "metadata": {
    "ExecuteTime": {
     "end_time": "2020-04-16T15:47:37.570627Z",
     "start_time": "2020-04-16T15:47:36.757166Z"
    }
   },
   "outputs": [
    {
     "data": {
      "image/png": "[encoded data removed]",
      "text/latex": [
       "$\\displaystyle C_{1} - \\frac{M_{1} x^{2}}{2 IE L}$"
      ],
      "text/plain": [
       "         2 \n",
       "     M₁⋅x  \n",
       "C₁ - ──────\n",
       "     2⋅IE⋅L"
      ]
     },
     "execution_count": 5,
     "metadata": {},
     "output_type": "execute_result"
    }
   ],
   "source": [
    "temp=sp.integrate(-Mh1/IE,x) + sp.Symbol('C_1')\n",
    "temp"
   ]
  },
  {
   "cell_type": "code",
   "execution_count": 6,
   "metadata": {
    "ExecuteTime": {
     "end_time": "2020-04-16T15:47:38.414335Z",
     "start_time": "2020-04-16T15:47:37.574682Z"
    },
    "scrolled": true
   },
   "outputs": [
    {
     "data": {
      "image/png": "[encoded data removed]",
      "text/latex": [
       "$\\displaystyle C_{1} x + C_{2} - \\frac{M_{1} x^{3}}{6 IE L}$"
      ],
      "text/plain": [
       "                3 \n",
       "            M₁⋅x  \n",
       "C₁⋅x + C₂ - ──────\n",
       "            6⋅IE⋅L"
      ]
     },
     "execution_count": 6,
     "metadata": {},
     "output_type": "execute_result"
    }
   ],
   "source": [
    "sp.integrate(temp,x) + sp.Symbol('C_2')"
   ]
  },
  {
   "cell_type": "markdown",
   "metadata": {},
   "source": [
    "Ha szükségünk van a $C_n$ integrálási konstansokra akkor érdemes a `dsolve`-ot használni, mert az automatikusan kezeli őket.\n",
    "\n",
    "A differenciálegyenleteket a `dsolve(diffegyenlet,fuggveny)` utasítással tudjuk megoldani."
   ]
  },
  {
   "cell_type": "code",
   "execution_count": 7,
   "metadata": {
    "ExecuteTime": {
     "end_time": "2020-04-16T15:47:40.718004Z",
     "start_time": "2020-04-16T15:47:38.418683Z"
    }
   },
   "outputs": [
    {
     "data": {
      "image/png": "[encoded data removed]",
      "text/latex": [
       "$\\displaystyle \\operatorname{w_{1}}{\\left(x \\right)} = C_{1} + C_{2} x - \\frac{M_{1} x^{3}}{6 IE L}$"
      ],
      "text/plain": [
       "                        3 \n",
       "                    M₁⋅x  \n",
       "w₁(x) = C₁ + C₂⋅x - ──────\n",
       "                    6⋅IE⋅L"
      ]
     },
     "execution_count": 7,
     "metadata": {},
     "output_type": "execute_result"
    }
   ],
   "source": [
    "dsolu1 = sp.dsolve(diffegy1,w1)\n",
    "dsolu1"
   ]
  },
  {
   "cell_type": "markdown",
   "metadata": {},
   "source": [
    "Ne ijedjünk meg, ha a `dsolve` $C_n$-es tagokat a megszokottól eltérő számozással kapjuk meg.\n",
    "A kapott megoldást kezelhetnénk algebrai egyenletként és a peremfeltételeket beírva megkaphatnánk $C_1$-t és $C_2$-t.\n",
    "Ennél egyszerűbb, ha a `dsolve`-nak adjuk meg a peremfeltételeket. \n",
    "\n",
    "A szintaktikát egy pédával mutatjuk be. Az $f(x)$ függvényhez akarjuk megadni az $f(x_0)=y_0$ és $f''(x_1)=y_1$ peremfeltételeket. Ekkor a peremfeltételeket leíró struktúra: `{f.subs(x,x0): y0, f(x).diff(x,2).subs(x, x1): y2}`. Ezt a `dsolve`-nak a `dsolve(diffegenlet,fuggveny, ics={...})` szintaktikával adhatjuk meg, ahol ics (initial conditions) a kezdeti értékek, és peremfeltételek ( a különbségről majd matekból, most peremfeltétel van).\n",
    "\n",
    "$w_1(x)$-nek a következő peremfeltételeket kell teljesítenie:\n",
    "$$w_1(0)=0,$$\n",
    "$$w_1(L)=0.$$"
   ]
  },
  {
   "cell_type": "code",
   "execution_count": 8,
   "metadata": {
    "ExecuteTime": {
     "end_time": "2020-04-16T15:47:43.079929Z",
     "start_time": "2020-04-16T15:47:40.728014Z"
    }
   },
   "outputs": [
    {
     "data": {
      "image/png": "[encoded data removed]",
      "text/latex": [
       "$\\displaystyle \\operatorname{w_{1}}{\\left(x \\right)} = \\frac{L M_{1} x}{6 IE} - \\frac{M_{1} x^{3}}{6 IE L}$"
      ],
      "text/plain": [
       "                     3 \n",
       "        L⋅M₁⋅x   M₁⋅x  \n",
       "w₁(x) = ────── - ──────\n",
       "         6⋅IE    6⋅IE⋅L"
      ]
     },
     "execution_count": 8,
     "metadata": {},
     "output_type": "execute_result"
    }
   ],
   "source": [
    "peremf1 = {w1.subs(x,0):0,w1.subs(x,L):0}\n",
    "pfsolu1 = sp.dsolve(diffegy1,w1,ics=peremf1)\n",
    "pfsolu1"
   ]
  },
  {
   "cell_type": "markdown",
   "metadata": {},
   "source": [
    "A maximális elmozduláshoz ennek a függvénynek a szélsőértékére van szükségünk . Ezt ott találhatjuk, ahol a deriváltja (a szögelfordulási függvény - $\\varphi_1(x)$ - értéke) zérus.\n",
    "\n",
    "A `pfsolu1` nem egy egyszerű kifejezés, hanem egy `sympy` `Equation` (egyenlet), aminek bal oldala `w1(x)`, a jobb oldala a számunkra fontos kifejezés. A jobb oldalt az `.rhs` (right hand side) utasítással kérhetjük ki. (Hasonlóan az `.lhs` utasítás a bal oldalt adja.)"
   ]
  },
  {
   "cell_type": "code",
   "execution_count": 9,
   "metadata": {
    "ExecuteTime": {
     "end_time": "2020-04-16T15:47:43.908433Z",
     "start_time": "2020-04-16T15:47:43.087162Z"
    }
   },
   "outputs": [
    {
     "data": {
      "image/png": "[encoded data removed]",
      "text/latex": [
       "$\\displaystyle \\frac{L M_{1}}{6 IE} - \\frac{M_{1} x^{2}}{2 IE L}$"
      ],
      "text/plain": [
       "           2 \n",
       "L⋅M₁   M₁⋅x  \n",
       "──── - ──────\n",
       "6⋅IE   2⋅IE⋅L"
      ]
     },
     "execution_count": 9,
     "metadata": {},
     "output_type": "execute_result"
    }
   ],
   "source": [
    "jobboldal1 = pfsolu1.rhs\n",
    "φ1 = jobboldal1.diff(x) #\\varphi + tab\n",
    "φ1"
   ]
  },
  {
   "cell_type": "markdown",
   "metadata": {},
   "source": [
    "Ennek az egyenletnek keressük a zérushelyét. Ez algebrai egyenlet, amit a `solve` paranccsal oldhatunk meg."
   ]
  },
  {
   "cell_type": "code",
   "execution_count": 10,
   "metadata": {
    "ExecuteTime": {
     "end_time": "2020-04-16T15:47:44.722737Z",
     "start_time": "2020-04-16T15:47:43.913572Z"
    }
   },
   "outputs": [
    {
     "data": {
      "image/png": "[encoded data removed]",
      "text/latex": [
       "$\\displaystyle \\left[ - \\frac{\\sqrt{3} L}{3}, \\  \\frac{\\sqrt{3} L}{3}\\right]$"
      ],
      "text/plain": [
       "⎡-√3⋅L   √3⋅L⎤\n",
       "⎢──────, ────⎥\n",
       "⎣  3      3  ⎦"
      ]
     },
     "execution_count": 10,
     "metadata": {},
     "output_type": "execute_result"
    }
   ],
   "source": [
    "zerushely = sp.solve(φ1,x)\n",
    "zerushely"
   ]
  },
  {
   "cell_type": "markdown",
   "metadata": {},
   "source": [
    "Nekünk csak a pozitív gyök kell (negatív $x$ irányban nincs rúd...). Így megkapjuk a maximális elmozdulás helyét, amit célszerű numerikusan kiértékelnünk."
   ]
  },
  {
   "cell_type": "code",
   "execution_count": 11,
   "metadata": {
    "ExecuteTime": {
     "end_time": "2020-04-16T15:47:45.530858Z",
     "start_time": "2020-04-16T15:47:44.726621Z"
    }
   },
   "outputs": [
    {
     "name": "stdout",
     "output_type": "stream",
     "text": [
      "Maximális elmozdulás helye C-től számítva [m]:\n"
     ]
    },
    {
     "data": {
      "image/png": "[encoded data removed]",
      "text/latex": [
       "$\\displaystyle 0.57735$"
      ],
      "text/plain": [
       "0.57735"
      ]
     },
     "execution_count": 11,
     "metadata": {},
     "output_type": "execute_result"
    }
   ],
   "source": [
    "valodigyok = zerushely[1]\n",
    "print(\"Maximális elmozdulás helye C-től számítva [m]:\")\n",
    "valodigyok.subs(adatok).evalf(5) #behelyettesítés, kiértékelés 5 értékesjegyre"
   ]
  },
  {
   "cell_type": "markdown",
   "metadata": {},
   "source": [
    "Ezt behelyettesítve $w_1(x)$-be kapjuk a maximális elmozdulás értékét."
   ]
  },
  {
   "cell_type": "code",
   "execution_count": 12,
   "metadata": {
    "ExecuteTime": {
     "end_time": "2020-04-16T15:47:46.359653Z",
     "start_time": "2020-04-16T15:47:45.534269Z"
    }
   },
   "outputs": [
    {
     "name": "stdout",
     "output_type": "stream",
     "text": [
      "Maximális elmozdulás mértéke [m]:\n"
     ]
    },
    {
     "data": {
      "image/png": "[encoded data removed]",
      "text/latex": [
       "$\\displaystyle 0.00085533$"
      ],
      "text/plain": [
       "0.00085533"
      ]
     },
     "execution_count": 12,
     "metadata": {},
     "output_type": "execute_result"
    }
   ],
   "source": [
    "maxelmozd = jobboldal1.subs(x,valodigyok).subs(adatok)\n",
    "print(\"Maximális elmozdulás mértéke [m]:\")\n",
    "maxelmozd.evalf(5)"
   ]
  },
  {
   "cell_type": "markdown",
   "metadata": {},
   "source": [
    "Ki tudjuk számítani a szögelfordulásokat a $\\textbf{C}$ és $\\textbf{B}$ pontokban, ha $x=0$-t és $x=L$-t helyettesítünk $\\varphi_1(x)$-be. A numerikus értékeket az adatok behelyettesítése után kaphatjuk meg. Ezeket célszerű átváltanunk radiánról fokba (*180/pi)."
   ]
  },
  {
   "cell_type": "code",
   "execution_count": 13,
   "metadata": {
    "ExecuteTime": {
     "end_time": "2020-04-16T15:47:47.811518Z",
     "start_time": "2020-04-16T15:47:46.363994Z"
    }
   },
   "outputs": [
    {
     "name": "stdout",
     "output_type": "stream",
     "text": [
      "Elfordulás a C pontban [deg]:\n"
     ]
    },
    {
     "data": {
      "image/png": "[encoded data removed]",
      "text/latex": [
       "$\\displaystyle 0.12732$"
      ],
      "text/plain": [
       "0.12732"
      ]
     },
     "metadata": {},
     "output_type": "display_data"
    },
    {
     "name": "stdout",
     "output_type": "stream",
     "text": [
      "Elfordulás a B pontban [deg]:\n"
     ]
    },
    {
     "data": {
      "image/png": "[encoded data removed]",
      "text/latex": [
       "$\\displaystyle -0.25465$"
      ],
      "text/plain": [
       "-0.25465"
      ]
     },
     "execution_count": 13,
     "metadata": {},
     "output_type": "execute_result"
    }
   ],
   "source": [
    "φC = φ1.subs(x,0)\n",
    "φB = φ1.subs(x,L)\n",
    "\n",
    "print(\"Elfordulás a C pontban [deg]:\")\n",
    "display(φC.subs(adatok)*180/sp.pi.evalf(5))\n",
    "\n",
    "print(\"Elfordulás a B pontban [deg]:\")\n",
    "φB.subs(adatok)*180/sp.pi.evalf(5)"
   ]
  },
  {
   "cell_type": "markdown",
   "metadata": {},
   "source": [
    "##### II. szakasz\n",
    "\n",
    "A rugalmas szál differenciálegyenlete a II. szakaszon:\n",
    "$$-IE w_2''=M_{h2}.$$\n",
    "\n",
    "Az egyenletet az I. szakaszhoz hasonlóan adhatjuk meg."
   ]
  },
  {
   "cell_type": "code",
   "execution_count": 14,
   "metadata": {
    "ExecuteTime": {
     "end_time": "2020-04-16T15:47:48.548663Z",
     "start_time": "2020-04-16T15:47:47.815797Z"
    }
   },
   "outputs": [
    {
     "data": {
      "image/png": "[encoded data removed]",
      "text/latex": [
       "$\\displaystyle - IE \\frac{d^{2}}{d x^{2}} \\operatorname{w_{2}}{\\left(x \\right)} - M_{1}$"
      ],
      "text/plain": [
       "       2            \n",
       "      d             \n",
       "- IE⋅───(w₂(x)) - M₁\n",
       "       2            \n",
       "     dx             "
      ]
     },
     "execution_count": 14,
     "metadata": {},
     "output_type": "execute_result"
    }
   ],
   "source": [
    "w2 = sp.Function('w2')(x) #megadjuk w2-t, mint x ismeretlen függvényét\n",
    "\n",
    "diffegy2 = -Mh2-IE*w2.diff(x,2)\n",
    "diffegy2"
   ]
  },
  {
   "cell_type": "markdown",
   "metadata": {},
   "source": [
    "Az illesztési feltétel:\n",
    "$$w_1'(L)=w_2'(L).$$\n",
    "Peremfeltétel:\n",
    "$$w_2(L)=0.$$\n",
    "\n",
    "$w_1'(L)$-t már kiszámítottuk, mint $\\varphi_1(L)$."
   ]
  },
  {
   "cell_type": "code",
   "execution_count": 15,
   "metadata": {
    "ExecuteTime": {
     "end_time": "2020-04-16T15:47:51.280183Z",
     "start_time": "2020-04-16T15:47:48.556224Z"
    }
   },
   "outputs": [
    {
     "data": {
      "image/png": "[encoded data removed]",
      "text/latex": [
       "$\\displaystyle \\operatorname{w_{2}}{\\left(x \\right)} = \\frac{M_{1} \\left(- L^{2} + x \\left(4 L - 3 x\\right)\\right)}{6 IE}$"
      ],
      "text/plain": [
       "           ⎛   2                ⎞\n",
       "        M₁⋅⎝- L  + x⋅(4⋅L - 3⋅x)⎠\n",
       "w₂(x) = ─────────────────────────\n",
       "                   6⋅IE          "
      ]
     },
     "execution_count": 15,
     "metadata": {},
     "output_type": "execute_result"
    }
   ],
   "source": [
    "peremf2 = {w2.subs(x,L):0,w2.diff(x).subs(x,L):φB}\n",
    "pfsolu2 = sp.dsolve(diffegy2,w2,ics=peremf2)\n",
    "pfsolu2.simplify() #egyszerűsítve jelenítjük meg a megoldást, hogy olvashatóbb legyen"
   ]
  },
  {
   "cell_type": "markdown",
   "metadata": {},
   "source": [
    "Az elfordulási függvényt ($\\varphi_2(x)$) itt is az előbbi megoldás jobb oldalának deriváltjaként kaphatjuk."
   ]
  },
  {
   "cell_type": "code",
   "execution_count": 16,
   "metadata": {
    "ExecuteTime": {
     "end_time": "2020-04-16T15:47:52.077294Z",
     "start_time": "2020-04-16T15:47:51.283414Z"
    }
   },
   "outputs": [
    {
     "data": {
      "image/png": "[encoded data removed]",
      "text/latex": [
       "$\\displaystyle - \\frac{M_{1} x}{2 IE} + \\frac{\\frac{2 L M_{1}}{3} - \\frac{M_{1} x}{2}}{IE}$"
      ],
      "text/plain": [
       "         2⋅L⋅M₁   M₁⋅x\n",
       "         ────── - ────\n",
       "  M₁⋅x     3       2  \n",
       "- ──── + ─────────────\n",
       "  2⋅IE         IE     "
      ]
     },
     "execution_count": 16,
     "metadata": {},
     "output_type": "execute_result"
    }
   ],
   "source": [
    "jobboldal2 = pfsolu2.rhs\n",
    "φ2 = jobboldal2.diff(x) #\\varphi + tab\n",
    "φ2"
   ]
  },
  {
   "cell_type": "markdown",
   "metadata": {},
   "source": [
    "$w_2(x)$-be és $\\varphi_2(x)$-be $x=2L$-t helyettesítve megkaphatjuk az elmozdulást és elfordulást az $\\textbf{A}$ pontban. A numerikus értékeket az adatok behelyettesítése után kaphatjuk meg. Az elfordulást célszerű átváltanunk radiánról fokba (*180/pi)."
   ]
  },
  {
   "cell_type": "code",
   "execution_count": 17,
   "metadata": {
    "ExecuteTime": {
     "end_time": "2020-04-16T15:47:53.804955Z",
     "start_time": "2020-04-16T15:47:52.083502Z"
    }
   },
   "outputs": [
    {
     "name": "stdout",
     "output_type": "stream",
     "text": [
      "Elmozdulás az A pontban [m]:\n"
     ]
    },
    {
     "data": {
      "image/png": "[encoded data removed]",
      "text/latex": [
       "$\\displaystyle -0.011111$"
      ],
      "text/plain": [
       "-0.011111"
      ]
     },
     "metadata": {},
     "output_type": "display_data"
    },
    {
     "name": "stdout",
     "output_type": "stream",
     "text": [
      "Elfordulás az A pontban [deg]:\n"
     ]
    },
    {
     "data": {
      "image/png": "[encoded data removed]",
      "text/latex": [
       "$\\displaystyle -1.0186$"
      ],
      "text/plain": [
       "-1.0186"
      ]
     },
     "execution_count": 17,
     "metadata": {},
     "output_type": "execute_result"
    }
   ],
   "source": [
    "wA = jobboldal2.subs(x,2*L)\n",
    "φA = φ2.subs(x,2*L)\n",
    "\n",
    "print(\"Elmozdulás az A pontban [m]:\")\n",
    "display(wA.subs(adatok).evalf(5))\n",
    "\n",
    "print(\"Elfordulás az A pontban [deg]:\")\n",
    "φA.subs(adatok)*180/sp.pi.evalf(5)"
   ]
  },
  {
   "cell_type": "markdown",
   "metadata": {},
   "source": [
    "#### Ábrázolás\n",
    "\n",
    "Szükségünk lesz a `matplotlib` modulra, a `linspace` és `rad2deg` (radiánt fokba váltó) függvényre."
   ]
  },
  {
   "cell_type": "code",
   "execution_count": 18,
   "metadata": {
    "ExecuteTime": {
     "end_time": "2020-04-16T15:47:54.636684Z",
     "start_time": "2020-04-16T15:47:53.810196Z"
    }
   },
   "outputs": [],
   "source": [
    "import matplotlib.pyplot as plt\n",
    "from numpy import linspace, rad2deg"
   ]
  },
  {
   "cell_type": "markdown",
   "metadata": {},
   "source": [
    "A kapott $w_1(x)$ és $w_2(x)$ függvények szakaszonként adják a teljes rúdon értelmezett lehajlásfüggvényt. A `Piecewise` segítségével a kódban is megtehetjük ezt - így egyszerre tudunk a rúd teljes hosszán behelyettesíteni."
   ]
  },
  {
   "cell_type": "code",
   "execution_count": 19,
   "metadata": {
    "ExecuteTime": {
     "end_time": "2020-04-16T15:47:55.426230Z",
     "start_time": "2020-04-16T15:47:54.640402Z"
    }
   },
   "outputs": [
    {
     "data": {
      "image/png": "[encoded data removed]",
      "text/latex": [
       "$\\displaystyle \\begin{cases} - \\frac{x^{3}}{450} + \\frac{x}{450} & \\text{for}\\: x < 1 \\\\\\frac{x \\left(\\frac{4}{3} - x\\right)}{150} - \\frac{1}{450} & \\text{for}\\: x < 2 \\end{cases}$"
      ],
      "text/plain": [
       "⎧       3                    \n",
       "⎪      x     x               \n",
       "⎪   - ─── + ───     for x < 1\n",
       "⎪     450   450              \n",
       "⎨                            \n",
       "⎪x⋅(4/3 - x)    1            \n",
       "⎪─────────── - ───  for x < 2\n",
       "⎪    150       450           \n",
       "⎩                            "
      ]
     },
     "execution_count": 19,
     "metadata": {},
     "output_type": "execute_result"
    }
   ],
   "source": [
    "w = sp.Piecewise((jobboldal1,x<L),(jobboldal2,x<2*L))\n",
    "w = w.subs(adatok)\n",
    "w"
   ]
  },
  {
   "cell_type": "markdown",
   "metadata": {},
   "source": [
    "Hozzuk létre az $x$ adatsort és végezzük el a behelyettesítést!"
   ]
  },
  {
   "cell_type": "code",
   "execution_count": 20,
   "metadata": {
    "ExecuteTime": {
     "end_time": "2020-04-16T15:47:56.039668Z",
     "start_time": "2020-04-16T15:47:55.431405Z"
    }
   },
   "outputs": [],
   "source": [
    "xdata = linspace(2*L_adat,0,201)\n",
    "wdata = [w.subs(x,xc) for xc in xdata] #a Piecewise használata nélkül csak külön-külön tudnánk\n",
    "                                       #létrehozni ezeket az adatsorokat w1-re és w2-re"
   ]
  },
  {
   "cell_type": "markdown",
   "metadata": {},
   "source": [
    "Mivel az $x$ tengelyünk balra mutat, az ábrát \"fordítva\" kapjuk meg a feladatban megadotthoz képest. Ez matematikailag helyes, de zavaró lehet."
   ]
  },
  {
   "cell_type": "code",
   "execution_count": 21,
   "metadata": {
    "ExecuteTime": {
     "end_time": "2020-04-16T15:47:57.505078Z",
     "start_time": "2020-04-16T15:47:56.043574Z"
    }
   },
   "outputs": [
    {
     "data": {
      "image/png": "[encoded data removed]",
      "text/plain": [
       "<Figure size 432x288 with 1 Axes>"
      ]
     },
     "metadata": {
      "needs_background": "light"
     },
     "output_type": "display_data"
    }
   ],
   "source": [
    "plt.plot(xdata,wdata)\n",
    "plt.grid()\n",
    "plt.xlabel(\"x [m]\")\n",
    "plt.ylabel(r\"$w_1(x) \\,\\rm{[m]}$\")\n",
    "plt.show()"
   ]
  },
  {
   "cell_type": "markdown",
   "metadata": {},
   "source": [
    "Ha az ábrázolás során az $x$ tengelyt $\\textbf{A}$-ból szeretnénk indítani, hogy jobbra mutasson, akkor meg kell fordítanunk az `xdata` vagy `wdata` válozóban az elemek sorrendjét. Ezt legtömörebben egy indexelési \"trükkel\" tehetjük meg: `[::-1]`.\n",
    "\n",
    "A `[::-1]` magyarázata érdeklődőknek:\n",
    "\n",
    "Legyen `l=list(range(11))` azaz `l==[0, 1, 2, 3, 4, 5, 6, 7, 8, 9, 10]`.\n",
    "\n",
    "`Python`-ban egy listát indexelhetünk a következő módon: `l[kezdet:vege:lepes]`. Ez a szintaktika a `kezdet`-től számítva `vege-1`-ig számol, `lepes` lépésközzel. A `l[0:10]` a `[0, 1, 2, 3, 4, 5, 6, 7, 8, 9]`-t adja (a vége-index nincs benne!). Az `l[0:10:2]` a `[0, 2, 4, 6, 8]`-t adja, azaz az előbbi eredménynek minden második elemét.\n",
    "\n",
    "Ha negatív lépésközt adunk meg, akkor visszafélé megyünk és az első két index értelme felcserélődik. Azaz `l[10:0:-1]`-el kapjuk a listát visszafelé: `[10, 9, 8, 7, 6, 5, 4, 3, 2, 1]`. Ha kihagyjuk az első két indexet (a kettőspontot ekkor is ki kell tenni!), akkor a Python automatikusan az első illetve utolsó indexet írja be a kihagyott index helyére. Így adódik a `[::-1]` írásmód."
   ]
  },
  {
   "cell_type": "code",
   "execution_count": 22,
   "metadata": {
    "ExecuteTime": {
     "end_time": "2020-04-16T15:47:57.991174Z",
     "start_time": "2020-04-16T15:47:57.509417Z"
    }
   },
   "outputs": [
    {
     "data": {
      "image/png": "[encoded data removed]",
      "text/plain": [
       "<Figure size 432x288 with 1 Axes>"
      ]
     },
     "metadata": {
      "needs_background": "light"
     },
     "output_type": "display_data"
    }
   ],
   "source": [
    "plt.plot(xdata[::-1],wdata)\n",
    "plt.grid()\n",
    "plt.xlabel(\"x [m]\")\n",
    "plt.ylabel(r\"$w_1(x) \\,\\rm{[m]}$\")\n",
    "plt.show()"
   ]
  },
  {
   "cell_type": "markdown",
   "metadata": {},
   "source": [
    "#### Az $\\textbf{A}$ pont lehajlásának beállítása\n",
    "\n",
    "Írjuk ki a $w_2(x)$ függvény értékét az $\\textbf{A}$ helyen! Ezt a feladat korábbi részében a `wA` változóba mentettük el."
   ]
  },
  {
   "cell_type": "code",
   "execution_count": 23,
   "metadata": {
    "ExecuteTime": {
     "end_time": "2020-04-16T15:47:58.783134Z",
     "start_time": "2020-04-16T15:47:57.997763Z"
    }
   },
   "outputs": [
    {
     "data": {
      "image/png": "[encoded data removed]",
      "text/latex": [
       "$\\displaystyle - \\frac{5 L^{2} M_{1}}{6 IE}$"
      ],
      "text/plain": [
       "    2    \n",
       "-5⋅L ⋅M₁ \n",
       "─────────\n",
       "   6⋅IE  "
      ]
     },
     "execution_count": 23,
     "metadata": {},
     "output_type": "execute_result"
    }
   ],
   "source": [
    "wA"
   ]
  },
  {
   "cell_type": "markdown",
   "metadata": {},
   "source": [
    "A $d$ átmérő a hajlítómerevséget (IE) fogja befolyásolni, azaz ki kell fejeznünk IE-t a fenti összefüggésből. A kívánt lehajlás értéke $w_A=-10 \\, \\rm{mm}$. Ezt a kódban méterben kell megadnunk, mert korábban is méterben számoltunk.\n",
    "\n",
    "IE kifejezéséhez a $w_2(A)=w_A$ egyenletet oldjuk meg IE-re. A megoldást egy egy elemű listában kapjuk."
   ]
  },
  {
   "cell_type": "code",
   "execution_count": 24,
   "metadata": {
    "ExecuteTime": {
     "end_time": "2020-04-16T15:48:00.405752Z",
     "start_time": "2020-04-16T15:47:58.787405Z"
    }
   },
   "outputs": [
    {
     "data": {
      "image/png": "[encoded data removed]",
      "text/latex": [
       "$\\displaystyle \\left[ \\frac{250 L^{2} M_{1}}{3}\\right]$"
      ],
      "text/plain": [
       "⎡     2   ⎤\n",
       "⎢250⋅L ⋅M₁⎥\n",
       "⎢─────────⎥\n",
       "⎣    3    ⎦"
      ]
     },
     "metadata": {},
     "output_type": "display_data"
    },
    {
     "data": {
      "image/png": "[encoded data removed]",
      "text/latex": [
       "$\\displaystyle \\frac{250 L^{2} M_{1}}{3}$"
      ],
      "text/plain": [
       "     2   \n",
       "250⋅L ⋅M₁\n",
       "─────────\n",
       "    3    "
      ]
     },
     "execution_count": 24,
     "metadata": {},
     "output_type": "execute_result"
    }
   ],
   "source": [
    "wA_kivant = sp.Rational(-1,100) #m (rational: közönséges törtet készít)\n",
    "IE_sol = sp.solve(wA-wA_kivant,IE)\n",
    "display(IE_sol) #IE_sol egy 1 elemű lista\n",
    "IE_kif = IE_sol[0] #kiszedjük a lista elemét egy új változóba\n",
    "IE_kif"
   ]
  },
  {
   "cell_type": "markdown",
   "metadata": {},
   "source": [
    "Ebbe a kifejezésbe behelyettesíve megkapjuk a kívánt IE értéket."
   ]
  },
  {
   "cell_type": "code",
   "execution_count": 25,
   "metadata": {
    "ExecuteTime": {
     "end_time": "2020-04-16T15:48:01.221602Z",
     "start_time": "2020-04-16T15:48:00.409584Z"
    }
   },
   "outputs": [
    {
     "data": {
      "image/png": "[encoded data removed]",
      "text/latex": [
       "$\\displaystyle \\frac{500}{3}$"
      ],
      "text/plain": [
       "500/3"
      ]
     },
     "execution_count": 25,
     "metadata": {},
     "output_type": "execute_result"
    }
   ],
   "source": [
    "IE_kif.subs(adatok) #Nm^2"
   ]
  },
  {
   "cell_type": "markdown",
   "metadata": {},
   "source": [
    "Tudjuk, hogy:\n",
    "$$IE=I\\cdot E,$$\n",
    "valamint kör keresztmetszetnél:\n",
    "$$I=\\frac{d^4 \\pi}{64}.$$"
   ]
  },
  {
   "cell_type": "code",
   "execution_count": 26,
   "metadata": {
    "ExecuteTime": {
     "end_time": "2020-04-16T15:48:02.116630Z",
     "start_time": "2020-04-16T15:48:01.226104Z"
    }
   },
   "outputs": [
    {
     "data": {
      "image/png": "[encoded data removed]",
      "text/latex": [
       "$\\displaystyle 8.3333 \\cdot 10^{-10}$"
      ],
      "text/plain": [
       "8.3333e-10"
      ]
     },
     "execution_count": 26,
     "metadata": {},
     "output_type": "execute_result"
    }
   ],
   "source": [
    "I_kivant = IE_kif/E\n",
    "I_kivant.subs(adatok).evalf(5)"
   ]
  },
  {
   "cell_type": "markdown",
   "metadata": {},
   "source": [
    "A fentebbi összefüggésből $d$ kifejezhető:\n",
    "$$d=\\sqrt[4]{\\frac{64I}{\\pi}}$$"
   ]
  },
  {
   "cell_type": "code",
   "execution_count": 27,
   "metadata": {
    "ExecuteTime": {
     "end_time": "2020-04-16T15:48:03.052268Z",
     "start_time": "2020-04-16T15:48:02.119851Z"
    }
   },
   "outputs": [
    {
     "name": "stdout",
     "output_type": "stream",
     "text": [
      "A szükséges átmérő [m]:\n"
     ]
    },
    {
     "data": {
      "image/png": "[encoded data removed]",
      "text/latex": [
       "$\\displaystyle 0.011415$"
      ],
      "text/plain": [
       "0.011415"
      ]
     },
     "execution_count": 27,
     "metadata": {},
     "output_type": "execute_result"
    }
   ],
   "source": [
    "d = sp.root(64*I_kivant/sp.pi,4)#I_kivant\n",
    "print(\"A szükséges átmérő [m]:\")\n",
    "d.subs(adatok).evalf(5) #m"
   ]
  }
 ],
 "metadata": {
  "kernelspec": {
   "display_name": "Python 3",
   "language": "python",
   "name": "python3"
  },
  "language_info": {
   "codemirror_mode": {
    "name": "ipython",
    "version": 3
   },
   "file_extension": ".py",
   "mimetype": "text/x-python",
   "name": "python",
   "nbconvert_exporter": "python",
   "pygments_lexer": "ipython3",
   "version": "3.8.2"
  },
  "toc": {
   "base_numbering": 1,
   "nav_menu": {},
   "number_sections": true,
   "sideBar": true,
   "skip_h1_title": false,
   "title_cell": "Table of Contents",
   "title_sidebar": "Contents",
   "toc_cell": false,
   "toc_position": {},
   "toc_section_display": true,
   "toc_window_display": false
  }
 },
 "nbformat": 4,
 "nbformat_minor": 2
}
