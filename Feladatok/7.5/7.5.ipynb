{
 "cells": [
  {
   "cell_type": "markdown",
   "metadata": {},
   "source": [
    "# Példa 7.5\n",
    "Határozzuk meg az alábbi kéttámaszú tartónál a keresztmetszet szögelfordulsását a B\n",
    "helyen! A tartó keresztmetszete $a$ élhosszúságú négyzet.\n",
    "<img src=\"./Fig_7.5.PNG\" style=\"width: 400px;\">"
   ]
  },
  {
   "cell_type": "code",
   "execution_count": 1,
   "metadata": {
    "ExecuteTime": {
     "end_time": "2020-04-24T13:22:00.783972Z",
     "start_time": "2020-04-24T13:22:00.423618Z"
    }
   },
   "outputs": [],
   "source": [
    "import sympy as sp\n",
    "\n",
    "# Kezeljük a feladatot elsősorban paraméteres formában, majd a legvégén helyettesítsük be a numerikus adatokat!\n",
    "# Vezessük be az 'M' virtuális nyomatékot a kérdéses 'B' pontban\n",
    "Fa,Fb,M,p,L,x,I,E = sp.symbols('Fa,Fb,M,p,L,x,I,E')"
   ]
  },
  {
   "cell_type": "markdown",
   "metadata": {},
   "source": [
    "A rekacióegyenleteket az alábbi ábra alapján írjuk fel:\n",
    "<img src=\"./Fig_7.5B.PNG\" style=\"width: 400px;\">"
   ]
  },
  {
   "cell_type": "code",
   "execution_count": 2,
   "metadata": {
    "ExecuteTime": {
     "end_time": "2020-04-24T13:22:01.231883Z",
     "start_time": "2020-04-24T13:22:00.786978Z"
    }
   },
   "outputs": [
    {
     "data": {
      "text/latex": [
       "$\\displaystyle \\frac{L p}{2} - \\frac{M}{3 L}$"
      ],
      "text/plain": [
       "L*p/2 - M/(3*L)"
      ]
     },
     "metadata": {},
     "output_type": "display_data"
    }
   ],
   "source": [
    "# Nyomatéki egyensúly az 'A' pontra (csak az egyenlet bal oldala)\n",
    "eq1 = -Fb*3*L-M+p*3*L/2*L\n",
    "sol1 = sp.solve(eq1,Fb)\n",
    "\n",
    "# Kénytelenek leszünk indexekkel megkülönböztetni a változókat a számítás\n",
    "# különböző lépéseiben. Ez biztosítja a notebook újrafuttathatóságát.\n",
    "Fb_sol = sol1[0]\n",
    "display(Fb_sol)"
   ]
  },
  {
   "cell_type": "code",
   "execution_count": 3,
   "metadata": {
    "ExecuteTime": {
     "end_time": "2020-04-24T13:22:01.285494Z",
     "start_time": "2020-04-24T13:22:01.233909Z"
    }
   },
   "outputs": [
    {
     "data": {
      "text/latex": [
       "$\\displaystyle L p + \\frac{M}{3 L}$"
      ],
      "text/plain": [
       "L*p + M/(3*L)"
      ]
     },
     "metadata": {},
     "output_type": "display_data"
    }
   ],
   "source": [
    "# Erőegyensúly az 'y' irányban (csak az egyenlet bal oldala)\n",
    "eq2 = Fa+Fb_sol-p*3*L/2\n",
    "sol2 = sp.solve(eq2,Fa)\n",
    "Fa_sol = sol2[0]\n",
    "display(Fa_sol)"
   ]
  },
  {
   "cell_type": "code",
   "execution_count": 4,
   "metadata": {
    "ExecuteTime": {
     "end_time": "2020-04-24T13:22:01.304926Z",
     "start_time": "2020-04-24T13:22:01.288080Z"
    }
   },
   "outputs": [
    {
     "data": {
      "text/latex": [
       "$\\displaystyle - M - x \\left(\\frac{L p}{2} - \\frac{M}{3 L}\\right) + \\frac{p x^{3}}{18 L}$"
      ],
      "text/plain": [
       "-M - x*(L*p/2 - M/(3*L)) + p*x**3/(18*L)"
      ]
     },
     "metadata": {},
     "output_type": "display_data"
    }
   ],
   "source": [
    "# A reakciók paraméteres ismeretében a hajlítónyomatéki függvény:\n",
    "Mh = -M-Fb_sol*x+p*x**3/(18*L)\n",
    "display(Mh)"
   ]
  },
  {
   "cell_type": "code",
   "execution_count": 5,
   "metadata": {
    "ExecuteTime": {
     "end_time": "2020-04-24T13:22:01.327835Z",
     "start_time": "2020-04-24T13:22:01.307245Z"
    }
   },
   "outputs": [
    {
     "data": {
      "text/latex": [
       "$\\displaystyle -1 + \\frac{x}{3 L}$"
      ],
      "text/plain": [
       "-1 + x/(3*L)"
      ]
     },
     "metadata": {},
     "output_type": "display_data"
    }
   ],
   "source": [
    "# Felírjuk továbbá a munkatételhez szükséges deriváltját a hajlítónyomatéki függvénynek\n",
    "# A sympy automatikusan elvégzi a már definiált kifejezések behelyettesítését (pl: Fb-ét)\n",
    "dMh_dM = sp.diff(Mh,M)\n",
    "display(dMh_dM)"
   ]
  },
  {
   "cell_type": "markdown",
   "metadata": {},
   "source": [
    "A rúd keresztmetszeteinek szögelfordulását felírhatjuk a Castigliano munkatétel segítségével:\n",
    "$$\\varphi=\\dfrac{1}{IE}\\int_0^{3L}M_h\\dfrac{\\partial Mh}{\\partial M}dx$$"
   ]
  },
  {
   "cell_type": "code",
   "execution_count": 6,
   "metadata": {
    "ExecuteTime": {
     "end_time": "2020-04-24T13:22:01.501928Z",
     "start_time": "2020-04-24T13:22:01.331138Z"
    }
   },
   "outputs": [
    {
     "data": {
      "text/latex": [
       "$\\displaystyle \\frac{21 L^{3} p}{40 E I}$"
      ],
      "text/plain": [
       "21*L**3*p/(40*E*I)"
      ]
     },
     "execution_count": 6,
     "metadata": {},
     "output_type": "execute_result"
    }
   ],
   "source": [
    "# Elvégezzük a határozott integrálást a már ismert módon (lsd. pl. 7.1. feladat)\n",
    "ϕ = sp.integrate(Mh*dMh_dM/(I*E),(x,0,3*L))\n",
    "# Az integrálást követően elhagyhatjuk a virtuális nyomatékot\n",
    "ϕ = ϕ.subs(M,0)\n",
    "ϕ"
   ]
  },
  {
   "cell_type": "code",
   "execution_count": 7,
   "metadata": {
    "ExecuteTime": {
     "end_time": "2020-04-24T13:22:01.526491Z",
     "start_time": "2020-04-24T13:22:01.506235Z"
    }
   },
   "outputs": [
    {
     "data": {
      "text/latex": [
       "$\\displaystyle 0.04921875$"
      ],
      "text/plain": [
       "0.0492187500000000"
      ]
     },
     "execution_count": 7,
     "metadata": {},
     "output_type": "execute_result"
    }
   ],
   "source": [
    "# Beírhatjuk a kapott eredménybe a feladat konkrét numerikus értékeit\n",
    "a = 20e-3 # m\n",
    "I_n = a**4/12 # m^4\n",
    "# Ha több paraméter értékét szeretnénk egy 'subs' kifejezésen belül megadni, akkor azokat egy listába kell rendezzük\n",
    "ϕ_n = ϕ.subs([(L,0.5),(p,2000),(E,200e9),(I,I_n)])\n",
    "ϕ_n # rad"
   ]
  }
 ],
 "metadata": {
  "kernelspec": {
   "display_name": "Python 3",
   "language": "python",
   "name": "python3"
  },
  "language_info": {
   "codemirror_mode": {
    "name": "ipython",
    "version": 3
   },
   "file_extension": ".py",
   "mimetype": "text/x-python",
   "name": "python",
   "nbconvert_exporter": "python",
   "pygments_lexer": "ipython3",
   "version": "3.8.2"
  },
  "toc": {
   "base_numbering": 1,
   "nav_menu": {},
   "number_sections": true,
   "sideBar": true,
   "skip_h1_title": false,
   "title_cell": "Table of Contents",
   "title_sidebar": "Contents",
   "toc_cell": false,
   "toc_position": {},
   "toc_section_display": true,
   "toc_window_display": false
  }
 },
 "nbformat": 4,
 "nbformat_minor": 4
}
