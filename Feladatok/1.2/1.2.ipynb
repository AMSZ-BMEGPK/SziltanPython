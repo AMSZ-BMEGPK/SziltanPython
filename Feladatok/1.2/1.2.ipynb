{
 "cells": [
  {
   "cell_type": "markdown",
   "metadata": {},
   "source": [
    "# Példa 1.2\n",
    "Egy $D=20 \\, \\rm{mm}$ átmérőjű acél rudat az ábra szerinti erők terhelik. Az acél rugalmassági modulusza $E=200 \\, \\rm{GPa}$.  \n",
    "- Számítsuk ki a végkeresztmetszet elmozdulását!\n",
    "- Határozzuk meg az egyes szakaszokon ébredő feszültségeket!\n",
    "\n",
    "<img src=\"Fig_1.2.PNG\" style=\"width: 400px;\">"
   ]
  },
  {
   "cell_type": "markdown",
   "metadata": {},
   "source": [
    "## Megoldás\n",
    "A megoldást szimbolikus számításokkal is elvégezhetnénk (azaz paraméterként dolgoznánk a képletekben használt mennyiségekkel), és ez a megoldási módszer az amit a félév feladatainak részében követni fogunk. Jelen esetben a feladat egyszerűsége miatt bemutatjuk, hogy Python 'alap' eszközeivel dolgozva, hogyan tudunk gyors és egyszerű numerikus példákat megoldani.  \n",
    "<img src=\"Fig_1.2.1.PNG\" style=\"width:300px;\">"
   ]
  },
  {
   "cell_type": "code",
   "execution_count": 4,
   "metadata": {},
   "outputs": [],
   "source": [
    "# Definiáljuk a használni kívánt adatokat, mint változókat.\n",
    "# Vegyük észre, hogy sok programnyelvvel ellentétben, nem kötelező a változók típusát deklarálni.\n",
    "# A tárgy keretében leggyakrabban a mm/N/MPa mértékegység rendszert fogjuk használni,\n",
    "# így a változóinkat is praktikus azonnal ilyen mértékegységekben megadni.\n",
    "\n",
    "N1 = -10000 # N\n",
    "N2 =  40000 # N\n",
    "L1 =  600   # mm\n",
    "L2 =  400   # mm\n",
    "D  =  20    # mm\n",
    "E  =  200e3 # MPa\n",
    "\n",
    "# A Python nyelvhez több millió parancs érhető el függvénykönyvtárakon keresztül.\n",
    "# Az `alap` nyelvcsomag azonban még a Pi értéket sem ismeri! Ez egy tudatos tervezési módja volt a nyelv\n",
    "# készítőinek, miszerint minden eszközt a megfelelő könyvtárból kell a programozóknak importálniuk.\n",
    "# A későbbi feladatokban mi is ezt fogjuk tenni, jelen esetben viszont definiáljuk a saját Pi értékünket numerikusan.\n",
    "\n",
    "pi = 3.1415926535"
   ]
  },
  {
   "cell_type": "markdown",
   "metadata": {},
   "source": [
    "Az adatok definiálása után határozzuk meg a szerkezet keresztmetszetének a területét."
   ]
  },
  {
   "cell_type": "code",
   "execution_count": 5,
   "metadata": {},
   "outputs": [
    {
     "name": "stdout",
     "output_type": "stream",
     "text": [
      "314.15926535\n"
     ]
    }
   ],
   "source": [
    "# A hatványozást a Python nyelv a `**` szintaktikával jelöli!\n",
    "\n",
    "A = D**2*pi/4\n",
    "\n",
    "# Az eredményünk kiírására sok módszer van, amiből bemutatásra is kerül majd néhány a további feladatokban.\n",
    "# A nyelv alap kiírásra használt parancsa a `print(...)`. Ez minden IDE környezetben használható.\n",
    "# Látható, hogy a kiírt tizedesek száma meghaladja a műszakilag indokolt 4-5 értékes jegyet\n",
    "# (Általában nem ismerjük egy szerkezet keresztmetszetének a területét 12 értékes jegy pontossággal)\n",
    "# Ezzel a kerekítési problémával is a további feladatokban foglalkozunk majd.\n",
    "\n",
    "print(A) # mm^2"
   ]
  },
  {
   "cell_type": "markdown",
   "metadata": {},
   "source": [
    "A Hooke törvényt felhasználva az egyes rúdszakaszok megnyúlásai egyszerűen számíthatóak!"
   ]
  },
  {
   "cell_type": "code",
   "execution_count": 9,
   "metadata": {},
   "outputs": [
    {
     "name": "stdout",
     "output_type": "stream",
     "text": [
      "-0.09549296585786658\n",
      "0.2546479089543109\n",
      "0.1591549430964443\n"
     ]
    }
   ],
   "source": [
    "# A görög szimbólumok a \"LaTeX jelölésük\" + TAB segítségével hívhatók meg\n",
    "# Delta szimbólum: \\delta + TAB\n",
    "\n",
    "δL1 = N1*L1/(A*E)\n",
    "δL2 = N2*L2/(A*E)\n",
    "δL  = δL1 + δL2\n",
    "\n",
    "\n",
    "print(δL1) # mm\n",
    "print(δL2) # mm\n",
    "print(δL)  # mm"
   ]
  },
  {
   "cell_type": "markdown",
   "metadata": {},
   "source": [
    "A normálfeszültségek pedig húzott nyomott rúd esetén:"
   ]
  },
  {
   "cell_type": "code",
   "execution_count": 12,
   "metadata": {},
   "outputs": [
    {
     "name": "stdout",
     "output_type": "stream",
     "text": [
      "-31.830988619288863\n",
      "127.32395447715545\n"
     ]
    }
   ],
   "source": [
    "σ1 = N1/A\n",
    "σ2 = N2/A\n",
    "\n",
    "print(σ1) # MPa\n",
    "print(σ2) # MPa"
   ]
  }
 ],
 "metadata": {
  "kernelspec": {
   "display_name": "Python 3",
   "language": "python",
   "name": "python3"
  },
  "language_info": {
   "codemirror_mode": {
    "name": "ipython",
    "version": 3
   },
   "file_extension": ".py",
   "mimetype": "text/x-python",
   "name": "python",
   "nbconvert_exporter": "python",
   "pygments_lexer": "ipython3",
   "version": "3.8.2"
  },
  "toc": {
   "base_numbering": 1,
   "nav_menu": {},
   "number_sections": true,
   "sideBar": true,
   "skip_h1_title": false,
   "title_cell": "Table of Contents",
   "title_sidebar": "Contents",
   "toc_cell": false,
   "toc_position": {},
   "toc_section_display": true,
   "toc_window_display": false
  }
 },
 "nbformat": 4,
 "nbformat_minor": 2
}
