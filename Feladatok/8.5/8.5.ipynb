{
 "cells": [
  {
   "cell_type": "markdown",
   "metadata": {},
   "source": [
    "# Példa 8.5\n",
    "Az alább látható tartály falán nyomásmérő bélyegekkel alakváltozást mértünk. A tartály hossztengelyével párhuzamos 1-es irányban $375\\cdot10^{-6}$, és az erre merőleg 2-es irányban $1312{,}5\\cdot10^{-6}$ értékű fajlagos alakváltozást mértünk. Az alábbi adatokkal számolva határozzuk meg a tartály Poisson-tényezőjét! Üzemeltethető-e a tartály a mérésnél használt nyomás esetén?\n",
    "\n",
    "<img src=\"./Fig_8.5.jpg\" style=\"width: 300px;\">"
   ]
  },
  {
   "cell_type": "code",
   "execution_count": 1,
   "metadata": {
    "ExecuteTime": {
     "end_time": "2020-05-08T12:38:25.582609Z",
     "start_time": "2020-05-08T12:38:25.101754Z"
    }
   },
   "outputs": [],
   "source": [
    "import sympy as sp\n",
    "\n",
    "p,ν = sp.symbols('p,ν')\n",
    "\n",
    "d     = 600       # mm\n",
    "v     = 5         # mm\n",
    "ε1    = 375e-6    # -\n",
    "ε2    = 1312.5e-6 # -\n",
    "E     = 80e3      # MPa\n",
    "pkrit = 2         # MPa"
   ]
  },
  {
   "cell_type": "markdown",
   "metadata": {},
   "source": [
    "A membrán elmélet szerint a radiális alakváltozást nullának tenkintjük,\n",
    "így a meridián és tangenciális alakváltozások a Hooke-törvénnyel az alábbi \n",
    "formában írhatók:\n",
    "$$\\varepsilon_m=\\dfrac{1}{E}(\\sigma_m-\\nu \\sigma_t),$$  \n",
    "$$\\varepsilon_t=\\dfrac{1}{E}(\\sigma_t-\\nu \\sigma_m).$$  \n",
    "Jelen feladatban a nyúlásmérő bélyegek felhelyezési iránya egybeesik a tangenciális és meridián irányokkal. Tudjuk továbbá, hogy a meridián és tangenciális feszültségek henger geometria esetén:  \n",
    "$$\\sigma_m=\\dfrac{pd}{4v},$$  \n",
    "$$\\sigma_t=\\dfrac{pd}{2v}.$$"
   ]
  },
  {
   "cell_type": "code",
   "execution_count": 2,
   "metadata": {
    "ExecuteTime": {
     "end_time": "2020-05-08T12:38:26.458120Z",
     "start_time": "2020-05-08T12:38:25.584842Z"
    }
   },
   "outputs": [
    {
     "data": {
      "text/latex": [
       "$\\displaystyle 0.25$"
      ],
      "text/plain": [
       "0.250000000000000"
      ]
     },
     "metadata": {},
     "output_type": "display_data"
    },
    {
     "data": {
      "text/latex": [
       "$\\displaystyle 2.0$"
      ],
      "text/plain": [
       "2.00000000000000"
      ]
     },
     "metadata": {},
     "output_type": "display_data"
    }
   ],
   "source": [
    "σ_m = p*d/(4*v)\n",
    "σ_t = p*d/(2*v)\n",
    "ε_m = (σ_m-ν*σ_t)/E\n",
    "ε_t = (σ_t-ν*σ_m)/E\n",
    "\n",
    "# Két egyenlőséget definiálunk\n",
    "# Az első mért nyúlás egyenlő a meridián nyúlás komponenssel\n",
    "# A második mért nyúlás egyenlő a tangenciális nyúlás komponenssel\n",
    "eq1 = ε_m - ε1\n",
    "eq2 = ε_t - ε2\n",
    "\n",
    "# Megoldjuk az ismert módon\n",
    "sol = sp.solve((eq1,eq2),ν,p)\n",
    "\n",
    "# A numerikus eredményeket eltároljuk külön változókban\n",
    "νn = sol[0][0]\n",
    "pn = sol[0][1]\n",
    "\n",
    "display(νn) # -\n",
    "display(pn) # MPa"
   ]
  },
  {
   "cell_type": "code",
   "execution_count": 3,
   "metadata": {
    "ExecuteTime": {
     "end_time": "2020-05-08T12:38:26.467596Z",
     "start_time": "2020-05-08T12:38:26.462408Z"
    }
   },
   "outputs": [
    {
     "data": {
      "text/latex": [
       "$\\displaystyle \\text{True}$"
      ],
      "text/plain": [
       "True"
      ]
     },
     "metadata": {},
     "output_type": "display_data"
    }
   ],
   "source": [
    "# Két numerikus érték összehasonlításának az eredménye egy logikai változót ad! \n",
    "display(pkrit >= pn)"
   ]
  },
  {
   "cell_type": "markdown",
   "metadata": {},
   "source": [
    "Mivel a kapott belső nyomás nem nagyobb, mint a maximálisan megengedhető nyomás ezért üzemeltethető a tartály ezen a nyomáson.  \n",
    "(Vegyük viszont észre, hogy pont a határhelyzetet kaptuk eredményül)"
   ]
  }
 ],
 "metadata": {
  "kernelspec": {
   "display_name": "Python 3",
   "language": "python",
   "name": "python3"
  },
  "language_info": {
   "codemirror_mode": {
    "name": "ipython",
    "version": 3
   },
   "file_extension": ".py",
   "mimetype": "text/x-python",
   "name": "python",
   "nbconvert_exporter": "python",
   "pygments_lexer": "ipython3",
   "version": "3.8.2"
  },
  "toc": {
   "base_numbering": 1,
   "nav_menu": {},
   "number_sections": true,
   "sideBar": true,
   "skip_h1_title": false,
   "title_cell": "Table of Contents",
   "title_sidebar": "Contents",
   "toc_cell": false,
   "toc_position": {},
   "toc_section_display": true,
   "toc_window_display": false
  }
 },
 "nbformat": 4,
 "nbformat_minor": 2
}
