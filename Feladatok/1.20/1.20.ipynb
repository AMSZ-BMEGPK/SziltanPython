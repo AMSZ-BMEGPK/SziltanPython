{
 "cells": [
  {
   "cell_type": "markdown",
   "metadata": {},
   "source": [
    "# 1.20\n",
    "Az ábrán látható befogott, tömör kör keresztmetszetű alumínium tengelyre két koncentrált erő hat.\n",
    "- Határozzuk meg a befogásokban ébredő reakciónyomatékokat\n",
    "- Méretezzük a tengelyt, ha $\\tau_{\\rm meg}=100 \\, \\rm{MPa}$\n",
    "- Határozzuk meg a $\\rm{C}$ keresztmetszet $\\rm{A}$-hoz képesti elcsavarodási szögét\n",
    "<img src=\"./Fig_1.20.PNG\" style=\"width: 300px;\">"
   ]
  },
  {
   "cell_type": "markdown",
   "metadata": {},
   "source": [
    "## Megoldás\n",
    "Első lépésként importáljuk a szimbolikus számításhoz szükséges modult, és felvesszük a megadott adatokat."
   ]
  },
  {
   "cell_type": "code",
   "execution_count": 1,
   "metadata": {
    "ExecuteTime": {
     "end_time": "2020-03-05T12:22:22.701385Z",
     "start_time": "2020-03-05T12:22:21.307510Z"
    }
   },
   "outputs": [
    {
     "data": {
      "image/png": "[encoded data removed]",
      "text/latex": [
       "$\\displaystyle 26119$"
      ],
      "text/plain": [
       "26119"
      ]
     },
     "execution_count": 1,
     "metadata": {},
     "output_type": "execute_result"
    }
   ],
   "source": [
    "import sympy as sp\n",
    "sp.init_printing()\n",
    "\n",
    "M_A, M_B, I_p, d_min = sp.symbols('M_A,M_B,I_p,d_min')\n",
    "\n",
    "# Adatok\n",
    "E = 70e3    #MPa\n",
    "ν = 0.34    #[-] (\\nu)\n",
    "L_1 = 400   #mm\n",
    "L_2 = 600   #mm\n",
    "F = 3e3     #N\n",
    "τ_meg = 100 #MPa\n",
    "\n",
    "# A csavaró rugalmassági moduluszra is szükségünk lesz\n",
    "G = E/(2*(1+ν))\n",
    "\n",
    "# 'round()' magyarázatát lásd a notebook végén\n",
    "round(G) #MPa"
   ]
  },
  {
   "cell_type": "markdown",
   "metadata": {},
   "source": [
    "A reakciónyomatékok meghatározásához rajzoljuk fel a szerkezetre ható nyomatékokat.\n",
    "<img src=\"./Fig_1.20.1.JPG\" style=\"width: 300px;\">"
   ]
  },
  {
   "cell_type": "code",
   "execution_count": 2,
   "metadata": {
    "ExecuteTime": {
     "end_time": "2020-03-05T12:22:23.201008Z",
     "start_time": "2020-03-05T12:22:22.706217Z"
    }
   },
   "outputs": [
    {
     "data": {
      "image/png": "[encoded data removed]",
      "text/latex": [
       "$\\displaystyle 300000.0$"
      ],
      "text/plain": [
       "300000.0"
      ]
     },
     "execution_count": 2,
     "metadata": {},
     "output_type": "execute_result"
    }
   ],
   "source": [
    "M_1 = 50*F + 50*F\n",
    "M_1 #Nmm"
   ]
  },
  {
   "cell_type": "markdown",
   "metadata": {},
   "source": [
    "A reakciónyomatékok meghatározásához ismerjük fel, hogy a befogásoknál a keresztmetszetek elcsavarodási szöge zérus. Ezt felhasználva felírhatunk egy alakváltozási feltételt a $\\rm{B}$ keresztmetszetre:\n",
    "$$\\frac{M_{\\rm A}L_1}{I_{\\rm p}G}+\\frac{(M_{\\rm A}+M_1)L_2}{I_{\\rm p}G}=0.$$"
   ]
  },
  {
   "cell_type": "code",
   "execution_count": 3,
   "metadata": {
    "ExecuteTime": {
     "end_time": "2020-03-05T12:22:23.786586Z",
     "start_time": "2020-03-05T12:22:23.204356Z"
    }
   },
   "outputs": [
    {
     "data": {
      "image/png": "[encoded data removed]",
      "text/latex": [
       "$\\displaystyle -1.8 \\cdot 10^{5}$"
      ],
      "text/plain": [
       "-1.800e+5"
      ]
     },
     "execution_count": 3,
     "metadata": {},
     "output_type": "execute_result"
    }
   ],
   "source": [
    "# Írjuk fel a fenti egyenlet bal oldalát az 'egyenlet' változóban.\n",
    "egyenlet = ((M_A*L_1)/(I_p*G) + (M_A+M_1)*L_2/(I_p*G))\n",
    "\n",
    "# Tároljuk el az egyenlet megoldását a 'sol' változóban\n",
    "sol = sp.solve(egyenlet, M_A)\n",
    "# Az eredményt egy 'list' objektumban kapjuk, aminek több eleme lenne, ha az egyenletünknek 1-nél több gyöke lenne.\n",
    "\n",
    "# 'M_An' legyen egyenlő a 'sol' nevű list első elemével:\n",
    "M_An = sol[0]\n",
    "\n",
    "M_An.evalf(4) #Nmm"
   ]
  },
  {
   "cell_type": "markdown",
   "metadata": {},
   "source": [
    "Mivel a szerkezet egyensúlyban van, ezért: $$M_{\\rm B}+M_{\\rm A}+M_1=0.$$"
   ]
  },
  {
   "cell_type": "code",
   "execution_count": 4,
   "metadata": {
    "ExecuteTime": {
     "end_time": "2020-03-05T12:22:24.426342Z",
     "start_time": "2020-03-05T12:22:23.790687Z"
    }
   },
   "outputs": [
    {
     "data": {
      "image/png": "[encoded data removed]",
      "text/latex": [
       "$\\displaystyle -1.2 \\cdot 10^{5}$"
      ],
      "text/plain": [
       "-1.200e+5"
      ]
     },
     "execution_count": 4,
     "metadata": {},
     "output_type": "execute_result"
    }
   ],
   "source": [
    "# Írjuk fel a fenti egyenlet bal oldalát az 'egyenlet2' változóban.\n",
    "egyenlet2 = M_B + M_A + M_1\n",
    "\n",
    "sol2 = sp.solve(egyenlet2, M_B) # Megoldjuk 'M_B'-re\n",
    "\n",
    "M_Bn = sol2[0].subs(M_A,M_An)\n",
    "\n",
    "M_Bn.evalf(4) #Nmm"
   ]
  },
  {
   "cell_type": "markdown",
   "metadata": {},
   "source": [
    "Az igénybevételi ábra:\n",
    "<img src=\"./Fig_1.20.2.JPG\" style=\"width: 400px;\">\n",
    "A minimális tengelyvastagság meghatározásához felírhatjuk a kritikus keresztmetszet megfelelőségi kritériumát, miszerint:\n",
    "$$\\frac{M_{\\rm{cs,max}}}{K_{\\rm p}}=\\tau_{\\rm {meg}},$$\n",
    "ahol:\n",
    "$$K_{\\rm p}=\\frac{d_{\\rm {min}}^3\\pi}{16}.$$"
   ]
  },
  {
   "cell_type": "code",
   "execution_count": 5,
   "metadata": {
    "ExecuteTime": {
     "end_time": "2020-03-05T12:22:25.747944Z",
     "start_time": "2020-03-05T12:22:24.431393Z"
    }
   },
   "outputs": [
    {
     "data": {
      "image/png": "[encoded data removed]",
      "text/latex": [
       "$\\displaystyle \\left[ 20.929, \\  -10.464 - 18.125 i, \\  -10.464 + 18.125 i\\right]$"
      ],
      "text/plain": [
       "[20.929, -10.464 - 18.125⋅ⅈ, -10.464 + 18.125⋅ⅈ]"
      ]
     },
     "metadata": {},
     "output_type": "display_data"
    },
    {
     "data": {
      "image/png": "[encoded data removed]",
      "text/latex": [
       "$\\displaystyle 20.92895$"
      ],
      "text/plain": [
       "20.92895"
      ]
     },
     "metadata": {},
     "output_type": "display_data"
    }
   ],
   "source": [
    "# A maximális csavaró nyomaték a rúdban:\n",
    "M_cs_max = abs(M_An)\n",
    "\n",
    "# Írjuk fel a fenti 2 egyenletet:\n",
    "K_p = d_min**3*sp.pi/16\n",
    "egyenlet3 = M_cs_max/K_p - τ_meg\n",
    "\n",
    "# Megj.: Vegyük észre, hogy a szimbolikus megoldó tudja kezelni az egymásba láncolt egyenleteket.\n",
    "#        Nem kellett a 'K_p'-t kézzel behelyettesítenünk a megfelelőségi egyenletbe! Arra figyelni\n",
    "#        kell, hogy a deklarálási sorrendet betartsuk. Az 'egyenlet3' előtt kell szerepeljen a 'K_p'\n",
    "#        szimbolikus kifejezés, különben hibát kapunk.\n",
    "\n",
    "sol3 = sp.solve(egyenlet3, d_min)\n",
    "\n",
    "# Itt láthatjuk, hogy a 'solve' az összes lehetséges gyököt megtalálja!\n",
    "display([sol.evalf(5) for sol in sol3])\n",
    "\n",
    "d_min_n = sol3[0] # Természetesen minket a valós gyök érdekel (a képzetes egységet 'I'-vel jelöli a program).\n",
    "\n",
    "display(round(d_min_n,5)) #mm"
   ]
  },
  {
   "cell_type": "markdown",
   "metadata": {},
   "source": [
    "A minimális átmérő ismeretében kiszámolhatjuk a rúd poláris másodrendű nyomatékát, és felírhatjuk a kritikus keresztmetszet szögelcsavarodását."
   ]
  },
  {
   "cell_type": "code",
   "execution_count": 6,
   "metadata": {
    "ExecuteTime": {
     "end_time": "2020-03-05T12:22:27.419241Z",
     "start_time": "2020-03-05T12:22:25.751634Z"
    }
   },
   "outputs": [
    {
     "data": {
      "image/png": "[encoded data removed]",
      "text/latex": [
       "$\\displaystyle 0.098175 d_{min}^{4}$"
      ],
      "text/plain": [
       "             4\n",
       "0.098175⋅dₘᵢₙ "
      ]
     },
     "metadata": {},
     "output_type": "display_data"
    },
    {
     "data": {
      "image/png": "[encoded data removed]",
      "text/latex": [
       "$\\displaystyle \\frac{28078.0}{d_{min}^{4}}$"
      ],
      "text/plain": [
       "28078.0\n",
       "───────\n",
       "     4 \n",
       " dₘᵢₙ  "
      ]
     },
     "metadata": {},
     "output_type": "display_data"
    },
    {
     "data": {
      "image/png": "[encoded data removed]",
      "text/latex": [
       "$\\displaystyle \\frac{1.6088 \\cdot 10^{6}}{d_{min}^{4}}$"
      ],
      "text/plain": [
       "1.6088e+6\n",
       "─────────\n",
       "      4  \n",
       "  dₘᵢₙ   "
      ]
     },
     "metadata": {},
     "output_type": "display_data"
    }
   ],
   "source": [
    "I_p = d_min**4*sp.pi/32\n",
    "display(I_p.evalf(5)) #mm^4\n",
    "\n",
    "ϕ_CA = M_cs_max*L_1/(I_p*G)\n",
    "display(ϕ_CA.evalf(5)) #rad\n",
    "display((ϕ_CA*180/sp.pi).evalf(5)) #fok"
   ]
  },
  {
   "cell_type": "markdown",
   "metadata": {},
   "source": [
    "## + Extra a kíváncsiaknak\n",
    "\n",
    "Felmerülhet az a kérdés, hogy miért használtuk a `round()` metódust a kerekítésekhez, mikor már az előző feladatokban megismerkedtünk az `.evalf()` metódussal. Ha látszólag ugyan hasonló feladatot is lát el a két függvény, vannak közöttük fontos különbségek. <br> \n",
    "A változóink deklarálásakor a Python egy osztály elemeként tárolja a változókat (pl: `int`, `float`, `list`...), ami meghatározza azt is, hogy milyen metódusokat ('parancsokat', 'függvényeket') tudunk hívni az adott változón. Ez egy természetes megszorítás, hiszen szeretnénk elkerülni, hogy a programunk logikailag értelmetlen kérdésekre eredményeket adjon. Pl: `round('sziltan') -> !?!?`. Sajnos ennek a problémának a kevésbé egyértelmű esetei változatos hibákat szülhetnek a kódunkban. <br> Nézzük meg, hogy az eddig használt változóink milyen osztályba tartoznak a program szerint:"
   ]
  },
  {
   "cell_type": "code",
   "execution_count": 7,
   "metadata": {
    "ExecuteTime": {
     "end_time": "2020-03-05T12:22:27.444586Z",
     "start_time": "2020-03-05T12:22:27.426068Z"
    }
   },
   "outputs": [
    {
     "data": {
      "text/plain": [
       "int"
      ]
     },
     "metadata": {},
     "output_type": "display_data"
    },
    {
     "data": {
      "text/plain": [
       "float"
      ]
     },
     "metadata": {},
     "output_type": "display_data"
    },
    {
     "data": {
      "text/plain": [
       "list"
      ]
     },
     "metadata": {},
     "output_type": "display_data"
    },
    {
     "data": {
      "text/plain": [
       "dict"
      ]
     },
     "metadata": {},
     "output_type": "display_data"
    },
    {
     "data": {
      "text/plain": [
       "sympy.core.numbers.Pi"
      ]
     },
     "metadata": {},
     "output_type": "display_data"
    },
    {
     "data": {
      "text/plain": [
       "sympy.core.symbol.Symbol"
      ]
     },
     "metadata": {},
     "output_type": "display_data"
    }
   ],
   "source": [
    "n = 10\n",
    "pi_1 = 3.141592653\n",
    "lista = [1, 2, 3]\n",
    "konyvtar = {'sziltan': 5, 'matekG2': 4, 'anyagtech': 3}\n",
    "pi_2 = sp.pi\n",
    "i = sp.symbols('i')\n",
    "\n",
    "# Nézzük meg a fenti változók milyen osztályba tartoznak\n",
    "display(type(n))\n",
    "display(type(pi_1))\n",
    "display(type(lista))\n",
    "display(type(konyvtar))\n",
    "display(type(pi_2))\n",
    "display(type(i))"
   ]
  },
  {
   "cell_type": "markdown",
   "metadata": {},
   "source": [
    "Látható, hogy a `sympy` könyvtár függvényeivel létrehozott változóink a `sympy` saját osztályainak az elemei. Ebből már meg lehet sejteni, hogy a Python gyári metódusai nem biztos, hogy ezeket a kiterjesztett osztályokat hiba nélkül tudják kezelni. Nézzünk néhány példát arra, amikor jól működnek a dolgok:"
   ]
  },
  {
   "cell_type": "code",
   "execution_count": 8,
   "metadata": {
    "ExecuteTime": {
     "end_time": "2020-03-05T12:22:27.476281Z",
     "start_time": "2020-03-05T12:22:27.446795Z"
    }
   },
   "outputs": [
    {
     "data": {
      "text/plain": [
       "\"Eredeti: <class 'float'> Új: <class 'int'>\""
      ]
     },
     "metadata": {},
     "output_type": "display_data"
    },
    {
     "data": {
      "text/plain": [
       "\"Eredeti: <class 'sympy.core.numbers.Pi'> Új: <class 'sympy.core.numbers.Float'>\""
      ]
     },
     "metadata": {},
     "output_type": "display_data"
    }
   ],
   "source": [
    "pi_1 = 3.141592653\n",
    "pi_1_kerek = round(pi_1)\n",
    "display('Eredeti: '+str(type(pi_1))+' Új: '+str(type(pi_1_kerek)))\n",
    "\n",
    "pi_2 = sp.pi\n",
    "pi_2_kerek = pi_2.evalf(5)\n",
    "display('Eredeti: '+str(type(pi_2))+' Új: '+str(type(pi_2_kerek)))"
   ]
  },
  {
   "cell_type": "markdown",
   "metadata": {},
   "source": [
    "Látszik, hogy mikor műveleteket végzünk a változóinkon (pl.: kerekítjük őket), akkor azoknak nem csak a numerikus értéke, de a programban tárolt osztálya is változik. Ezt a Python dinamikus változó kezelése teszi lehetővé, ami elég sok átalakítást képes automatikusan elvégezni számunkra. Lássunk egy példát arra amikor ez mégsem működik:"
   ]
  },
  {
   "cell_type": "code",
   "execution_count": 9,
   "metadata": {
    "ExecuteTime": {
     "end_time": "2020-03-05T12:22:27.612519Z",
     "start_time": "2020-03-05T12:22:27.478987Z"
    }
   },
   "outputs": [
    {
     "ename": "AttributeError",
     "evalue": "'float' object has no attribute 'evalf'",
     "output_type": "error",
     "traceback": [
      "\u001b[0;31m---------------------------------------------------------------------------\u001b[0m",
      "\u001b[0;31mAttributeError\u001b[0m                            Traceback (most recent call last)",
      "\u001b[0;32m<ipython-input-9-69b262bfe70e>\u001b[0m in \u001b[0;36m<module>\u001b[0;34m\u001b[0m\n\u001b[1;32m      1\u001b[0m \u001b[0mpi_1\u001b[0m \u001b[0;34m=\u001b[0m \u001b[0;36m3.141592653\u001b[0m\u001b[0;34m\u001b[0m\u001b[0;34m\u001b[0m\u001b[0m\n\u001b[0;32m----> 2\u001b[0;31m \u001b[0mpi_1\u001b[0m\u001b[0;34m.\u001b[0m\u001b[0mevalf\u001b[0m\u001b[0;34m(\u001b[0m\u001b[0;36m5\u001b[0m\u001b[0;34m)\u001b[0m\u001b[0;34m\u001b[0m\u001b[0;34m\u001b[0m\u001b[0m\n\u001b[0m",
      "\u001b[0;31mAttributeError\u001b[0m: 'float' object has no attribute 'evalf'"
     ]
    }
   ],
   "source": [
    "pi_1 = 3.141592653\n",
    "pi_1.evalf(5)"
   ]
  },
  {
   "cell_type": "markdown",
   "metadata": {},
   "source": [
    "Hibaüzentet kaptunk amikor a saját `float` változónkat próbáltuk -a csak `sympy` osztályok álltal ismert- `.evalf()` metódussal kerekíteni. Az ehhez hasonló hibák összezavaróak lehetnek, hiszen egy logikailag és szemantikailag értelmes parancsunk nem futott le. Ezeknek a kezeléséhez tartsuk észben, hogy a változóink osztálya meghatározza a rajtuk végezhető műveleteket is! "
   ]
  }
 ],
 "metadata": {
  "kernelspec": {
   "display_name": "Python 3",
   "language": "python",
   "name": "python3"
  },
  "language_info": {
   "codemirror_mode": {
    "name": "ipython",
    "version": 3
   },
   "file_extension": ".py",
   "mimetype": "text/x-python",
   "name": "python",
   "nbconvert_exporter": "python",
   "pygments_lexer": "ipython3",
   "version": "3.7.3"
  },
  "toc": {
   "base_numbering": 1,
   "nav_menu": {},
   "number_sections": true,
   "sideBar": true,
   "skip_h1_title": false,
   "title_cell": "Table of Contents",
   "title_sidebar": "Contents",
   "toc_cell": false,
   "toc_position": {},
   "toc_section_display": true,
   "toc_window_display": false
  }
 },
 "nbformat": 4,
 "nbformat_minor": 2
}
