{
 "cells": [
  {
   "cell_type": "markdown",
   "metadata": {},
   "source": [
    "# Példa 8.1\n",
    "\n",
    "Számítsuk ki, hogy mekkora feszültségek ébrednek a membrán elmélet alkalmazásakor az alábbi $v=5 \\, \\rm{mm}$ falvastagságú tartály falában a jellegzetes helyeken! Adjunk becslést a hengeres rész hossz- és átmérőváltozására is. Adatok: $p=20 \\, \\rm{bar}$, $E=200 \\, \\rm{GPa}$, $\\nu=0{,}3$.\n",
    "<img src=\"Fig_8.1.png\" style=\"width: 200px;\">"
   ]
  },
  {
   "cell_type": "markdown",
   "metadata": {},
   "source": [
    "# Megoldás\n",
    "\n",
    "Betöltjük a `sympy` modult. Definiáljuk a szimbólumokat. Az adatok könnyebb behelyettesítésének érdekében készítünk egy listát. Számoljunk SI alapegységekben!"
   ]
  },
  {
   "cell_type": "code",
   "execution_count": 1,
   "metadata": {
    "ExecuteTime": {
     "end_time": "2020-05-08T12:31:01.014718Z",
     "start_time": "2020-05-08T12:31:00.194152Z"
    }
   },
   "outputs": [],
   "source": [
    "import sympy as sp\n",
    "sp.init_printing()\n",
    "\n",
    "p, E, v, ν, ϱ_t, ϱ_m = sp.symbols(\"p, E, v, ν, ϱ_t, ϱ_m\") #ne keverjük össze v-t és ν-t! ϱ: \\varrho + tab\n",
    "\n",
    "p_adat = 20*1e5 #Pa\n",
    "E_adat = 200*1e9 #Pa\n",
    "v_adat = 5*1e-3 #m\n",
    "ν_adat = 0.3 #-\n",
    "\n",
    "adatok = [(p,p_adat),(E,E_adat),(v,v_adat),(ν,ν_adat)]"
   ]
  },
  {
   "cell_type": "markdown",
   "metadata": {},
   "source": [
    "A meridián és tangenciális feszültségek képlete:\n",
    "$$\\sigma_m=\\frac{p\\varrho_t}{2v},$$\n",
    "\n",
    "$$\\sigma_t=\\sigma_m \\left( 2-\\frac{\\varrho_t}{\\varrho_m}\\right),$$\n",
    "ahol $\\varrho_t$ és $\\varrho_m$ a megfelalő görbületi sugarak az adott pontban."
   ]
  },
  {
   "cell_type": "code",
   "execution_count": 2,
   "metadata": {
    "ExecuteTime": {
     "end_time": "2020-05-08T12:31:01.021014Z",
     "start_time": "2020-05-08T12:31:01.016175Z"
    }
   },
   "outputs": [],
   "source": [
    "σ_m = p*ϱ_t/2/v\n",
    "σ_t = σ_m*(2-ϱ_t/ϱ_m)"
   ]
  },
  {
   "cell_type": "markdown",
   "metadata": {},
   "source": [
    "A feladat későbbi részeiben gyakran kell majd behelyettesítenünk ezekbe a kifejezésekbe, ezért mentsük el külön változóban azt, ahol a globális adatok <nobr>($p, E, v, \\nu$)<nobr> már be vannak helyettesítve."
   ]
  },
  {
   "cell_type": "code",
   "execution_count": 3,
   "metadata": {
    "ExecuteTime": {
     "end_time": "2020-05-08T12:31:01.038413Z",
     "start_time": "2020-05-08T12:31:01.022332Z"
    }
   },
   "outputs": [],
   "source": [
    "σm_adatok = σ_m.subs(adatok)\n",
    "σt_adatok = σ_t.subs(adatok)"
   ]
  },
  {
   "cell_type": "markdown",
   "metadata": {},
   "source": [
    "Mivel sokszor kell megcsinálnunk a sugarak behelyettesítéseit, írjunk egy függvényt, ami a két sugár ismeretében kiírja a feszültségeket! Hogy utána könnyebb legyen értelmezni az eredményeket, adjuk meg a függvénynek a pont \"nevét\" is."
   ]
  },
  {
   "cell_type": "code",
   "execution_count": 4,
   "metadata": {
    "ExecuteTime": {
     "end_time": "2020-05-08T12:31:01.050177Z",
     "start_time": "2020-05-08T12:31:01.039911Z"
    }
   },
   "outputs": [],
   "source": [
    "def feszP(ϱtP,ϱmP,nev):\n",
    "    #A ϱ_t és ϱ_m már általunk használt szimbólumok, ezért ne használjuk őket a függvény saját belső\n",
    "    #változóinak jelölésére!\n",
    "    \n",
    "    #az eredményeket váltsuk vissza MPa-ra\n",
    "    σtP = (σt_adatok.subs([(ϱ_t,ϱtP),(ϱ_m,ϱmP)])/1e6).evalf(5)\n",
    "    σmP = (σm_adatok.subs([(ϱ_t,ϱtP),(ϱ_m,ϱmP)])/1e6).evalf(5)\n",
    "    print(\"A tangenciális és meridián feszültség a(z)\", nev,\"pontban: [MPa]\") #a 'print' szebben ír ki szöveget\n",
    "    display(σtP,σmP) #a 'display' szebben írja ki a számokat"
   ]
  },
  {
   "cell_type": "markdown",
   "metadata": {},
   "source": [
    "Szükségünk lesz a különböző pontokban $\\varrho_t$ és $\\varrho_m$ értékére. Erre sajnos nem használhatjuk a `sympy`-t, a geometria alapján nekünk kell megadni őket. (Figyeljünk arra, hogy mivel SI alapegységekben számolunk, ezt is $\\rm{m}$-ben kell megadni!)\n",
    "\n",
    "AB gömbsüveg:\n",
    "$$\\varrho_{1t}^A=\\varrho_{1t}^B=\\varrho_{1m}^A=\\varrho_{2m}^B=0,2 \\, \\rm{m}.$$"
   ]
  },
  {
   "cell_type": "code",
   "execution_count": 5,
   "metadata": {
    "ExecuteTime": {
     "end_time": "2020-05-08T12:31:02.688673Z",
     "start_time": "2020-05-08T12:31:01.052455Z"
    }
   },
   "outputs": [
    {
     "name": "stdout",
     "output_type": "stream",
     "text": [
      "A tangenciális és meridián feszültség a(z) A pontban: [MPa]\n"
     ]
    },
    {
     "data": {
      "image/png": "[encoded data removed]",
      "text/latex": [
       "$\\displaystyle 40.0$"
      ],
      "text/plain": [
       "40.000"
      ]
     },
     "metadata": {},
     "output_type": "display_data"
    },
    {
     "data": {
      "image/png": "[encoded data removed]",
      "text/latex": [
       "$\\displaystyle 40.0$"
      ],
      "text/plain": [
       "40.000"
      ]
     },
     "metadata": {},
     "output_type": "display_data"
    },
    {
     "name": "stdout",
     "output_type": "stream",
     "text": [
      "A tangenciális és meridián feszültség a(z) B pontban: [MPa]\n"
     ]
    },
    {
     "data": {
      "image/png": "[encoded data removed]",
      "text/latex": [
       "$\\displaystyle 40.0$"
      ],
      "text/plain": [
       "40.000"
      ]
     },
     "metadata": {},
     "output_type": "display_data"
    },
    {
     "data": {
      "image/png": "[encoded data removed]",
      "text/latex": [
       "$\\displaystyle 40.0$"
      ],
      "text/plain": [
       "40.000"
      ]
     },
     "metadata": {},
     "output_type": "display_data"
    }
   ],
   "source": [
    "ϱt1A = 0.2\n",
    "ϱt1B = 0.2\n",
    "ϱm1A = 0.2\n",
    "ϱm1B = 0.2\n",
    "feszP(ϱt1A,ϱm1A,\"A\")\n",
    "feszP(ϱt1B,ϱm1B,\"B\")"
   ]
  },
  {
   "cell_type": "markdown",
   "metadata": {},
   "source": [
    "BC henger:\n",
    "$$\\varrho_{2t}^B=\\varrho_{2t}^C=0{,}2 \\, \\rm{m},$$\n",
    "\n",
    "$$\\varrho_{2m}^B=\\varrho_{2m}^C=\\infty.$$\n",
    "\n",
    "A `sympy`-ban a $\\infty$-t `sp.oo`-ként adhatjuk meg. (Persze akkor, ha a kód legelején `sp`-ként importáltuk.)"
   ]
  },
  {
   "cell_type": "code",
   "execution_count": 6,
   "metadata": {
    "ExecuteTime": {
     "end_time": "2020-05-08T12:31:04.450616Z",
     "start_time": "2020-05-08T12:31:02.691341Z"
    }
   },
   "outputs": [
    {
     "name": "stdout",
     "output_type": "stream",
     "text": [
      "A tangenciális és meridián feszültség a(z) B pontban: [MPa]\n"
     ]
    },
    {
     "data": {
      "image/png": "[encoded data removed]",
      "text/latex": [
       "$\\displaystyle 80.0$"
      ],
      "text/plain": [
       "80.000"
      ]
     },
     "metadata": {},
     "output_type": "display_data"
    },
    {
     "data": {
      "image/png": "[encoded data removed]",
      "text/latex": [
       "$\\displaystyle 40.0$"
      ],
      "text/plain": [
       "40.000"
      ]
     },
     "metadata": {},
     "output_type": "display_data"
    },
    {
     "name": "stdout",
     "output_type": "stream",
     "text": [
      "A tangenciális és meridián feszültség a(z) C pontban: [MPa]\n"
     ]
    },
    {
     "data": {
      "image/png": "[encoded data removed]",
      "text/latex": [
       "$\\displaystyle 80.0$"
      ],
      "text/plain": [
       "80.000"
      ]
     },
     "metadata": {},
     "output_type": "display_data"
    },
    {
     "data": {
      "image/png": "[encoded data removed]",
      "text/latex": [
       "$\\displaystyle 40.0$"
      ],
      "text/plain": [
       "40.000"
      ]
     },
     "metadata": {},
     "output_type": "display_data"
    }
   ],
   "source": [
    "ϱt2B = 0.2\n",
    "ϱt2C = 0.2\n",
    "ϱm2B = sp.oo\n",
    "ϱm2C = sp.oo\n",
    "feszP(ϱt2B,ϱm2B,\"B\")\n",
    "feszP(ϱt2C,ϱm2C,\"C\")"
   ]
  },
  {
   "cell_type": "markdown",
   "metadata": {},
   "source": [
    "CD tórusz:\n",
    "$$\\varrho_{3t}^C=0{,}2 \\,\\rm{m},$$\n",
    "\n",
    "$$\\varrho_{3t}^D=0{,}3 \\,\\rm{m},$$\n",
    "\n",
    "$$\\varrho_{3m}^C=\\varrho_{3m}^D=0{,}1 \\,\\rm{m}.$$\n",
    "<img src=\"Fig_8.1b.png\" style=\"width: 400px;\">"
   ]
  },
  {
   "cell_type": "code",
   "execution_count": 7,
   "metadata": {
    "ExecuteTime": {
     "end_time": "2020-05-08T12:31:06.179329Z",
     "start_time": "2020-05-08T12:31:04.453357Z"
    }
   },
   "outputs": [
    {
     "name": "stdout",
     "output_type": "stream",
     "text": [
      "A tangenciális és meridián feszültség a(z) C pontban: [MPa]\n"
     ]
    },
    {
     "data": {
      "image/png": "[encoded data removed]",
      "text/latex": [
       "$\\displaystyle 0$"
      ],
      "text/plain": [
       "0"
      ]
     },
     "metadata": {},
     "output_type": "display_data"
    },
    {
     "data": {
      "image/png": "[encoded data removed]",
      "text/latex": [
       "$\\displaystyle 40.0$"
      ],
      "text/plain": [
       "40.000"
      ]
     },
     "metadata": {},
     "output_type": "display_data"
    },
    {
     "name": "stdout",
     "output_type": "stream",
     "text": [
      "A tangenciális és meridián feszültség a(z) D pontban: [MPa]\n"
     ]
    },
    {
     "data": {
      "image/png": "[encoded data removed]",
      "text/latex": [
       "$\\displaystyle -60.0$"
      ],
      "text/plain": [
       "-60.000"
      ]
     },
     "metadata": {},
     "output_type": "display_data"
    },
    {
     "data": {
      "image/png": "[encoded data removed]",
      "text/latex": [
       "$\\displaystyle 60.0$"
      ],
      "text/plain": [
       "60.000"
      ]
     },
     "metadata": {},
     "output_type": "display_data"
    }
   ],
   "source": [
    "ϱt3C = 0.2\n",
    "ϱt3D = 0.3\n",
    "ϱm3C = 0.1\n",
    "ϱm3D = 0.1\n",
    "feszP(ϱt3C,ϱm3C,\"C\")\n",
    "feszP(ϱt3D,ϱm3D,\"D\")"
   ]
  },
  {
   "cell_type": "markdown",
   "metadata": {},
   "source": [
    "DE kúp:\n",
    "$$\\varrho_{4t}^D=0{,}3 \\,\\rm{m},$$\n",
    "\n",
    "$$\\varrho_{4t}^E=0{,}1 \\,\\rm{m},$$\n",
    "\n",
    "$$\\varrho_{4m}^D=\\varrho_{4m}^E=\\infty.$$\n",
    "<img src=\"Fig_8.1c.png\" style=\"width: 400px;\">"
   ]
  },
  {
   "cell_type": "code",
   "execution_count": 8,
   "metadata": {
    "ExecuteTime": {
     "end_time": "2020-05-08T12:31:07.979226Z",
     "start_time": "2020-05-08T12:31:06.180976Z"
    }
   },
   "outputs": [
    {
     "name": "stdout",
     "output_type": "stream",
     "text": [
      "A tangenciális és meridián feszültség a(z) D pontban: [MPa]\n"
     ]
    },
    {
     "data": {
      "image/png": "[encoded data removed]",
      "text/latex": [
       "$\\displaystyle 120.0$"
      ],
      "text/plain": [
       "120.00"
      ]
     },
     "metadata": {},
     "output_type": "display_data"
    },
    {
     "data": {
      "image/png": "[encoded data removed]",
      "text/latex": [
       "$\\displaystyle 60.0$"
      ],
      "text/plain": [
       "60.000"
      ]
     },
     "metadata": {},
     "output_type": "display_data"
    },
    {
     "name": "stdout",
     "output_type": "stream",
     "text": [
      "A tangenciális és meridián feszültség a(z) E pontban: [MPa]\n"
     ]
    },
    {
     "data": {
      "image/png": "[encoded data removed]",
      "text/latex": [
       "$\\displaystyle 40.0$"
      ],
      "text/plain": [
       "40.000"
      ]
     },
     "metadata": {},
     "output_type": "display_data"
    },
    {
     "data": {
      "image/png": "[encoded data removed]",
      "text/latex": [
       "$\\displaystyle 20.0$"
      ],
      "text/plain": [
       "20.000"
      ]
     },
     "metadata": {},
     "output_type": "display_data"
    }
   ],
   "source": [
    "ϱt4D = 0.3\n",
    "ϱt4E = 0.1\n",
    "ϱm4D = sp.oo\n",
    "ϱm4E = sp.oo\n",
    "feszP(ϱt4D,ϱm4D,\"D\")\n",
    "feszP(ϱt4E,ϱm4E,\"E\")"
   ]
  },
  {
   "cell_type": "markdown",
   "metadata": {},
   "source": [
    "### Összefoglalva"
   ]
  },
  {
   "cell_type": "code",
   "execution_count": 9,
   "metadata": {
    "ExecuteTime": {
     "end_time": "2020-05-08T12:31:15.452536Z",
     "start_time": "2020-05-08T12:31:07.980759Z"
    }
   },
   "outputs": [
    {
     "name": "stdout",
     "output_type": "stream",
     "text": [
      "A tangenciális és meridián feszültség a(z) A pontban: [MPa]\n"
     ]
    },
    {
     "data": {
      "image/png": "[encoded data removed]",
      "text/latex": [
       "$\\displaystyle 40.0$"
      ],
      "text/plain": [
       "40.000"
      ]
     },
     "metadata": {},
     "output_type": "display_data"
    },
    {
     "data": {
      "image/png": "[encoded data removed]",
      "text/latex": [
       "$\\displaystyle 40.0$"
      ],
      "text/plain": [
       "40.000"
      ]
     },
     "metadata": {},
     "output_type": "display_data"
    },
    {
     "name": "stdout",
     "output_type": "stream",
     "text": [
      "A tangenciális és meridián feszültség a(z) B pontban: [MPa]\n"
     ]
    },
    {
     "data": {
      "image/png": "[encoded data removed]",
      "text/latex": [
       "$\\displaystyle 40.0$"
      ],
      "text/plain": [
       "40.000"
      ]
     },
     "metadata": {},
     "output_type": "display_data"
    },
    {
     "data": {
      "image/png": "[encoded data removed]",
      "text/latex": [
       "$\\displaystyle 40.0$"
      ],
      "text/plain": [
       "40.000"
      ]
     },
     "metadata": {},
     "output_type": "display_data"
    },
    {
     "name": "stdout",
     "output_type": "stream",
     "text": [
      "A tangenciális és meridián feszültség a(z) B pontban: [MPa]\n"
     ]
    },
    {
     "data": {
      "image/png": "[encoded data removed]",
      "text/latex": [
       "$\\displaystyle 80.0$"
      ],
      "text/plain": [
       "80.000"
      ]
     },
     "metadata": {},
     "output_type": "display_data"
    },
    {
     "data": {
      "image/png": "[encoded data removed]",
      "text/latex": [
       "$\\displaystyle 40.0$"
      ],
      "text/plain": [
       "40.000"
      ]
     },
     "metadata": {},
     "output_type": "display_data"
    },
    {
     "name": "stdout",
     "output_type": "stream",
     "text": [
      "A tangenciális és meridián feszültség a(z) C pontban: [MPa]\n"
     ]
    },
    {
     "data": {
      "image/png": "[encoded data removed]",
      "text/latex": [
       "$\\displaystyle 80.0$"
      ],
      "text/plain": [
       "80.000"
      ]
     },
     "metadata": {},
     "output_type": "display_data"
    },
    {
     "data": {
      "image/png": "[encoded data removed]",
      "text/latex": [
       "$\\displaystyle 40.0$"
      ],
      "text/plain": [
       "40.000"
      ]
     },
     "metadata": {},
     "output_type": "display_data"
    },
    {
     "name": "stdout",
     "output_type": "stream",
     "text": [
      "A tangenciális és meridián feszültség a(z) C pontban: [MPa]\n"
     ]
    },
    {
     "data": {
      "image/png": "[encoded data removed]",
      "text/latex": [
       "$\\displaystyle 0$"
      ],
      "text/plain": [
       "0"
      ]
     },
     "metadata": {},
     "output_type": "display_data"
    },
    {
     "data": {
      "image/png": "[encoded data removed]",
      "text/latex": [
       "$\\displaystyle 40.0$"
      ],
      "text/plain": [
       "40.000"
      ]
     },
     "metadata": {},
     "output_type": "display_data"
    },
    {
     "name": "stdout",
     "output_type": "stream",
     "text": [
      "A tangenciális és meridián feszültség a(z) D pontban: [MPa]\n"
     ]
    },
    {
     "data": {
      "image/png": "[encoded data removed]",
      "text/latex": [
       "$\\displaystyle -60.0$"
      ],
      "text/plain": [
       "-60.000"
      ]
     },
     "metadata": {},
     "output_type": "display_data"
    },
    {
     "data": {
      "image/png": "[encoded data removed]",
      "text/latex": [
       "$\\displaystyle 60.0$"
      ],
      "text/plain": [
       "60.000"
      ]
     },
     "metadata": {},
     "output_type": "display_data"
    },
    {
     "name": "stdout",
     "output_type": "stream",
     "text": [
      "A tangenciális és meridián feszültség a(z) D pontban: [MPa]\n"
     ]
    },
    {
     "data": {
      "image/png": "[encoded data removed]",
      "text/latex": [
       "$\\displaystyle 120.0$"
      ],
      "text/plain": [
       "120.00"
      ]
     },
     "metadata": {},
     "output_type": "display_data"
    },
    {
     "data": {
      "image/png": "[encoded data removed]",
      "text/latex": [
       "$\\displaystyle 60.0$"
      ],
      "text/plain": [
       "60.000"
      ]
     },
     "metadata": {},
     "output_type": "display_data"
    },
    {
     "name": "stdout",
     "output_type": "stream",
     "text": [
      "A tangenciális és meridián feszültség a(z) E pontban: [MPa]\n"
     ]
    },
    {
     "data": {
      "image/png": "[encoded data removed]",
      "text/latex": [
       "$\\displaystyle 40.0$"
      ],
      "text/plain": [
       "40.000"
      ]
     },
     "metadata": {},
     "output_type": "display_data"
    },
    {
     "data": {
      "image/png": "[encoded data removed]",
      "text/latex": [
       "$\\displaystyle 20.0$"
      ],
      "text/plain": [
       "20.000"
      ]
     },
     "metadata": {},
     "output_type": "display_data"
    }
   ],
   "source": [
    "ϱts=[ϱt1A,ϱt1B,ϱt2B,ϱt2C,ϱt3C,ϱt3D,ϱt4D,ϱt4E]\n",
    "ϱms=[ϱm1A,ϱm1B,ϱm2B,ϱm2C,ϱm3C,ϱm3D,ϱm4D,ϱm4E]\n",
    "nevek=['A','B','B','C','C','D','D','E']\n",
    "\n",
    "[feszP(ϱt,ϱm,nev) for ϱt,ϱm,nev in zip(ϱts,ϱms,nevek)]; # szép, tömör Python stílus + ';' az \"output suppression\"-höz\n",
    "      # == [feszP(ϱts[i],ϱms[i],nevek[i]) for i in range(len(ϱts))];"
   ]
  }
 ],
 "metadata": {
  "kernelspec": {
   "display_name": "Python 3",
   "language": "python",
   "name": "python3"
  },
  "language_info": {
   "codemirror_mode": {
    "name": "ipython",
    "version": 3
   },
   "file_extension": ".py",
   "mimetype": "text/x-python",
   "name": "python",
   "nbconvert_exporter": "python",
   "pygments_lexer": "ipython3",
   "version": "3.8.2"
  },
  "toc": {
   "base_numbering": 1,
   "nav_menu": {},
   "number_sections": true,
   "sideBar": true,
   "skip_h1_title": false,
   "title_cell": "Table of Contents",
   "title_sidebar": "Contents",
   "toc_cell": false,
   "toc_position": {},
   "toc_section_display": true,
   "toc_window_display": false
  }
 },
 "nbformat": 4,
 "nbformat_minor": 2
}
