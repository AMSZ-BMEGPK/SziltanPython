{
 "cells": [
  {
   "cell_type": "markdown",
   "metadata": {},
   "source": [
    "# Példa 1.11\n",
    "\n",
    "Az alábbi keresztmetszet terhelése az $M=5\\, \\rm{kNm}$ hajlítónyomatéki igénybevétel az ábrán látható módon. Határozzuk meg az A pontban ébredő normálfeszültség nagyságát!\n",
    "\n",
    "\n",
    "<img src=\"1.11.png\" style=\"width: 300px;\">"
   ]
  },
  {
   "cell_type": "markdown",
   "metadata": {},
   "source": [
    "# Megoldás"
   ]
  },
  {
   "cell_type": "markdown",
   "metadata": {},
   "source": [
    "A megoldás során szimbolikus számításokat fogunk végezni \n",
    "(azaz a konkrét értékeket csak a végén helyettesítjük be, előtte a képleteket írjuk fel és rendezzük át). Ehhez szükségünk van a `sympy` modulra."
   ]
  },
  {
   "cell_type": "code",
   "execution_count": 1,
   "metadata": {
    "ExecuteTime": {
     "end_time": "2020-02-18T08:30:08.037146Z",
     "start_time": "2020-02-18T08:30:07.489420Z"
    }
   },
   "outputs": [],
   "source": [
    "import sympy as sp #betöltjük a sympy modul összes függvényét, és sp-ként hivatkozunk rá:\n",
    "# ami függvényt a sympyból használunk azt sp.függvény formában hívjuk meg"
   ]
  },
  {
   "cell_type": "markdown",
   "metadata": {},
   "source": [
    "Nevezzük el a méreteket, hogy egyértelműen tudjunk rájuk hivatkozni.\n",
    "\n",
    "<img src=\"1.11d.png\" style=\"width: 200px;\">"
   ]
  },
  {
   "cell_type": "markdown",
   "metadata": {},
   "source": [
    "Definiálnunk kell a később használt szimbólumokat. Az átláthatóság kedvéért mi most a kód legelején definiáljuk őket.\n",
    "\n",
    "A szintaktika: `valtozonev = sp.symbols(\"kiirt_nev\")`. A programkódban a szimbólumra a `valtozonev`-vel hivatkozunk. A `\"kiirt_nev\"` (a \" kell az elejére és végére) az a karaktersor, amit kiír a program, mint a szimbólum neve, amikor ki akarunk íratni egy végeredményt. A `valtozonev` és `\"kiirt_nev\"` bármi lehet, de célszerű, hogy megegyezzenek.\n",
    "\n",
    "Egy sorban több szimbólumot is definiálhatunk a lent bemutatott szintaktikával. A `\"kiirt_nev\"`-ben az egyes változók nevét szóközzel vagy vesszővel választjuk el. Emiatt egy szimbólum neve sem tartalmazhatja ezeket az elválasztó karaktereket!"
   ]
  },
  {
   "cell_type": "code",
   "execution_count": 2,
   "metadata": {
    "ExecuteTime": {
     "end_time": "2020-02-18T08:30:08.044305Z",
     "start_time": "2020-02-18T08:30:08.039627Z"
    }
   },
   "outputs": [],
   "source": [
    "a, b, c, d, M, y = sp.symbols(\"a, b, c, d, M, y\")"
   ]
  },
  {
   "cell_type": "markdown",
   "metadata": {},
   "source": [
    "A feladat megad néhány konkrét értéket, amit később behelyettesíthetünk. Ezeket az átláthatóság kedvéért itt, a feladat elején definiáljuk. Az adatokat a $\\rm{mm - N - MPa}$ mértékegységeknek megfelelően adjuk meg."
   ]
  },
  {
   "cell_type": "code",
   "execution_count": 3,
   "metadata": {},
   "outputs": [],
   "source": [
    "a_adat = 150 # mm\n",
    "b_adat = 50 # mm\n",
    "c_adat = 50 # mm\n",
    "d_adat = 25 # mm\n",
    "M_adat = 5000000 #Nmm"
   ]
  },
  {
   "cell_type": "markdown",
   "metadata": {},
   "source": [
    "Hogy később egyszerűbben helyettesíthessünk be, készítsük el az ezt segítő listát a `(szimbolum, adat)` párokból.\n",
    "\n",
    "Megjegyzés: az nem okoz hibát, ha egy kifejezésbe olyan szimbólumot (is) be akarunk helyettesíteni, ami nem szerepel a kifejezésben."
   ]
  },
  {
   "cell_type": "code",
   "execution_count": 4,
   "metadata": {},
   "outputs": [],
   "source": [
    "adatok = [(a,a_adat),(b,b_adat),(c,c_adat),(d,d_adat),(M,M_adat)]"
   ]
  },
  {
   "cell_type": "markdown",
   "metadata": {},
   "source": [
    "A keresztmetszet másodrendű nyomatékának kiszámításához a kereszmetszetet három részre oszthatjuk fel a lenti ábrának megfelelően.\n",
    "\n",
    "<img src=\"1.11b.png\" style=\"width: 400px;\">\n",
    "\n",
    "Így a másodrendű nyomaték:\n",
    "$$I_z=2\\frac{d (2a)^3}{12}+\\frac{c (2a+2b)^3}{12}.$$"
   ]
  },
  {
   "cell_type": "code",
   "execution_count": 5,
   "metadata": {},
   "outputs": [
    {
     "data": {
      "text/latex": [
       "$\\displaystyle \\frac{4 a^{3} d}{3} + \\frac{c \\left(2 a + 2 b\\right)^{3}}{12}$"
      ],
      "text/plain": [
       "4*a**3*d/3 + c*(2*a + 2*b)**3/12"
      ]
     },
     "execution_count": 5,
     "metadata": {},
     "output_type": "execute_result"
    }
   ],
   "source": [
    "Iz = 2*(d*(2*a)**3)/12 + (c*(2*a+2*b)**3)/12\n",
    "Iz"
   ]
  },
  {
   "cell_type": "markdown",
   "metadata": {},
   "source": [
    "Számítsuk ki ennek az értékét numerikusan! Ehhez be kell helyettesítenünk és utána célszerű használnunk az `.evalf()`-t, különben jó eséllyel törtet kapunk végeredménynek."
   ]
  },
  {
   "cell_type": "code",
   "execution_count": 6,
   "metadata": {},
   "outputs": [
    {
     "data": {
      "text/latex": [
       "$\\displaystyle 379166666.7$"
      ],
      "text/plain": [
       "379166666.7"
      ]
     },
     "execution_count": 6,
     "metadata": {},
     "output_type": "execute_result"
    }
   ],
   "source": [
    "Iz_subs = Iz.subs(adatok) # a behelyettesített eredményt eltároljuk az 'Iz_subs' változóban\n",
    "Iz_subs.evalf(10) # mm^4, 10 értékesjegyre kerekítünk"
   ]
  },
  {
   "cell_type": "markdown",
   "metadata": {},
   "source": [
    "A feszültséget az alábbi módon számolhatjuk:\n",
    "$$\\sigma=\\frac{-M}{I_z}y.$$"
   ]
  },
  {
   "cell_type": "code",
   "execution_count": 7,
   "metadata": {},
   "outputs": [],
   "source": [
    "σ = -M/Iz*y # σ: \\sigma + tab"
   ]
  },
  {
   "cell_type": "markdown",
   "metadata": {},
   "source": [
    "A fenti képletbe az A pont feszültségének számításakor $y$ helyére az A pont $y$ koordinátáját írjuk be, ami $-a$. Ezen kívül be kell helyettesítenünk az adatokat is.\n",
    "\n",
    "Nem mindegy, hogy először az adatokat vagy az A pont $y$ koordinátáját helyettesítjük be a `.subs()`-al.\n",
    "\n",
    "Tegyük fel, hogy előbb helyettesítjük az adatokat! Ekkor:\n",
    "\n",
    "1. `M` helyére beíródik az adat, illetve az `Iz` kifejezésébe is beíródnak az adatok,\n",
    "2. a másokdik helyettesítés `y`-t kicseréli `-a`-ra,\n",
    "3. ebbe az `a`-ba már nem történik behelyettesítés, megint be kellene heyettesíteni az adatokat!\n",
    "\n",
    "Ha először az A pont $y$ koordinátáját helyettesítjük be:\n",
    "\n",
    "1. `y` helyére beírjuk `-a`-t,\n",
    "2. mindent be tudunk helyettesíteni,\n",
    "3. ez a sorrend jó nekünk!"
   ]
  },
  {
   "cell_type": "code",
   "execution_count": 8,
   "metadata": {},
   "outputs": [
    {
     "data": {
      "text/latex": [
       "$\\displaystyle 1.978$"
      ],
      "text/plain": [
       "1.9780"
      ]
     },
     "execution_count": 8,
     "metadata": {},
     "output_type": "execute_result"
    }
   ],
   "source": [
    "σA = σ.subs(y,-a).subs(adatok) # balról jobbra halad a behelyettesítésekkel\n",
    "σA.evalf(5) # MPa, 5 értékesjegyre kiírjuk"
   ]
  },
  {
   "cell_type": "markdown",
   "metadata": {},
   "source": [
    "Kíváncsiaknak: miért `Iz`-t írtuk `σ`-ba, miért nem a behelyettesített értéket?\n",
    "\n",
    "Ebben a feladatban ennek nincs nagy jelentőssége. Viszont más, összetettebb feladatoknál (nem csak szilárdságtanból) elképzelhető, hogy például egy részeredményt (jelen esetbn `Iz`) egy másik részeredménnyel együtt használunk fel (például osztjuk/szorozzuk egymással őket). Ha csak a számszerű értékeket visszük tovább, akkor megkapjuk a végeredményt, viszont nem kapunk a végeredmény kiszámításához analitikus összefüggést. Ha a kifejezéseket visszük tovább, akkor észerevehetünk bizonyos egyszerűsítéseket (például valamelyik bemenő paraméter kiesik), így adott esetben lényegesen egyszerűbb végeredményre juthatunk, mint a két részeredmény önmagában. Ez a szimbolikus számítások egyik legnagyobb előnye összetettebb feladatok esetén."
   ]
  }
 ],
 "metadata": {
  "kernelspec": {
   "display_name": "Python 3",
   "language": "python",
   "name": "python3"
  },
  "language_info": {
   "codemirror_mode": {
    "name": "ipython",
    "version": 3
   },
   "file_extension": ".py",
   "mimetype": "text/x-python",
   "name": "python",
   "nbconvert_exporter": "python",
   "pygments_lexer": "ipython3",
   "version": "3.8.2"
  },
  "toc": {
   "base_numbering": 1,
   "nav_menu": {},
   "number_sections": true,
   "sideBar": true,
   "skip_h1_title": false,
   "title_cell": "Table of Contents",
   "title_sidebar": "Contents",
   "toc_cell": false,
   "toc_position": {},
   "toc_section_display": true,
   "toc_window_display": false
  }
 },
 "nbformat": 4,
 "nbformat_minor": 2
}
