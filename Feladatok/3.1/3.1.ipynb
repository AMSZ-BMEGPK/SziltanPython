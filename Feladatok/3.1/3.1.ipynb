{
 "cells": [
  {
   "cell_type": "markdown",
   "metadata": {},
   "source": [
    "# Példa 3.1  \n",
    "Az ábrán látható kilátó $P = 100\\;\\mathrm{kN}$ nyomó terhelését az $L = 3.5\\;{\\mathrm{m}}$ hosszúságú $d = 100\n",
    "\\;{\\mathrm{mm}}$ külső átmérőjű alumínium cső tartja, aminek rugalmassági modulusza $E = 72\\;\\mathrm{GPa}$. A cső alsó\n",
    "megtámasztása befogásnak tekinthető, míg a felső rögzítés a vízszintes irányú mozgást gátolja, de az\n",
    "elfordulást engedi. Mekkora legyen a cső $t$ falvastagsága, ha azt szeretnénk, hogy a tartó háromszoros\n",
    "biztonsággal feleljen meg kihajlásra? A választott anyag kritikus törőfeszültsége az Euler-féle képlet\n",
    "alkalmazási tartományának alsó határán $σ_0 = 480\\;\\mathrm{MPa}$.\n",
    "<img src=\"./Fig_3.1.PNG\" style=\"width: 500px;\">"
   ]
  },
  {
   "cell_type": "code",
   "execution_count": 1,
   "metadata": {
    "ExecuteTime": {
     "end_time": "2020-04-24T13:13:49.591040Z",
     "start_time": "2020-04-24T13:13:48.784325Z"
    }
   },
   "outputs": [
    {
     "data": {
      "text/plain": [
       "2450.0"
      ]
     },
     "execution_count": 1,
     "metadata": {},
     "output_type": "execute_result"
    }
   ],
   "source": [
    "import sympy as sp\n",
    "\n",
    "t, λ0 = sp.symbols('t,λ0')\n",
    "\n",
    "p  = 100e3 # N\n",
    "L  = 3.5e3 # mm\n",
    "d  = 100   # mm\n",
    "E  = 72e3  # MPa\n",
    "σ0 = 480   # MPa\n",
    "\n",
    "# A megfogás módja szerint a kihajlott hossz:\n",
    "L0 = 0.7*L\n",
    "L0 # mm"
   ]
  },
  {
   "cell_type": "markdown",
   "metadata": {},
   "source": [
    "Tegyük fel, hogy a rúdra az Euler-féle kihajlási törvény érvényesül:  \n",
    "$$F_t=\\left(\\dfrac{\\pi}{L_0}\\right)^2I_zE.$$"
   ]
  },
  {
   "cell_type": "code",
   "execution_count": 2,
   "metadata": {
    "ExecuteTime": {
     "end_time": "2020-04-24T13:13:50.614438Z",
     "start_time": "2020-04-24T13:13:49.593833Z"
    }
   },
   "outputs": [
    {
     "data": {
      "text/latex": [
       "$\\displaystyle 8.301$"
      ],
      "text/plain": [
       "8.301"
      ]
     },
     "execution_count": 2,
     "metadata": {},
     "output_type": "execute_result"
    }
   ],
   "source": [
    "# A szerkezetre n = 3-as biztonsági tényezőt írunk elő\n",
    "Ft = 3*p # N\n",
    "\n",
    "# Továbbá a nullára rendezett Euler egyenletbe behelyettesítjük a paraméteres másodrendű nyomatékot\n",
    "Iz = sp.pi/64*(d**4-(d-2*t)**4)\n",
    "eq1 = (sp.pi/L0)**2*Iz*E - Ft\n",
    "\n",
    "# A már ismert módon megoldjuk az egyenletet t-re\n",
    "sol1 = sp.solve(eq1)\n",
    "t_n = sol1[0]\n",
    "\n",
    "t_n.evalf(4) # mm"
   ]
  },
  {
   "cell_type": "markdown",
   "metadata": {},
   "source": [
    "A kapott falvastagsággal ellenőrizzük a rúd karcsúságát, hogy arra valóban az Euler egyenlet vonatkozik-e!"
   ]
  },
  {
   "cell_type": "code",
   "execution_count": 3,
   "metadata": {
    "ExecuteTime": {
     "end_time": "2020-04-24T13:13:50.650270Z",
     "start_time": "2020-04-24T13:13:50.617526Z"
    }
   },
   "outputs": [
    {
     "data": {
      "text/latex": [
       "$\\displaystyle 2391.0$"
      ],
      "text/plain": [
       "2391."
      ]
     },
     "metadata": {},
     "output_type": "display_data"
    },
    {
     "data": {
      "text/latex": [
       "$\\displaystyle 2.534 \\cdot 10^{6}$"
      ],
      "text/plain": [
       "2.534e+6"
      ]
     },
     "metadata": {},
     "output_type": "display_data"
    },
    {
     "data": {
      "text/latex": [
       "$\\displaystyle 75.26$"
      ],
      "text/plain": [
       "75.26"
      ]
     },
     "metadata": {},
     "output_type": "display_data"
    }
   ],
   "source": [
    "A_n = (d**2-(d-2*t_n)**2)*sp.pi/4\n",
    "Iz_n = (d**4-(d-2*t_n)**4)*sp.pi/64\n",
    "iz = (Iz_n/A_n)**0.5\n",
    "λ = L0/iz\n",
    "\n",
    "display(A_n.evalf(4))  # mm^2\n",
    "display(Iz_n.evalf(4)) # mm^4\n",
    "display(λ.evalf(4)) # -"
   ]
  },
  {
   "cell_type": "code",
   "execution_count": 4,
   "metadata": {
    "ExecuteTime": {
     "end_time": "2020-04-24T13:13:50.753355Z",
     "start_time": "2020-04-24T13:13:50.657092Z"
    }
   },
   "outputs": [
    {
     "data": {
      "text/latex": [
       "$\\displaystyle 38.48$"
      ],
      "text/plain": [
       "38.48"
      ]
     },
     "execution_count": 4,
     "metadata": {},
     "output_type": "execute_result"
    }
   ],
   "source": [
    "# Az alkalmazási tartomány határához tartozó karcsúság számítható a törőfeszültségből:\n",
    "eq2 = (sp.pi/λ0)**2*E - σ0\n",
    "\n",
    "sol2 = sp.solve(eq2)\n",
    "# Az egyenlet pozitív gyökét az eredmény lista második elemébe kapjuk. Erre figyelni kell!\n",
    "λ0_n = sol2[1]\n",
    "\n",
    "λ0_n.evalf(4)"
   ]
  },
  {
   "cell_type": "markdown",
   "metadata": {},
   "source": [
    "Mivel a határhoz tartozó karcsúságnál nagyobb karcsúságú a számított szerkezet, ezért helyesen feltételeztük az Euler egyenlet használatát."
   ]
  }
 ],
 "metadata": {
  "kernelspec": {
   "display_name": "Python 3",
   "language": "python",
   "name": "python3"
  },
  "language_info": {
   "codemirror_mode": {
    "name": "ipython",
    "version": 3
   },
   "file_extension": ".py",
   "mimetype": "text/x-python",
   "name": "python",
   "nbconvert_exporter": "python",
   "pygments_lexer": "ipython3",
   "version": "3.8.2"
  },
  "toc": {
   "base_numbering": 1,
   "nav_menu": {},
   "number_sections": true,
   "sideBar": true,
   "skip_h1_title": false,
   "title_cell": "Table of Contents",
   "title_sidebar": "Contents",
   "toc_cell": false,
   "toc_position": {},
   "toc_section_display": true,
   "toc_window_display": false
  }
 },
 "nbformat": 4,
 "nbformat_minor": 4
}
