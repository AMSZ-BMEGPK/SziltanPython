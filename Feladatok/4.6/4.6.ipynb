{
 "cells": [
  {
   "cell_type": "markdown",
   "metadata": {},
   "source": [
    "# Példa 4.6\n",
    "Határozzuk meg az alábbi feszültségi állapot esetén a maximális csúsztatófeszültséget:\n",
    "\n",
    "$$\n",
    "\\left[\\begin{matrix}σ & τ & 0\\\\τ & 0 & 0\\\\0 & 0 & 0\\end{matrix}\\right].\n",
    "$$"
   ]
  },
  {
   "cell_type": "markdown",
   "metadata": {},
   "source": [
    "# Megoldás\n",
    "\n",
    "A megoldás során szükségünk lesz a `sympy` modulra. A számolások során a feszültségi állapotot jellemző tenzort egy  $3\\times 3$-as mátrixként adhatjuk meg, a benne szereplő $\\tau$ és $\\sigma$ elemeket pedig szimbolikus változóként."
   ]
  },
  {
   "cell_type": "code",
   "execution_count": 1,
   "metadata": {},
   "outputs": [
    {
     "data": {
      "text/latex": [
       "$\\displaystyle \\left[\\begin{matrix}σ & τ & 0\\\\τ & 0 & 0\\\\0 & 0 & 0\\end{matrix}\\right]$"
      ],
      "text/plain": [
       "Matrix([\n",
       "[σ, τ, 0],\n",
       "[τ, 0, 0],\n",
       "[0, 0, 0]])"
      ]
     },
     "execution_count": 1,
     "metadata": {},
     "output_type": "execute_result"
    }
   ],
   "source": [
    "import sympy as sp\n",
    "# Kikötjük, hogy a σ és τ valós értékű változók!\n",
    "σ, τ = sp.symbols('σ,τ')\n",
    "σ_matrix = sp.Matrix([[σ,τ,0],[τ,0,0],[0,0,0]])\n",
    "σ_matrix"
   ]
  },
  {
   "cell_type": "markdown",
   "metadata": {},
   "source": [
    "A feszültségi állapotot jellemző főfeszültségek és a hozzájuk tartozó főirányok megfeleltethetőek a feszültségi állapotot jellemző tenzor sajátértékeivel és sajátvektoraival. Ezt a `sp.eigenvects` függvénnyel könnyen meghatározhatjuk.\n",
    "Eredményül a mátrixhoz tartozó sajátérték/sajátvektor párokat kapjuk. Az `eig_system` 3 elemeből tevődik össze:\n",
    "- A sajátérték\n",
    "- A sajátérték multiplicitása\n",
    "- A sajátértékhez tartozó sajátvektor(ok)\n",
    "\n",
    "Tartsuk észben, hogy egy $3\\times3$-as mátrix esetén ha egy sajátérték multiplicitása nagyobb mint egy, akkor az `sp.eigenvects` nem 3 elemű listát ad eredményül! <br> Ha csak egy mátrixot kell kiértékeljünk, akkor a fent említett mennyiségek 'kézzel' is kiolvashatóak."
   ]
  },
  {
   "cell_type": "code",
   "execution_count": 2,
   "metadata": {},
   "outputs": [
    {
     "data": {
      "text/latex": [
       "$\\displaystyle 0$"
      ],
      "text/plain": [
       "0"
      ]
     },
     "metadata": {},
     "output_type": "display_data"
    },
    {
     "data": {
      "text/latex": [
       "$\\displaystyle \\frac{σ}{2} - \\frac{\\sqrt{σ^{2} + 4 τ^{2}}}{2}$"
      ],
      "text/plain": [
       "σ/2 - sqrt(σ**2 + 4*τ**2)/2"
      ]
     },
     "metadata": {},
     "output_type": "display_data"
    },
    {
     "data": {
      "text/latex": [
       "$\\displaystyle \\frac{σ}{2} + \\frac{\\sqrt{σ^{2} + 4 τ^{2}}}{2}$"
      ],
      "text/plain": [
       "σ/2 + sqrt(σ**2 + 4*τ**2)/2"
      ]
     },
     "metadata": {},
     "output_type": "display_data"
    }
   ],
   "source": [
    "eig_system = σ_matrix.eigenvects()\n",
    "eig_val1 = eig_system[0][0]\n",
    "eig_val2 = eig_system[1][0]\n",
    "eig_val3 = eig_system[2][0]\n",
    "display(eig_val1,eig_val2,eig_val3)"
   ]
  },
  {
   "cell_type": "markdown",
   "metadata": {},
   "source": [
    "A főfeszültségek meghatározásához meg kell tudjuk állapítani a mátrix egyes sajátértékeinek az előjelét. Ebben az esetben el lehet mondani, hogy:\n",
    "\n",
    "$$\\frac{\\sigma}{2}+\\frac{\\sqrt{\\sigma^2+4\\tau^2}}{2} > 0$$\n",
    "$$\\frac{\\sigma}{2}-\\frac{\\sqrt{\\sigma^2+4\\tau^2}}{2} \\leq 0$$\n",
    "Így a főfeszültségek, és az egyenértékű Mohr feszültség:"
   ]
  },
  {
   "cell_type": "code",
   "execution_count": 3,
   "metadata": {},
   "outputs": [
    {
     "data": {
      "text/latex": [
       "$\\displaystyle \\sqrt{σ^{2} + 4 τ^{2}}$"
      ],
      "text/plain": [
       "sqrt(σ**2 + 4*τ**2)"
      ]
     },
     "execution_count": 3,
     "metadata": {},
     "output_type": "execute_result"
    }
   ],
   "source": [
    "σ1 = eig_val3\n",
    "σ2 = eig_val1\n",
    "σ3 = eig_val2\n",
    "σ_Mohr = σ1-σ3\n",
    "σ_Mohr"
   ]
  },
  {
   "cell_type": "markdown",
   "metadata": {},
   "source": [
    "A Mohr elmélet szerint a legnagyobb csúsztatófeszültség egy pontban egyenlő az ottani feszültségi állapotot jellemző egyenértékű Mohr feszültség felével."
   ]
  },
  {
   "cell_type": "code",
   "execution_count": 4,
   "metadata": {},
   "outputs": [
    {
     "data": {
      "text/latex": [
       "$\\displaystyle \\frac{\\sqrt{σ^{2} + 4 τ^{2}}}{2}$"
      ],
      "text/plain": [
       "sqrt(σ**2 + 4*τ**2)/2"
      ]
     },
     "execution_count": 4,
     "metadata": {},
     "output_type": "execute_result"
    }
   ],
   "source": [
    "τ_max = σ_Mohr/2\n",
    "τ_max"
   ]
  }
 ],
 "metadata": {
  "kernelspec": {
   "display_name": "Python 3",
   "language": "python",
   "name": "python3"
  },
  "language_info": {
   "codemirror_mode": {
    "name": "ipython",
    "version": 3
   },
   "file_extension": ".py",
   "mimetype": "text/x-python",
   "name": "python",
   "nbconvert_exporter": "python",
   "pygments_lexer": "ipython3",
   "version": "3.8.2"
  },
  "toc": {
   "base_numbering": 1,
   "nav_menu": {},
   "number_sections": true,
   "sideBar": true,
   "skip_h1_title": false,
   "title_cell": "Table of Contents",
   "title_sidebar": "Contents",
   "toc_cell": false,
   "toc_position": {},
   "toc_section_display": true,
   "toc_window_display": false
  }
 },
 "nbformat": 4,
 "nbformat_minor": 2
}
