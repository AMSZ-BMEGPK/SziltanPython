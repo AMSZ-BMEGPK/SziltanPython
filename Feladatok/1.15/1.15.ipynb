{
 "cells": [
  {
   "cell_type": "markdown",
   "metadata": {},
   "source": [
    "# Példa 1.15\n",
    "Egy tartó keresztmetszetének terhelése tiszta hajlítás. Az $M_{\\rm h}=3\\,\\rm{kNm}$ nagyságú hajlítónyomatéki igénybevétel vektorának irányát és értelmét az alábbi ábra mutatja:\n",
    "<img src=\"Fig_1.15.png\" style=\"width: 400px;\">\n",
    "\n",
    "A derékszögű háromszög alakú keresztmetszet mérete ismert: $a=9 \\,\\rm{cm}$.\n",
    "\n",
    "Feladatok:\n",
    "\n",
    "a) Határozzuk meg a keresztmetszet mentén a hajlításból adódó normálfeszültség eloszlását!\n",
    "\n",
    "b) Mekkora $n$ biztonsági tényezővel felel meg hajlításra a tartó, ha $\\sigma_{\\mathrm{meg}}=150 \\,\\rm{MPa}$?\n",
    "\n",
    "c) Határozzuk meg a zérustengely $x$-tengellyel bezárt $\\beta$ szögét!"
   ]
  },
  {
   "cell_type": "markdown",
   "metadata": {},
   "source": [
    "# Megoldás"
   ]
  },
  {
   "cell_type": "markdown",
   "metadata": {},
   "source": [
    "A megoldás során szimbolikus számításokat fogunk végezni \n",
    "(azaz a konkrét értékeket csak a végén helyettesítjük be, előtte a képleteket írjuk fel és rendezzük át). Ehhez szükségünk van a `sympy` modulra."
   ]
  },
  {
   "cell_type": "code",
   "execution_count": 1,
   "metadata": {
    "ExecuteTime": {
     "end_time": "2020-02-25T11:03:01.216502Z",
     "start_time": "2020-02-25T11:03:00.576289Z"
    }
   },
   "outputs": [],
   "source": [
    "import sympy as sp #betöltjük a sympy modult\n",
    "sp.init_printing() # Eredmény szép megjelenítése (még a python \"gyári\" változói esetében is)"
   ]
  },
  {
   "cell_type": "markdown",
   "metadata": {},
   "source": [
    "Definiáljuk a szükséges szimbólumokat:"
   ]
  },
  {
   "cell_type": "code",
   "execution_count": 2,
   "metadata": {
    "ExecuteTime": {
     "end_time": "2020-02-25T11:03:01.221904Z",
     "start_time": "2020-02-25T11:03:01.219010Z"
    }
   },
   "outputs": [],
   "source": [
    "a,M_h,σ_meg = sp.symbols(\"a,M_h,σ_meg\")"
   ]
  },
  {
   "cell_type": "markdown",
   "metadata": {},
   "source": [
    "A rendelkezésre álló adatok:"
   ]
  },
  {
   "cell_type": "code",
   "execution_count": 3,
   "metadata": {
    "ExecuteTime": {
     "end_time": "2020-02-25T11:03:01.255677Z",
     "start_time": "2020-02-25T11:03:01.223982Z"
    }
   },
   "outputs": [],
   "source": [
    "a_adat = 90 #mm\n",
    "M_h_adat = 3 #kNm\n",
    "σ_meg_adat = 150 #MPa"
   ]
  },
  {
   "cell_type": "markdown",
   "metadata": {},
   "source": [
    "Hogy majd kényelmesebben helyettesíthessünk be, csinálunk belőlük egy listát:"
   ]
  },
  {
   "cell_type": "code",
   "execution_count": 4,
   "metadata": {
    "ExecuteTime": {
     "end_time": "2020-02-25T11:03:01.273934Z",
     "start_time": "2020-02-25T11:03:01.261316Z"
    }
   },
   "outputs": [],
   "source": [
    "osszesadat = [(a,a_adat),(M_h,M_h_adat),(σ_meg,σ_meg_adat)]"
   ]
  },
  {
   "cell_type": "markdown",
   "metadata": {},
   "source": [
    "## a) feladatrész\n",
    "Korábbi levezetés/segédlet (https://www.mm.bme.hu/~kossa/segedletek/sziltan/haromszogfomasodrendu.pdf) alapján:\n",
    "$$I_1=I_{\\tilde{x}}=\\frac {a^4}{24}\\\\$$\n",
    "$$I_2=I_{\\tilde{y}}=\\frac {a^4}{72}$$\n",
    "\n",
    "$\\tilde{x}$ és $\\tilde{y}$ főtegelyek 45°-t zárnak be az $x$-$y$ koordináta rendszerrel.\n",
    "<img src=\"Fig_1.15a.png\" style=\"width: 400px;\">"
   ]
  },
  {
   "cell_type": "code",
   "execution_count": 5,
   "metadata": {
    "ExecuteTime": {
     "end_time": "2020-02-25T11:03:01.619553Z",
     "start_time": "2020-02-25T11:03:01.279513Z"
    }
   },
   "outputs": [
    {
     "data": {
      "image/png": "[encoded data removed]",
      "text/latex": [
       "$\\displaystyle 2733750$"
      ],
      "text/plain": [
       "2733750"
      ]
     },
     "execution_count": 5,
     "metadata": {},
     "output_type": "execute_result"
    }
   ],
   "source": [
    "I1 = a**4/24\n",
    "I1_eredmeny = I1.subs(osszesadat)\n",
    "I1_eredmeny #mm^4  "
   ]
  },
  {
   "cell_type": "code",
   "execution_count": 6,
   "metadata": {
    "ExecuteTime": {
     "end_time": "2020-02-25T11:03:01.934968Z",
     "start_time": "2020-02-25T11:03:01.621471Z"
    }
   },
   "outputs": [
    {
     "data": {
      "image/png": "[encoded data removed]",
      "text/latex": [
       "$\\displaystyle 911250$"
      ],
      "text/plain": [
       "911250"
      ]
     },
     "execution_count": 6,
     "metadata": {},
     "output_type": "execute_result"
    }
   ],
   "source": [
    "I2 = a**4/72\n",
    "I2_eredmeny = I2.subs(osszesadat)\n",
    "I2_eredmeny #mm^4  "
   ]
  },
  {
   "cell_type": "markdown",
   "metadata": {},
   "source": [
    "A terhelés felbontása a főtengelyek koordináta rendszerébe:\n",
    "<img src=\"Fig_1.15b.png\" style=\"width: 400px;\">"
   ]
  },
  {
   "cell_type": "code",
   "execution_count": 7,
   "metadata": {
    "ExecuteTime": {
     "end_time": "2020-02-25T11:03:02.252371Z",
     "start_time": "2020-02-25T11:03:01.936400Z"
    }
   },
   "outputs": [
    {
     "data": {
      "image/png": "[encoded data removed]",
      "text/latex": [
       "$\\displaystyle 2.1213 \\cdot 10^{6}$"
      ],
      "text/plain": [
       "2.1213e+6"
      ]
     },
     "execution_count": 7,
     "metadata": {},
     "output_type": "execute_result"
    }
   ],
   "source": [
    "Mxhullam = 1000000*M_h/sp.sqrt(2) #átváltás Nmm-be; 1000000 = 1e6 -> 1*10^6\n",
    "Myhullam = 1e6*M_h/sp.sqrt(2) #átváltás Nmm-be\n",
    "Mxhullam.subs(osszesadat).evalf(5) #Nmm"
   ]
  },
  {
   "cell_type": "markdown",
   "metadata": {},
   "source": [
    "A főtengelyek körüli hajlításból származó feszültségek:\n",
    "$$\\sigma_z^{(\\tilde{x})}=\\frac{M_{\\tilde{x}}}{I_{\\tilde{x}}}\\tilde{y}, \\\\$$\n",
    "$$\\sigma_z^{(\\tilde{y})}=\\frac{M_{\\tilde{y}}}{I_{\\tilde{y}}}\\tilde{x}.$$\n",
    "Ehhez kelleni fog nekünk $\\tilde{x}$ és $\\tilde{y}$ szimbólumként."
   ]
  },
  {
   "cell_type": "code",
   "execution_count": 8,
   "metadata": {
    "ExecuteTime": {
     "end_time": "2020-02-25T11:03:02.609052Z",
     "start_time": "2020-02-25T11:03:02.253649Z"
    }
   },
   "outputs": [
    {
     "data": {
      "image/png": "[encoded data removed]",
      "text/latex": [
       "$\\displaystyle \\frac{400 \\sqrt{2} \\tilde{y}}{729}$"
      ],
      "text/plain": [
       "400⋅√2⋅\\tilde{y}\n",
       "────────────────\n",
       "      729       "
      ]
     },
     "execution_count": 8,
     "metadata": {},
     "output_type": "execute_result"
    }
   ],
   "source": [
    "xhullam,yhullam = sp.symbols(r\"\\tilde{x},\\tilde{y}\") \n",
    "# \\tilde{}: a hullám LaTeX kódja, hogy szépen írja ki.\n",
    "# Ha LateX kódot írunk a nevekbe, használnunk kell a \"\" előtt az r karaktert.\n",
    "# Ez mondja meg, hogy ez nyers (raw) szöveg, mert alapesetben pl a \\t a tabulátort jelenti, \\n az új sort, stb.\n",
    "\n",
    "σ_z_xhullam = Mxhullam/I1*yhullam #a terhelés kNm-ben, a hossz mm-ben\n",
    "σ_z_xhullam.subs(osszesadat)"
   ]
  },
  {
   "cell_type": "code",
   "execution_count": 9,
   "metadata": {
    "ExecuteTime": {
     "end_time": "2020-02-25T11:03:02.980979Z",
     "start_time": "2020-02-25T11:03:02.610240Z"
    }
   },
   "outputs": [
    {
     "data": {
      "image/png": "[encoded data removed]",
      "text/latex": [
       "$\\displaystyle 2.3279 \\tilde{x}$"
      ],
      "text/plain": [
       "2.3279⋅\\tilde{x}"
      ]
     },
     "execution_count": 9,
     "metadata": {},
     "output_type": "execute_result"
    }
   ],
   "source": [
    "σ_z_yhullam = Myhullam/I2*xhullam #a terhelés kNm-ben, a hossz mm-ben\n",
    "σ_z_yhullam.subs(osszesadat).evalf(5)"
   ]
  },
  {
   "cell_type": "markdown",
   "metadata": {},
   "source": [
    "Az ábrázoláshoz szükségünk van $\\tilde{x}$ és $\\tilde{y}$ minimum és maximum étékére. Ez a második ábra alapján:\n",
    "$$\\tilde{x}_{\\rm min}=\\frac{-2 a}{3 \\sqrt{2}},\\\\$$\n",
    "$$\\tilde{x}_{\\rm max}=\\frac{ a}{3 \\sqrt{2}},$$\n",
    "$$\\tilde{y}_{\\rm min}=\\frac{-a}{\\sqrt{2}},$$\n",
    "$$\\tilde{y}_{\\rm max}=\\frac{ a}{\\sqrt{2}}.$$"
   ]
  },
  {
   "cell_type": "code",
   "execution_count": 10,
   "metadata": {
    "ExecuteTime": {
     "end_time": "2020-02-25T11:03:02.991270Z",
     "start_time": "2020-02-25T11:03:02.982386Z"
    }
   },
   "outputs": [],
   "source": [
    "xhullam_min = sp.Rational(-2,3)*a/sp.sqrt(2)\n",
    "# .Rational(szám1,szám2): 'szám1'/'szám2'-t szimbolikus törtté alakítja (egészeket!).\n",
    "xhullam_min = xhullam_min.subs(osszesadat).evalf() #behelyettesítünk, numerikusan kiszámoljuk\n",
    "xhullam_max = sp.Rational(1,3)*a/sp.sqrt(2)\n",
    "xhullam_max = xhullam_max.subs(osszesadat).evalf()\n",
    "\n",
    "yhullam_min = -a/sp.sqrt(2)\n",
    "yhullam_min = yhullam_min.subs(osszesadat).evalf()\n",
    "yhullam_max = a/sp.sqrt(2)\n",
    "yhullam_max = yhullam_max.subs(osszesadat).evalf()"
   ]
  },
  {
   "cell_type": "markdown",
   "metadata": {},
   "source": [
    "Az ábrázoláshoz betöltjük a szükséges csomagokat:"
   ]
  },
  {
   "cell_type": "code",
   "execution_count": 11,
   "metadata": {
    "ExecuteTime": {
     "end_time": "2020-02-25T11:03:03.348814Z",
     "start_time": "2020-02-25T11:03:02.992551Z"
    }
   },
   "outputs": [],
   "source": [
    "import matplotlib.pyplot as plt #betöltjük a matplotlib modult, amivel plotolhatunk\n",
    "from numpy import linspace # Betöltjük a linspace függvényt a numpy modulból, amivel majd a plotoláshoz \n",
    "                           # készítjük az 'x' értékeket."
   ]
  },
  {
   "cell_type": "markdown",
   "metadata": {},
   "source": [
    "$\\sigma_z^{(\\tilde{x})}$ ábrázolása $\\tilde{y}_{\\rm min}$ és $\\tilde{y}_{\\rm max}$ között:"
   ]
  },
  {
   "cell_type": "code",
   "execution_count": 12,
   "metadata": {
    "ExecuteTime": {
     "end_time": "2020-02-25T11:03:03.954137Z",
     "start_time": "2020-02-25T11:03:03.349888Z"
    }
   },
   "outputs": [
    {
     "data": {
      "image/png": "[encoded data removed]",
      "text/plain": [
       "<Figure size 432x288 with 1 Axes>"
      ]
     },
     "metadata": {
      "needs_background": "light"
     },
     "output_type": "display_data"
    }
   ],
   "source": [
    "# A linspace függvény nem fogad el Sympy-féle lebegőpontos számot, konvertálnunk kell:\n",
    "yhullam_min = float(yhullam_min) #most már sima lebegőpontos szám lesz, elfogadja a linspace\n",
    "yhullam_max = float(yhullam_max)\n",
    "yhullam_ertekek = linspace(yhullam_min,yhullam_max,101) #felveszünk 101 pontot 'yhullam' min. és max. értéke közt\n",
    "σ_z_xhullam_ertekek = [σ_z_xhullam.subs(osszesadat).subs(yhullam,yhullam_ertek).evalf() \\\n",
    "                       for yhullam_ertek in yhullam_ertekek] # értékeket tartalmazó lista: \"list comprehension\"\n",
    "                                                             # többsoros kód: '\\'\n",
    "    \n",
    "# Két .subs egymás után: mivel az 'osszesadat' listában nincs benne 'yhullam', ezért kell még egy .subs, ahol\n",
    "# azt is behelyettesítjük.\n",
    "\n",
    "plt.plot(yhullam_ertekek,σ_z_xhullam_ertekek) \n",
    "plt.grid()\n",
    "plt.xlabel(r\"$\\tilde{y}$\") #a feliratban LateX kód: r karakter előtte\n",
    "plt.ylabel(r\"$\\sigma_z^{(\\tilde{x})}$\")\n",
    "plt.show()"
   ]
  },
  {
   "cell_type": "markdown",
   "metadata": {},
   "source": [
    "$\\sigma_z^{(\\tilde{y})}$ ábrázolása $\\tilde{x}_{\\rm min}$ és $\\tilde{x}_{\\rm max}$ között:"
   ]
  },
  {
   "cell_type": "code",
   "execution_count": 13,
   "metadata": {
    "ExecuteTime": {
     "end_time": "2020-02-25T11:03:04.174357Z",
     "start_time": "2020-02-25T11:03:03.955287Z"
    }
   },
   "outputs": [
    {
     "data": {
      "image/png": "[encoded data removed]",
      "text/plain": [
       "<Figure size 432x288 with 1 Axes>"
      ]
     },
     "metadata": {
      "needs_background": "light"
     },
     "output_type": "display_data"
    }
   ],
   "source": [
    "#a linspace függvény nem fogad el Sympy-féle lebegőpontos számot, konvertálnunk kell:\n",
    "xhullam_min=float(xhullam_min) #most már sima lebegőpontos szám lesz, elfogadja a linspace\n",
    "xhullam_max=float(xhullam_max)\n",
    "xhullam_ertekek=linspace(xhullam_min,xhullam_max,101) #felveszünk 101 pontot 'xhullam' min. és max. értéke közt\n",
    "σ_z_yhullam_ertekek = [σ_z_yhullam.subs(osszesadat).subs(xhullam,xhullam_ertek).evalf() \\\n",
    "                       for xhullam_ertek in xhullam_ertekek] # többsoros kód: '\\' segítségével\n",
    "\n",
    "plt.plot(xhullam_ertekek,σ_z_yhullam_ertekek) \n",
    "plt.grid()\n",
    "plt.xlabel(r\"$\\tilde{x}$\") #a feliratban LateX kód: r karakter előtte\n",
    "plt.ylabel(r\"$\\sigma_z^{(\\tilde{y})}$\")\n",
    "plt.show()"
   ]
  },
  {
   "cell_type": "markdown",
   "metadata": {},
   "source": [
    "Megjegyzés: a  [list comprehension](https://www.datacamp.com/community/tutorials/python-list-comprehension?utm_source=adwords_ppc&utm_campaignid=1455363063&utm_adgroupid=65083631748&utm_device=c&utm_keyword=&utm_matchtype=b&utm_network=g&utm_adpostion=&utm_creative=332602034364&utm_targetid=dsa-486527602543&utm_loc_interest_ms=&utm_loc_physical_ms=9063082&gclid=EAIaIQobChMIrZvm-9Hi5wIVR7TtCh0n4w3nEAAYASAAEgJNk_D_BwE)-t először az 1.10-es feladat kidolgozásánál használtuk, így részletesebb magyarázat annál a feladatnál található."
   ]
  },
  {
   "cell_type": "markdown",
   "metadata": {},
   "source": [
    "## b) feladatrész\n",
    "A legnagyobb feszültség valamelyik sarokban várható.\n",
    "\n",
    "A pont: $\\tilde{x}=\\frac{-2 a}{3 \\sqrt{2}}$, $\\tilde{y}=0.$\n",
    "\n",
    "B pont: $\\tilde{x}=\\frac{a}{3 \\sqrt{2}}$, $\\tilde{y}=\\frac{-a}{\\sqrt{2}}.$\n",
    "\n",
    "C pont: $\\tilde{x}=\\frac{a}{3 \\sqrt{2}}$, $\\tilde{y}=\\frac{a}{\\sqrt{2}}.$\n",
    "\n",
    "A feszültségeket $\\sigma_z^{(\\tilde{x})}$ és $\\sigma_z^{(\\tilde{y})}$ összegeként számolhatjuk.\n",
    "\n",
    "$\\sigma_{\\rm A}$ kiszámítása:"
   ]
  },
  {
   "cell_type": "code",
   "execution_count": 14,
   "metadata": {
    "ExecuteTime": {
     "end_time": "2020-02-25T11:03:04.451537Z",
     "start_time": "2020-02-25T11:03:04.175776Z"
    }
   },
   "outputs": [
    {
     "data": {
      "image/png": "[encoded data removed]",
      "text/latex": [
       "$\\displaystyle -98.765$"
      ],
      "text/plain": [
       "-98.765"
      ]
     },
     "execution_count": 14,
     "metadata": {},
     "output_type": "execute_result"
    }
   ],
   "source": [
    "σ_A = σ_z_xhullam + σ_z_yhullam #feszültségek összege. 'σ_A'-ban 3 szimbolikus változó van, ezek helyére behelyettesítünk:\n",
    "σ_A = σ_A.subs(xhullam,sp.Rational(-2,3)*a/sp.sqrt(2)).subs(yhullam,0) #Két .subs egymás után: egyszer az egyik\n",
    "# változót helyettesítjük be, majd a másikat. Jelen esetben először 'xhullám' helyére írjuk be az adott\n",
    "# kifejezést, ezt követően 'yhullám' helyére a 0-t.\n",
    "σ_A = σ_A.subs(osszesadat) #a maradék adatot is beírjuk\n",
    "σ_A.evalf(5) #MPa"
   ]
  },
  {
   "cell_type": "markdown",
   "metadata": {},
   "source": [
    "$\\sigma_{\\rm B}$ kiszámítása:"
   ]
  },
  {
   "cell_type": "code",
   "execution_count": 15,
   "metadata": {
    "ExecuteTime": {
     "end_time": "2020-02-25T11:03:04.787944Z",
     "start_time": "2020-02-25T11:03:04.452834Z"
    }
   },
   "outputs": [
    {
     "data": {
      "image/png": "[encoded data removed]",
      "text/latex": [
       "$\\displaystyle 0$"
      ],
      "text/plain": [
       "0"
      ]
     },
     "execution_count": 15,
     "metadata": {},
     "output_type": "execute_result"
    }
   ],
   "source": [
    "σ_B = σ_z_xhullam + σ_z_yhullam #feszültségek összege\n",
    "σ_B = σ_B.subs(xhullam,sp.Rational(1,3)*a/sp.sqrt(2)).subs(yhullam,-a/sp.sqrt(2)) #koordináták behelyettesítése\n",
    "σ_B = σ_B.subs(osszesadat) #adatok beírása\n",
    "σ_B.evalf(5) #MPa"
   ]
  },
  {
   "cell_type": "markdown",
   "metadata": {},
   "source": [
    "$\\sigma_{\\rm C}$ kiszámítása:"
   ]
  },
  {
   "cell_type": "code",
   "execution_count": 16,
   "metadata": {
    "ExecuteTime": {
     "end_time": "2020-02-25T11:03:05.119476Z",
     "start_time": "2020-02-25T11:03:04.789202Z"
    }
   },
   "outputs": [
    {
     "data": {
      "image/png": "[encoded data removed]",
      "text/latex": [
       "$\\displaystyle 98.765$"
      ],
      "text/plain": [
       "98.765"
      ]
     },
     "execution_count": 16,
     "metadata": {},
     "output_type": "execute_result"
    }
   ],
   "source": [
    "σ_C = σ_z_xhullam + σ_z_yhullam #feszültségek összege\n",
    "σ_C = σ_C.subs(xhullam,sp.Rational(1,3)*a/sp.sqrt(2)).subs(yhullam,a/sp.sqrt(2)) #koordináták behelyettesítése\n",
    "σ_C = σ_C.subs(osszesadat) #adatok beírása\n",
    "σ_C.evalf(5) #MPa"
   ]
  },
  {
   "cell_type": "markdown",
   "metadata": {},
   "source": [
    "A maximális feszültség értékét természetesen \"látjuk\", és így beírhatnánk manuálisan. Ha teljesen automatizálni szeretnénk a számítást, akkor meg kell oldanunk ennek a lépésnek is az automatizálását."
   ]
  },
  {
   "cell_type": "code",
   "execution_count": 17,
   "metadata": {
    "ExecuteTime": {
     "end_time": "2020-02-25T11:03:05.460150Z",
     "start_time": "2020-02-25T11:03:05.120879Z"
    }
   },
   "outputs": [
    {
     "data": {
      "image/png": "[encoded data removed]",
      "text/latex": [
       "$\\displaystyle 98.765$"
      ],
      "text/plain": [
       "98.765"
      ]
     },
     "execution_count": 17,
     "metadata": {},
     "output_type": "execute_result"
    }
   ],
   "source": [
    "σ_max = max([sp.Abs(σ_A),sp.Abs(σ_B),sp.Abs(σ_C)]) # A  jelen esetben beírt 3 érték közül a legnagyobbat \n",
    "# adja vissza. A feszültségek miatt mi az abszolút értékre vagyunk kíváncsiak.\n",
    "σ_max.evalf(5) #MPa"
   ]
  },
  {
   "cell_type": "markdown",
   "metadata": {},
   "source": [
    "A biztonsági tényező:"
   ]
  },
  {
   "cell_type": "code",
   "execution_count": 18,
   "metadata": {
    "ExecuteTime": {
     "end_time": "2020-02-25T11:03:05.775314Z",
     "start_time": "2020-02-25T11:03:05.465497Z"
    }
   },
   "outputs": [
    {
     "data": {
      "image/png": "[encoded data removed]",
      "text/latex": [
       "$\\displaystyle 1.5187$"
      ],
      "text/plain": [
       "1.5187"
      ]
     },
     "execution_count": 18,
     "metadata": {},
     "output_type": "execute_result"
    }
   ],
   "source": [
    "n = σ_meg/σ_max\n",
    "n = n.subs(osszesadat)\n",
    "n.evalf(5)"
   ]
  },
  {
   "cell_type": "markdown",
   "metadata": {},
   "source": [
    "## c) feladatrész\n",
    "\n",
    "Zérustengely: $$\\sigma_z^{(\\tilde{x})}+\\sigma_z^{(\\tilde{y})}=0.$$\n",
    "Ezt az egyenletet megoldjuk $\\tilde{y}$-ra:"
   ]
  },
  {
   "cell_type": "code",
   "execution_count": 19,
   "metadata": {
    "ExecuteTime": {
     "end_time": "2020-02-25T11:03:06.122480Z",
     "start_time": "2020-02-25T11:03:05.777046Z"
    }
   },
   "outputs": [
    {
     "data": {
      "image/png": "[encoded data removed]",
      "text/latex": [
       "$\\displaystyle \\left[ - 3.0 \\tilde{x}\\right]$"
      ],
      "text/plain": [
       "[-3.0⋅\\tilde{x}]"
      ]
     },
     "execution_count": 19,
     "metadata": {},
     "output_type": "execute_result"
    }
   ],
   "source": [
    "zerust_egyenl_megoldas = sp.solve(σ_z_xhullam + σ_z_yhullam,yhullam) \n",
    "zerust_egyenl_megoldas"
   ]
  },
  {
   "cell_type": "markdown",
   "metadata": {},
   "source": [
    "Láthatjuk, hogy 1 megoldást kaptunk (1 elemű a kapott lista). Ezt \"kicsomagoljuk\":"
   ]
  },
  {
   "cell_type": "code",
   "execution_count": 20,
   "metadata": {
    "ExecuteTime": {
     "end_time": "2020-02-25T11:03:06.460749Z",
     "start_time": "2020-02-25T11:03:06.123827Z"
    },
    "scrolled": true
   },
   "outputs": [
    {
     "data": {
      "image/png": "[encoded data removed]",
      "text/latex": [
       "$\\displaystyle - 3.0 \\tilde{x}$"
      ],
      "text/plain": [
       "-3.0⋅\\tilde{x}"
      ]
     },
     "execution_count": 20,
     "metadata": {},
     "output_type": "execute_result"
    }
   ],
   "source": [
    "zerust_y = zerust_egyenl_megoldas[0]\n",
    "zerust_y"
   ]
  },
  {
   "cell_type": "markdown",
   "metadata": {},
   "source": [
    "A keresett $\\beta$ szög:\n",
    "<img src=\"Fig_1.15d.png\" style=\"width: 400px;\">"
   ]
  },
  {
   "cell_type": "markdown",
   "metadata": {},
   "source": [
    "Az előbb kapott egyenes egyenletében $\\tilde{x}$ együtthatója az ábrán lévő $\\tilde{\\beta}$ szög tangensével egyezik meg. \"Valami\" együtthatóit a `coeff(valami)` parancsal kaphatjuk meg."
   ]
  },
  {
   "cell_type": "code",
   "execution_count": 21,
   "metadata": {
    "ExecuteTime": {
     "end_time": "2020-02-25T11:03:06.759375Z",
     "start_time": "2020-02-25T11:03:06.462238Z"
    }
   },
   "outputs": [
    {
     "data": {
      "image/png": "[encoded data removed]",
      "text/latex": [
       "$\\displaystyle -3.0$"
      ],
      "text/plain": [
       "-3.00000000000000"
      ]
     },
     "execution_count": 21,
     "metadata": {},
     "output_type": "execute_result"
    }
   ],
   "source": [
    "egyutthato = zerust_y.coeff(xhullam)\n",
    "egyutthato"
   ]
  },
  {
   "cell_type": "code",
   "execution_count": 22,
   "metadata": {
    "ExecuteTime": {
     "end_time": "2020-02-25T11:03:07.350238Z",
     "start_time": "2020-02-25T11:03:06.760680Z"
    }
   },
   "outputs": [
    {
     "data": {
      "image/png": "[encoded data removed]",
      "text/latex": [
       "$\\displaystyle -71.565$"
      ],
      "text/plain": [
       "-71.565"
      ]
     },
     "execution_count": 22,
     "metadata": {},
     "output_type": "execute_result"
    }
   ],
   "source": [
    "βhullam = sp.atan(egyutthato) #arkusz tangens\n",
    "βhullam = sp.deg(βhullam) #átváltjuk fokba\n",
    "βhullam.evalf(5) #fok"
   ]
  },
  {
   "cell_type": "markdown",
   "metadata": {},
   "source": [
    "Az ábra alapján: $\\beta=\\tilde{\\beta}+45°$"
   ]
  },
  {
   "cell_type": "code",
   "execution_count": 23,
   "metadata": {
    "ExecuteTime": {
     "end_time": "2020-02-25T11:03:07.934698Z",
     "start_time": "2020-02-25T11:03:07.351553Z"
    }
   },
   "outputs": [
    {
     "data": {
      "image/png": "[encoded data removed]",
      "text/latex": [
       "$\\displaystyle -26.565$"
      ],
      "text/plain": [
       "-26.565"
      ]
     },
     "execution_count": 23,
     "metadata": {},
     "output_type": "execute_result"
    }
   ],
   "source": [
    "β = βhullam + 45\n",
    "β.evalf(5) #fok"
   ]
  },
  {
   "cell_type": "markdown",
   "metadata": {},
   "source": [
    "## + Extra kíváncsiaknak"
   ]
  },
  {
   "cell_type": "markdown",
   "metadata": {},
   "source": [
    "A `sympy` csomag `solve` függvénye több változós egyenletek esetében `dictionary`-ként kezeli. Ezt elő lehet hívni 1 változó esetére is.\n",
    "\n",
    "A `dictionary` gyakorlatilag egy olyan lista, amelyet nem az elemeinek sorszáma hanem az elemeinek a címkéje (`key`) alapján lehet indexelni:\n",
    "\n",
    "Például:"
   ]
  },
  {
   "cell_type": "code",
   "execution_count": 24,
   "metadata": {
    "ExecuteTime": {
     "end_time": "2020-02-25T11:03:07.939252Z",
     "start_time": "2020-02-25T11:03:07.935982Z"
    }
   },
   "outputs": [
    {
     "data": {
      "text/plain": [
       "'Ford'"
      ]
     },
     "execution_count": 24,
     "metadata": {},
     "output_type": "execute_result"
    }
   ],
   "source": [
    "thisdict = {\n",
    "  \"brand\": \"Ford\",\n",
    "  \"model\": \"Mustang\",\n",
    "  \"year\": 1964\n",
    "} # a 'dictionary'-t kapcsos zárójelbe kell tenni ({...})\n",
    "\n",
    "thisdict[\"brand\"]"
   ]
  },
  {
   "cell_type": "markdown",
   "metadata": {},
   "source": [
    "Egyenletrendszer esetén a `solve` egy olyan `dictionary`-t hoz létre amiben a változó nevét (szimbólumát) használja címkének."
   ]
  },
  {
   "cell_type": "code",
   "execution_count": 25,
   "metadata": {
    "ExecuteTime": {
     "end_time": "2020-02-25T11:03:08.572296Z",
     "start_time": "2020-02-25T11:03:07.940720Z"
    }
   },
   "outputs": [
    {
     "data": {
      "image/png": "[encoded data removed]",
      "text/latex": [
       "$\\displaystyle \\left[ \\left\\{ \\tilde{y} : - 3.0 \\tilde{x}\\right\\}\\right]$"
      ],
      "text/plain": [
       "[{\\tilde{y}: -3.0⋅\\tilde{x}}]"
      ]
     },
     "execution_count": 25,
     "metadata": {},
     "output_type": "execute_result"
    }
   ],
   "source": [
    "zerust_egyenl_megoldas = sp.solve(σ_z_xhullam + σ_z_yhullam,yhullam,dict = True) \n",
    "# dict=True: nem csak magát eredményt adja vissza, hanem odaírja a kifejezett változót is, ún. dictionaryt csinál.\n",
    "zerust_egyenl_megoldas #megj: a LaTeX kód fordításához szükséges az `sp.init_printing()` parancs a dokumentum elején"
   ]
  },
  {
   "cell_type": "markdown",
   "metadata": {},
   "source": [
    "Láthatjuk, hogy 1 megoldást kaptunk (1 elemű a kapott lista). Ezt \"kicsomagoljuk\":"
   ]
  },
  {
   "cell_type": "code",
   "execution_count": 26,
   "metadata": {
    "ExecuteTime": {
     "end_time": "2020-02-25T11:03:09.184183Z",
     "start_time": "2020-02-25T11:03:08.573732Z"
    },
    "scrolled": true
   },
   "outputs": [
    {
     "data": {
      "image/png": "[encoded data removed]",
      "text/latex": [
       "$\\displaystyle - 3.0 \\tilde{x}$"
      ],
      "text/plain": [
       "-3.0⋅\\tilde{x}"
      ]
     },
     "execution_count": 26,
     "metadata": {},
     "output_type": "execute_result"
    }
   ],
   "source": [
    "zerust_y = zerust_egyenl_megoldas[0][yhullam] # [0]: az első megoldást nézzük (lehetne több is); \n",
    "                                              # [0][yhullam]: az első megoldáson belül az 'yhullam' értékére \n",
    "                                              # vagyunk kíváncsiak. Lehetne többváltozós egyenletrendszer is,\n",
    "                                              # változónként több megoldással.\n",
    "zerust_y"
   ]
  }
 ],
 "metadata": {
  "kernelspec": {
   "display_name": "Python 3",
   "language": "python",
   "name": "python3"
  },
  "language_info": {
   "codemirror_mode": {
    "name": "ipython",
    "version": 3
   },
   "file_extension": ".py",
   "mimetype": "text/x-python",
   "name": "python",
   "nbconvert_exporter": "python",
   "pygments_lexer": "ipython3",
   "version": "3.7.3"
  },
  "toc": {
   "base_numbering": 1,
   "nav_menu": {},
   "number_sections": true,
   "sideBar": true,
   "skip_h1_title": false,
   "title_cell": "Table of Contents",
   "title_sidebar": "Contents",
   "toc_cell": false,
   "toc_position": {},
   "toc_section_display": true,
   "toc_window_display": false
  }
 },
 "nbformat": 4,
 "nbformat_minor": 4
}
