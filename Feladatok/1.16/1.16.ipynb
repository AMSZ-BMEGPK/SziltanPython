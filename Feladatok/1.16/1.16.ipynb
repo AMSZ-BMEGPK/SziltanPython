{
 "cells": [
  {
   "cell_type": "markdown",
   "metadata": {},
   "source": [
    "# Példa 1.16\n",
    "- Határozzuk meg a megengedhető $P$ terhelés nagyságát, ha az AC keresztmetszeben a hajlításból származó normálfeszültségre $\\sigma_{\\rm meg}=200 \\, {\\rm MPa}$.\n",
    "- Határozzuk meg a semleges tengely távolságát a C ponttól\n",
    "<img src=\"Fig_1.16.PNG\" style=\"width: 400px;\">"
   ]
  },
  {
   "cell_type": "markdown",
   "metadata": {},
   "source": [
    "## Megoldás\n",
    "Első lépésként importáljuk a szimbolikus számításhoz szükséges modult, és felvesszük a megadott adatokat."
   ]
  },
  {
   "cell_type": "code",
   "execution_count": 19,
   "metadata": {
    "ExecuteTime": {
     "end_time": "2020-02-25T08:36:10.017683Z",
     "start_time": "2020-02-25T08:36:09.451731Z"
    }
   },
   "outputs": [
    {
     "data": {
      "image/png": "[encoded data removed]",
      "text/latex": [
       "$\\displaystyle 3.375$"
      ],
      "text/plain": [
       "3.375"
      ]
     },
     "execution_count": 19,
     "metadata": {},
     "output_type": "execute_result"
    }
   ],
   "source": [
    "import sympy as sp\n",
    "sp.init_printing() # Eredmény szép megjelenítése (még a python \"gyári\" változói esetében is)\n",
    "\n",
    "# Szimbolikus változókat definiálunk olyan változókra, amik vagy paraméterek vagy ismeretlen értékűek\n",
    "y, P = sp.symbols(\"y,P\") \n",
    "\n",
    "# Adatok\n",
    "R = 337.5 #mm\n",
    "h = 100 #mm\n",
    "A = 3750 #mm^2\n",
    "I_x = 3320312.5 #mm^4\n",
    "σ_meg = 200 #MPa\n",
    "\n",
    "R/h"
   ]
  },
  {
   "cell_type": "markdown",
   "metadata": {},
   "source": [
    "A megfelelő feszültségi elmélet kiválasztásához vizsgálnunk kell az $R/h$ hányados értékét. Jelen esetben $2<R/h<8$, így a Grashof-képletet használhatjuk, ahol az $I_{0}$ redukált másodrendű nyomatékot közelíthetjük a hajlítás tengelyére számolt másodrendű nyomatékkal. <br> A hajlítónyomaték a vizsgált keresztmetszetben:"
   ]
  },
  {
   "cell_type": "code",
   "execution_count": 20,
   "metadata": {
    "ExecuteTime": {
     "end_time": "2020-02-25T08:36:12.593044Z",
     "start_time": "2020-02-25T08:36:12.066261Z"
    }
   },
   "outputs": [
    {
     "data": {
      "image/png": "[encoded data removed]",
      "text/latex": [
       "$\\displaystyle - 600 P$"
      ],
      "text/plain": [
       "-600⋅P"
      ]
     },
     "execution_count": 20,
     "metadata": {},
     "output_type": "execute_result"
    }
   ],
   "source": [
    "M_h = -600*P\n",
    "M_h"
   ]
  },
  {
   "cell_type": "markdown",
   "metadata": {},
   "source": [
    "A Grashof-képlettel meghatározhatóak a keresztmetszet pontjaiban a hajlítás hatására ébredő feszültségek:\n",
    "$$\\sigma_{\\rm h}(y)=\\frac{M_{\\rm h}}{R A}+\\frac{M_{\\rm h}}{I_{\\rm x}}y\\frac{R}{R+y}.$$"
   ]
  },
  {
   "cell_type": "code",
   "execution_count": 21,
   "metadata": {
    "ExecuteTime": {
     "end_time": "2020-02-25T08:36:13.546460Z",
     "start_time": "2020-02-25T08:36:12.943647Z"
    }
   },
   "outputs": [
    {
     "data": {
      "image/png": "[encoded data removed]",
      "text/latex": [
       "$\\displaystyle - \\frac{0.060988 P y}{y + 337.5} - 0.00047407 P$"
      ],
      "text/plain": [
       "  0.060988⋅P⋅y               \n",
       "- ──────────── - 0.00047407⋅P\n",
       "   y + 337.5                 "
      ]
     },
     "execution_count": 21,
     "metadata": {},
     "output_type": "execute_result"
    }
   ],
   "source": [
    "σ_h = M_h/(R*A) + M_h/I_x*y*R/(R+y)\n",
    "\n",
    "# Megj.: Az '.evalf(5)' metódus kerekíti 5 értékes jegyre a 'float' típusú változókat.\n",
    "#        Mivel csak kiíráshoz használjuk, így a tárolt kifejezésünket ez nem módosítja.\n",
    "\n",
    "σ_h.evalf(5)"
   ]
  },
  {
   "cell_type": "markdown",
   "metadata": {},
   "source": [
    "Hajlításkor a maximális feszültség valamely szélső szálban ébred, így $\\sigma_{\\rm h}$ -t kiértékeljük ezeken a helyeken:"
   ]
  },
  {
   "cell_type": "code",
   "execution_count": 22,
   "metadata": {
    "ExecuteTime": {
     "end_time": "2020-02-25T08:36:15.368343Z",
     "start_time": "2020-02-25T08:36:14.304434Z"
    }
   },
   "outputs": [
    {
     "data": {
      "image/png": "[encoded data removed]",
      "text/latex": [
       "$\\displaystyle 0.0071495 P$"
      ],
      "text/plain": [
       "0.0071495⋅P"
      ]
     },
     "metadata": {},
     "output_type": "display_data"
    },
    {
     "data": {
      "image/png": "[encoded data removed]",
      "text/latex": [
       "$\\displaystyle - 0.010003 P$"
      ],
      "text/plain": [
       "-0.010003⋅P"
      ]
     },
     "metadata": {},
     "output_type": "display_data"
    }
   ],
   "source": [
    "# A görbületi középponthoz közelebbi szélső szál\n",
    "σ_h1 = σ_h.subs(y,-37.5)\n",
    "\n",
    "# A görbületi középponttól távolabb eső szélső szál\n",
    "σ_h2 = σ_h.subs(y,62.5)\n",
    "\n",
    "# Megj.: Ha egy cellából több kifejezést szeretnénk kiírni, akkor erre explicit utasítást kell adni a Pythonnak.\n",
    "#        Erre a standard metódus a 'print()', de notebookban használható a 'display()' is, ami vizuálisan szebben ír ki (formázza).\n",
    "\n",
    "display(σ_h1.evalf(5))\n",
    "display(σ_h2.evalf(5))"
   ]
  },
  {
   "cell_type": "markdown",
   "metadata": {},
   "source": [
    "Látható, hogy a görbületi középponttól távolabbi szálban ébred az __abszolút értékben__ nagyobb feszültség ($ \\sigma_{\\rm h2} = \\sigma_{\\rm {h,max}}$), így $P$ maximális nagyságát ezekben a pontokban határozzuk meg. $P$ az alábbi egyenletből számolható ki:\n",
    "$$ \\sigma_{\\rm {h, max}} = \\sigma_{\\rm meg}.$$"
   ]
  },
  {
   "cell_type": "code",
   "execution_count": 30,
   "metadata": {
    "ExecuteTime": {
     "end_time": "2020-02-25T08:42:45.564807Z",
     "start_time": "2020-02-25T08:42:44.465968Z"
    }
   },
   "outputs": [
    {
     "data": {
      "image/png": "[encoded data removed]",
      "text/latex": [
       "$\\displaystyle 19993.0$"
      ],
      "text/plain": [
       "19993."
      ]
     },
     "metadata": {},
     "output_type": "display_data"
    },
    {
     "data": {
      "image/png": "[encoded data removed]",
      "text/latex": [
       "$\\displaystyle 19993.0$"
      ],
      "text/plain": [
       "19993."
      ]
     },
     "metadata": {},
     "output_type": "display_data"
    }
   ],
   "source": [
    "# Definiáljuk a nullára rendezett egyenletet, amit meg szeretnénk oldani.\n",
    "\n",
    "megengedheto_eq = σ_h2-σ_meg\n",
    "\n",
    "#Ezt követően megoldjuk az egyenletet P-re (kifejezzük P-t), és a megoldást eltároljuk a 'P_meg_list' változóban\n",
    "P_meg_list = sp.solve(megengedheto_eq, P) # A parancs első argumentuma a megoldandó egyenlet,\n",
    "                                          # a második pedig a kérdéses változó, amely szerint megoldjuk.\n",
    "    \n",
    "# A kapott eredmény egy 'list' objektum, melynek több eleme lenne, ha az egyenletnek 1-nél több gyöke lenne.\n",
    "# 'P_meg' legyen egyenlő a lista első elemének (azaz indexelés alapján a 0.-nak) abszolút értékével:\n",
    "\n",
    "P_meg = abs(P_meg_list[0]) # Az abszolút értéke kell, ugyanis méretezésnél a feszültség absz. értékét vizsgáljuk.\n",
    "display(P_meg.evalf(5))\n",
    "\n",
    "# Egyszerű egyenletek esetén kézzel is rendezhető az egyenlet:\n",
    "P_meg = abs(σ_meg/σ_h2*P)\n",
    "display(P_meg.evalf(5))"
   ]
  },
  {
   "cell_type": "markdown",
   "metadata": {},
   "source": [
    "A megengedett terhelő erő: $P = 19993\\,\\rm N.$"
   ]
  },
  {
   "cell_type": "markdown",
   "metadata": {},
   "source": [
    "A semleges tengelyben a hajlításból származó feszültség nulla, ami felírható a következő egyenlet formájában:\n",
    "$$\\sigma_{\\rm h}(y^*)=\\frac{M_{\\rm h}}{R A}+\\frac{M_{\\rm h}}{I_{\\rm 0}}y^*\\frac{R}{R+y^*}=0,$$\n",
    "ahol\n",
    "$$M_{\\rm h} = -600 P_{\\rm {meg}}.$$"
   ]
  },
  {
   "cell_type": "code",
   "execution_count": 37,
   "metadata": {
    "ExecuteTime": {
     "end_time": "2020-02-25T08:47:58.215757Z",
     "start_time": "2020-02-25T08:47:57.613012Z"
    }
   },
   "outputs": [
    {
     "data": {
      "image/png": "[encoded data removed]",
      "text/latex": [
       "$\\displaystyle \\left[ -2.603221415608\\right]$"
      ],
      "text/plain": [
       "[-2.603221415608]"
      ]
     },
     "execution_count": 37,
     "metadata": {},
     "output_type": "execute_result"
    }
   ],
   "source": [
    "M_h = -600*P_meg\n",
    "egyenlet = M_h/(R*A) + M_h/I_x*y*R/(R+y)\n",
    "\n",
    "# Megoldjuk az egyenletet 'y'-ra, és tároljuk a 'sol' változóban\n",
    "\n",
    "# Az eredményt ismét egy  'list' objektumban kapjuk.\n",
    "sol = sp.solve(egyenlet, y)\n",
    "sol"
   ]
  },
  {
   "cell_type": "code",
   "execution_count": 35,
   "metadata": {
    "ExecuteTime": {
     "end_time": "2020-02-25T08:47:35.390901Z",
     "start_time": "2020-02-25T08:47:34.833562Z"
    }
   },
   "outputs": [
    {
     "data": {
      "image/png": "[encoded data removed]",
      "text/latex": [
       "$\\displaystyle 59.897$"
      ],
      "text/plain": [
       "59.897"
      ]
     },
     "execution_count": 35,
     "metadata": {},
     "output_type": "execute_result"
    }
   ],
   "source": [
    "# 'y*' legyen egyenlő a 'sol' nevű list első elemével.\n",
    "y_star = sol[0]\n",
    "\n",
    "# A semleges szál távolsága a C ponttól:\n",
    "d_CY = 100 - 37.5 + y_star\n",
    "\n",
    "d_CY.evalf(5)"
   ]
  }
 ],
 "metadata": {
  "kernelspec": {
   "display_name": "Python 3",
   "language": "python",
   "name": "python3"
  },
  "language_info": {
   "codemirror_mode": {
    "name": "ipython",
    "version": 3
   },
   "file_extension": ".py",
   "mimetype": "text/x-python",
   "name": "python",
   "nbconvert_exporter": "python",
   "pygments_lexer": "ipython3",
   "version": "3.7.3"
  },
  "toc": {
   "base_numbering": 1,
   "nav_menu": {},
   "number_sections": true,
   "sideBar": true,
   "skip_h1_title": false,
   "title_cell": "Table of Contents",
   "title_sidebar": "Contents",
   "toc_cell": false,
   "toc_position": {},
   "toc_section_display": true,
   "toc_window_display": false
  }
 },
 "nbformat": 4,
 "nbformat_minor": 2
}
