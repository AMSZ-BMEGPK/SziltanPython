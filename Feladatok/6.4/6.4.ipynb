{
 "cells": [
  {
   "cell_type": "markdown",
   "metadata": {},
   "source": [
    "# Példa 6.4\n",
    "Egy $20 \\,\\rm{mm}$ átmérőjű acél tengelyt az A és D csapágyak támasztják meg, melyek engedik a tengely kismértékű szögelfordulását. Az A csapágy gátolja a tengelyirányú elmozdulást, míg a D csapágy engedélyezi. A tengely terhelése a B és C szíjtárcsákról átadódó erők és nyomatékok. Határozzuk meg a tengelyben ébredő maximális Mohr és HMH-féle egyenértékű feszültségeket! Mekkora legyen a tengely átmérője ha $\\sigma_{\\mathrm{meg}}=300\\,\\rm{MPa}$?\n",
    "\n",
    "<img src=\"Fig_6.4.png\" style=\"width: 600px;\">"
   ]
  },
  {
   "cell_type": "markdown",
   "metadata": {},
   "source": [
    "# Megoldás\n",
    "\n",
    "Szükségünk lesz a `sympy` modulra."
   ]
  },
  {
   "cell_type": "code",
   "execution_count": 1,
   "metadata": {
    "ExecuteTime": {
     "end_time": "2020-04-02T07:53:03.804422Z",
     "start_time": "2020-04-02T07:53:02.945597Z"
    }
   },
   "outputs": [],
   "source": [
    "import sympy as sp\n",
    "sp.init_printing()\n",
    "\n",
    "F_A, F_D, x = sp.symbols(\"F_A, F_D, x\")"
   ]
  },
  {
   "cell_type": "markdown",
   "metadata": {},
   "source": [
    "Határozzuk meg a terheléseket!\n",
    "\n",
    "<img src=\"Fig_6.4b.png\" style=\"width: 600px;\">\n",
    "\n",
    "Az $F_{\\rm{A}}$ és $F_{\\rm{D}}$ erők meghatározásának menete:\n",
    "- Felírjuk a nyomatéki egyenletet az A pontra.\n",
    "- Kiszámítjuk $F_{\\rm{D}}$-t.\n",
    "- A $z$ irányú erőegyensúly alapján kiszámítjuk $F_{\\rm{A}}$-t.\n",
    "\n",
    "Természetesen ezek az egyenletek kézzel is könnyedén megoldhatóak lennének."
   ]
  },
  {
   "cell_type": "code",
   "execution_count": 2,
   "metadata": {
    "ExecuteTime": {
     "end_time": "2020-04-02T07:53:04.775300Z",
     "start_time": "2020-04-02T07:53:03.806183Z"
    }
   },
   "outputs": [
    {
     "data": {
      "image/png": "[encoded data removed]",
      "text/latex": [
       "$\\displaystyle \\left[ 1575\\right]$"
      ],
      "text/plain": [
       "[1575]"
      ]
     },
     "metadata": {},
     "output_type": "display_data"
    },
    {
     "data": {
      "image/png": "[encoded data removed]",
      "text/latex": [
       "$\\displaystyle 1575$"
      ],
      "text/plain": [
       "1575"
      ]
     },
     "execution_count": 2,
     "metadata": {},
     "output_type": "execute_result"
    }
   ],
   "source": [
    "MA = -150*2400-450*1300+600*F_D #nyomatéki egyenlet az A pontra\n",
    "F_D_megoldas = sp.solve(MA,F_D) \n",
    "display(F_D_megoldas) #egy 1 elemű listát kapunk\n",
    "\n",
    "F_D_megoldas = F_D_megoldas[0] #az egyszerűség kedvéért kiszedjük a megoldást a listából\n",
    "F_D_megoldas #N"
   ]
  },
  {
   "cell_type": "code",
   "execution_count": 3,
   "metadata": {
    "ExecuteTime": {
     "end_time": "2020-04-02T07:53:05.276994Z",
     "start_time": "2020-04-02T07:53:04.778314Z"
    }
   },
   "outputs": [
    {
     "data": {
      "image/png": "[encoded data removed]",
      "text/latex": [
       "$\\displaystyle 2125$"
      ],
      "text/plain": [
       "2125"
      ]
     },
     "execution_count": 3,
     "metadata": {},
     "output_type": "execute_result"
    }
   ],
   "source": [
    "Fz = 2400+1300-F_D_megoldas-F_A #z irányú erőegyensúly\n",
    "F_A_megoldas = sp.solve(Fz,F_A) \n",
    "F_A_megoldas = F_A_megoldas[0] #kiszedjük a megoldást a listából\n",
    "F_A_megoldas #N"
   ]
  },
  {
   "cell_type": "markdown",
   "metadata": {},
   "source": [
    "Az igénybevételi függvények szakaszonként adhatóak meg. Ehhez a `Piecewise()` függvényt használhatjuk. Fontos, hogy a megfelelő sorrendben adjuk meg a szakaszokat, növekvő $x$ szerint. A nyíró igénybevétel ($V(x)$):"
   ]
  },
  {
   "cell_type": "code",
   "execution_count": 4,
   "metadata": {
    "ExecuteTime": {
     "end_time": "2020-04-02T07:53:05.796501Z",
     "start_time": "2020-04-02T07:53:05.279650Z"
    }
   },
   "outputs": [
    {
     "data": {
      "image/png": "[encoded data removed]",
      "text/latex": [
       "$\\displaystyle \\begin{cases} 2125 & \\text{for}\\: x \\leq 150 \\\\-275 & \\text{for}\\: x \\leq 450 \\\\-1575 & \\text{for}\\: x \\leq 600 \\end{cases}$"
      ],
      "text/plain": [
       "⎧2125   for x ≤ 150\n",
       "⎪                  \n",
       "⎨-275   for x ≤ 450\n",
       "⎪                  \n",
       "⎩-1575  for x ≤ 600"
      ]
     },
     "execution_count": 4,
     "metadata": {},
     "output_type": "execute_result"
    }
   ],
   "source": [
    "Vx = sp.Piecewise((F_A_megoldas,x<=150),(F_A_megoldas-2400,x<=450),(F_A_megoldas-2400-1300,x<=600))\n",
    "Vx"
   ]
  },
  {
   "cell_type": "markdown",
   "metadata": {},
   "source": [
    "Hasonlóan írhatjuk fel a hajlító igénybevételi függvényt ($M_{\\rm h}(x)$) is:"
   ]
  },
  {
   "cell_type": "code",
   "execution_count": 5,
   "metadata": {
    "ExecuteTime": {
     "end_time": "2020-04-02T07:53:06.325586Z",
     "start_time": "2020-04-02T07:53:05.799958Z"
    }
   },
   "outputs": [
    {
     "data": {
      "image/png": "[encoded data removed]",
      "text/latex": [
       "$\\displaystyle \\begin{cases} - 2125 x & \\text{for}\\: x \\leq 150 \\\\275 x - 360000 & \\text{for}\\: x \\leq 450 \\\\1575 x - 945000 & \\text{for}\\: x \\leq 600 \\end{cases}$"
      ],
      "text/plain": [
       "⎧    -2125⋅x      for x ≤ 150\n",
       "⎪                            \n",
       "⎨275⋅x - 360000   for x ≤ 450\n",
       "⎪                            \n",
       "⎩1575⋅x - 945000  for x ≤ 600"
      ]
     },
     "execution_count": 5,
     "metadata": {},
     "output_type": "execute_result"
    }
   ],
   "source": [
    "Mhx = sp.Piecewise((-F_A_megoldas*x,x<=150),(-F_A_megoldas*x+2400*(x-150),x<=450),(-F_A_megoldas*x+2400*(x-150)+1300*(x-450),x<=600))\n",
    "Mhx"
   ]
  },
  {
   "cell_type": "markdown",
   "metadata": {},
   "source": [
    "Hasonlóan írhatjuk fel a csavaró igénybevételi függvényt ($M_{\\rm t}(x)$) is:"
   ]
  },
  {
   "cell_type": "code",
   "execution_count": 6,
   "metadata": {
    "ExecuteTime": {
     "end_time": "2020-04-02T07:53:06.840479Z",
     "start_time": "2020-04-02T07:53:06.328455Z"
    }
   },
   "outputs": [
    {
     "data": {
      "image/png": "[encoded data removed]",
      "text/latex": [
       "$\\displaystyle \\begin{cases} 0 & \\text{for}\\: x \\leq 150 \\\\108000 & \\text{for}\\: x \\leq 450 \\\\0 & \\text{for}\\: x \\leq 600 \\end{cases}$"
      ],
      "text/plain": [
       "⎧  0     for x ≤ 150\n",
       "⎪                   \n",
       "⎨108000  for x ≤ 450\n",
       "⎪                   \n",
       "⎩  0     for x ≤ 600"
      ]
     },
     "execution_count": 6,
     "metadata": {},
     "output_type": "execute_result"
    }
   ],
   "source": [
    "Mtx = sp.Piecewise((0,x<=150),(108000,x<=450),(0,x<=600))\n",
    "Mtx"
   ]
  },
  {
   "cell_type": "markdown",
   "metadata": {},
   "source": [
    "Ezeket at 1.10-es feladathoz hasonló módon ábrázoljuk."
   ]
  },
  {
   "cell_type": "code",
   "execution_count": 7,
   "metadata": {
    "ExecuteTime": {
     "end_time": "2020-04-02T07:53:08.223104Z",
     "start_time": "2020-04-02T07:53:06.843640Z"
    }
   },
   "outputs": [],
   "source": [
    "import matplotlib.pyplot as plt # Betöltjük a matplotlib modult, amivel plotolhatunk.\n",
    "from numpy import linspace # Betöltjük csak linspace függvényt a numpy modulból (tehát nem a modul \n",
    "                           # összes függvényét), amivel majd a plotoláshoz készítjük az x értékek sorozatát\n",
    "    \n",
    "L = 600 # A rúd teljes hossza.\n",
    "xs = linspace(0,L,601)  # Felveszünk 601 darab x értéket a rúd hossza mentén \n",
    "                                # (az L hosszat át kell alakítani float-tá).\n",
    "Vxs = [Vx.subs(x,xi) for xi in xs] # Kiszámoljuk a nyíróerő függvény értékeit a megadott x helyeken. \n",
    "# Vx.subs(x,xi): a Vx függvényben lévő x változó helyére behelyettesítjük xi-t.\n",
    "Mhxs = [Mhx.subs(x,xi) for xi in xs] # Kiszámoljuk a hajlítónyomatéki függvény értékeit a megadott x helyeken.\n",
    "Mtxs = [Mtx.subs(x,xi) for xi in xs] # Kiszámoljuk a csavarónyomatéki függvény értékeit a megadott x helyeken."
   ]
  },
  {
   "cell_type": "code",
   "execution_count": 8,
   "metadata": {
    "ExecuteTime": {
     "end_time": "2020-04-02T07:53:08.949627Z",
     "start_time": "2020-04-02T07:53:08.226326Z"
    }
   },
   "outputs": [
    {
     "data": {
      "image/png": "[encoded data removed]",
      "text/plain": [
       "<Figure size 432x288 with 1 Axes>"
      ]
     },
     "metadata": {
      "needs_background": "light"
     },
     "output_type": "display_data"
    }
   ],
   "source": [
    "plt.plot(xs, Vxs, lw = 3) # A V(x) függvény képének létrehozása 3-as vonalvastagsággal (linewidth = lw).\n",
    "Vx_PythonFloat=[float(Vx) for Vx in Vxs] #A fill_between nem tudja kezelni a sympy változóit, ezért konvertáljuk\n",
    "plt.fill_between(xs, Vx_PythonFloat, alpha=0.2) #Kiszínezi a függvény alatti területet\n",
    "plt.xlabel(\"$x$ (mm)\") #x tengelyhez tartozó tengelyfelirat\n",
    "plt.ylabel(\"$V(x)$ (N)\") #y tengelyhez tartozó tengelyfelirat\n",
    "plt.grid() #rács\n",
    "plt.show() #kirajzolás"
   ]
  },
  {
   "cell_type": "code",
   "execution_count": 9,
   "metadata": {
    "ExecuteTime": {
     "end_time": "2020-04-02T07:53:09.212280Z",
     "start_time": "2020-04-02T07:53:08.951421Z"
    }
   },
   "outputs": [
    {
     "data": {
      "image/png": "[encoded data removed]",
      "text/plain": [
       "<Figure size 432x288 with 1 Axes>"
      ]
     },
     "metadata": {
      "needs_background": "light"
     },
     "output_type": "display_data"
    }
   ],
   "source": [
    "plt.plot(xs, Mhxs, lw = 3) #az Mh(x) függvény képének létrehozása 3-as vonalvastagsággal (linewidth = lw)\n",
    "Mhx_PythonFloat=[float(Mhx) for Mhx in Mhxs] #A fill_between nem tudja kezelni a sympy változóit, ezért konvertáljuk\n",
    "plt.fill_between(xs, Mhx_PythonFloat, alpha=0.2) #Kiszínezi a függvény alatti területet\n",
    "plt.ylabel(r\"$M_{\\rm h}(x)$ (Nmm)\") # x tengelyhez tartozó tengelyfelirat. Az r kell az \"\" elé, ha '\\' (backslash) \n",
    "                                    # karaktert szeretnénk a stringbe tenni a LaTeX parancsok miatt.\n",
    "plt.xlabel(\"$x$ (mm)\") #y tengelyhez tartozó tengelyfelirat\n",
    "plt.grid() #rács létrehozása\n",
    "plt.show() #kirajzolás"
   ]
  },
  {
   "cell_type": "code",
   "execution_count": 10,
   "metadata": {
    "ExecuteTime": {
     "end_time": "2020-04-02T07:53:09.460090Z",
     "start_time": "2020-04-02T07:53:09.213831Z"
    }
   },
   "outputs": [
    {
     "data": {
      "image/png": "[encoded data removed]",
      "text/plain": [
       "<Figure size 432x288 with 1 Axes>"
      ]
     },
     "metadata": {
      "needs_background": "light"
     },
     "output_type": "display_data"
    }
   ],
   "source": [
    "plt.plot(xs, Mtxs, lw = 3) #az Mt(x) függvény képének létrehozása 3-as vonalvastagsággal (linewidth = lw)\n",
    "Mtx_PythonFloat=[float(Mtx) for Mtx in Mtxs] #A fill_between nem tudja kezelni a sympy változóit, ezért konvertáljuk\n",
    "plt.fill_between(xs, Mtx_PythonFloat, alpha=0.2) #Kiszínezi a függvény alatti területet 0-ig\n",
    "plt.ylabel(r\"$M_{\\rm t}(x)$ (Nmm)\") # x tengelyhez tartozó tengelyfelirat. Az r kell az \"\" elé, ha '\\' (backslash) \n",
    "                                    # karaktert szeretnénk a stringbe tenni a LaTeX parancsok miatt.\n",
    "plt.xlabel(\"$x$ (mm)\") #y tengelyhez tartozó tengelyfelirat\n",
    "plt.grid() #rács létrehozása\n",
    "plt.show() #kirajzolás"
   ]
  },
  {
   "cell_type": "markdown",
   "metadata": {},
   "source": [
    "Láthatjuk, hogy mindegyik igénybevétel abszolut értéke a B keresztmetszetben a legnagyobb, ezért ez lesz a veszélyes keresztmetszet. \n",
    "$$M_{\\rm h}(B)=-318750 \\, \\rm{Nmm},$$\n",
    "$$M_{\\rm t}(B)=108000 \\, \\rm{Nmm}.$$"
   ]
  },
  {
   "cell_type": "code",
   "execution_count": 11,
   "metadata": {
    "ExecuteTime": {
     "end_time": "2020-04-02T07:53:10.835360Z",
     "start_time": "2020-04-02T07:53:09.462216Z"
    }
   },
   "outputs": [
    {
     "data": {
      "image/png": "[encoded data removed]",
      "text/latex": [
       "$\\displaystyle -318750$"
      ],
      "text/plain": [
       "-318750"
      ]
     },
     "metadata": {},
     "output_type": "display_data"
    },
    {
     "data": {
      "image/png": "[encoded data removed]",
      "text/latex": [
       "$\\displaystyle 0$"
      ],
      "text/plain": [
       "0"
      ]
     },
     "metadata": {},
     "output_type": "display_data"
    }
   ],
   "source": [
    "Mhb = Mhx.subs(x,150) \n",
    "display(Mhb) #Nmm\n",
    "\n",
    "Mtb = Mtx.subs(x,150)\n",
    "display(Mtb) #Nmm"
   ]
  },
  {
   "cell_type": "markdown",
   "metadata": {},
   "source": [
    "A B pontban szakadása van az $M_{\\rm t}$ függvénynek. A függvény definiálási módja miatt itt 0-t kapunk. Egy lehetséges mód a helyes érték kinyerésére, ha a plothoz létrehozott adatsorból kiválasztjuk a legnagyobb értéket. Ez a megoldás ebben a konkrét esetben működik, viszont általánosságban nem.\n",
    "\n",
    "Megbízhatóbb módszer, ha felveszünk egy kis $\\delta$ távolságot, és B helye előtt és után $\\delta$-nal vizsgáljuk a függvény értékét, és választjuk ki azt, hogy az abszolut érték nagyobb. Ezzel a módszerrel csak nagyon kis hibát követünk el, akkor is, ha a vizsgált függvény nem konstans szakaszokból áll."
   ]
  },
  {
   "cell_type": "code",
   "execution_count": 12,
   "metadata": {
    "ExecuteTime": {
     "end_time": "2020-04-02T07:53:11.589649Z",
     "start_time": "2020-04-02T07:53:10.841434Z"
    }
   },
   "outputs": [
    {
     "data": {
      "image/png": "[encoded data removed]",
      "text/latex": [
       "$\\displaystyle 108000$"
      ],
      "text/plain": [
       "108000"
      ]
     },
     "execution_count": 12,
     "metadata": {},
     "output_type": "execute_result"
    }
   ],
   "source": [
    "δ = 1e-10 #\\delta = 10^-10 mm\n",
    "MtB_elott = Mtx.subs(x,150-δ)\n",
    "MtB_utan = Mtx.subs(x,150+δ)\n",
    "nagyobb_abs = max(abs(MtB_elott),abs(MtB_utan))\n",
    "Mtb = nagyobb_abs\n",
    "Mtb"
   ]
  },
  {
   "cell_type": "markdown",
   "metadata": {},
   "source": [
    "A Mohr és HMH elmélet szerinti redukált nyomatékok:"
   ]
  },
  {
   "cell_type": "code",
   "execution_count": 13,
   "metadata": {
    "ExecuteTime": {
     "end_time": "2020-04-02T07:53:12.965385Z",
     "start_time": "2020-04-02T07:53:11.596187Z"
    }
   },
   "outputs": [
    {
     "name": "stdout",
     "output_type": "stream",
     "text": [
      "Mohr alapján:\n"
     ]
    },
    {
     "data": {
      "image/png": "[encoded data removed]",
      "text/latex": [
       "$\\displaystyle 3.3655 \\cdot 10^{5}$"
      ],
      "text/plain": [
       "3.3655e+5"
      ]
     },
     "metadata": {},
     "output_type": "display_data"
    },
    {
     "name": "stdout",
     "output_type": "stream",
     "text": [
      "HMH alapján:\n"
     ]
    },
    {
     "data": {
      "image/png": "[encoded data removed]",
      "text/latex": [
       "$\\displaystyle 3.3219 \\cdot 10^{5}$"
      ],
      "text/plain": [
       "3.3219e+5"
      ]
     },
     "execution_count": 13,
     "metadata": {},
     "output_type": "execute_result"
    }
   ],
   "source": [
    "MredMohr = sp.sqrt(Mhb**2+Mtb**2)\n",
    "print('Mohr alapján:')\n",
    "display(MredMohr.evalf(5)) #Nmm\n",
    "\n",
    "MredHMH = sp.sqrt(Mhb**2+3*Mtb**2/4)\n",
    "print('HMH alapján:')\n",
    "MredHMH.evalf(5) #Nmm"
   ]
  },
  {
   "cell_type": "markdown",
   "metadata": {},
   "source": [
    "A keresztmetszeti tényező $d=20 \\, \\rm{mm}$ esetén:"
   ]
  },
  {
   "cell_type": "code",
   "execution_count": 14,
   "metadata": {
    "ExecuteTime": {
     "end_time": "2020-04-02T07:53:12.978236Z",
     "start_time": "2020-04-02T07:53:12.969736Z"
    }
   },
   "outputs": [],
   "source": [
    "d = 20\n",
    "Ky = d**3*sp.pi/32"
   ]
  },
  {
   "cell_type": "markdown",
   "metadata": {},
   "source": [
    "#### A Mohr és HMH elmélet szerinti egyenértékű feszültségek:"
   ]
  },
  {
   "cell_type": "code",
   "execution_count": 15,
   "metadata": {
    "ExecuteTime": {
     "end_time": "2020-04-02T07:53:14.381224Z",
     "start_time": "2020-04-02T07:53:12.980820Z"
    }
   },
   "outputs": [
    {
     "name": "stdout",
     "output_type": "stream",
     "text": [
      "Mohr alapján:\n"
     ]
    },
    {
     "data": {
      "image/png": "[encoded data removed]",
      "text/latex": [
       "$\\displaystyle 428.51$"
      ],
      "text/plain": [
       "428.51"
      ]
     },
     "metadata": {},
     "output_type": "display_data"
    },
    {
     "name": "stdout",
     "output_type": "stream",
     "text": [
      "HMH alapján:\n"
     ]
    },
    {
     "data": {
      "image/png": "[encoded data removed]",
      "text/latex": [
       "$\\displaystyle 422.96$"
      ],
      "text/plain": [
       "422.96"
      ]
     },
     "execution_count": 15,
     "metadata": {},
     "output_type": "execute_result"
    }
   ],
   "source": [
    "σegyMohr = MredMohr/Ky\n",
    "print('Mohr alapján:')\n",
    "display(σegyMohr.evalf(5)) #MPa\n",
    "\n",
    "σegyHMH = MredHMH/Ky\n",
    "print('HMH alapján:')\n",
    "σegyHMH.evalf(5) #MPa"
   ]
  },
  {
   "cell_type": "markdown",
   "metadata": {},
   "source": [
    "#### Méretezés:\n",
    "\n",
    "Az előbbi összefüggésekből az átmérőt kifejezve a következő kifejezésre jutunk:\n",
    "$$d_{min}=\\sqrt[3]{\\frac{32 M_{red}}{\\pi \\sigma_{meg}}}.$$"
   ]
  },
  {
   "cell_type": "code",
   "execution_count": 16,
   "metadata": {
    "ExecuteTime": {
     "end_time": "2020-04-02T07:53:15.722951Z",
     "start_time": "2020-04-02T07:53:14.385577Z"
    }
   },
   "outputs": [
    {
     "name": "stdout",
     "output_type": "stream",
     "text": [
      "Mohr alapján:\n"
     ]
    },
    {
     "data": {
      "image/png": "[encoded data removed]",
      "text/latex": [
       "$\\displaystyle 22.524$"
      ],
      "text/plain": [
       "22.524"
      ]
     },
     "metadata": {},
     "output_type": "display_data"
    },
    {
     "name": "stdout",
     "output_type": "stream",
     "text": [
      "HMH alapján:\n"
     ]
    },
    {
     "data": {
      "image/png": "[encoded data removed]",
      "text/latex": [
       "$\\displaystyle 22.426$"
      ],
      "text/plain": [
       "22.426"
      ]
     },
     "execution_count": 16,
     "metadata": {},
     "output_type": "execute_result"
    }
   ],
   "source": [
    "σmeg = 300 #MPa\n",
    "dminMohr = sp.root(32*MredMohr/(sp.pi*σmeg),3)\n",
    "print('Mohr alapján:')\n",
    "display(dminMohr.evalf(5)) #mm\n",
    "\n",
    "dminHMH = sp.root(32*MredHMH/(sp.pi*σmeg),3)\n",
    "print('HMH alapján:')\n",
    "dminHMH.evalf(5) #mm"
   ]
  }
 ],
 "metadata": {
  "kernelspec": {
   "display_name": "Python 3",
   "language": "python",
   "name": "python3"
  },
  "language_info": {
   "codemirror_mode": {
    "name": "ipython",
    "version": 3
   },
   "file_extension": ".py",
   "mimetype": "text/x-python",
   "name": "python",
   "nbconvert_exporter": "python",
   "pygments_lexer": "ipython3",
   "version": "3.8.2"
  },
  "toc": {
   "base_numbering": 1,
   "nav_menu": {},
   "number_sections": true,
   "sideBar": true,
   "skip_h1_title": false,
   "title_cell": "Table of Contents",
   "title_sidebar": "Contents",
   "toc_cell": false,
   "toc_position": {},
   "toc_section_display": true,
   "toc_window_display": false
  }
 },
 "nbformat": 4,
 "nbformat_minor": 2
}
