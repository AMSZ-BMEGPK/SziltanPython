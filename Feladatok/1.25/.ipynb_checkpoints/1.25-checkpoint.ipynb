{
 "cells": [
  {
   "cell_type": "markdown",
   "metadata": {},
   "source": [
    "##### Megjegyzés:\n",
    "Nyomtatásban, elektronikus kidolgozásban a mérnöki konszenzus szerint a **mátrixokat álló, vastag nagybetűvel**, míg a **vektorokat álló, vastag betűvel** jelöljük (a megegyezés szerint inkább kisbetűvel, ám ez számos helyen eltér) a kézi kidolgozásban ismert aláhúzás helyett, továbbá minden ismeretlent/paramétert dőlt betűvel. A geometriai pontok, valamint a mértékegységek jelölése álló betűvel történik. Ha igazán igényesek szeretnénk lenni, akkor figyelünk arra, hogy ha az elnevezés tartalmaz alsó indexben szöveget, akkor az álló betűvel legyen írva (pl: $ U_{input} \\rightarrow U_{\\mathrm{input}}$). A kidolgozások során ezek szerint fogunk eljárni.\n",
    "# Példa 1.25\n",
    "\n",
    "Egy törtvonalú tartó terheléseit és méreteit mutatja az alábbi ábra. A tartó keresztmetszete állandó, $d=30\\, \\rm{mm}$ átmérőjű kör. A C-ben az $\\mathbf{F}_{\\rm{C}}$ koncentrált erő terheli a tartót, míg a BC szakaszon az \n",
    "$y$-irányú $p$ nagyságú, állandó intenzitású megoszló erőrendszer.\n",
    "\n",
    "Feladatok: határozza meg a befogás keresztmetszetében az igénybevételekből adódó feszültségeloszlásokat, valamint ábrázolja a \\$\\rm{P}_{1}...P_{5}$ pontokban a feszültségeket!\n",
    "\n",
    "\n",
    "<img src=\"Fig_1.25a.png\" style=\"width: 400px;\">\n",
    "<img src=\"Fig_1.25b.png\" style=\"width: 400px;\">"
   ]
  },
  {
   "cell_type": "markdown",
   "metadata": {},
   "source": [
    "# Megoldás\n",
    "\n",
    "A megoldás során szükségünk lesz a `sympy` modulra. Definiáljuk a feladatban szereplő szimbólumokat. A számolások során a vektorokat $3\\times 1$-es mátrixként adhatjuk meg."
   ]
  },
  {
   "cell_type": "code",
   "execution_count": 1,
   "metadata": {
    "ExecuteTime": {
     "end_time": "2020-03-10T09:32:20.049200Z",
     "start_time": "2020-03-10T09:32:18.724355Z"
    }
   },
   "outputs": [
    {
     "data": {
      "image/png": "[encoded data removed]",
      "text/latex": [
       "$\\displaystyle \\left[\\begin{matrix}F_{Cx}\\\\F_{Cy}\\\\F_{Cz}\\end{matrix}\\right]$"
      ],
      "text/plain": [
       "⎡F_Cx⎤\n",
       "⎢    ⎥\n",
       "⎢F_Cy⎥\n",
       "⎢    ⎥\n",
       "⎣F_Cz⎦"
      ]
     },
     "execution_count": 1,
     "metadata": {},
     "output_type": "execute_result"
    }
   ],
   "source": [
    "import sympy as sp\n",
    "sp.init_printing()\n",
    "\n",
    "L1,L2,p,d = sp.symbols(\"L1,L2,p,d\")\n",
    "\n",
    "F_Cx,F_Cy,F_Cz = sp.symbols(\"F_Cx,F_Cy,F_Cz\") #az FC vektor komponensei\n",
    "\n",
    "FC = sp.Matrix([F_Cx,F_Cy,F_Cz]) #definiáljuk az FC vektort, azaz 3x1-es mátrixot\n",
    "#ha sorvektorra, azaz 1x3-as mátrixra lenne szükségünk, \n",
    "#akkor azt sp.Matrix([[F_Cx,F_Cy,F_Cz]])-ként csinálhatnánk meg (2 db [ és ] karakterrel)\n",
    "FC"
   ]
  },
  {
   "cell_type": "markdown",
   "metadata": {},
   "source": [
    "Megadjuk a feladatban szereplő adatokat, majd készítünk belőlük egy lisitát, aminek segítségével az összes adatot egyszerre tudjuk behelyettesíteni."
   ]
  },
  {
   "cell_type": "code",
   "execution_count": 2,
   "metadata": {
    "ExecuteTime": {
     "end_time": "2020-03-10T09:32:20.058278Z",
     "start_time": "2020-03-10T09:32:20.052311Z"
    }
   },
   "outputs": [],
   "source": [
    "L1_adat = 3 #m\n",
    "L2_adat = 2 #m\n",
    "p_adat = 40 #N/m\n",
    "d_adat = 30 #mm\n",
    "FCx_adat = -150 #N\n",
    "FCy_adat = 200 #N\n",
    "FCz_adat = -50 #N\n",
    "\n",
    "osszesadat = [(L1,L1_adat),(L2,L2_adat),(p,p_adat),(d,d_adat),(F_Cx,FCx_adat),(F_Cy,FCy_adat),(F_Cz,FCz_adat)]"
   ]
  },
  {
   "cell_type": "markdown",
   "metadata": {},
   "source": [
    "## Az igénybevételek meghatározása\n",
    "A befogási keresztmetszet súlypontjára redukált erő:\n",
    "$$\\mathbf{F}_\\mathrm{{A}}=\\mathbf{F}_\\mathrm{{C}}+p L_2 (-\\mathbf{j}),$$\n",
    "\n",
    "ahol $\\mathbf{j}$ az $y$ irányba mutató egységvektor:\n",
    "$$\\mathbf{j}=\\left[\\begin{matrix}0\\\\1\\\\0\\end{matrix}\\right].$$"
   ]
  },
  {
   "cell_type": "code",
   "execution_count": 3,
   "metadata": {
    "ExecuteTime": {
     "end_time": "2020-03-10T09:32:20.590169Z",
     "start_time": "2020-03-10T09:32:20.060625Z"
    }
   },
   "outputs": [
    {
     "data": {
      "image/png": "[encoded data removed]",
      "text/latex": [
       "$\\displaystyle \\left[\\begin{matrix}-150\\\\120\\\\-50\\end{matrix}\\right]$"
      ],
      "text/plain": [
       "⎡-150⎤\n",
       "⎢    ⎥\n",
       "⎢120 ⎥\n",
       "⎢    ⎥\n",
       "⎣-50 ⎦"
      ]
     },
     "execution_count": 3,
     "metadata": {},
     "output_type": "execute_result"
    }
   ],
   "source": [
    "jV = sp.Matrix([0,1,0])\n",
    "FA = FC+p*L2*(-jV)\n",
    "FA.subs(osszesadat) #N"
   ]
  },
  {
   "cell_type": "markdown",
   "metadata": {},
   "source": [
    "A befogási keresztmetszet súlypontjára redukált nyomaték:\n",
    "$$\\mathbf{M}_{\\mathrm {A}}=\\mathbf{r}_\\mathrm{{AC}}\\times \\mathbf{F}_\\mathrm{{C}}+\\frac{1}{2}\\left( \\mathbf{r}_\\mathrm{{AC}}+\\mathbf{r}_\\mathrm{{AB}}\\right)\\times \\left(p L_2 (-\\mathbf{j})\\right),$$\n",
    "\n",
    "ahol $\\mathbf{r}_\\mathrm{{AB}}$ és $\\mathbf{r}_\\mathrm{{AC}}$:\n",
    "$$\\mathbf{r}_\\mathrm{{AB}}=\\left[\\begin{matrix}L_1\\\\0\\\\0\\end{matrix}\\right], \\quad \\mathbf{r}_\\mathrm{{AC}}=\\left[\\begin{matrix}L_1\\\\0\\\\-L_2\\end{matrix}\\right].$$\n"
   ]
  },
  {
   "cell_type": "code",
   "execution_count": 4,
   "metadata": {
    "ExecuteTime": {
     "end_time": "2020-03-10T09:32:21.105522Z",
     "start_time": "2020-03-10T09:32:20.593271Z"
    }
   },
   "outputs": [
    {
     "data": {
      "image/png": "[encoded data removed]",
      "text/latex": [
       "$\\displaystyle \\left[\\begin{matrix}320\\\\450\\\\360\\end{matrix}\\right]$"
      ],
      "text/plain": [
       "⎡320⎤\n",
       "⎢   ⎥\n",
       "⎢450⎥\n",
       "⎢   ⎥\n",
       "⎣360⎦"
      ]
     },
     "execution_count": 4,
     "metadata": {},
     "output_type": "execute_result"
    }
   ],
   "source": [
    "rAB = sp.Matrix([L1,0,0])\n",
    "rAC = sp.Matrix([L1,0,-L2])\n",
    "\n",
    "#vektoriális szorzat angolul: cross product\n",
    "#Sympy-ban: 'vektor1.cross(vektor2)'\n",
    "#Például: a 'sp.Matrix([1,0,0]).cross(sp.Matrix([0,1,0]))' utasítás 'sp.Matrix([0,0,1])'-t ad vissza\n",
    "MA = rAC.cross(FC)+((rAB+rAC)/2).cross(p*L2*(-jV))\n",
    "MA.subs(osszesadat) #Nm"
   ]
  },
  {
   "cell_type": "markdown",
   "metadata": {},
   "source": [
    "A vizsgált keresztmetszet igénybevételei a lenti ábrán láthatóak. A nyilak jelölik az erők és nyomatékok értelmét, a hozzájuk tartozó értékek pedig az igénybevétel nagyságát.\n",
    "<img src=\"Fig_1.25c.png\" style=\"width: 400px;\">\n",
    "$\\mathbf{F}_\\mathrm{{A}}$ és $\\mathbf{M}_\\mathrm{{A}}$ alapján az igénybevételek nagysága az alábbi módon számítható:\n",
    "$$N=-{F}_\\mathrm{{Ax}}, \\quad V_\\mathrm{y}={F}_\\mathrm{{Ay}}, \\quad V_\\mathrm{z}=-{F}_\\mathrm{{Az}},$$\n",
    "$$M_\\mathrm{t}={M}_\\mathrm{\\mathrm{Ax}}, \\quad M_{\\mathrm{hy}}={M}_\\mathrm{{Ay}}, \\quad M_{\\mathrm{hz}}={M}_\\mathrm{{Az}}.$$\n",
    "\n",
    "A programban a vektorok $x,y,z$ elemeit a `0,1,2` indexekkel tudjuk elérni."
   ]
  },
  {
   "cell_type": "code",
   "execution_count": 5,
   "metadata": {
    "ExecuteTime": {
     "end_time": "2020-03-10T09:32:21.113209Z",
     "start_time": "2020-03-10T09:32:21.108221Z"
    }
   },
   "outputs": [],
   "source": [
    "N = -FA[0] #[0]: első elem: x\n",
    "Vy = FA[1] #[1]: második elem: y\n",
    "Vz = -FA[2] #[2]: harmadik elem: z\n",
    "\n",
    "Mt = MA[0]\n",
    "Mhy = MA[1]\n",
    "Mhz = MA[2]"
   ]
  },
  {
   "cell_type": "markdown",
   "metadata": {},
   "source": [
    "## Különböző terhelésekből származő feszültségek\n",
    "Definiálnunk kell a keresztmetszeti jellemzőket. Innentől figyelnünk kell a mértékegységekre: eddig $\\rm{m}$-ben számoltunk, de a keresztmetszet adatai $\\rm{mm}$-ben adottak. Hogy majd $\\rm{MPa}$-ban kapjuk a feszültségeket, áttérünk $\\rm{mm}$-re.\n",
    "$$A=\\frac{d^2 \\pi}{4},\\quad I_{y}=I_{z}=\\frac{d^4 \\pi}{64},\\quad I_\\mathrm{p}=\\frac{d^4 \\pi}{32}, \\quad K_{y}=K_{z}=\\frac{d^3 \\pi}{32}, \\quad K_\\mathrm{p}=\\frac{d^3 \\pi}{16}.$$"
   ]
  },
  {
   "cell_type": "code",
   "execution_count": 6,
   "metadata": {
    "ExecuteTime": {
     "end_time": "2020-03-10T09:32:21.142454Z",
     "start_time": "2020-03-10T09:32:21.116731Z"
    }
   },
   "outputs": [],
   "source": [
    "A  = d**2*sp.pi/4\n",
    "Iy = d**4*sp.pi/64\n",
    "Iz = Iy\n",
    "Ip = d**4*sp.pi/32\n",
    "Ky = d**3*sp.pi/32\n",
    "Kz = Ky\n",
    "Kp = d**3*sp.pi/16"
   ]
  },
  {
   "cell_type": "markdown",
   "metadata": {},
   "source": [
    "A különféle igénybevételekből származó feszültségek megadása során használni fogjuk az $r=d/2$ jelölést, valamint a $\\varrho$ koordinátát, mely az adott pont távolságát jelöli a keresztmetszet középpontjától. Ezeket, valamint az $y$ és $z$ koordinátákat definiálnunk kell a programban."
   ]
  },
  {
   "cell_type": "code",
   "execution_count": 7,
   "metadata": {
    "ExecuteTime": {
     "end_time": "2020-03-10T09:32:21.158557Z",
     "start_time": "2020-03-10T09:32:21.147237Z"
    }
   },
   "outputs": [],
   "source": [
    "r = d/2\n",
    "y,z,ϱ = sp.symbols(\"y,z,ϱ\") #ϱ: \\varrho + tab (a sima \\rho + tab a ρ-t adja, ami eléggé hasonlít a p-re...)"
   ]
  },
  {
   "cell_type": "markdown",
   "metadata": {},
   "source": [
    "Az $N$ normálerőből származó feszültség (negatív előjel: $x$ és $N$ ellentétes irányú):\n",
    "$$\\sigma_{x,N}=-\\frac{N}{A}.$$"
   ]
  },
  {
   "cell_type": "code",
   "execution_count": 8,
   "metadata": {
    "ExecuteTime": {
     "end_time": "2020-03-10T09:32:21.670299Z",
     "start_time": "2020-03-10T09:32:21.160842Z"
    }
   },
   "outputs": [
    {
     "data": {
      "image/png": "[encoded data removed]",
      "text/latex": [
       "$\\displaystyle -0.21221$"
      ],
      "text/plain": [
       "-0.21221"
      ]
     },
     "execution_count": 8,
     "metadata": {},
     "output_type": "execute_result"
    }
   ],
   "source": [
    "σxN = -N/A\n",
    "σxN = σxN.subs(osszesadat).evalf(5) #behelyettesítjük az adatokat, numerikus kiértékelés 5 értékesjegyre\n",
    "σxN #MPa"
   ]
  },
  {
   "cell_type": "markdown",
   "metadata": {},
   "source": [
    "A $V_y$ nyíróerőből származó feszültség:\n",
    "$$\\tau_{xy,V_y}=\\frac{4V_y}{3A} \\left(1-\\left(\\frac{y}{r}\\right)^2 \\right).$$"
   ]
  },
  {
   "cell_type": "code",
   "execution_count": 9,
   "metadata": {
    "ExecuteTime": {
     "end_time": "2020-03-10T09:32:22.215778Z",
     "start_time": "2020-03-10T09:32:21.672962Z"
    }
   },
   "outputs": [
    {
     "data": {
      "image/png": "[encoded data removed]",
      "text/latex": [
       "$\\displaystyle 0.22635 - 0.001006 y^{2}$"
      ],
      "text/plain": [
       "                    2\n",
       "0.22635 - 0.001006⋅y "
      ]
     },
     "execution_count": 9,
     "metadata": {},
     "output_type": "execute_result"
    }
   ],
   "source": [
    "τxyVy = 4*Vy/3/A*(1-(y/r)**2)\n",
    "τxyVy = τxyVy.subs(osszesadat).evalf(5) #behelyettesítjük az adatokat, numerikus kiértékelés 5 értékesjegyre\n",
    "τxyVy #MPa"
   ]
  },
  {
   "cell_type": "markdown",
   "metadata": {},
   "source": [
    "A $V_z$ nyíróerőből származó feszültség (negatív előjel: $z$ és $V_z$ ellentétes irányú):\n",
    "$$\\tau_{xz,V_z}=-\\frac{4V_z}{3A} \\left(1-\\left(\\frac{z}{r}\\right)^2 \\right).$$"
   ]
  },
  {
   "cell_type": "code",
   "execution_count": 10,
   "metadata": {
    "ExecuteTime": {
     "end_time": "2020-03-10T09:32:22.804373Z",
     "start_time": "2020-03-10T09:32:22.218252Z"
    }
   },
   "outputs": [
    {
     "data": {
      "image/png": "[encoded data removed]",
      "text/latex": [
       "$\\displaystyle 0.00041917 z^{2} - 0.094314$"
      ],
      "text/plain": [
       "            2           \n",
       "0.00041917⋅z  - 0.094314"
      ]
     },
     "execution_count": 10,
     "metadata": {},
     "output_type": "execute_result"
    }
   ],
   "source": [
    "τxzVz = -4*Vz/3/A*(1-(z/r)**2)\n",
    "τxzVz = τxzVz.subs(osszesadat).evalf(5) #behelyettesítjük az adatokat, numerikus kiértékelés 5 értékesjegyre\n",
    "τxzVz #MPa"
   ]
  },
  {
   "cell_type": "markdown",
   "metadata": {},
   "source": [
    "Az $M_\\mathrm{t}$ nyomatékből származó feszültség ($\\varrho$: a pont távolsága a keresztmetszet középpontjától):\n",
    "$$\\tau_{xt}=\\frac{M_\\mathrm{t}}{I_\\mathrm{p}}\\varrho.$$\n",
    "Ennek a feszültségnek az iránya mindig merőleges a vizsgált pontba húzott sugárra.\n",
    "\n",
    "<img src=\"Fig_1.25d.png\" style=\"width: 400px;\">\n",
    "\n",
    "$\\tau_{xt}$-t kifejezhetük az $y$ és $z$ koordináták segítségével. $\\varrho=\\sqrt{y^2+z^2}$. Ezek alapján:\n",
    "$$\\tau_{xt,y}=-\\frac{M_t}{I_p}z,$$\n",
    "$$\\tau_{xt,z}=\\frac{M_t}{I_p}y.$$\n",
    "Ez a felírás teljesíti mind a feszültség nagyságára, mind az irányára vonatkozó követelményeket. Ez később, a számítások automatizálása során lesz számunkra hasznos felírás.\n",
    "\n",
    "$M_\\mathrm{t}$-t $\\rm{Nmm}$-ben kell megadni!"
   ]
  },
  {
   "cell_type": "code",
   "execution_count": 11,
   "metadata": {
    "ExecuteTime": {
     "end_time": "2020-03-10T09:32:24.186521Z",
     "start_time": "2020-03-10T09:32:22.808007Z"
    }
   },
   "outputs": [
    {
     "data": {
      "image/png": "[encoded data removed]",
      "text/latex": [
       "$\\displaystyle 4.0241 ϱ$"
      ],
      "text/plain": [
       "4.0241⋅ϱ"
      ]
     },
     "execution_count": 11,
     "metadata": {},
     "output_type": "execute_result"
    }
   ],
   "source": [
    "τxt = 1000*Mt/Ip*ϱ\n",
    "τxty = -1000*Mt/Ip*z\n",
    "τxtz = 1000*Mt/Ip*y\n",
    "τxt = τxt.subs(osszesadat).evalf(5)\n",
    "τxty = τxty.subs(osszesadat).evalf(5) #behelyettesítjük az adatokat, numerikus kiértékelés 5 értékesjegyre\n",
    "τxtz = τxtz.subs(osszesadat).evalf(5)\n",
    "τxt #MPa"
   ]
  },
  {
   "cell_type": "markdown",
   "metadata": {},
   "source": [
    "Az $M_{hy}$ nyomatékből származó feszültség:\n",
    "$$\\sigma_{x,M_{hy}}=\\frac{M_{hy}}{I_y}z.$$\n",
    "$M_{hy}$-t $\\rm{Nmm}$-ben kell megadni!"
   ]
  },
  {
   "cell_type": "code",
   "execution_count": 12,
   "metadata": {
    "ExecuteTime": {
     "end_time": "2020-03-10T09:32:24.698597Z",
     "start_time": "2020-03-10T09:32:24.189274Z"
    }
   },
   "outputs": [
    {
     "data": {
      "image/png": "[encoded data removed]",
      "text/latex": [
       "$\\displaystyle 11.318 z$"
      ],
      "text/plain": [
       "11.318⋅z"
      ]
     },
     "execution_count": 12,
     "metadata": {},
     "output_type": "execute_result"
    }
   ],
   "source": [
    "σxMhy = 1000*Mhy/Iy*z\n",
    "σxMhy = σxMhy.subs(osszesadat).evalf(5) #behelyettesítjük az adatokat, numerikus kiértékelés 5 értékesjegyre\n",
    "σxMhy #MPa"
   ]
  },
  {
   "cell_type": "markdown",
   "metadata": {},
   "source": [
    "Az $M_{hz}$ nyomatékből származó feszültség (negatív előjel: a kersztmetszet igénybevételeinek értelme alapján):\n",
    "$$\\sigma_{x,M_{hz}}=-\\frac{M_{hz}}{I_z}y.$$\n",
    "$M_{hz}$-t $\\rm{Nmm}$-ben kell megadni!"
   ]
  },
  {
   "cell_type": "code",
   "execution_count": 13,
   "metadata": {
    "ExecuteTime": {
     "end_time": "2020-03-10T09:32:25.225178Z",
     "start_time": "2020-03-10T09:32:24.701926Z"
    }
   },
   "outputs": [
    {
     "data": {
      "image/png": "[encoded data removed]",
      "text/latex": [
       "$\\displaystyle - 9.0542 y$"
      ],
      "text/plain": [
       "-9.0542⋅y"
      ]
     },
     "execution_count": 13,
     "metadata": {},
     "output_type": "execute_result"
    }
   ],
   "source": [
    "σxMhz = -1000*Mhz/Iz*y\n",
    "σxMhz = σxMhz.subs(osszesadat).evalf(5) #behelyettesítjük az adatokat, numerikus kiértékelés 5 értékesjegyre\n",
    "σxMhz #MPa"
   ]
  },
  {
   "cell_type": "markdown",
   "metadata": {},
   "source": [
    "## Ábrázolás\n",
    "\n",
    "Mivel nagyságrendi különbség van az értékek között, mindegyiket külön ábrázoljuk."
   ]
  },
  {
   "cell_type": "markdown",
   "metadata": {},
   "source": [
    "Az ábrázoláshoz szükségünk lesz a `matplotlib` modulra és a `numpy` modulból a `linspace` függvényre. Elkészítjük az $y=-r\\dotso r$, $z=-r\\dotso r$ és $\\varrho=0\\dotso r$ adatsorokat. Ehhez $r$-et \"gyári\" Python `float`-tá kell alakítanunk, mert a `linspace` nem fogadja el a `sympy` által haszált `float`-ot.\n",
    "\n",
    "Megjegyzés: mivel $y$ és $z$ értékei ugyanúgy $-r$-től $r$-ig kellenek nekünk, ezért defininálhatnánk egy közös adatsort nekik."
   ]
  },
  {
   "cell_type": "code",
   "execution_count": 14,
   "metadata": {
    "ExecuteTime": {
     "end_time": "2020-03-10T09:32:25.399425Z",
     "start_time": "2020-03-10T09:32:25.227902Z"
    }
   },
   "outputs": [],
   "source": [
    "import matplotlib.pyplot as plt\n",
    "from numpy import linspace\n",
    "\n",
    "r_ertek = float(r.subs(osszesadat).evalf(5))\n",
    "\n",
    "y_ertekek = linspace(-r_ertek,r_ertek,201) #felveszünk 201 pontot '-r' és 'r' között\n",
    "z_ertekek = linspace(-r_ertek,r_ertek,201) #felveszünk 201 pontot '-r' és 'r' között\n",
    "ϱ_ertekek = linspace(0,r_ertek,201) #felveszünk 201 pontot 0 és 'r' között"
   ]
  },
  {
   "cell_type": "markdown",
   "metadata": {},
   "source": [
    "### $\\tau_{xz,V_z}(z)$ ábrázolása, a feszültség minimuma és maximuma:"
   ]
  },
  {
   "cell_type": "code",
   "execution_count": 15,
   "metadata": {
    "ExecuteTime": {
     "end_time": "2020-03-10T09:32:26.892766Z",
     "start_time": "2020-03-10T09:32:25.402096Z"
    }
   },
   "outputs": [
    {
     "data": {
      "image/png": "[encoded data removed]",
      "text/plain": [
       "<Figure size 432x288 with 1 Axes>"
      ]
     },
     "metadata": {
      "needs_background": "light"
     },
     "output_type": "display_data"
    },
    {
     "name": "stdout",
     "output_type": "stream",
     "text": [
      "Minimum feszültség, maximum feszültség:\n"
     ]
    },
    {
     "data": {
      "image/png": "[encoded data removed]",
      "text/latex": [
       "$\\displaystyle -0.094314$"
      ],
      "text/plain": [
       "-0.094314"
      ]
     },
     "metadata": {},
     "output_type": "display_data"
    },
    {
     "data": {
      "image/png": "[encoded data removed]",
      "text/latex": [
       "$\\displaystyle -8.5682 \\cdot 10^{-8}$"
      ],
      "text/plain": [
       "-8.5682e-8"
      ]
     },
     "metadata": {},
     "output_type": "display_data"
    }
   ],
   "source": [
    "#behelyettesítjük 'z' értékeit, kiértékeljük a függvényt\n",
    "τxz_ertekek = [τxzVz.subs(z,z_ert).evalf(5) for z_ert in z_ertekek]\n",
    "plt.plot(z_ertekek,τxz_ertekek)\n",
    "plt.grid() #rács\n",
    "plt.xlabel(r\"$z \\; \\rm{(mm)}$\") #vízszintes tengely felirata, 'r' karakter az elejére a LaTeX kód miatt!\n",
    "plt.ylabel(r\"$\\tau_{xz,V_z} \\;\\rm{(MPa)}$\") #függőleges tengely felirata, 'r' karakter az elejére a LaTeX kód miatt!\n",
    "plt.show() #kirajzolás\n",
    "\n",
    "print(\"Minimum feszültség, maximum feszültség:\") #kiíratunk egy magyarázó szöveget\n",
    "#a display parancs a számokat 'szépen' írja ki, ha korábban meghívtuk az sp.init_printing()-et\n",
    "display(min(τxz_ertekek),max(τxz_ertekek)) "
   ]
  },
  {
   "cell_type": "markdown",
   "metadata": {},
   "source": [
    "A számábrázolás pontatlanságából származó hibák miatt nem pontosan 0-t kapunk maximumnak."
   ]
  },
  {
   "cell_type": "markdown",
   "metadata": {},
   "source": [
    "A többi feszültség ábrázolását $\\tau_{xz,V_z}(z)$ ábrázolásához nagyon hasonló módon kell megcsinálnunk. Amit módosítanunk kell a többi esetben, az a koordináta, a kiértékelendő függvény és a tengelyfeliratok. Ezt megoldhatnánk a fenti kód másolásával és kézi módosításával. Viszont ennél sokkal hatékonyabb, ha írunk rá egy saját függvényt.\n",
    "\n",
    "Általában megéri saját függvényt írnunk, ha többször kell egy nagyon hasolnló utasítássorozatot kiadnunk. Jelen esetben az ábrázolás menete a következő lépésekből áll:\n",
    "- függvény kiértékelése az adott helyeken,\n",
    "- `plot` parancs,\n",
    "- rács, tengelyfeliratok létrehozása,\n",
    "- kirajzolás,\n",
    "- minimum és maximum feszültség kiírása.\n",
    "\n",
    "A Pythonban saját függvényt a `def fuggvenyneve(bemenet1,bemenet2,...):` szintaktikával definiálhatunk. A függvényhez tartozó utasításokat egy tabulátornyival (vagy 4 szóköznyivel) beljebb írjuk, azaz indentáljuk. Ha a függvényünknek valamilyen értéket, eredményt, stb.-t kell visszaadnia, azt a `return eredmeny` paranccsal érhetjük el. Ezt tudjuk hozzárendelni egy változóhoz,  például `valtozo=szamolas(adatok)` parancsra a `valtozo`-ba a `szamolas` függvény visszatérési értéke kerül. Most nem lesz szükségünk a `return` parancsra, mert csak ábrázolni szeretnénk az eredményeket."
   ]
  },
  {
   "cell_type": "code",
   "execution_count": 16,
   "metadata": {
    "ExecuteTime": {
     "end_time": "2020-03-10T09:32:26.902590Z",
     "start_time": "2020-03-10T09:32:26.895181Z"
    }
   },
   "outputs": [],
   "source": [
    "def abrazolas(koordinatak, kifejezes, xfelirat, yfelirat):\n",
    "    #'koordinatak': azok a koordináta értékek, ahol ki akarjuk majd értékelni a feszülségeket\n",
    "    #'kifejezes': amibe a 'koordinatak'-at behelyettesítjük\n",
    "    #'xfelirat': vízszintes tengely felirata, LaTeX kód esetén kell az elejére az r karakter!\n",
    "    #'yfelirat': függőleges tengely felirata, LaTeX kód esetén kell az elejére az r karakter!\n",
    "        \n",
    "    #függvény kiértékelése:\n",
    "    #nem tudjuk előre, hogy 'y', 'z' és 'ϱ' közül melyik szerepel a kifejezésben,\n",
    "    #ezért mind a 3 szimbólumba behelyettesítünk\n",
    "    #most nem írhatunk listát, hogy egyszerre helyettesíthessünk be, mert 'list comprehesion'-ön belül leszünk\n",
    "    #ezért egyesével kell behelyettesítenünk, a '.subs()' parancs többszöri kiadásával\n",
    "    fesz_ertekek=[kifejezes.subs([(y,ertek),(z,ertek),(ϱ,ertek)]) for ertek in koordinatak]    \n",
    "    plt.plot(koordinatak,fesz_ertekek)\n",
    "    plt.grid() #rács\n",
    "    plt.xlabel(xfelirat) #vízszintes tengely feliratának létrehozása\n",
    "    plt.ylabel(yfelirat) #függőleges tengely feliratának létrehozása\n",
    "    plt.show() #kirajzolás\n",
    "    print(\"Minimum feszültség, maximum feszültség MPa-ban:\") #kiíratunk egy magyarázó szöveget\n",
    "    display(min(fesz_ertekek),max(fesz_ertekek)) #visszatérési érték: min. és max. feszültség"
   ]
  },
  {
   "cell_type": "markdown",
   "metadata": {},
   "source": [
    "$\\tau_{xz,V_z}(z)$-t ábrázoljuk a saját függvénnyel:"
   ]
  },
  {
   "cell_type": "code",
   "execution_count": 17,
   "metadata": {
    "ExecuteTime": {
     "end_time": "2020-03-10T09:32:28.394482Z",
     "start_time": "2020-03-10T09:32:26.904867Z"
    }
   },
   "outputs": [
    {
     "data": {
      "image/png": "[encoded data removed]",
      "text/plain": [
       "<Figure size 432x288 with 1 Axes>"
      ]
     },
     "metadata": {
      "needs_background": "light"
     },
     "output_type": "display_data"
    },
    {
     "name": "stdout",
     "output_type": "stream",
     "text": [
      "Minimum feszültség, maximum feszültség MPa-ban:\n"
     ]
    },
    {
     "data": {
      "image/png": "[encoded data removed]",
      "text/latex": [
       "$\\displaystyle -0.094314$"
      ],
      "text/plain": [
       "-0.094314"
      ]
     },
     "metadata": {},
     "output_type": "display_data"
    },
    {
     "data": {
      "image/png": "[encoded data removed]",
      "text/latex": [
       "$\\displaystyle -8.5681676864624 \\cdot 10^{-8}$"
      ],
      "text/plain": [
       "-8.56816768646240e-8"
      ]
     },
     "metadata": {},
     "output_type": "display_data"
    }
   ],
   "source": [
    "abrazolas(z_ertekek,τxzVz,r\"$z \\; \\rm{(mm)}$\",r\"$\\tau_{xz,V_z} \\;\\rm{(MPa)}$\")"
   ]
  },
  {
   "cell_type": "markdown",
   "metadata": {},
   "source": [
    "### $\\sigma_{x,M_{hy}}(z)$ ábrázolása:"
   ]
  },
  {
   "cell_type": "code",
   "execution_count": 18,
   "metadata": {
    "ExecuteTime": {
     "end_time": "2020-03-10T09:32:29.929302Z",
     "start_time": "2020-03-10T09:32:28.403067Z"
    }
   },
   "outputs": [
    {
     "data": {
      "image/png": "[encoded data removed]",
      "text/plain": [
       "<Figure size 432x288 with 1 Axes>"
      ]
     },
     "metadata": {
      "needs_background": "light"
     },
     "output_type": "display_data"
    },
    {
     "name": "stdout",
     "output_type": "stream",
     "text": [
      "Minimum feszültség, maximum feszültség MPa-ban:\n"
     ]
    },
    {
     "data": {
      "image/png": "[encoded data removed]",
      "text/latex": [
       "$\\displaystyle -169.765319824219$"
      ],
      "text/plain": [
       "-169.765319824219"
      ]
     },
     "metadata": {},
     "output_type": "display_data"
    },
    {
     "data": {
      "image/png": "[encoded data removed]",
      "text/latex": [
       "$\\displaystyle 169.765319824219$"
      ],
      "text/plain": [
       "169.765319824219"
      ]
     },
     "metadata": {},
     "output_type": "display_data"
    }
   ],
   "source": [
    "abrazolas(z_ertekek,σxMhy,r\"$z \\; \\rm{(mm)}$\",r\"$\\sigma_{x,M_{hy}} \\;\\rm{(MPa)}$\")"
   ]
  },
  {
   "cell_type": "markdown",
   "metadata": {},
   "source": [
    "### $\\sigma_{x,N}$ ábrázolása:\n",
    "\n",
    "$\\sigma_{x,N}$ az egész keresztmetszeten konstans értékű, így bármelyik koordináta függvényében ábrázolhatnánk."
   ]
  },
  {
   "cell_type": "code",
   "execution_count": 19,
   "metadata": {
    "ExecuteTime": {
     "end_time": "2020-03-10T09:32:31.261708Z",
     "start_time": "2020-03-10T09:32:29.932721Z"
    }
   },
   "outputs": [
    {
     "data": {
      "image/png": "[encoded data removed]",
      "text/plain": [
       "<Figure size 432x288 with 1 Axes>"
      ]
     },
     "metadata": {
      "needs_background": "light"
     },
     "output_type": "display_data"
    },
    {
     "name": "stdout",
     "output_type": "stream",
     "text": [
      "Minimum feszültség, maximum feszültség MPa-ban:\n"
     ]
    },
    {
     "data": {
      "image/png": "[encoded data removed]",
      "text/latex": [
       "$\\displaystyle -0.21221$"
      ],
      "text/plain": [
       "-0.21221"
      ]
     },
     "metadata": {},
     "output_type": "display_data"
    },
    {
     "data": {
      "image/png": "[encoded data removed]",
      "text/latex": [
       "$\\displaystyle -0.21221$"
      ],
      "text/plain": [
       "-0.21221"
      ]
     },
     "metadata": {},
     "output_type": "display_data"
    }
   ],
   "source": [
    "abrazolas(z_ertekek,σxN,r\"$z \\; \\rm{(mm)}$\",r\"$\\sigma_{x,N} \\;\\rm{(MPa)}$\")"
   ]
  },
  {
   "cell_type": "markdown",
   "metadata": {},
   "source": [
    "### $\\tau_{xt}(\\varrho)$ ábrázolása:"
   ]
  },
  {
   "cell_type": "code",
   "execution_count": 20,
   "metadata": {
    "ExecuteTime": {
     "end_time": "2020-03-10T09:32:32.699567Z",
     "start_time": "2020-03-10T09:32:31.264940Z"
    }
   },
   "outputs": [
    {
     "data": {
      "image/png": "[encoded data removed]",
      "text/plain": [
       "<Figure size 432x288 with 1 Axes>"
      ]
     },
     "metadata": {
      "needs_background": "light"
     },
     "output_type": "display_data"
    },
    {
     "name": "stdout",
     "output_type": "stream",
     "text": [
      "Minimum feszültség, maximum feszültség MPa-ban:\n"
     ]
    },
    {
     "data": {
      "image/png": "[encoded data removed]",
      "text/latex": [
       "$\\displaystyle 0$"
      ],
      "text/plain": [
       "0"
      ]
     },
     "metadata": {},
     "output_type": "display_data"
    },
    {
     "data": {
      "image/png": "[encoded data removed]",
      "text/latex": [
       "$\\displaystyle 60.3610610961914$"
      ],
      "text/plain": [
       "60.3610610961914"
      ]
     },
     "metadata": {},
     "output_type": "display_data"
    }
   ],
   "source": [
    "abrazolas(ϱ_ertekek,τxt,r\"$\\varrho \\; \\rm{(mm)}$\",r\"$\\tau_{xt}\\;\\rm{(MPa)}$\")"
   ]
  },
  {
   "cell_type": "markdown",
   "metadata": {},
   "source": [
    "### $\\sigma_{x,M_{hz}}(y)$ ábrázolása:"
   ]
  },
  {
   "cell_type": "code",
   "execution_count": 21,
   "metadata": {
    "ExecuteTime": {
     "end_time": "2020-03-10T09:32:34.086453Z",
     "start_time": "2020-03-10T09:32:32.703099Z"
    }
   },
   "outputs": [
    {
     "data": {
      "image/png": "[encoded data removed]",
      "text/plain": [
       "<Figure size 432x288 with 1 Axes>"
      ]
     },
     "metadata": {
      "needs_background": "light"
     },
     "output_type": "display_data"
    },
    {
     "name": "stdout",
     "output_type": "stream",
     "text": [
      "Minimum feszültség, maximum feszültség MPa-ban:\n"
     ]
    },
    {
     "data": {
      "image/png": "[encoded data removed]",
      "text/latex": [
       "$\\displaystyle -135.812530517578$"
      ],
      "text/plain": [
       "-135.812530517578"
      ]
     },
     "metadata": {},
     "output_type": "display_data"
    },
    {
     "data": {
      "image/png": "[encoded data removed]",
      "text/latex": [
       "$\\displaystyle 135.812530517578$"
      ],
      "text/plain": [
       "135.812530517578"
      ]
     },
     "metadata": {},
     "output_type": "display_data"
    }
   ],
   "source": [
    "abrazolas(y_ertekek,σxMhz,r\"$y \\; \\rm{(mm)}$\",r\"$\\sigma_{x,M_{hz}} \\;\\rm{(MPa)}$\")"
   ]
  },
  {
   "cell_type": "markdown",
   "metadata": {},
   "source": [
    "### $\\tau_{xy,V_y}(y)$ ábrázolása:"
   ]
  },
  {
   "cell_type": "code",
   "execution_count": 22,
   "metadata": {
    "ExecuteTime": {
     "end_time": "2020-03-10T09:32:35.590758Z",
     "start_time": "2020-03-10T09:32:34.089801Z"
    }
   },
   "outputs": [
    {
     "data": {
      "image/png": "[encoded data removed]",
      "text/plain": [
       "<Figure size 432x288 with 1 Axes>"
      ]
     },
     "metadata": {
      "needs_background": "light"
     },
     "output_type": "display_data"
    },
    {
     "name": "stdout",
     "output_type": "stream",
     "text": [
      "Minimum feszültség, maximum feszültség MPa-ban:\n"
     ]
    },
    {
     "data": {
      "image/png": "[encoded data removed]",
      "text/latex": [
       "$\\displaystyle 1.69500708580017 \\cdot 10^{-7}$"
      ],
      "text/plain": [
       "1.69500708580017e-7"
      ]
     },
     "metadata": {},
     "output_type": "display_data"
    },
    {
     "data": {
      "image/png": "[encoded data removed]",
      "text/latex": [
       "$\\displaystyle 0.22635$"
      ],
      "text/plain": [
       "0.22635"
      ]
     },
     "metadata": {},
     "output_type": "display_data"
    }
   ],
   "source": [
    "abrazolas(y_ertekek,τxyVy,r\"$y \\; \\rm{(mm)}$\",r\"$\\tau_{xy,V_y} \\;\\rm{(MPa)}$\")"
   ]
  },
  {
   "cell_type": "markdown",
   "metadata": {},
   "source": [
    "## Kijelölt pontok vizsgálata\n",
    "\n",
    "<img src=\"Fig_1.25b.png\" style=\"width: 400px;\">\n",
    "\n",
    "A feszültségtenzor elemei:\n",
    "$$\\boldsymbol{\\sigma}=\\left[\\begin{matrix} \\sigma_x & \\tau_{xy} & \\tau_{xz}\\\\ \\tau_{yx} & \\sigma_y & \\tau_{yz}\\\\ \\tau_{zx} & \\tau_{zy} & \\sigma_z \\end{matrix}\\right].$$\n",
    "\n",
    "A mi esetünkben $\\sigma_{y}=\\sigma_{z}=\\tau_{yz}=\\tau_{zy}=0$, valamint $\\sigma_x=\\sigma_{x,N}+\\sigma_{x,M_{hy}}(z)+\\sigma_{x,M_{hz}}(y)$.\n",
    "\n",
    "Definiáljuk az ennek megfelelő mátrixot szimbolikusan, amihez szükségünk lesz az egyes elemek szimbólumaira. Ennek során kihasználjuk, hogy a tenzor szimmetrikus és néhány eleméről tudjuk, hogy 0 lesz. Hogy elkerüljük az ütközést a korábbi változónevekkel, a `_TE` (mint Tenzor Elem) utótagot fogjuk használni. A $\\sigma_x$-re fentebb leírt kifejezést is definiáljuk, mert $\\sigma_x$ minden pontban így számolható."
   ]
  },
  {
   "cell_type": "code",
   "execution_count": 23,
   "metadata": {
    "ExecuteTime": {
     "end_time": "2020-03-10T09:32:36.114561Z",
     "start_time": "2020-03-10T09:32:35.594044Z"
    }
   },
   "outputs": [
    {
     "data": {
      "image/png": "[encoded data removed]",
      "text/latex": [
       "$\\displaystyle \\left[\\begin{matrix}\\sigma_{x} & \\tau_{xy} & \\tau_{xz}\\\\\\tau_{xy} & 0 & 0\\\\\\tau_{xz} & 0 & 0\\end{matrix}\\right]$"
      ],
      "text/plain": [
       "⎡\\sigma_{x}  \\tau_{xy}  \\tau_{xz}⎤\n",
       "⎢                                ⎥\n",
       "⎢\\tau_{xy}       0          0    ⎥\n",
       "⎢                                ⎥\n",
       "⎣\\tau_{xz}       0          0    ⎦"
      ]
     },
     "execution_count": 23,
     "metadata": {},
     "output_type": "execute_result"
    }
   ],
   "source": [
    "σx,τxy,τxz = sp.symbols(r\"\\sigma_{x},\\tau_{xy},\\tau_{xz}\") #'r' karakter kell a srting elé a LaTeX kód miatt\n",
    "σx_eredo = σxN+σxMhy+σxMhz\n",
    "σMx = sp.Matrix([[σx,τxy,τxz],[τxy,0,0],[τxz,0,0]])\n",
    "σMx"
   ]
  },
  {
   "cell_type": "markdown",
   "metadata": {},
   "source": [
    "### P1 pont\n",
    "\n",
    "A pont $(y,z,\\varrho)$ koordinátái:\n",
    "$$y_{\\mathrm{P1}}=-r, \\quad z_{\\mathrm{P1}}=0, \\quad \\varrho_{\\mathrm{P1}}=r.$$\n",
    "\n",
    "Ebben a pontban a $\\tau_{xt}$ feszültség a $-z$ irányba mutat. Ennek megfelelően $\\tau_{xz}$-hez adjuk hozzá, negatív előjellel.\n",
    "\n",
    "Korábban láthattuk, hogy a számábrázolási pontatlanság miatt azok az értékekre, melyeknek 0-nak kellett volna lennie (a keresztmetszet szabad szélén nem lehet 0-tól eltérő a nyíróerőből adódó feszültség), kicsi, de nem 0 számokat kaptunk. Ezeket a `round(n)` utasítással tudjuk kerekíteni, `n` tizedesjegyre. Ebben az esetben például a `round(5)` megfelelő eredményt ad."
   ]
  },
  {
   "cell_type": "code",
   "execution_count": 24,
   "metadata": {
    "ExecuteTime": {
     "end_time": "2020-03-10T09:32:36.639151Z",
     "start_time": "2020-03-10T09:32:36.116981Z"
    }
   },
   "outputs": [
    {
     "data": {
      "image/png": "[encoded data removed]",
      "text/latex": [
       "$\\displaystyle \\left[\\begin{matrix}135.6 & 0 & -60.455\\\\0 & 0 & 0\\\\-60.455 & 0 & 0\\end{matrix}\\right]$"
      ],
      "text/plain": [
       "⎡ 135.6   0  -60.455⎤\n",
       "⎢                   ⎥\n",
       "⎢   0     0     0   ⎥\n",
       "⎢                   ⎥\n",
       "⎣-60.455  0     0   ⎦"
      ]
     },
     "execution_count": 24,
     "metadata": {},
     "output_type": "execute_result"
    }
   ],
   "source": [
    "yP1 = -r_ertek\n",
    "zP1 = 0\n",
    "ϱ_ertekP1 = r_ertek\n",
    "σxP1 = σx_eredo.subs([(y,yP1),(z,zP1)]).round(5) #behelyettesítjük a koordinátákat, 5 tizedesjegyre kerekítünk\n",
    "τxyP1 = τxyVy.subs([(y,yP1),(z,zP1)]).round(5) #behelyettesítjük a koordinátákat, 5 tizedesjegyre kerekítünk\n",
    "τxzP1 = (τxzVz+(-τxt)).subs([(y,yP1),(z,zP1),(ϱ,ϱ_ertekP1)]).round(5) #itt 'ϱ'-ra is szükség van, 5 tizedesjegyre kerekítünk\n",
    "σMxP1 = σMx.subs([(σx,σxP1),(τxy,τxyP1),(τxz,τxzP1)]) #beírjuk a mátrixba a 'P1'-re  számolt értékeket\n",
    "σMxP1.evalf(5) #5 értékesjegyre írjuk ki"
   ]
  },
  {
   "cell_type": "markdown",
   "metadata": {},
   "source": [
    "Ezt a műveletsort végig kell csinálni az összes pontra. Emiatt ismét célszerű egy sajár függvényt definiálnunk, ami az $y$ és $z$ koordináták függvénynében visszatér a feszültségtenzorral. $\\tau_{xy}$ és $\\tau_{xz}$ esetén $\\tau_{xt}(\\varrho)$ helyett $\\tau_{xt,y}(y,z)$-t és $\\tau_{xt,z}(y,z)$-t használjuk. Így $\\tau_{xy}=\\tau_{xy}(y)+\\tau_{xt,y}(y,z)$, valamint $\\tau_{xz}=\\tau_{xz}(z)+\\tau_{xt,z}(y,z)$. Így $\\varrho$ nem szerepel a képletekben, és a feszültség iránya automatikusan kiadódik."
   ]
  },
  {
   "cell_type": "code",
   "execution_count": 25,
   "metadata": {
    "ExecuteTime": {
     "end_time": "2020-03-10T09:32:36.655198Z",
     "start_time": "2020-03-10T09:32:36.642952Z"
    }
   },
   "outputs": [],
   "source": [
    "τxy_eredo=τxyVy+τxty\n",
    "τxz_eredo=τxzVz+τxtz\n",
    "\n",
    "def σMatrix(P):\n",
    "    #'yP': a pont 'y' koordinátája\n",
    "    #'zP': a pont 'z' koordinátája\n",
    "    yP, zP = P\n",
    "    koord_ertekek = [(y,yP),(z,zP)] #készítünk egy listát, hogy egyszerre tudjuk behelyettesíteni a koordinátákat\n",
    "    σxP = σx_eredo.subs(koord_ertekek).round(5) #behelyettesítjük a koorbinátákat, 5 tizedesjegyre kerekítünk\n",
    "    τxyP = τxy_eredo.subs(koord_ertekek).round(5)\n",
    "    τxzP = τxz_eredo.subs(koord_ertekek).round(5)\n",
    "    σMxP = σMx.subs([(σx,σxP),(τxy,τxyP),(τxz,τxzP)])\n",
    "    return σMxP.evalf(5)"
   ]
  },
  {
   "cell_type": "markdown",
   "metadata": {},
   "source": [
    "A P1-hez tartozó feszültségtenzort kiszámolhatjuk a saját függvénnyel:"
   ]
  },
  {
   "cell_type": "code",
   "execution_count": 26,
   "metadata": {
    "ExecuteTime": {
     "end_time": "2020-03-10T09:32:37.211149Z",
     "start_time": "2020-03-10T09:32:36.658815Z"
    }
   },
   "outputs": [
    {
     "data": {
      "image/png": "[encoded data removed]",
      "text/latex": [
       "$\\displaystyle \\left[\\begin{matrix}135.6 & 0 & -60.455\\\\0 & 0 & 0\\\\-60.455 & 0 & 0\\end{matrix}\\right]$"
      ],
      "text/plain": [
       "⎡ 135.6   0  -60.455⎤\n",
       "⎢                   ⎥\n",
       "⎢   0     0     0   ⎥\n",
       "⎢                   ⎥\n",
       "⎣-60.455  0     0   ⎦"
      ]
     },
     "execution_count": 26,
     "metadata": {},
     "output_type": "execute_result"
    }
   ],
   "source": [
    "P1 = [-r_ertek,0]\n",
    "σMatrix(P1)"
   ]
  },
  {
   "cell_type": "markdown",
   "metadata": {},
   "source": [
    "### P2 pont\n",
    "\n",
    "A pont $(y,z)$ koordinátái:\n",
    "$$y_{P1}=0, \\quad z_{P1}=-r.$$"
   ]
  },
  {
   "cell_type": "code",
   "execution_count": 27,
   "metadata": {
    "ExecuteTime": {
     "end_time": "2020-03-10T09:32:37.727432Z",
     "start_time": "2020-03-10T09:32:37.213805Z"
    }
   },
   "outputs": [
    {
     "data": {
      "image/png": "[encoded data removed]",
      "text/latex": [
       "$\\displaystyle \\left[\\begin{matrix}-169.98 & 60.587 & 0\\\\60.587 & 0 & 0\\\\0 & 0 & 0\\end{matrix}\\right]$"
      ],
      "text/plain": [
       "⎡-169.98  60.587  0⎤\n",
       "⎢                  ⎥\n",
       "⎢60.587     0     0⎥\n",
       "⎢                  ⎥\n",
       "⎣   0       0     0⎦"
      ]
     },
     "execution_count": 27,
     "metadata": {},
     "output_type": "execute_result"
    }
   ],
   "source": [
    "P2 = [0,-r_ertek]\n",
    "σMatrix(P2)"
   ]
  },
  {
   "cell_type": "markdown",
   "metadata": {},
   "source": [
    "### P3 pont\n",
    "\n",
    "A pont $(y,z)$ koordinátái:\n",
    "$$y_{P1}=r, \\quad z_{P1}=0.$$"
   ]
  },
  {
   "cell_type": "code",
   "execution_count": 28,
   "metadata": {
    "ExecuteTime": {
     "end_time": "2020-03-10T09:32:38.313268Z",
     "start_time": "2020-03-10T09:32:37.730131Z"
    }
   },
   "outputs": [
    {
     "data": {
      "image/png": "[encoded data removed]",
      "text/latex": [
       "$\\displaystyle \\left[\\begin{matrix}-136.02 & 0 & 60.267\\\\0 & 0 & 0\\\\60.267 & 0 & 0\\end{matrix}\\right]$"
      ],
      "text/plain": [
       "⎡-136.02  0  60.267⎤\n",
       "⎢                  ⎥\n",
       "⎢   0     0    0   ⎥\n",
       "⎢                  ⎥\n",
       "⎣60.267   0    0   ⎦"
      ]
     },
     "execution_count": 28,
     "metadata": {},
     "output_type": "execute_result"
    }
   ],
   "source": [
    "P3 = [r_ertek,0]\n",
    "σMatrix(P3)"
   ]
  },
  {
   "cell_type": "markdown",
   "metadata": {},
   "source": [
    "### P4 pont\n",
    "\n",
    "A pont $(y,z)$ koordinátái:\n",
    "$$y_{P1}=0, \\quad z_{P1}=r.$$"
   ]
  },
  {
   "cell_type": "code",
   "execution_count": 29,
   "metadata": {
    "ExecuteTime": {
     "end_time": "2020-03-10T09:32:38.891742Z",
     "start_time": "2020-03-10T09:32:38.316005Z"
    }
   },
   "outputs": [
    {
     "data": {
      "image/png": "[encoded data removed]",
      "text/latex": [
       "$\\displaystyle \\left[\\begin{matrix}169.55 & -60.135 & 0\\\\-60.135 & 0 & 0\\\\0 & 0 & 0\\end{matrix}\\right]$"
      ],
      "text/plain": [
       "⎡169.55   -60.135  0⎤\n",
       "⎢                   ⎥\n",
       "⎢-60.135     0     0⎥\n",
       "⎢                   ⎥\n",
       "⎣   0        0     0⎦"
      ]
     },
     "execution_count": 29,
     "metadata": {},
     "output_type": "execute_result"
    }
   ],
   "source": [
    "P4 = [0,r_ertek]\n",
    "σMatrix(P4)"
   ]
  },
  {
   "cell_type": "markdown",
   "metadata": {},
   "source": [
    "### P5 pont\n",
    "\n",
    "A pont $(y,z)$ koordinátái:\n",
    "$$y_{P5}=0, \\quad z_{P5}=0.$$"
   ]
  },
  {
   "cell_type": "code",
   "execution_count": 30,
   "metadata": {
    "ExecuteTime": {
     "end_time": "2020-03-10T09:32:39.476877Z",
     "start_time": "2020-03-10T09:32:38.894311Z"
    }
   },
   "outputs": [
    {
     "data": {
      "image/png": "[encoded data removed]",
      "text/latex": [
       "$\\displaystyle \\left[\\begin{matrix}-0.21221 & 0.22635 & -0.09431\\\\0.22635 & 0 & 0\\\\-0.09431 & 0 & 0\\end{matrix}\\right]$"
      ],
      "text/plain": [
       "⎡-0.21221  0.22635  -0.09431⎤\n",
       "⎢                           ⎥\n",
       "⎢0.22635      0        0    ⎥\n",
       "⎢                           ⎥\n",
       "⎣-0.09431     0        0    ⎦"
      ]
     },
     "execution_count": 30,
     "metadata": {},
     "output_type": "execute_result"
    }
   ],
   "source": [
    "P5 = [0,0]\n",
    "σMatrix(P5)"
   ]
  },
  {
   "cell_type": "markdown",
   "metadata": {},
   "source": [
    "Mind az feszültségek ábrázolásának, mind különböző pontok példáján jól látható, hogy célszerű saját függvény írni a kód másolgatása és kézi szerkesztése helyett. Fontos előny az is, hogy ha egységesen módosítani szeretnénk például az összes ábra formázását, akkor elég egy helyen átírni a kódot. Ez a programhibák javítását is nagyban megkönnyíti."
   ]
  }
 ],
 "metadata": {
  "kernelspec": {
   "display_name": "Python 3",
   "language": "python",
   "name": "python3"
  },
  "language_info": {
   "codemirror_mode": {
    "name": "ipython",
    "version": 3
   },
   "file_extension": ".py",
   "mimetype": "text/x-python",
   "name": "python",
   "nbconvert_exporter": "python",
   "pygments_lexer": "ipython3",
   "version": "3.7.4"
  },
  "toc": {
   "base_numbering": 1,
   "nav_menu": {},
   "number_sections": true,
   "sideBar": true,
   "skip_h1_title": false,
   "title_cell": "Table of Contents",
   "title_sidebar": "Contents",
   "toc_cell": false,
   "toc_position": {},
   "toc_section_display": true,
   "toc_window_display": false
  }
 },
 "nbformat": 4,
 "nbformat_minor": 4
}
