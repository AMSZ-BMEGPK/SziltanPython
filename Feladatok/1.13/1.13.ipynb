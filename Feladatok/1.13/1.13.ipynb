{
 "cells": [
  {
   "cell_type": "markdown",
   "metadata": {},
   "source": [
    "# Példa 1.13\n",
    "\n",
    "Tiszta hajlítással terhelt tartó keresztmetszete $a$ oldalhosszúságú négyzet, a hajlítás tengelye az \n",
    "$x$-tengely. Hány százalékkal nő a maximális feszültség a keresztmetszetben, ha 45°-kal elforgatjuk a keresztmetszetet?\n",
    "\n",
    "<img src=\"Fig_1.13.png\" style=\"width: 400px;\">"
   ]
  },
  {
   "cell_type": "markdown",
   "metadata": {},
   "source": [
    "# Megoldás"
   ]
  },
  {
   "cell_type": "markdown",
   "metadata": {},
   "source": [
    "A megoldás során szükségünk van a `sympy` modulra. Ez egy tipikusan olyan feladat, amit csak szimbolikusan tudunk kezelni, mert nincsenek megadva konkrét értékek."
   ]
  },
  {
   "cell_type": "code",
   "execution_count": 1,
   "metadata": {
    "ExecuteTime": {
     "end_time": "2020-02-21T13:16:50.440222Z",
     "start_time": "2020-02-21T13:16:50.166862Z"
    }
   },
   "outputs": [],
   "source": [
    "import sympy as sp #betöltjük a sympy modult\n",
    "a, Mh = sp.symbols(\"a, M_{\\mathrm{h}}\") #létrehozzuk szimbólumokat"
   ]
  },
  {
   "cell_type": "markdown",
   "metadata": {},
   "source": [
    "A válaszhoz szükségünk lesz a keresztmetszeti tényezőkre. Ha $e_x$-el jelöljük a szélső szál távolságát az $x$ tengelytől, akkor:  \n",
    "$$K_x=\\frac{I_x}{e_x}.$$"
   ]
  },
  {
   "cell_type": "markdown",
   "metadata": {},
   "source": [
    "### a) eset: nem elforgatott négyzet\n",
    "$$I_x^{(a)}=\\frac{a^4}{12},$$  \n",
    "$$e_x^{(a)}=\\frac{a}{2},$$  \n",
    "$$K_x^{(a)}=\\frac{I_x^{(a)}}{e^{(a)}},$$  \n",
    "$$\\sigma_{z,\\mathrm{max}}^{(a)}=\\frac{M_{\\mathrm{h}}}{K^{(a)}_x}.$$"
   ]
  },
  {
   "cell_type": "code",
   "execution_count": 2,
   "metadata": {
    "ExecuteTime": {
     "end_time": "2020-02-21T13:16:50.702313Z",
     "start_time": "2020-02-21T13:16:50.443177Z"
    }
   },
   "outputs": [
    {
     "data": {
      "text/latex": [
       "$\\displaystyle \\frac{6 M_{\\mathrm{h}}}{a^{3}}$"
      ],
      "text/plain": [
       "6*M_{\\mathrm{h}}/a**3"
      ]
     },
     "execution_count": 2,
     "metadata": {},
     "output_type": "execute_result"
    }
   ],
   "source": [
    "Ix_a = a**4/12\n",
    "e_xa = a/2\n",
    "\n",
    "K_xa = Ix_a/e_xa\n",
    "\n",
    "σ_max_a = Mh/K_xa\n",
    "σ_max_a"
   ]
  },
  {
   "cell_type": "markdown",
   "metadata": {},
   "source": [
    "### b) eset: 45°-al elforgatott négyzet.\n",
    "A négyzet keresztmetszet gömbszimmetrikus tulajdonsága miatt ($I_x = I_y = I_1 = I_2$) a másodrendű nyomaték nem változik:  \n",
    "$$I_x^{(b)}=\\frac{a^4}{12},$$  \n",
    "$$e_x^{(b)}=\\frac{a \\sqrt{2}}{2},$$  \n",
    "$$K_x^{(b)}=\\frac{I_x^{(b)}}{e^{(b)}},$$  \n",
    "$$\\sigma_{z,\\mathrm{max}}^{(b)}=\\frac{M_{\\mathrm{h}}}{K^{(b)}}.$$"
   ]
  },
  {
   "cell_type": "code",
   "execution_count": 3,
   "metadata": {
    "ExecuteTime": {
     "end_time": "2020-02-21T13:16:50.710006Z",
     "start_time": "2020-02-21T13:16:50.703789Z"
    }
   },
   "outputs": [
    {
     "data": {
      "text/latex": [
       "$\\displaystyle \\frac{6 \\sqrt{2} M_{\\mathrm{h}}}{a^{3}}$"
      ],
      "text/plain": [
       "6*sqrt(2)*M_{\\mathrm{h}}/a**3"
      ]
     },
     "execution_count": 3,
     "metadata": {},
     "output_type": "execute_result"
    }
   ],
   "source": [
    "Ix_b = a**4/12\n",
    "e_xb = sp.sqrt(2)*a/2\n",
    "\n",
    "K_xb = Ix_b/e_xb\n",
    "\n",
    "σ_max_b = Mh/K_xb\n",
    "σ_max_b"
   ]
  },
  {
   "cell_type": "markdown",
   "metadata": {},
   "source": [
    "### Eredmények összehasonlítása"
   ]
  },
  {
   "cell_type": "markdown",
   "metadata": {},
   "source": [
    "A maximális feszültségek hányadosa:"
   ]
  },
  {
   "cell_type": "code",
   "execution_count": 4,
   "metadata": {
    "ExecuteTime": {
     "end_time": "2020-02-21T13:16:50.731979Z",
     "start_time": "2020-02-21T13:16:50.711469Z"
    }
   },
   "outputs": [
    {
     "data": {
      "text/latex": [
       "$\\displaystyle \\sqrt{2}$"
      ],
      "text/plain": [
       "sqrt(2)"
      ]
     },
     "execution_count": 4,
     "metadata": {},
     "output_type": "execute_result"
    }
   ],
   "source": [
    "σ_max_b/σ_max_a"
   ]
  },
  {
   "cell_type": "markdown",
   "metadata": {},
   "source": [
    "Változás aránya az eredeti feszültséghez képest:"
   ]
  },
  {
   "cell_type": "code",
   "execution_count": 5,
   "metadata": {
    "ExecuteTime": {
     "end_time": "2020-02-21T13:16:50.754804Z",
     "start_time": "2020-02-21T13:16:50.733757Z"
    }
   },
   "outputs": [
    {
     "data": {
      "text/latex": [
       "$\\displaystyle \\frac{a^{3} \\left(- \\frac{6 M_{\\mathrm{h}}}{a^{3}} + \\frac{6 \\sqrt{2} M_{\\mathrm{h}}}{a^{3}}\\right)}{6 M_{\\mathrm{h}}}$"
      ],
      "text/plain": [
       "a**3*(-6*M_{\\mathrm{h}}/a**3 + 6*sqrt(2)*M_{\\mathrm{h}}/a**3)/(6*M_{\\mathrm{h}})"
      ]
     },
     "execution_count": 5,
     "metadata": {},
     "output_type": "execute_result"
    }
   ],
   "source": [
    "valtozas = (σ_max_b - σ_max_a)/σ_max_a #a változás aránya az eredeti értékhez képest\n",
    "valtozas #\"nyers\" kifejezés"
   ]
  },
  {
   "cell_type": "markdown",
   "metadata": {},
   "source": [
    "A kapott eredmény helyes, de több egyszerűsítés is elvégezhető lenne rajta. Ezt a `simplify()` utasítással érhetjük el."
   ]
  },
  {
   "cell_type": "code",
   "execution_count": 6,
   "metadata": {
    "ExecuteTime": {
     "end_time": "2020-02-21T13:16:50.827900Z",
     "start_time": "2020-02-21T13:16:50.756335Z"
    }
   },
   "outputs": [
    {
     "data": {
      "text/latex": [
       "$\\displaystyle -1 + \\sqrt{2}$"
      ],
      "text/plain": [
       "-1 + sqrt(2)"
      ]
     },
     "execution_count": 6,
     "metadata": {},
     "output_type": "execute_result"
    }
   ],
   "source": [
    "valtozas = valtozas.simplify() # felülírva az eredet 'valtozas' változót\n",
    "valtozas"
   ]
  },
  {
   "cell_type": "markdown",
   "metadata": {},
   "source": [
    "Százalékban, numerikusan kifejezve:"
   ]
  },
  {
   "cell_type": "code",
   "execution_count": 7,
   "metadata": {
    "ExecuteTime": {
     "end_time": "2020-02-21T13:16:50.836926Z",
     "start_time": "2020-02-21T13:16:50.830785Z"
    }
   },
   "outputs": [
    {
     "data": {
      "text/latex": [
       "$\\displaystyle 41.421$"
      ],
      "text/plain": [
       "41.421"
      ]
     },
     "execution_count": 7,
     "metadata": {},
     "output_type": "execute_result"
    }
   ],
   "source": [
    "szazalek = valtozas*100\n",
    "szazalek.evalf(5) #% - 5 értékes jegyre"
   ]
  }
 ],
 "metadata": {
  "kernelspec": {
   "display_name": "Python 3",
   "language": "python",
   "name": "python3"
  },
  "language_info": {
   "codemirror_mode": {
    "name": "ipython",
    "version": 3
   },
   "file_extension": ".py",
   "mimetype": "text/x-python",
   "name": "python",
   "nbconvert_exporter": "python",
   "pygments_lexer": "ipython3",
   "version": "3.7.3"
  },
  "toc": {
   "base_numbering": 1,
   "nav_menu": {},
   "number_sections": true,
   "sideBar": true,
   "skip_h1_title": false,
   "title_cell": "Table of Contents",
   "title_sidebar": "Contents",
   "toc_cell": false,
   "toc_position": {},
   "toc_section_display": true,
   "toc_window_display": false
  }
 },
 "nbformat": 4,
 "nbformat_minor": 2
}
