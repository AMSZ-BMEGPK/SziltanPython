{
 "cells": [
  {
   "cell_type": "markdown",
   "metadata": {},
   "source": [
    "# Példa 4.3-4.5\n",
    "Határozzuk meg a különböző feszültségi állapotok esetén a főfeszültségeket és a feszültségi főirányokhoz tartozó egységvektorokat."
   ]
  },
  {
   "cell_type": "markdown",
   "metadata": {},
   "source": [
    "# Megoldás\n",
    "\n",
    "A megoldás során szükségünk lesz a `sympy` modulra. A számolások során a feszültségi állapotot jellemző tenzort egy  $3\\times 3$-as mátrixként adhatjuk meg."
   ]
  },
  {
   "cell_type": "code",
   "execution_count": 1,
   "metadata": {
    "ExecuteTime": {
     "end_time": "2020-03-19T08:41:36.047266Z",
     "start_time": "2020-03-19T08:41:35.144212Z"
    }
   },
   "outputs": [],
   "source": [
    "import sympy as sp\n",
    "sp.init_printing()\n",
    "# A σ indexei a feladat sorszámait jelölik!\n",
    "\n",
    "σ_43 = sp.Matrix([[-20,0,30],[0,15,0],[30,0,40]])\n",
    "σ_44 = sp.Matrix([[-5,-10,0],[-10,-20,0],[0,0,-30]])\n",
    "σ_45 = sp.Matrix([[0,-10,0],[-10,0,0],[0,0,10]])"
   ]
  },
  {
   "cell_type": "markdown",
   "metadata": {},
   "source": [
    "## Sajátérték, sajátvektor számítás\n",
    "\n",
    "A feszültségi állapotot jellemző főfeszültségek és a hozzájuk tartozó főirányok megfeleltethetőek a feszültségi állapotot jellemző tenzor sajátértékeivel és sajátvektoraival.\n",
    "\n",
    "A `sympy` segítségével a sajátértékeket és sajátvektorokat egy utasítással (`.eigenvects()`) megkaphatjuk. Mivel a `sympy` speciális esetekre is fel van készítve, ezért a megoldást erősen \"becsomagolva\" kapjuk meg."
   ]
  },
  {
   "cell_type": "code",
   "execution_count": 2,
   "metadata": {
    "ExecuteTime": {
     "end_time": "2020-03-19T08:41:36.589403Z",
     "start_time": "2020-03-19T08:41:36.049081Z"
    }
   },
   "outputs": [
    {
     "data": {
      "image/png": "[encoded data removed]",
      "text/latex": [
       "$\\displaystyle \\left( 15, \\  1, \\  \\left[ \\left[\\begin{matrix}0\\\\1\\\\0\\end{matrix}\\right]\\right]\\right)$"
      ],
      "text/plain": [
       "⎛       ⎡⎡0⎤⎤⎞\n",
       "⎜       ⎢⎢ ⎥⎥⎟\n",
       "⎜15, 1, ⎢⎢1⎥⎥⎟\n",
       "⎜       ⎢⎢ ⎥⎥⎟\n",
       "⎝       ⎣⎣0⎦⎦⎠"
      ]
     },
     "execution_count": 2,
     "metadata": {},
     "output_type": "execute_result"
    }
   ],
   "source": [
    "eig_system= σ_43.eigenvects()\n",
    "\n",
    "# Az első sajátérték/multiplicitás/sajátvektor adatok\n",
    "eig_system[0]"
   ]
  },
  {
   "cell_type": "markdown",
   "metadata": {},
   "source": [
    "Eredményül a mátrixhoz tartozó sajátérték/sajátvektor párokat kapjuk. Az `.eigenvects()` egy listát ad vissza. Ennek a listának az elemei olyan `tuple`-ök (a mi szempontunkból a `tuple` gyakorlatilag egy lista), melyek:\n",
    "\n",
    "- A sajátérték\n",
    "- A sajátérték multiplicitása (pl: ha két sajátérték egybeesik, akkor annak a multiplicitása 2 lesz)\n",
    "- A sajátértékhez tartozó sajátvektor(ok) listája melynek elemszáma a az adott sajátérték multiplicitása\n",
    "\n",
    "Tartsuk észben, hogy egy $3\\times3$-as mátrix esetén ha egy sajátérték multiplicitása nagyobb mint egy, akkor az `sp.eigenvects` nem 3 elemű listát ad eredményül!  \n",
    "Ha csak egy mátrixot kell kiértékeljünk, akkor a fent említett mennyiségek 'kézzel' is kiolvashatóak."
   ]
  },
  {
   "cell_type": "code",
   "execution_count": 3,
   "metadata": {
    "ExecuteTime": {
     "end_time": "2020-03-19T08:41:37.094340Z",
     "start_time": "2020-03-19T08:41:36.592574Z"
    }
   },
   "outputs": [
    {
     "data": {
      "image/png": "[encoded data removed]",
      "text/latex": [
       "$\\displaystyle \\left[ \\left( 1, \\  2, \\  \\left[ \\left[\\begin{matrix}1\\\\0\\\\0\\end{matrix}\\right], \\  \\left[\\begin{matrix}0\\\\0\\\\1\\end{matrix}\\right]\\right]\\right), \\  \\left( 2, \\  1, \\  \\left[ \\left[\\begin{matrix}0\\\\1\\\\0\\end{matrix}\\right]\\right]\\right)\\right]$"
      ],
      "text/plain": [
       "⎡⎛      ⎡⎡1⎤  ⎡0⎤⎤⎞  ⎛      ⎡⎡0⎤⎤⎞⎤\n",
       "⎢⎜      ⎢⎢ ⎥  ⎢ ⎥⎥⎟  ⎜      ⎢⎢ ⎥⎥⎟⎥\n",
       "⎢⎜1, 2, ⎢⎢0⎥, ⎢0⎥⎥⎟, ⎜2, 1, ⎢⎢1⎥⎥⎟⎥\n",
       "⎢⎜      ⎢⎢ ⎥  ⎢ ⎥⎥⎟  ⎜      ⎢⎢ ⎥⎥⎟⎥\n",
       "⎣⎝      ⎣⎣0⎦  ⎣1⎦⎦⎠  ⎝      ⎣⎣0⎦⎦⎠⎦"
      ]
     },
     "metadata": {},
     "output_type": "display_data"
    }
   ],
   "source": [
    "# Példa:\n",
    "display(sp.Matrix([[1,0,0],[0,2,0],[0,0,1]]).eigenvects()) # Így néz ki, ha többszörösek a sajátértékek"
   ]
  },
  {
   "cell_type": "code",
   "execution_count": 4,
   "metadata": {
    "ExecuteTime": {
     "end_time": "2020-03-19T08:41:37.615445Z",
     "start_time": "2020-03-19T08:41:37.096528Z"
    },
    "scrolled": true
   },
   "outputs": [
    {
     "data": {
      "image/png": "[encoded data removed]",
      "text/latex": [
       "$\\displaystyle \\left[ \\left( 15, \\  1, \\  \\left[ \\left[\\begin{matrix}0\\\\1\\\\0\\end{matrix}\\right]\\right]\\right), \\  \\left( 10 - 30 \\sqrt{2}, \\  1, \\  \\left[ \\left[\\begin{matrix}- \\frac{30}{-30 + 30 \\sqrt{2}}\\\\0\\\\1\\end{matrix}\\right]\\right]\\right), \\  \\left( 10 + 30 \\sqrt{2}, \\  1, \\  \\left[ \\left[\\begin{matrix}- \\frac{30}{- 30 \\sqrt{2} - 30}\\\\0\\\\1\\end{matrix}\\right]\\right]\\right)\\right]$"
      ],
      "text/plain": [
       "⎡                ⎛               ⎡⎡    -30    ⎤⎤⎞  ⎛               ⎡⎡    -30  \n",
       "⎢⎛       ⎡⎡0⎤⎤⎞  ⎜               ⎢⎢───────────⎥⎥⎟  ⎜               ⎢⎢─────────\n",
       "⎢⎜       ⎢⎢ ⎥⎥⎟  ⎜               ⎢⎢-30 + 30⋅√2⎥⎥⎟  ⎜               ⎢⎢-30⋅√2 - \n",
       "⎢⎜15, 1, ⎢⎢1⎥⎥⎟, ⎜10 - 30⋅√2, 1, ⎢⎢           ⎥⎥⎟, ⎜10 + 30⋅√2, 1, ⎢⎢         \n",
       "⎢⎜       ⎢⎢ ⎥⎥⎟  ⎜               ⎢⎢     0     ⎥⎥⎟  ⎜               ⎢⎢     0   \n",
       "⎢⎝       ⎣⎣0⎦⎦⎠  ⎜               ⎢⎢           ⎥⎥⎟  ⎜               ⎢⎢         \n",
       "⎣                ⎝               ⎣⎣     1     ⎦⎦⎠  ⎝               ⎣⎣     1   \n",
       "\n",
       "  ⎤⎤⎞⎤\n",
       "──⎥⎥⎟⎥\n",
       "30⎥⎥⎟⎥\n",
       "  ⎥⎥⎟⎥\n",
       "  ⎥⎥⎟⎥\n",
       "  ⎥⎥⎟⎥\n",
       "  ⎦⎦⎠⎦"
      ]
     },
     "metadata": {},
     "output_type": "display_data"
    }
   ],
   "source": [
    "σ_43_sajat = σ_43.eigenvects()\n",
    "display(σ_43_sajat) # Ilyen, ha egyszeresek"
   ]
  },
  {
   "cell_type": "markdown",
   "metadata": {},
   "source": [
    "Az `.eigenvects()` függvény nem feltétlenül sorrendben adja vissza a sajátértékeket, ezért rendeznünk kell őket. Célszerű a sajátértékek alapján csökkenő sorrendbe tenni a fenti eredményt. Ezt a következő paranccsal tudjuk megtenni: `σ_43_sajat.sort(key = lambda x : x[0], reverse=True)`.\n",
    "\n",
    "Rövid magyarázat:\n",
    "\n",
    "- `lista.sort()`: a listát helyben rendezi, azaz a rendezetlen listát felülírja a rendezett listával,\n",
    "- `key` =: ami alapján rendez, egyszerű számoknál, stringeknél erre nincs szükség (a mi kódunk is lefut key nélkül, de nem tudjuk, hogy mi alapján rendezi az elemeket, így biztonságosabb megadni a key-t),\n",
    "- `lambda x : x[0]`: egy úgynevezett `lambda` függvény, ami a bemenő x-nek az első elemét adja vissza, azaz az első elem alapján fogunk rendezni,\n",
    "- `reverse = True`: növekvő helyett csökkenő sorrendbe teszi az eredményt.\n",
    "\n"
   ]
  },
  {
   "cell_type": "code",
   "execution_count": 5,
   "metadata": {
    "ExecuteTime": {
     "end_time": "2020-03-19T08:41:38.151251Z",
     "start_time": "2020-03-19T08:41:37.617025Z"
    }
   },
   "outputs": [
    {
     "data": {
      "image/png": "[encoded data removed]",
      "text/latex": [
       "$\\displaystyle \\left[ \\left( 10 + 30 \\sqrt{2}, \\  1, \\  \\left[ \\left[\\begin{matrix}- \\frac{30}{- 30 \\sqrt{2} - 30}\\\\0\\\\1\\end{matrix}\\right]\\right]\\right), \\  \\left( 15, \\  1, \\  \\left[ \\left[\\begin{matrix}0\\\\1\\\\0\\end{matrix}\\right]\\right]\\right), \\  \\left( 10 - 30 \\sqrt{2}, \\  1, \\  \\left[ \\left[\\begin{matrix}- \\frac{30}{-30 + 30 \\sqrt{2}}\\\\0\\\\1\\end{matrix}\\right]\\right]\\right)\\right]$"
      ],
      "text/plain": [
       "⎡⎛               ⎡⎡    -30    ⎤⎤⎞                  ⎛               ⎡⎡    -30  \n",
       "⎢⎜               ⎢⎢───────────⎥⎥⎟  ⎛       ⎡⎡0⎤⎤⎞  ⎜               ⎢⎢─────────\n",
       "⎢⎜               ⎢⎢-30⋅√2 - 30⎥⎥⎟  ⎜       ⎢⎢ ⎥⎥⎟  ⎜               ⎢⎢-30 + 30⋅\n",
       "⎢⎜10 + 30⋅√2, 1, ⎢⎢           ⎥⎥⎟, ⎜15, 1, ⎢⎢1⎥⎥⎟, ⎜10 - 30⋅√2, 1, ⎢⎢         \n",
       "⎢⎜               ⎢⎢     0     ⎥⎥⎟  ⎜       ⎢⎢ ⎥⎥⎟  ⎜               ⎢⎢     0   \n",
       "⎢⎜               ⎢⎢           ⎥⎥⎟  ⎝       ⎣⎣0⎦⎦⎠  ⎜               ⎢⎢         \n",
       "⎣⎝               ⎣⎣     1     ⎦⎦⎠                  ⎝               ⎣⎣     1   \n",
       "\n",
       "  ⎤⎤⎞⎤\n",
       "──⎥⎥⎟⎥\n",
       "√2⎥⎥⎟⎥\n",
       "  ⎥⎥⎟⎥\n",
       "  ⎥⎥⎟⎥\n",
       "  ⎥⎥⎟⎥\n",
       "  ⎦⎦⎠⎦"
      ]
     },
     "metadata": {},
     "output_type": "display_data"
    }
   ],
   "source": [
    "σ_43_sajat.sort(key = lambda x : x[0], reverse=True)\n",
    "display(σ_43_sajat)"
   ]
  },
  {
   "cell_type": "markdown",
   "metadata": {},
   "source": [
    "## Automatizálás\n",
    "Tegyük fel, hogy a lustaságunk által vezérelve nem szeretnénk minden mátrix eredményét kézzel kiolvasni/kiiratni a listákból. Írjunk egy függvényt ami automatizálja ezt a feladatot!"
   ]
  },
  {
   "cell_type": "code",
   "execution_count": 6,
   "metadata": {
    "ExecuteTime": {
     "end_time": "2020-03-19T08:41:38.164895Z",
     "start_time": "2020-03-19T08:41:38.154913Z"
    }
   },
   "outputs": [],
   "source": [
    "def print_eigensystem(matrix):\n",
    "    # Legyen a függvény bemenete a vizsgálandó mátrix\n",
    "    eig_system= matrix.eigenvects()\n",
    "    \n",
    "    # Az eredményt a program nem rendezi alapból a sajátértékek nagysága szerint, így azt nekünk kell megtenni\n",
    "    # A rendezést a 'tuple'-ök első elemei szerint végezzük\n",
    "    # Utánanézési lehetőség: lambda függvények, sorted() függvény \n",
    "    eig_system.sort(key=lambda x: x[0], reverse=True)\n",
    "    \n",
    "    # Végig iterálva az 'eig_system' elemein, kiiratjuk a főfeszültségeket és főirányokat\n",
    "    n = 1\n",
    "    for elem in eig_system:\n",
    "        # Ha egy főfeszültség többszörös multiplicitású, akkor többször kell kiírni!\n",
    "        for i in range(elem[1]): # Az 'elem[1]' értéke a multiplicitást mutatja meg.\n",
    "                                 # 'range(elem[1])' : csinál egy 'range' objektumot, amin a 'for' ciklus végig\n",
    "                                 # tud futni. Pontosan annyiszor fut le így a ciklus, amekkora számot adunk a\n",
    "                                 # 'range' függvény argumentumaként, jelen esetben ez 'elem[1]', azaz a multiplicitás\n",
    "            sajatertek = elem[0].evalf(5)\n",
    "            # Normáljuk a sajátvektorokat, hogy egység hosszúságúak legyenek\n",
    "            sajatvektor = (elem[2][i].normalized()).evalf(5) # '.normalize()': a vektort 1 hosszúságúra normálja\n",
    "            # Az 'n' változóval sorszámozzuk az egyes értékeket\n",
    "            print(str(n)+'. Főfeszültség: '+str(sajatertek.evalf(5))+' MPa')\n",
    "            print(str(n)+'. Főirány: ')\n",
    "            display(sajatvektor)\n",
    "            n += 1 # sorszám léptetése"
   ]
  },
  {
   "cell_type": "markdown",
   "metadata": {},
   "source": [
    "A függvényünket használva a feladatok megoldásai:"
   ]
  },
  {
   "cell_type": "code",
   "execution_count": 7,
   "metadata": {
    "ExecuteTime": {
     "end_time": "2020-03-19T08:41:39.825735Z",
     "start_time": "2020-03-19T08:41:38.168812Z"
    },
    "scrolled": false
   },
   "outputs": [
    {
     "name": "stdout",
     "output_type": "stream",
     "text": [
      "1. Főfeszültség: 52.426 MPa\n",
      "1. Főirány: \n"
     ]
    },
    {
     "data": {
      "image/png": "[encoded data removed]",
      "text/latex": [
       "$\\displaystyle \\left[\\begin{matrix}0.38268\\\\0\\\\0.92388\\end{matrix}\\right]$"
      ],
      "text/plain": [
       "⎡0.38268⎤\n",
       "⎢       ⎥\n",
       "⎢   0   ⎥\n",
       "⎢       ⎥\n",
       "⎣0.92388⎦"
      ]
     },
     "metadata": {},
     "output_type": "display_data"
    },
    {
     "name": "stdout",
     "output_type": "stream",
     "text": [
      "2. Főfeszültség: 15.000 MPa\n",
      "2. Főirány: \n"
     ]
    },
    {
     "data": {
      "image/png": "[encoded data removed]",
      "text/latex": [
       "$\\displaystyle \\left[\\begin{matrix}0\\\\1.0\\\\0\\end{matrix}\\right]$"
      ],
      "text/plain": [
       "⎡ 0 ⎤\n",
       "⎢   ⎥\n",
       "⎢1.0⎥\n",
       "⎢   ⎥\n",
       "⎣ 0 ⎦"
      ]
     },
     "metadata": {},
     "output_type": "display_data"
    },
    {
     "name": "stdout",
     "output_type": "stream",
     "text": [
      "3. Főfeszültség: -32.426 MPa\n",
      "3. Főirány: \n"
     ]
    },
    {
     "data": {
      "image/png": "[encoded data removed]",
      "text/latex": [
       "$\\displaystyle \\left[\\begin{matrix}-0.92388\\\\0\\\\0.38268\\end{matrix}\\right]$"
      ],
      "text/plain": [
       "⎡-0.92388⎤\n",
       "⎢        ⎥\n",
       "⎢   0    ⎥\n",
       "⎢        ⎥\n",
       "⎣0.38268 ⎦"
      ]
     },
     "metadata": {},
     "output_type": "display_data"
    }
   ],
   "source": [
    "print_eigensystem(σ_43)"
   ]
  },
  {
   "cell_type": "code",
   "execution_count": 8,
   "metadata": {
    "ExecuteTime": {
     "end_time": "2020-03-19T08:41:41.790856Z",
     "start_time": "2020-03-19T08:41:39.828098Z"
    }
   },
   "outputs": [
    {
     "name": "stdout",
     "output_type": "stream",
     "text": [
      "1. Főfeszültség: 0 MPa\n",
      "1. Főirány: \n"
     ]
    },
    {
     "data": {
      "image/png": "[encoded data removed]",
      "text/latex": [
       "$\\displaystyle \\left[\\begin{matrix}-0.89443\\\\0.44721\\\\0\\end{matrix}\\right]$"
      ],
      "text/plain": [
       "⎡-0.89443⎤\n",
       "⎢        ⎥\n",
       "⎢0.44721 ⎥\n",
       "⎢        ⎥\n",
       "⎣   0    ⎦"
      ]
     },
     "metadata": {},
     "output_type": "display_data"
    },
    {
     "name": "stdout",
     "output_type": "stream",
     "text": [
      "2. Főfeszültség: -25.000 MPa\n",
      "2. Főirány: \n"
     ]
    },
    {
     "data": {
      "image/png": "[encoded data removed]",
      "text/latex": [
       "$\\displaystyle \\left[\\begin{matrix}0.44721\\\\0.89443\\\\0\\end{matrix}\\right]$"
      ],
      "text/plain": [
       "⎡0.44721⎤\n",
       "⎢       ⎥\n",
       "⎢0.89443⎥\n",
       "⎢       ⎥\n",
       "⎣   0   ⎦"
      ]
     },
     "metadata": {},
     "output_type": "display_data"
    },
    {
     "name": "stdout",
     "output_type": "stream",
     "text": [
      "3. Főfeszültség: -30.000 MPa\n",
      "3. Főirány: \n"
     ]
    },
    {
     "data": {
      "image/png": "[encoded data removed]",
      "text/latex": [
       "$\\displaystyle \\left[\\begin{matrix}0\\\\0\\\\1.0\\end{matrix}\\right]$"
      ],
      "text/plain": [
       "⎡ 0 ⎤\n",
       "⎢   ⎥\n",
       "⎢ 0 ⎥\n",
       "⎢   ⎥\n",
       "⎣1.0⎦"
      ]
     },
     "metadata": {},
     "output_type": "display_data"
    }
   ],
   "source": [
    "print_eigensystem(σ_44)"
   ]
  },
  {
   "cell_type": "code",
   "execution_count": 9,
   "metadata": {
    "ExecuteTime": {
     "end_time": "2020-03-19T08:41:43.532972Z",
     "start_time": "2020-03-19T08:41:41.796196Z"
    }
   },
   "outputs": [
    {
     "name": "stdout",
     "output_type": "stream",
     "text": [
      "1. Főfeszültség: 10.000 MPa\n",
      "1. Főirány: \n"
     ]
    },
    {
     "data": {
      "image/png": "[encoded data removed]",
      "text/latex": [
       "$\\displaystyle \\left[\\begin{matrix}-0.70711\\\\0.70711\\\\0\\end{matrix}\\right]$"
      ],
      "text/plain": [
       "⎡-0.70711⎤\n",
       "⎢        ⎥\n",
       "⎢0.70711 ⎥\n",
       "⎢        ⎥\n",
       "⎣   0    ⎦"
      ]
     },
     "metadata": {},
     "output_type": "display_data"
    },
    {
     "name": "stdout",
     "output_type": "stream",
     "text": [
      "2. Főfeszültség: 10.000 MPa\n",
      "2. Főirány: \n"
     ]
    },
    {
     "data": {
      "image/png": "[encoded data removed]",
      "text/latex": [
       "$\\displaystyle \\left[\\begin{matrix}0\\\\0\\\\1.0\\end{matrix}\\right]$"
      ],
      "text/plain": [
       "⎡ 0 ⎤\n",
       "⎢   ⎥\n",
       "⎢ 0 ⎥\n",
       "⎢   ⎥\n",
       "⎣1.0⎦"
      ]
     },
     "metadata": {},
     "output_type": "display_data"
    },
    {
     "name": "stdout",
     "output_type": "stream",
     "text": [
      "3. Főfeszültség: -10.000 MPa\n",
      "3. Főirány: \n"
     ]
    },
    {
     "data": {
      "image/png": "[encoded data removed]",
      "text/latex": [
       "$\\displaystyle \\left[\\begin{matrix}0.70711\\\\0.70711\\\\0\\end{matrix}\\right]$"
      ],
      "text/plain": [
       "⎡0.70711⎤\n",
       "⎢       ⎥\n",
       "⎢0.70711⎥\n",
       "⎢       ⎥\n",
       "⎣   0   ⎦"
      ]
     },
     "metadata": {},
     "output_type": "display_data"
    }
   ],
   "source": [
    "print_eigensystem(σ_45)"
   ]
  }
 ],
 "metadata": {
  "kernelspec": {
   "display_name": "Python 3",
   "language": "python",
   "name": "python3"
  },
  "language_info": {
   "codemirror_mode": {
    "name": "ipython",
    "version": 3
   },
   "file_extension": ".py",
   "mimetype": "text/x-python",
   "name": "python",
   "nbconvert_exporter": "python",
   "pygments_lexer": "ipython3",
   "version": "3.8.2"
  },
  "toc": {
   "base_numbering": 1,
   "nav_menu": {},
   "number_sections": true,
   "sideBar": true,
   "skip_h1_title": false,
   "title_cell": "Table of Contents",
   "title_sidebar": "Contents",
   "toc_cell": false,
   "toc_position": {},
   "toc_section_display": true,
   "toc_window_display": false
  }
 },
 "nbformat": 4,
 "nbformat_minor": 2
}
