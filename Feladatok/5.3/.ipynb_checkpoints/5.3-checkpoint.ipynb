{
 "cells": [
  {
   "cell_type": "markdown",
   "metadata": {},
   "source": [
    "# Példa 5.3\n",
    "Egy acélszerkezetet alkotó I-szelvény $P$ pontjában nyúlásmérő bélyeget ragasztunk és mérjük az alakváltozást a, b, c irányokban. Határozzuk meg a feszültségi állapotot.\n",
    "<img src=\"./Fig_5.3.jpg\" style=\"width: 400px;\">"
   ]
  },
  {
   "cell_type": "code",
   "execution_count": 1,
   "metadata": {
    "ExecuteTime": {
     "end_time": "2020-04-16T15:34:35.482601Z",
     "start_time": "2020-04-16T15:34:35.128499Z"
    }
   },
   "outputs": [],
   "source": [
    "import sympy as sp\n",
    "σ_x,σ_y,τ_xy,ε_x,ε_y,ε_z,γ_xy = sp.symbols('σ_x,σ_y,τ_xy,ε_x,ε_y,ε_z,γ_xy')\n",
    "\n",
    "ε_a = 100e-6        # -\n",
    "ε_b = 50e-6         # -\n",
    "ε_c = -70e-6        # -\n",
    "α_a = 0             # rad\n",
    "α_b = 70/180*sp.pi  # rad\n",
    "α_c = 200/180*sp.pi # rad\n",
    "E   = 210e3         # MPa\n",
    "ν   = 0.3           # -"
   ]
  },
  {
   "cell_type": "code",
   "execution_count": 2,
   "metadata": {
    "ExecuteTime": {
     "end_time": "2020-04-16T15:34:35.520810Z",
     "start_time": "2020-04-16T15:34:35.484562Z"
    },
    "scrolled": true
   },
   "outputs": [
    {
     "data": {
      "text/latex": [
       "$\\displaystyle \\left[\\begin{matrix}1.0\\\\0\\\\0\\end{matrix}\\right]$"
      ],
      "text/plain": [
       "Matrix([\n",
       "[1.0],\n",
       "[  0],\n",
       "[  0]])"
      ]
     },
     "metadata": {},
     "output_type": "display_data"
    },
    {
     "data": {
      "text/latex": [
       "$\\displaystyle \\left[\\begin{matrix}0.34202\\\\0.93969\\\\0\\end{matrix}\\right]$"
      ],
      "text/plain": [
       "Matrix([\n",
       "[0.34202],\n",
       "[0.93969],\n",
       "[      0]])"
      ]
     },
     "metadata": {},
     "output_type": "display_data"
    },
    {
     "data": {
      "text/latex": [
       "$\\displaystyle \\left[\\begin{matrix}-0.93969\\\\-0.34202\\\\0\\end{matrix}\\right]$"
      ],
      "text/plain": [
       "Matrix([\n",
       "[-0.93969],\n",
       "[-0.34202],\n",
       "[       0]])"
      ]
     },
     "metadata": {},
     "output_type": "display_data"
    }
   ],
   "source": [
    "# Definiáljunk 3 db. 'sp.Matrix'-ot az irányvektorok megadására!\n",
    "# A szögletes zárójelekre azért van szükség, mert a 'Matrix' egy sima python 'list'-et\n",
    "# kér bemenetül, amit aztán a saját adattípusára alakít át\n",
    "\n",
    "n_a = sp.Matrix([sp.cos(α_a), sp.sin(α_a), 0])\n",
    "n_b = sp.Matrix([sp.cos(α_b), sp.sin(α_b), 0])\n",
    "n_c = sp.Matrix([sp.cos(α_c), sp.sin(α_c), 0])\n",
    "\n",
    "display(n_a.evalf(5))\n",
    "display(n_b.evalf(5))\n",
    "display(n_c.evalf(5))"
   ]
  },
  {
   "cell_type": "code",
   "execution_count": 3,
   "metadata": {
    "ExecuteTime": {
     "end_time": "2020-04-16T15:34:35.525861Z",
     "start_time": "2020-04-16T15:34:35.522271Z"
    }
   },
   "outputs": [],
   "source": [
    "# Definiáljuk a feszültség és alakváltozás tenzorokat a nyúlás irányokhoz hasonló módon\n",
    "\n",
    "σ = sp.Matrix([\n",
    "[σ_x, τ_xy, 0],\n",
    "[τ_xy, σ_y, 0],\n",
    "[0,    0,   0]])\n",
    "\n",
    "ε = sp.Matrix([\n",
    "[ε_x,    γ_xy/2, 0  ],\n",
    "[γ_xy/2, ε_y,    0  ],\n",
    "[0,     0,     ε_z]])"
   ]
  },
  {
   "cell_type": "markdown",
   "metadata": {},
   "source": [
    "A bélyeg által mért nyúlások nagyságát kifejezhetjük az alakváltozási tenzor és az irányvektorok kettős skalárszorzatával:  \n",
    "\n",
    "$$\\varepsilon_a=\\mathbf{n}_a^\\top \\boldsymbol{\\varepsilon}  \\mathbf{n}_a,$$  \n",
    "$$\\varepsilon_b=\\mathbf{n}_b^\\top \\boldsymbol{\\varepsilon}  \\mathbf{n}_b,$$  \n",
    "$$\\varepsilon_c=\\mathbf{n}_c^\\top \\boldsymbol{\\varepsilon}  \\mathbf{n}_c.$$  \n",
    "Ez három skaláregyenletet ad, melyekből az alakváltozási tenzor elemei meghatározhatóak a már ismert Sympy solverrel."
   ]
  },
  {
   "cell_type": "code",
   "execution_count": 9,
   "metadata": {
    "ExecuteTime": {
     "end_time": "2020-04-16T15:34:36.284990Z",
     "start_time": "2020-04-16T15:34:35.527165Z"
    }
   },
   "outputs": [
    {
     "name": "stdout",
     "output_type": "stream",
     "text": [
      "A skalár egyenletek jobb oldalai:\n"
     ]
    },
    {
     "data": {
      "text/latex": [
       "$\\displaystyle \\left[\\begin{matrix}ε_{x}\\end{matrix}\\right]$"
      ],
      "text/plain": [
       "Matrix([[ε_x]])"
      ]
     },
     "metadata": {},
     "output_type": "display_data"
    },
    {
     "data": {
      "text/latex": [
       "$\\displaystyle \\left[\\begin{matrix}0.32139 γ_{xy} + 0.11698 ε_{x} + 0.88302 ε_{y}\\end{matrix}\\right]$"
      ],
      "text/plain": [
       "Matrix([[0.32139*γ_xy + 0.11698*ε_x + 0.88302*ε_y]])"
      ]
     },
     "metadata": {},
     "output_type": "display_data"
    },
    {
     "data": {
      "text/latex": [
       "$\\displaystyle \\left[\\begin{matrix}0.32139 γ_{xy} + 0.88302 ε_{x} + 0.11698 ε_{y}\\end{matrix}\\right]$"
      ],
      "text/plain": [
       "Matrix([[0.32139*γ_xy + 0.88302*ε_x + 0.11698*ε_y]])"
      ]
     },
     "metadata": {},
     "output_type": "display_data"
    },
    {
     "name": "stdout",
     "output_type": "stream",
     "text": [
      "A megoldások:\n",
      "ε_xn = 0.000100000000000000\n",
      "ε_yn = 0.000256648874719873\n",
      "γ_xyn = -0.000585961628761869\n"
     ]
    }
   ],
   "source": [
    "print(\"A skalár egyenletek jobb oldalai:\")\n",
    "display((n_a.T*ε*n_a).evalf(5))\n",
    "display((n_b.T*ε*n_b).evalf(5))\n",
    "display((n_c.T*ε*n_c).evalf(5))\n",
    "\n",
    "# A skalárszorzatok eredményeit egy elemű 'list' adatként kapjuk, amiket az indexeléssel ki kell választani\n",
    "# Az egyenletek 0-ra rendezve\n",
    "eq1 = (n_a.T*ε*n_a)[0]-ε_a\n",
    "eq2 = (n_b.T*ε*n_b)[0]-ε_b\n",
    "eq3 = (n_c.T*ε*n_c)[0]-ε_c\n",
    "\n",
    "# Hogy a solve könnyebben boldoguljon az egyenletmegoldásokkal,\n",
    "# egyszerűsítsük az egyenletek numerikus részeit az 'evalf'-el\n",
    "eq1 = eq1.evalf()\n",
    "eq2 = eq2.evalf()\n",
    "eq3 = eq3.evalf()\n",
    "\n",
    "# Egyenletrendszer megoldása\n",
    "sol1 = sp.solve([eq1,eq2,eq3],ε_x,ε_y,γ_xy)\n",
    "\n",
    "# a numerikus eredmények (a 'dictionary'-ból kiszedve):\n",
    "ε_xn  = sol1[ε_x]\n",
    "ε_yn  = sol1[ε_y]\n",
    "γ_xyn = sol1[γ_xy]\n",
    "\n",
    "print(\"A megoldások:\")\n",
    "\n",
    "print(\"ε_xn = \" + str(ε_xn)) # -\n",
    "print(\"ε_yn = \" + str(ε_yn)) # -\n",
    "print(\"γ_xyn = \" + str(γ_xyn)) # -"
   ]
  },
  {
   "cell_type": "code",
   "execution_count": 5,
   "metadata": {
    "ExecuteTime": {
     "end_time": "2020-04-16T15:34:36.486225Z",
     "start_time": "2020-04-16T15:34:36.286529Z"
    }
   },
   "outputs": [],
   "source": [
    "sol_new = sp.solve([eq1,eq2,eq3],ε_x,ε_y,γ_xy)"
   ]
  },
  {
   "cell_type": "markdown",
   "metadata": {},
   "source": [
    "A még ismeretlen $\\varepsilon_z$ értékét a Hooke törvényből számíthatjuk:"
   ]
  },
  {
   "cell_type": "code",
   "execution_count": 6,
   "metadata": {
    "ExecuteTime": {
     "end_time": "2020-04-16T15:34:36.493924Z",
     "start_time": "2020-04-16T15:34:36.487601Z"
    }
   },
   "outputs": [
    {
     "data": {
      "text/latex": [
       "$\\displaystyle -0.00015285$"
      ],
      "text/plain": [
       "-0.00015285"
      ]
     },
     "metadata": {},
     "output_type": "display_data"
    }
   ],
   "source": [
    "ε_zn = -ν/(1-ν)*(ε_xn+ε_yn)\n",
    "display(ε_zn.evalf(5)) # -"
   ]
  },
  {
   "cell_type": "markdown",
   "metadata": {},
   "source": [
    "A feszültségi állapot az alakváltozási állapotból meghatározható az általános Hooke törvény segítségével:\n",
    "\n",
    "$$\\mathbf{\\sigma}=\\dfrac{E}{1+\\nu}\\left[\\mathbf{\\varepsilon}+\\dfrac{\\nu}{1-2\\nu}\\varepsilon_I \\mathbf{I}\\right].$$  \n",
    "Ehhez a numerikusan kiszámított alakváltozás komponensekből összeállítunk egy numerikus alakváltozási tenzort."
   ]
  },
  {
   "cell_type": "code",
   "execution_count": 7,
   "metadata": {
    "ExecuteTime": {
     "end_time": "2020-04-16T15:34:36.524683Z",
     "start_time": "2020-04-16T15:34:36.497965Z"
    }
   },
   "outputs": [
    {
     "name": "stdout",
     "output_type": "stream",
     "text": [
      "Az alakváltozási tenzor: \n"
     ]
    },
    {
     "data": {
      "text/latex": [
       "$\\displaystyle \\left[\\begin{matrix}0.0001 & -0.00029298 & 0\\\\-0.00029298 & 0.00025665 & 0\\\\0 & 0 & -0.00015285\\end{matrix}\\right]$"
      ],
      "text/plain": [
       "Matrix([\n",
       "[     0.0001, -0.00029298,           0],\n",
       "[-0.00029298,  0.00025665,           0],\n",
       "[          0,           0, -0.00015285]])"
      ]
     },
     "metadata": {},
     "output_type": "display_data"
    },
    {
     "name": "stdout",
     "output_type": "stream",
     "text": [
      "A feszültségi tenzor: \n"
     ]
    },
    {
     "data": {
      "text/latex": [
       "$\\displaystyle \\left[\\begin{matrix}40.845 & -47.328 & 0\\\\-47.328 & 66.15 & 0\\\\0 & 0 & -8.757 \\cdot 10^{-15}\\end{matrix}\\right]$"
      ],
      "text/plain": [
       "Matrix([\n",
       "[ 40.845, -47.328,          0],\n",
       "[-47.328,   66.15,          0],\n",
       "[      0,       0, -8.757e-15]])"
      ]
     },
     "metadata": {},
     "output_type": "display_data"
    }
   ],
   "source": [
    "ε_n = sp.Matrix([\n",
    "[ε_xn,    γ_xyn/2, 0  ],\n",
    "[γ_xyn/2, ε_yn,    0  ],\n",
    "[0,     0,        ε_zn]])\n",
    "\n",
    "print(\"Az alakváltozási tenzor: \")\n",
    "display(ε_n.evalf(5))\n",
    "\n",
    "# Az első skalár invariáns:\n",
    "ε_I = ε_n[0,0]+ε_n[1,1]+ε_n[2,2]\n",
    "\n",
    "# Az egységmátrixot a Sympy 'eye' függvényével tudjuk létrehozni, melynek argumentuma a kívánt mátrix mérete\n",
    "σ_n = E/(1+ν)*(ε_n+ν/(1-2*ν)*ε_I*sp.eye(3))\n",
    "\n",
    "# Vegyük észre a numerikus számításból adódó hibát!\n",
    "print(\"A feszültségi tenzor: \")\n",
    "display(σ_n.evalf(5)) #MPa"
   ]
  },
  {
   "cell_type": "markdown",
   "metadata": {},
   "source": [
    "A 4.9-4.10 feladatokban bemutatott és alkalmazott saját függvénykönyvtár segítségével kiszámíthatjuk a főfeszültségeket és főnyúlásokat."
   ]
  },
  {
   "cell_type": "code",
   "execution_count": 8,
   "metadata": {
    "ExecuteTime": {
     "end_time": "2020-04-16T15:34:37.128640Z",
     "start_time": "2020-04-16T15:34:36.528055Z"
    }
   },
   "outputs": [
    {
     "name": "stdout",
     "output_type": "stream",
     "text": [
      "1. Főfeszültség: 102.49 MPa\n",
      "1. Főirány: \n"
     ]
    },
    {
     "data": {
      "text/latex": [
       "$\\displaystyle \\left[\\begin{matrix}-0.60899\\\\0.79318\\\\0\\end{matrix}\\right]$"
      ],
      "text/plain": [
       "Matrix([\n",
       "[-0.60899],\n",
       "[ 0.79318],\n",
       "[       0]])"
      ]
     },
     "metadata": {},
     "output_type": "display_data"
    },
    {
     "name": "stdout",
     "output_type": "stream",
     "text": [
      "2. Főfeszültség: 4.5076 MPa\n",
      "2. Főirány: \n"
     ]
    },
    {
     "data": {
      "text/latex": [
       "$\\displaystyle \\left[\\begin{matrix}0.79318\\\\0.60899\\\\0\\end{matrix}\\right]$"
      ],
      "text/plain": [
       "Matrix([\n",
       "[0.79318],\n",
       "[0.60899],\n",
       "[      0]])"
      ]
     },
     "metadata": {},
     "output_type": "display_data"
    },
    {
     "name": "stdout",
     "output_type": "stream",
     "text": [
      "3. Főfeszültség: -8.7570e-15 MPa\n",
      "3. Főirány: \n"
     ]
    },
    {
     "data": {
      "text/latex": [
       "$\\displaystyle \\left[\\begin{matrix}0\\\\0\\\\1.0\\end{matrix}\\right]$"
      ],
      "text/plain": [
       "Matrix([\n",
       "[  0],\n",
       "[  0],\n",
       "[1.0]])"
      ]
     },
     "metadata": {},
     "output_type": "display_data"
    },
    {
     "name": "stdout",
     "output_type": "stream",
     "text": [
      "1. Főnyúlás: 0.00048159\n",
      "1. Főirány: \n"
     ]
    },
    {
     "data": {
      "text/latex": [
       "$\\displaystyle \\left[\\begin{matrix}-0.60899\\\\0.79318\\\\0\\end{matrix}\\right]$"
      ],
      "text/plain": [
       "Matrix([\n",
       "[-0.60899],\n",
       "[ 0.79318],\n",
       "[       0]])"
      ]
     },
     "metadata": {},
     "output_type": "display_data"
    },
    {
     "name": "stdout",
     "output_type": "stream",
     "text": [
      "2. Főnyúlás: -0.00012495\n",
      "2. Főirány: \n"
     ]
    },
    {
     "data": {
      "text/latex": [
       "$\\displaystyle \\left[\\begin{matrix}0.79318\\\\0.60899\\\\0\\end{matrix}\\right]$"
      ],
      "text/plain": [
       "Matrix([\n",
       "[0.79318],\n",
       "[0.60899],\n",
       "[      0]])"
      ]
     },
     "metadata": {},
     "output_type": "display_data"
    },
    {
     "name": "stdout",
     "output_type": "stream",
     "text": [
      "3. Főnyúlás: -0.00015285\n",
      "3. Főirány: \n"
     ]
    },
    {
     "data": {
      "text/latex": [
       "$\\displaystyle \\left[\\begin{matrix}0\\\\0\\\\1.0\\end{matrix}\\right]$"
      ],
      "text/plain": [
       "Matrix([\n",
       "[  0],\n",
       "[  0],\n",
       "[1.0]])"
      ]
     },
     "metadata": {},
     "output_type": "display_data"
    }
   ],
   "source": [
    "from sajat_fuggvenyeket_tartalmazo_fajl import print_eigensystem_feszultseg\n",
    "from sajat_fuggvenyeket_tartalmazo_fajl import print_eigensystem_alakvaltozas\n",
    "\n",
    "print_eigensystem_feszultseg(σ_n)\n",
    "print_eigensystem_alakvaltozas(ε_n)"
   ]
  }
 ],
 "metadata": {
  "kernelspec": {
   "display_name": "Python 3",
   "language": "python",
   "name": "python3"
  },
  "language_info": {
   "codemirror_mode": {
    "name": "ipython",
    "version": 3
   },
   "file_extension": ".py",
   "mimetype": "text/x-python",
   "name": "python",
   "nbconvert_exporter": "python",
   "pygments_lexer": "ipython3",
   "version": "3.7.4"
  },
  "toc": {
   "base_numbering": 1,
   "nav_menu": {},
   "number_sections": true,
   "sideBar": true,
   "skip_h1_title": false,
   "title_cell": "Table of Contents",
   "title_sidebar": "Contents",
   "toc_cell": false,
   "toc_position": {},
   "toc_section_display": true,
   "toc_window_display": false
  }
 },
 "nbformat": 4,
 "nbformat_minor": 2
}
