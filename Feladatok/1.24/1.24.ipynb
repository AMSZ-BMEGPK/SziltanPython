{
 "cells": [
  {
   "cell_type": "markdown",
   "metadata": {},
   "source": [
    "# Példa 1.24\n",
    "\n",
    "Az ábrán látható összetett keresztmetszet terhelése $20\\, \\rm{ kN}$ nagyságú nyíró igénybevétel. Határozza meg a keresztmetszet mentén a nyírásból adódó csúsztatófeszültségek eloszlását megadó $\\tau(y)$ függvényt és annak maximumát!\n",
    "\n",
    "<img src=\"Fig_1.24.png\" style=\"width: 200px;\">"
   ]
  },
  {
   "cell_type": "markdown",
   "metadata": {},
   "source": [
    "# Megoldás"
   ]
  },
  {
   "cell_type": "markdown",
   "metadata": {},
   "source": [
    "A megoldás során szükségünk van a `sympy` modulra, valamint az `y` szimbólumra."
   ]
  },
  {
   "cell_type": "code",
   "execution_count": 1,
   "metadata": {
    "ExecuteTime": {
     "end_time": "2020-03-05T12:46:53.415826Z",
     "start_time": "2020-03-05T12:46:52.532173Z"
    }
   },
   "outputs": [],
   "source": [
    "import sympy as sp\n",
    "sp.init_printing() # ezzel a beállítással szépen tudjuk kiíratni a 'gyári' Python számokat is\n",
    "y=sp.symbols(\"y\")"
   ]
  },
  {
   "cell_type": "markdown",
   "metadata": {},
   "source": [
    "Megadjuk a később felhasznált adatokat. Jelöljük $a$-val a keresztmetszet $z$ irányú méretét a végeken (az ábrán: $20 \\,\\rm{mm}$), illetve $b$-vel az $y$ irányú szélső méretet (az ábrán: $100 \\,\\rm{mm}$)."
   ]
  },
  {
   "cell_type": "code",
   "execution_count": 2,
   "metadata": {
    "ExecuteTime": {
     "end_time": "2020-03-05T12:46:53.421638Z",
     "start_time": "2020-03-05T12:46:53.418391Z"
    }
   },
   "outputs": [],
   "source": [
    "V=20  #kN\n",
    "a=20  #mm\n",
    "b=100 #mm"
   ]
  },
  {
   "cell_type": "markdown",
   "metadata": {},
   "source": [
    "A keresztmetszet: 1 db $a\\times3b$ téglalap és 2 db $a\\times b$ téglalap. Ez alapján az $I_z$ másodrendű nyomaték:"
   ]
  },
  {
   "cell_type": "code",
   "execution_count": 3,
   "metadata": {
    "ExecuteTime": {
     "end_time": "2020-03-05T12:46:54.033384Z",
     "start_time": "2020-03-05T12:46:53.425219Z"
    }
   },
   "outputs": [
    {
     "data": {
      "image/png": "[encoded data removed]",
      "text/latex": [
       "$\\displaystyle 48333333.333333336$"
      ],
      "text/plain": [
       "48333333.333333336"
      ]
     },
     "execution_count": 3,
     "metadata": {},
     "output_type": "execute_result"
    }
   ],
   "source": [
    "Iz=a*(3*b)**3/12+2*a*b**3/12\n",
    "Iz #mm**4"
   ]
  },
  {
   "cell_type": "markdown",
   "metadata": {},
   "source": [
    "Mivel a keresztmetszet szimmetrikus a $z$ tengelyre, elég csak a $y\\geq0$ résszel számolnunk. A \"vékonyabb\" részt jelüljük I.-vel ($50 \\,\\rm{mm}< y\\le150\\,\\rm{mm}$), a \"vastagabbat\" II.-kal ($0\\,\\rm{mm}\\leq y\\le 50\\,\\rm{mm}$)."
   ]
  },
  {
   "cell_type": "markdown",
   "metadata": {},
   "source": [
    "## I. rész\n",
    "\n",
    "A keresztmetszet szélessége:\n",
    "$$a_I(y)=20 \\,\\rm{mm}.$$\n",
    "Ez alapján az $S_I(y)$ statikai nyomaték a következő módon számolható:"
   ]
  },
  {
   "cell_type": "code",
   "execution_count": 4,
   "metadata": {
    "ExecuteTime": {
     "end_time": "2020-03-05T12:46:54.578950Z",
     "start_time": "2020-03-05T12:46:54.036418Z"
    }
   },
   "outputs": [
    {
     "data": {
      "image/png": "[encoded data removed]",
      "text/latex": [
       "$\\displaystyle 225000 - 10 y^{2}$"
      ],
      "text/plain": [
       "             2\n",
       "225000 - 10⋅y "
      ]
     },
     "execution_count": 4,
     "metadata": {},
     "output_type": "execute_result"
    }
   ],
   "source": [
    "S_I=20*(150-y)*(150+y)/2\n",
    "S_I=S_I.simplify() #egyszerűsítjük a kapott kifejezést\n",
    "S_I #mm**3"
   ]
  },
  {
   "cell_type": "markdown",
   "metadata": {},
   "source": [
    "Ebből a nyírásból származó csúszatófeszültség:\n",
    "$$\\tau_I(y)=\\frac{V S_I(y)}{I_z a_I(y)}.$$"
   ]
  },
  {
   "cell_type": "code",
   "execution_count": 5,
   "metadata": {
    "ExecuteTime": {
     "end_time": "2020-03-05T12:46:55.106697Z",
     "start_time": "2020-03-05T12:46:54.581958Z"
    }
   },
   "outputs": [
    {
     "data": {
      "image/png": "[encoded data removed]",
      "text/latex": [
       "$\\displaystyle 4.6552 - 0.0002069 y^{2}$"
      ],
      "text/plain": [
       "                    2\n",
       "4.6552 - 0.0002069⋅y "
      ]
     },
     "execution_count": 5,
     "metadata": {},
     "output_type": "execute_result"
    }
   ],
   "source": [
    "τ_I=1000*V*S_I/Iz/a # a terhelés kN-ban van megadva, ezt átváltjuk N-ba\n",
    "τ_I.evalf(5) #MPa"
   ]
  },
  {
   "cell_type": "markdown",
   "metadata": {},
   "source": [
    "## II. rész\n",
    "\n",
    "A keresztmetszet szélessége:\n",
    "$$a_{II}(y)=60 \\,\\rm{mm}.$$\n",
    "Ez alapján az $S_{II}(y)$ statikai nyomaték a következő módon számolható:"
   ]
  },
  {
   "cell_type": "code",
   "execution_count": 6,
   "metadata": {
    "ExecuteTime": {
     "end_time": "2020-03-05T12:46:55.681930Z",
     "start_time": "2020-03-05T12:46:55.109586Z"
    }
   },
   "outputs": [
    {
     "data": {
      "image/png": "[encoded data removed]",
      "text/latex": [
       "$\\displaystyle 275000 - 30 y^{2}$"
      ],
      "text/plain": [
       "             2\n",
       "275000 - 30⋅y "
      ]
     },
     "execution_count": 6,
     "metadata": {},
     "output_type": "execute_result"
    }
   ],
   "source": [
    "S_II=20*100*100+60*(50-y)*(50+y)/2\n",
    "S_II=S_II.simplify()\n",
    "S_II"
   ]
  },
  {
   "cell_type": "code",
   "execution_count": 7,
   "metadata": {
    "ExecuteTime": {
     "end_time": "2020-03-05T12:46:56.178445Z",
     "start_time": "2020-03-05T12:46:55.685742Z"
    }
   },
   "outputs": [
    {
     "data": {
      "image/png": "[encoded data removed]",
      "text/latex": [
       "$\\displaystyle 1.8966 - 0.0002069 y^{2}$"
      ],
      "text/plain": [
       "                    2\n",
       "1.8966 - 0.0002069⋅y "
      ]
     },
     "execution_count": 7,
     "metadata": {},
     "output_type": "execute_result"
    }
   ],
   "source": [
    "τ_II=1000*V*S_II/Iz/(3*a) # a terhelés kN-ban van megadva, ezt átváltjuk N-ba\n",
    "τ_II.evalf(5) #MPa"
   ]
  },
  {
   "cell_type": "markdown",
   "metadata": {},
   "source": [
    "## Ábrázolás\n",
    "\n",
    "A teljes feszültségeloszlást a `Piecewise` függvény segítségével adhatjuk meg. Ha $0\\,\\rm{mm}\\leq y \\le 50\\,\\rm{mm}$, akkor $\\tau(y)=\\tau_{II}(y)$. Ha $50\\,\\rm{mm}< y \\le 150\\,\\rm{mm}$, akkor $\\tau(y)=\\tau_{I}(y)$."
   ]
  },
  {
   "cell_type": "code",
   "execution_count": 8,
   "metadata": {
    "ExecuteTime": {
     "end_time": "2020-03-05T12:46:56.687711Z",
     "start_time": "2020-03-05T12:46:56.181815Z"
    }
   },
   "outputs": [
    {
     "data": {
      "image/png": "[encoded data removed]",
      "text/latex": [
       "$\\displaystyle \\begin{cases} 1.8966 - 0.0002069 y^{2} & \\text{for}\\: y \\leq 50 \\\\4.6552 - 0.0002069 y^{2} & \\text{for}\\: y \\leq 150 \\end{cases}$"
      ],
      "text/plain": [
       "⎧                    2             \n",
       "⎪1.8966 - 0.0002069⋅y   for y ≤ 50 \n",
       "⎨                                  \n",
       "⎪                    2             \n",
       "⎩4.6552 - 0.0002069⋅y   for y ≤ 150"
      ]
     },
     "execution_count": 8,
     "metadata": {},
     "output_type": "execute_result"
    }
   ],
   "source": [
    "τ=sp.Piecewise((τ_II, y<=50),(τ_I, y<=150))\n",
    "τ.evalf(5) "
   ]
  },
  {
   "cell_type": "markdown",
   "metadata": {},
   "source": [
    "Láthatjuk, hogy a `Piecewise` szintaktikája matemetikailag nem tejesen korrekt, hiszen ami kielégíti az $y\\le 50$ feltételt, az az $y\\le 150$ feltételt is teljesíti. Viszont a program a feltételeket sorrendben értékeli ki: ha kap egy $y$ értéket, amely az első ($y\\le 50$) feltételt teljesíti, akkor nem vizsgálja meg a többi feltételt, hanem a függvény értéke az első teljesített feltételnek megfelelő lesz. (A teljesen korrekt feltételeket - pl: $50< y \\le 150$ - nem tudjuk megadni a `Piecewise`-nak.)"
   ]
  },
  {
   "cell_type": "markdown",
   "metadata": {},
   "source": [
    "Az ábrázoláshoz szükségünk van a `matplotlib` modulra a rajzoláshoz és `numpy` modulból a `linspace` függvényre, amivel egyszerűen tudunk egy intervallumon egyforma távolságra lévő értékeket generálni."
   ]
  },
  {
   "cell_type": "code",
   "execution_count": 9,
   "metadata": {
    "ExecuteTime": {
     "end_time": "2020-03-05T12:46:57.161922Z",
     "start_time": "2020-03-05T12:46:56.690246Z"
    }
   },
   "outputs": [],
   "source": [
    "import matplotlib.pyplot as plt # Matplotlib könyvtárból a PyPlot alkönyvtár\n",
    "from numpy import linspace"
   ]
  },
  {
   "cell_type": "markdown",
   "metadata": {},
   "source": [
    "Előállítjuk az $y$ értékeket, ahol a $\\tau(y)$ függvényt majd kiértékeljük:"
   ]
  },
  {
   "cell_type": "code",
   "execution_count": 10,
   "metadata": {
    "ExecuteTime": {
     "end_time": "2020-03-05T12:46:57.166760Z",
     "start_time": "2020-03-05T12:46:57.163697Z"
    }
   },
   "outputs": [],
   "source": [
    "y_ertekek=linspace(0,150,501) #501 értéket hozunk létre egynletesen 0 és 150 között"
   ]
  },
  {
   "cell_type": "markdown",
   "metadata": {},
   "source": [
    "Kiértékeljük a $\\tau(y)$ függvényt ezeken a helyeken:"
   ]
  },
  {
   "cell_type": "code",
   "execution_count": 11,
   "metadata": {
    "ExecuteTime": {
     "end_time": "2020-03-05T12:46:57.722844Z",
     "start_time": "2020-03-05T12:46:57.169295Z"
    }
   },
   "outputs": [],
   "source": [
    "#készítünk egy listát úgy, hogy minden elemét úgy állítjuk elő, hogy behelyettesítjük\n",
    "#a soron következő 'y' értéket a 'tau' függvénybe, majd 5 értékesjegyre kiértékeljük a kifejezést\n",
    "τ_ertekek=[τ.subs(y,y_ertek).evalf(5) for y_ertek in y_ertekek]"
   ]
  },
  {
   "cell_type": "markdown",
   "metadata": {},
   "source": [
    "Ha a feladatban megadott ábrának megfelelően szeretnénk ábrázolni a feszültségeloszlást, akkor a vízszintes tengelyre a feszültség értékei, a függőlegesre pedig $y$ értékei kerülnek."
   ]
  },
  {
   "cell_type": "code",
   "execution_count": 12,
   "metadata": {
    "ExecuteTime": {
     "end_time": "2020-03-05T12:46:58.547109Z",
     "start_time": "2020-03-05T12:46:57.724385Z"
    }
   },
   "outputs": [
    {
     "data": {
      "image/png": "[encoded data removed]",
      "text/plain": [
       "<Figure size 432x288 with 1 Axes>"
      ]
     },
     "metadata": {
      "needs_background": "light"
     },
     "output_type": "display_data"
    }
   ],
   "source": [
    "plt.plot(τ_ertekek,y_ertekek)\n",
    "plt.grid() #rács létrehozása\n",
    "plt.xlabel(r\"$\\tau(y)\\,\\rm{[MPa]}$\") #vízszintes tengely felirata, a LaTeX kód miatt 'r' karakter kerül elé!\n",
    "plt.ylabel(r\"$y\\,\\rm{[mm]}$\")\n",
    "plt.show() #kirajozás"
   ]
  },
  {
   "cell_type": "markdown",
   "metadata": {},
   "source": [
    "Az eddigiekben csak az $y\\ge0$ tartományt vizsgáltuk, hiszen a keresztmetszet szimmetrikus. Ha a teljes $-150\\,\\rm{mm}\\le y\\le 150\\,\\rm{mm}$ tartományt szeretnénk ábrázolni, azt az eddig kiszámol értékek alapján számos módon megtehetjük.\n",
    "\n",
    "Ezek közül az egyik, hogy a szimmetria következő tulajdonságát használjuk ki:\n",
    "$$\\tau(y)=\\tau(-y),$$\n",
    "\n",
    "azaz használhatjuk a korábbi `tau_ertekek` adatsort, csak a hozzájuk tartozó `y_ertekek`-nek kell az előjelét megfordítani. Mivel az `y_ertekek`-t a `linspace` segítségével definiáltuk, ezért ezt megtehetjük `-y_ertekek` szintaktikával. Ez \"sima\" Python listával nem működik!\n",
    "\n",
    "Magyarázat: a `numpy` modulból a `linspace` valójában nem listát hoz létre, hanem egy `numpy` tömböt. Ezek első ránézésre hasonlítanak a listákra, viszont egy tömbben csak egyféle típust tárolhatunk, jelen esetben `ḟloat` számokat. Ezért a `numpy` megengedi, hogy a tömb elemein ezzel az egyszerű szintaktikával végezzünk műveleteket. (Hasonlóképpen a `2*tomb` a tömb minden elemének a kétszersét adná vissza.) A \"sima\" lista többféle típust is tárolhat egyszerre, ezért nem engedi meg ezt a szintaktikát."
   ]
  },
  {
   "cell_type": "code",
   "execution_count": 13,
   "metadata": {
    "ExecuteTime": {
     "end_time": "2020-03-05T12:46:58.766330Z",
     "start_time": "2020-03-05T12:46:58.549196Z"
    },
    "scrolled": true
   },
   "outputs": [
    {
     "data": {
      "image/png": "[encoded data removed]",
      "text/plain": [
       "<Figure size 432x288 with 1 Axes>"
      ]
     },
     "metadata": {
      "needs_background": "light"
     },
     "output_type": "display_data"
    }
   ],
   "source": [
    "plt.plot(τ_ertekek,y_ertekek)\n",
    "plt.plot(τ_ertekek,-y_ertekek)\n",
    "plt.grid() #rács létrehozása\n",
    "plt.xlabel(r\"$\\tau(y)\\,\\rm{[MPa]}$\") #vízszintes tengely felirata, a LaTeX kód miatt 'r' karakter kerül elé!\n",
    "plt.ylabel(r\"$y\\,\\rm{[mm]}$\")\n",
    "plt.show() #kirajozás"
   ]
  },
  {
   "cell_type": "markdown",
   "metadata": {},
   "source": [
    "Ha azt szeretnénk, hogy a két vonal azonos színű legyen, akkor megadhatjuk a színeket manuálisan."
   ]
  },
  {
   "cell_type": "code",
   "execution_count": 14,
   "metadata": {
    "ExecuteTime": {
     "end_time": "2020-03-05T12:46:59.024894Z",
     "start_time": "2020-03-05T12:46:58.768329Z"
    }
   },
   "outputs": [
    {
     "data": {
      "image/png": "[encoded data removed]",
      "text/plain": [
       "<Figure size 72x216 with 1 Axes>"
      ]
     },
     "metadata": {
      "needs_background": "light"
     },
     "output_type": "display_data"
    }
   ],
   "source": [
    "plt.figure(1,figsize=(1,3)) #ábra méretének megadása, hogy a gyakorlaton megismert képarányt kapjuk\n",
    "plt.plot(τ_ertekek,y_ertekek,'b') #'b': a kék (=blue) szín rövid kódja\n",
    "plt.plot(τ_ertekek,-y_ertekek,'b')\n",
    "plt.grid() #rács létrehozása\n",
    "plt.xlabel(r\"$\\tau(y)\\,\\rm{[MPa]}$\") #vízszintes tengely felirata, a LaTeX kód miatt 'r' karakter kerül elé!\n",
    "plt.ylabel(r\"$y\\,\\rm{[mm]}$\")\n",
    "plt.show() #kirajozás"
   ]
  }
 ],
 "metadata": {
  "kernelspec": {
   "display_name": "Python 3",
   "language": "python",
   "name": "python3"
  },
  "language_info": {
   "codemirror_mode": {
    "name": "ipython",
    "version": 3
   },
   "file_extension": ".py",
   "mimetype": "text/x-python",
   "name": "python",
   "nbconvert_exporter": "python",
   "pygments_lexer": "ipython3",
   "version": "3.7.3"
  },
  "toc": {
   "base_numbering": 1,
   "nav_menu": {},
   "number_sections": true,
   "sideBar": true,
   "skip_h1_title": false,
   "title_cell": "Table of Contents",
   "title_sidebar": "Contents",
   "toc_cell": false,
   "toc_position": {},
   "toc_section_display": true,
   "toc_window_display": false
  }
 },
 "nbformat": 4,
 "nbformat_minor": 2
}
