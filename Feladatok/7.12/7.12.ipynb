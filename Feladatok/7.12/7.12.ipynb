{
 "cells": [
  {
   "cell_type": "markdown",
   "metadata": {},
   "source": [
    "# Példa 7.12\n",
    "\n",
    "Határozzuk meg az alábbi keretnél a hajlítónyomatéki igénybevétel eloszlását! Mekkora a maximális (abszolút értelemben) hajlítónyomaték, és hol ébred? Hol lesz a hajlítónyomaték zérus értékű? A tartó anyaga és keresztmetszete végig állandó.\n",
    "\n",
    "<img src=\"Fig_7.12.png\" style=\"width: 200px;\">"
   ]
  },
  {
   "cell_type": "markdown",
   "metadata": {},
   "source": [
    "# Megoldás\n",
    "\n",
    "Betöltjük a `sympy` modult. Definiáljuk a szimbólumokat."
   ]
  },
  {
   "cell_type": "code",
   "execution_count": 1,
   "metadata": {},
   "outputs": [],
   "source": [
    "import sympy as sp\n",
    "sp.init_printing()\n",
    "\n",
    "F, M_B, R, γ, I, E, A = sp.symbols(\"F, M_B, R, γ, I, E, A\") #γ: \\gamma + tab"
   ]
  },
  {
   "cell_type": "markdown",
   "metadata": {},
   "source": [
    "A feladat megoldását egyszerűbbé tehetjük a szimmetriák kihasználásával.\n",
    "<img src=\"Fig_7.12c.png\" style=\"width: 300px;\">\n",
    "\n",
    "Az igénybevételi függvények:\n",
    "\n",
    "$$N(\\gamma)=\\frac{F}{2}\\sin \\gamma,$$\n",
    "\n",
    "$$M_h(\\gamma)=-\\frac{F}{2}R\\sin \\gamma+M_B.$$\n",
    "\n",
    "\"Vigyük be\" $N(\\gamma)$-t és $M_h(\\gamma)$-t a programkódba, és ott számoljunk tovább, többek közt a parciális deriváltjaikat."
   ]
  },
  {
   "cell_type": "code",
   "execution_count": 2,
   "metadata": {},
   "outputs": [
    {
     "data": {
      "image/png": "[encoded data removed]",
      "text/latex": [
       "$\\displaystyle 0$"
      ],
      "text/plain": [
       "0"
      ]
     },
     "metadata": {},
     "output_type": "display_data"
    }
   ],
   "source": [
    "Nγ = F/2*sp.sin(γ)\n",
    "Mhγ = -F/2*R*sp.sin(γ)+M_B\n",
    "\n",
    "#parciális deriváltak:\n",
    "parcderNγ = Nγ.diff(M_B)\n",
    "display(parcderNγ)"
   ]
  },
  {
   "cell_type": "code",
   "execution_count": 3,
   "metadata": {},
   "outputs": [
    {
     "data": {
      "image/png": "[encoded data removed]",
      "text/latex": [
       "$\\displaystyle 1$"
      ],
      "text/plain": [
       "1"
      ]
     },
     "metadata": {},
     "output_type": "display_data"
    }
   ],
   "source": [
    "parcderMhγ = Mhγ.diff(M_B)\n",
    "display(parcderMhγ)"
   ]
  },
  {
   "cell_type": "markdown",
   "metadata": {},
   "source": [
    "B-ben a szögelfordulás 0, így a következő egyenletek írhatók fel:\n",
    "\n",
    "$$\\begin{align}\\varphi_B &= 0,\\\\\n",
    "U&=U_{M_h}+U_N,\\\\\n",
    "\\frac{\\partial U}{\\partial M_B}&=0,\\\\\n",
    "\\frac{\\partial U}{\\partial M_B}&=\\frac{\\partial U_{M_h}}{\\partial M_B}+\\frac{\\partial U_N}{\\partial M_B}, \\\\\n",
    "\\frac{\\partial U_{M_h}}{\\partial M_B}&=\\frac{1}{IE}\\int_0^{\\pi/2}M_h \\frac{\\partial M_h}{\\partial M_B}R \\mathrm{d} \\gamma,\\\\\n",
    "\\frac{\\partial U_N}{\\partial M_B}&=\\frac{1}{AE}\\int_0^{\\pi/2}N \\frac{\\partial N}{\\partial M_B}R \\mathrm{d} \\gamma.\\end{align}$$\n",
    "\n",
    "Most írjuk be $\\frac{\\partial U_{M_h}}{\\partial M_B}$-t és $\\frac{\\partial U_N}{\\partial M_B}$-t."
   ]
  },
  {
   "cell_type": "code",
   "execution_count": 4,
   "metadata": {},
   "outputs": [
    {
     "data": {
      "image/png": "[encoded data removed]",
      "text/latex": [
       "$\\displaystyle \\frac{- \\frac{F R^{2}}{2} + \\frac{\\pi M_{B} R}{2}}{E I}$"
      ],
      "text/plain": [
       "     2          \n",
       "  F⋅R    π⋅M_B⋅R\n",
       "- ──── + ───────\n",
       "   2        2   \n",
       "────────────────\n",
       "      E⋅I       "
      ]
     },
     "metadata": {},
     "output_type": "display_data"
    },
    {
     "data": {
      "image/png": "[encoded data removed]",
      "text/latex": [
       "$\\displaystyle 0$"
      ],
      "text/plain": [
       "0"
      ]
     },
     "execution_count": 4,
     "metadata": {},
     "output_type": "execute_result"
    }
   ],
   "source": [
    "parcderUMh = 1/E/I*sp.integrate(Mhγ*parcderMhγ*R,(γ,0,sp.pi/2))\n",
    "display(parcderUMh)\n",
    "parcderUN = 1/A/E*sp.integrate(Nγ*parcderNγ*R,(γ,0,sp.pi/2))\n",
    "parcderUN #mivel N(γ) parciális deriváltja 0, az integrál is 0 lesz"
   ]
  },
  {
   "cell_type": "markdown",
   "metadata": {},
   "source": [
    "Most már felírhatjuk a $$\\frac{\\partial U}{\\partial M_B}=\\frac{\\partial U_{M_h}}{\\partial M_B}+\\frac{\\partial U_N}{\\partial M_B}=0$$ egyenletet is és megoldhatjuk $M_B$-re."
   ]
  },
  {
   "cell_type": "code",
   "execution_count": 5,
   "metadata": {},
   "outputs": [
    {
     "data": {
      "image/png": "[encoded data removed]",
      "text/latex": [
       "$\\displaystyle \\frac{F R}{\\pi}$"
      ],
      "text/plain": [
       "F⋅R\n",
       "───\n",
       " π "
      ]
     },
     "execution_count": 5,
     "metadata": {},
     "output_type": "execute_result"
    }
   ],
   "source": [
    "parcderU = parcderUMh+parcderUN\n",
    "MBsol = sp.solve(parcderU,M_B)\n",
    "MBsol = MBsol[0] #kiszedjük a megoldást az 1 elemű listából\n",
    "MBsol"
   ]
  },
  {
   "cell_type": "markdown",
   "metadata": {},
   "source": [
    "Ez alapján ábrázolhatjuk a hajlítónyomatéki függvényt. Ehhez először be kell helyettesítenünk az $M_B$-re kapott kifejezést a korábbi kifejezésbe."
   ]
  },
  {
   "cell_type": "code",
   "execution_count": 6,
   "metadata": {},
   "outputs": [
    {
     "data": {
      "image/png": "[encoded data removed]",
      "text/latex": [
       "$\\displaystyle - \\frac{F R \\sin{\\left(γ \\right)}}{2} + \\frac{F R}{\\pi}$"
      ],
      "text/plain": [
       "  F⋅R⋅sin(γ)   F⋅R\n",
       "- ────────── + ───\n",
       "      2         π "
      ]
     },
     "execution_count": 6,
     "metadata": {},
     "output_type": "execute_result"
    }
   ],
   "source": [
    "Mhγsubs = Mhγ.subs(M_B,MBsol)\n",
    "Mhγsubs"
   ]
  },
  {
   "cell_type": "markdown",
   "metadata": {},
   "source": [
    "Betöltjük a `matplotlib`-et és a `linspace`-t az ábrázoláshoz."
   ]
  },
  {
   "cell_type": "code",
   "execution_count": 7,
   "metadata": {},
   "outputs": [],
   "source": [
    "import matplotlib.pyplot as plt\n",
    "from numpy import linspace"
   ]
  },
  {
   "cell_type": "markdown",
   "metadata": {},
   "source": [
    "Láthatjuk, hogy a $\\gamma$ koordinátán kívül $R$ és $F$ is benne marad az igénybevételi függvény kifejezésében. Mivel plotolni csak konkrét számokkal tudunk, ezért ezeknek szükséges valamilyen önkényes (de fizikailag értelmes) értéket adnunk. Ez nem befolyásolja az ábrák jelleghelyességét. Itt most $R=1 \\, \\rm{m}$-t és $F=1\\,\\rm{N}$-t választunk."
   ]
  },
  {
   "cell_type": "code",
   "execution_count": 8,
   "metadata": {},
   "outputs": [
    {
     "data": {
      "image/png": "[encoded data removed]",
      "text/latex": [
       "$\\displaystyle - \\frac{\\sin{\\left(γ \\right)}}{2} + \\frac{1}{\\pi}$"
      ],
      "text/plain": [
       "  sin(γ)   1\n",
       "- ────── + ─\n",
       "    2      π"
      ]
     },
     "metadata": {},
     "output_type": "display_data"
    },
    {
     "data": {
      "image/png": "[encoded data removed]",
      "text/plain": [
       "<Figure size 432x288 with 1 Axes>"
      ]
     },
     "metadata": {
      "needs_background": "light"
     },
     "output_type": "display_data"
    }
   ],
   "source": [
    "R_val = 1\n",
    "F_val = 1\n",
    "\n",
    "γs = linspace(0,float(sp.pi/2),201) #felveszünk 201 pontot a 0 - π/2 távolságon\n",
    "Mh_konkret = Mhγsubs.subs([(R,R_val),(F,F_val)]) #behelyttesítjük R=1 és F=1-t\n",
    "display(Mh_konkret)\n",
    "\n",
    "Mhs = [float(Mh_konkret.subs(γ,γi)) for γi in γs] #kiszámoljuk V(x) értékeit az adott x értékeken, \n",
    "                                                  #és egyből 'float'-tá alakítjuk őket\n",
    "plt.plot(γs, Mhs, lw = 3) # Az Mh(γ) függvény képének létrehozása 3-as vonalvastagsággal (linewidth = lw).\n",
    "plt.fill_between(γs, Mhs, alpha=0.2) #Kiszínezi a függvény alatti területet\n",
    "plt.xlabel(\"$\\gamma$ [rad]\") #x tengelyhez tartozó tengelyfelirat\n",
    "plt.ylabel(\"$M_h(\\gamma)$ [Nm]\") #y tengelyhez tartozó tengelyfelirat\n",
    "plt.grid() #rács\n",
    "plt.show() #kirajzolás"
   ]
  },
  {
   "cell_type": "markdown",
   "metadata": {},
   "source": [
    "Az ábrán láthatjuk, hogy hajlító igénybevétel maximuma $\\gamma=0$-nál van, azaz a B pontban. Ahhoz, hogy megtaláljuk a hajlítónyomaték zérushelyét, használhatjuk a `solve`-ot."
   ]
  },
  {
   "cell_type": "code",
   "execution_count": 9,
   "metadata": {},
   "outputs": [
    {
     "data": {
      "image/png": "[encoded data removed]",
      "text/latex": [
       "$\\displaystyle 140.46$"
      ],
      "text/plain": [
       "140.46"
      ]
     },
     "execution_count": 9,
     "metadata": {},
     "output_type": "execute_result"
    }
   ],
   "source": [
    "γ0 = sp.solve(Mhγsubs,γ)\n",
    "γ0 = γ0[0] #kiszedjük az eredményt a listából\n",
    "γ0 = γ0*180/sp.pi #átváltás fokba\n",
    "γ0.evalf(5) #fok"
   ]
  },
  {
   "cell_type": "markdown",
   "metadata": {},
   "source": [
    "Láthatjuk, hogy a `solve` által adott gyök kívül esik az általunk vizsgált tartományon. Kihasználva a szinusz azonosságait, megkaphatjuk a keresett megoldást."
   ]
  },
  {
   "cell_type": "code",
   "execution_count": 10,
   "metadata": {},
   "outputs": [
    {
     "data": {
      "image/png": "[encoded data removed]",
      "text/latex": [
       "$\\displaystyle 39.54$"
      ],
      "text/plain": [
       "39.540"
      ]
     },
     "execution_count": 10,
     "metadata": {},
     "output_type": "execute_result"
    }
   ],
   "source": [
    "γ0 = 180-γ0\n",
    "γ0.evalf(5) #fok"
   ]
  }
 ],
 "metadata": {
  "kernelspec": {
   "display_name": "Python 3",
   "language": "python",
   "name": "python3"
  },
  "language_info": {
   "codemirror_mode": {
    "name": "ipython",
    "version": 3
   },
   "file_extension": ".py",
   "mimetype": "text/x-python",
   "name": "python",
   "nbconvert_exporter": "python",
   "pygments_lexer": "ipython3",
   "version": "3.8.2"
  },
  "toc": {
   "base_numbering": 1,
   "nav_menu": {},
   "number_sections": true,
   "sideBar": true,
   "skip_h1_title": false,
   "title_cell": "Table of Contents",
   "title_sidebar": "Contents",
   "toc_cell": false,
   "toc_position": {},
   "toc_section_display": true,
   "toc_window_display": false
  }
 },
 "nbformat": 4,
 "nbformat_minor": 2
}
