{
 "cells": [
  {
   "cell_type": "markdown",
   "metadata": {},
   "source": [
    "# Példa 1.18\n",
    "Az ábrán látható síkgörbe rudat nyomaték terheli a végkeresztmetszeten.\n",
    "- Határozza meg a normálfeszültség értékét az $A$ és $B$ helyeken!\n",
    "- Határozza meg a semleges tengely $t$ sugár irányú távolságát a $B$ ponttól!\n",
    "<img src=\"./Fig_1.18.PNG\" style=\"width: 300px;\">"
   ]
  },
  {
   "cell_type": "markdown",
   "metadata": {},
   "source": [
    "## Megoldás\n",
    "Első lépésként importáljuk a szimbolikus számításhoz szükséges modult, és felvesszük a megadott adatokat."
   ]
  },
  {
   "cell_type": "code",
   "execution_count": 2,
   "metadata": {
    "ExecuteTime": {
     "end_time": "2020-02-25T08:51:21.133760Z",
     "start_time": "2020-02-25T08:51:20.551927Z"
    }
   },
   "outputs": [
    {
     "data": {
      "text/plain": [
       "1.5"
      ]
     },
     "execution_count": 2,
     "metadata": {},
     "output_type": "execute_result"
    }
   ],
   "source": [
    "import sympy as sp\n",
    "\n",
    "y = sp.symbols(\"y\") \n",
    "\n",
    "# Adatok\n",
    "R = 300 #mm\n",
    "h = 200 #mm\n",
    "M = 5e6 #Nmm\n",
    "d = h\n",
    "\n",
    "R/h"
   ]
  },
  {
   "cell_type": "markdown",
   "metadata": {},
   "source": [
    "A megfelelő feszültségi elmélet kiválasztásához vizsgálnunk kell az $R/h$ hányados értékét. Jelen esetben $R/h<2$, így a Grashof-képletet használhatjuk, ahol az $I_{0}$ redukált másodrendű nyomatékot nem egyszerüsíthetjük a hajlítás tengelyére vett másodrendű nyomatékkal. <br> A redukált másodrendű nyomaték és a keresztmetszet területe a vizsgált helyen:\n",
    "$$ A = \\frac{d^2\\pi}{4}.\\\\$$\n",
    "Táblázatból a kör km. redukált másodrendű nyomatéka:\n",
    "$$I_0 = R^2Ax,$$ ahol\n",
    "$$ x \\approx \\frac{1}{4}\\left(\\frac{d}{2R}\\right)^2+\\frac{1}{8}\\left(\\frac{d}{2R}\\right)^4+\n",
    " \\frac{5}{64}\\left(\\frac{d}{2R}\\right)^6+\\frac{7}{128}\\left(\\frac{d}{2R}\\right)^8.$$\n"
   ]
  },
  {
   "cell_type": "code",
   "execution_count": 3,
   "metadata": {
    "ExecuteTime": {
     "end_time": "2020-02-25T08:51:21.153248Z",
     "start_time": "2020-02-25T08:51:21.136935Z"
    }
   },
   "outputs": [
    {
     "data": {
      "text/latex": [
       "$\\displaystyle 31415.9$"
      ],
      "text/plain": [
       "31415.9"
      ]
     },
     "metadata": {},
     "output_type": "display_data"
    },
    {
     "data": {
      "text/latex": [
       "$\\displaystyle 83229715.0$"
      ],
      "text/plain": [
       "83229715."
      ]
     },
     "metadata": {},
     "output_type": "display_data"
    }
   ],
   "source": [
    "A = d**2*sp.pi/4\n",
    "x = (d/(2*R))**2/4 + (d/(2*R))**4/8 + 5*(d/(2*R))**6/64 + 7*(d/(2*R))**8/128\n",
    "I_0 = R**2*A*x\n",
    "\n",
    "display(A.evalf(6)) #mm^2\n",
    "display(I_0.evalf(8)) #mm^4"
   ]
  },
  {
   "cell_type": "markdown",
   "metadata": {},
   "source": [
    "A Grashof-képlettel meghatározhatóak a keresztmetszet pontjaiban a hajlítás hatására ébredő feszültségek:\n",
    "$$\\sigma_{\\rm h}(y)=\\frac{M_{\\rm h}}{R A}+\\frac{M_{\\rm h}}{I_{\\rm 0}}y\\frac{R}{R+y}.$$"
   ]
  },
  {
   "cell_type": "code",
   "execution_count": 4,
   "metadata": {
    "ExecuteTime": {
     "end_time": "2020-02-25T08:51:21.640798Z",
     "start_time": "2020-02-25T08:51:21.156445Z"
    }
   },
   "outputs": [
    {
     "data": {
      "text/latex": [
       "$\\displaystyle \\frac{18.022 y}{y + 300.0} + 0.53052$"
      ],
      "text/plain": [
       "18.022*y/(y + 300.0) + 0.53052"
      ]
     },
     "execution_count": 4,
     "metadata": {},
     "output_type": "execute_result"
    }
   ],
   "source": [
    "M_h = M # A hajlító nyomaték egyenelő a külső M nyomatékkal.\n",
    "\n",
    "σ_h = M_h/(R*A) + M_h/I_0*y*R/(R+y)\n",
    "\n",
    "σ_h.evalf(5)"
   ]
  },
  {
   "cell_type": "markdown",
   "metadata": {},
   "source": [
    "Az $A$ és $B$ pontokban normálfeszültség a hajlításból származik, aminek értéke:"
   ]
  },
  {
   "cell_type": "code",
   "execution_count": 5,
   "metadata": {
    "ExecuteTime": {
     "end_time": "2020-02-25T08:51:21.655342Z",
     "start_time": "2020-02-25T08:51:21.642713Z"
    }
   },
   "outputs": [
    {
     "data": {
      "text/latex": [
       "$\\displaystyle -8.4807$"
      ],
      "text/plain": [
       "-8.4807"
      ]
     },
     "metadata": {},
     "output_type": "display_data"
    },
    {
     "data": {
      "text/latex": [
       "$\\displaystyle 5.0361$"
      ],
      "text/plain": [
       "5.0361"
      ]
     },
     "metadata": {},
     "output_type": "display_data"
    }
   ],
   "source": [
    "σ_A = σ_h.subs(y, -d/2)\n",
    "σ_B = σ_h.subs(y, d/2)\n",
    "\n",
    "display(σ_A.evalf(5)) #MPa\n",
    "display(σ_B.evalf(5)) #MPa"
   ]
  },
  {
   "cell_type": "markdown",
   "metadata": {},
   "source": [
    "A semleges tengelyben a hajlításból származó feszültség nulla, ami felírható a következő egyenlet formájában:\n",
    "$$\\sigma_{\\rm h}(y^*)=\\frac{M_{\\rm h}}{R A}+\\frac{M_{\\rm h}}{I_{\\rm 0}}y^*\\frac{R}{R+y^*}=0.$$"
   ]
  },
  {
   "cell_type": "code",
   "execution_count": 6,
   "metadata": {
    "ExecuteTime": {
     "end_time": "2020-02-25T08:51:21.737761Z",
     "start_time": "2020-02-25T08:51:21.658348Z"
    }
   },
   "outputs": [
    {
     "data": {
      "text/latex": [
       "$\\displaystyle 108.58$"
      ],
      "text/plain": [
       "108.58"
      ]
     },
     "execution_count": 6,
     "metadata": {},
     "output_type": "execute_result"
    }
   ],
   "source": [
    "# Definiáljuk a nullára rendezett egyenletet, amit meg szeretnénk oldani.\n",
    "\n",
    "# A 'σ_h' kifejezésünk -amit korábban definiáltunk- már tartalmazza az\n",
    "# 'y' szimbolikus változót, amire megoldhatjuk az egyenletet!\n",
    "\n",
    "egyenlet = σ_h\n",
    "\n",
    "# Megoldjuk az egyenletet 'y*'-ra, és tároljuk a 'sol' változóban:\n",
    "sol = sp.solve(egyenlet, y)\n",
    "# Az eredményt egy 'list' objektumban kapjuk, aminek több eleme lenne, ha az egyenletünknek 1-nél több gyöke lenne.\n",
    "\n",
    "# 'y*' legyen egyenlő a 'sol' nevű list első elemével:\n",
    "y_star = sol[0]\n",
    "\n",
    "t = d/2 + abs(y_star)\n",
    "\n",
    "t.evalf(5) #mm"
   ]
  },
  {
   "cell_type": "markdown",
   "metadata": {},
   "source": [
    "A semleges tengely távolsága a görbületi középponttól: $t=108{,}58 \\, \\rm{mm}$."
   ]
  },
  {
   "cell_type": "markdown",
   "metadata": {},
   "source": [
    "## + Extra a kíváncsiaknak\n",
    "\n",
    "A `list` osztály a Pythonban egy adatstruktúra amiben az elemek indexük szerint vannak sorba rendezbe. Néhány fontosabb tulajdonsága a `list`-eknek:\n",
    "- Méretük dinamikusan növelhető, csökkenthető és a `list` elemei változtathatóak (mutable tulajdonság)\n",
    "- A `list` elemei lehetnek bármilyen egyéb objektumok (`int`, `float`, `str`, `dict` stb...), akár egy `list` is lehet egy `list` eleme (nested lists).\n",
    "- A `list` elemeire indexükkel hivatkozhatunk. Pythonban (és minden rendes nyelvben) az indexelés 0-tól indul."
   ]
  }
 ],
 "metadata": {
  "kernelspec": {
   "display_name": "Python 3",
   "language": "python",
   "name": "python3"
  },
  "language_info": {
   "codemirror_mode": {
    "name": "ipython",
    "version": 3
   },
   "file_extension": ".py",
   "mimetype": "text/x-python",
   "name": "python",
   "nbconvert_exporter": "python",
   "pygments_lexer": "ipython3",
   "version": "3.7.3"
  },
  "toc": {
   "base_numbering": 1,
   "nav_menu": {},
   "number_sections": true,
   "sideBar": true,
   "skip_h1_title": false,
   "title_cell": "Table of Contents",
   "title_sidebar": "Contents",
   "toc_cell": false,
   "toc_position": {},
   "toc_section_display": true,
   "toc_window_display": false
  }
 },
 "nbformat": 4,
 "nbformat_minor": 2
}
