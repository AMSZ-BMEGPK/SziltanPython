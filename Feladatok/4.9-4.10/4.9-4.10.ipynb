{
 "cells": [
  {
   "cell_type": "markdown",
   "metadata": {},
   "source": [
    "# Példa 4.9-4.10\n",
    "\n",
    "##### Megjegyzés:\n",
    "Mivel a két példa nagyon hasonló, egy fileban oldjuk meg őket. A feladatokhoz tartozó mátrixokat $\\boldsymbol{\\sigma}_A$, illetve $\\boldsymbol{\\sigma}_B$ jelöli.\n",
    "\n",
    "A feszültségi tenzor mátrixa egy anyagi pontban az $(x,y,z)$ koordinátarendszerben ismert. Határozzuk meg a főfeszültségeket és főirányokat sajátérték és sajátvektor számítással. Ábrázoljuk a feszültségi állapotot Mohr-körök segítségével!\n",
    "\n",
    "$$\\boldsymbol{\\sigma}_A=\\left[\\begin{matrix} 90 & 40 & 0\\\\ 40 & 30 & 0\\\\ 0 & 0 & -50 \\end{matrix}\\right] \\rm{MPa}$$\n",
    "\n",
    "$$\\boldsymbol{\\sigma}_B=\\left[\\begin{matrix} -30 & 0 & 0\\\\ 0 & -20 & -40\\\\ 0 & -40 & -10 \\end{matrix}\\right] \\rm{MPa}$$"
   ]
  },
  {
   "cell_type": "markdown",
   "metadata": {},
   "source": [
    "# Megoldás\n",
    "\n",
    "Szükségünk lesz a `sympy` modulra."
   ]
  },
  {
   "cell_type": "code",
   "execution_count": 1,
   "metadata": {
    "ExecuteTime": {
     "end_time": "2020-03-19T09:56:01.388789Z",
     "start_time": "2020-03-19T09:56:00.707308Z"
    }
   },
   "outputs": [],
   "source": [
    "import sympy as sp\n",
    "sp.init_printing()"
   ]
  },
  {
   "cell_type": "markdown",
   "metadata": {},
   "source": [
    "A sajátértékszámítás eredményeinek olvashatóbb kiíratásához a *4.3-4.5.ipynb*-ben definiált függvényt egy *sajat_fuggvenyeket_tartalmazo_fajl.py* külső fájlban tároljuk a *notebook*-unk mellett. Ahhoz, hogy ebben a notebook-ban tudjuk használni, ebből a fájlból importálnunk kell. Ezzel elkerülhető, hogy minden egyes notebook-ban ezt a függvényt külön nekünk definiálni kellene (a rendes Python könyvtárak is hasonlóan működnek)."
   ]
  },
  {
   "cell_type": "code",
   "execution_count": 2,
   "metadata": {
    "ExecuteTime": {
     "end_time": "2020-03-19T09:56:01.403030Z",
     "start_time": "2020-03-19T09:56:01.392398Z"
    }
   },
   "outputs": [],
   "source": [
    "from sajat_fuggvenyeket_tartalmazo_fajl import print_eigensystem"
   ]
  },
  {
   "cell_type": "markdown",
   "metadata": {},
   "source": [
    "Saját függvények definiálása során nagyon figyeljünk arra, hogy az milyen bemeneteket fogad, ez a `print_eigensystem` esetében csak `sympy` mátrix."
   ]
  },
  {
   "cell_type": "markdown",
   "metadata": {},
   "source": [
    "## $\\boldsymbol{\\sigma}_A$ mátrix"
   ]
  },
  {
   "cell_type": "code",
   "execution_count": 3,
   "metadata": {
    "ExecuteTime": {
     "end_time": "2020-03-19T09:56:01.430840Z",
     "start_time": "2020-03-19T09:56:01.410118Z"
    }
   },
   "outputs": [],
   "source": [
    "σAx = 90\n",
    "σAy = 30\n",
    "σAz = -50\n",
    "τAxy = 40\n",
    "σA = sp.Matrix([[σAx,τAxy,0],[τAxy,σAy,0],[0,0,σAz]])"
   ]
  },
  {
   "cell_type": "markdown",
   "metadata": {},
   "source": [
    "### Sajátérték - sajátvektor számítás\n"
   ]
  },
  {
   "cell_type": "code",
   "execution_count": 4,
   "metadata": {
    "ExecuteTime": {
     "end_time": "2020-03-19T09:56:02.980587Z",
     "start_time": "2020-03-19T09:56:01.437579Z"
    },
    "scrolled": false
   },
   "outputs": [
    {
     "name": "stdout",
     "output_type": "stream",
     "text": [
      "1. Főfeszültség: 110.00 MPa\n",
      "1. Főirány: \n"
     ]
    },
    {
     "data": {
      "image/png": "[encoded data removed]",
      "text/latex": [
       "$\\displaystyle \\left[\\begin{matrix}0.89443\\\\0.44721\\\\0\\end{matrix}\\right]$"
      ],
      "text/plain": [
       "⎡0.89443⎤\n",
       "⎢       ⎥\n",
       "⎢0.44721⎥\n",
       "⎢       ⎥\n",
       "⎣   0   ⎦"
      ]
     },
     "metadata": {},
     "output_type": "display_data"
    },
    {
     "name": "stdout",
     "output_type": "stream",
     "text": [
      "2. Főfeszültség: 10.000 MPa\n",
      "2. Főirány: \n"
     ]
    },
    {
     "data": {
      "image/png": "[encoded data removed]",
      "text/latex": [
       "$\\displaystyle \\left[\\begin{matrix}-0.44721\\\\0.89443\\\\0\\end{matrix}\\right]$"
      ],
      "text/plain": [
       "⎡-0.44721⎤\n",
       "⎢        ⎥\n",
       "⎢0.89443 ⎥\n",
       "⎢        ⎥\n",
       "⎣   0    ⎦"
      ]
     },
     "metadata": {},
     "output_type": "display_data"
    },
    {
     "name": "stdout",
     "output_type": "stream",
     "text": [
      "3. Főfeszültség: -50.000 MPa\n",
      "3. Főirány: \n"
     ]
    },
    {
     "data": {
      "image/png": "[encoded data removed]",
      "text/latex": [
       "$\\displaystyle \\left[\\begin{matrix}0\\\\0\\\\1.0\\end{matrix}\\right]$"
      ],
      "text/plain": [
       "⎡ 0 ⎤\n",
       "⎢   ⎥\n",
       "⎢ 0 ⎥\n",
       "⎢   ⎥\n",
       "⎣1.0⎦"
      ]
     },
     "metadata": {},
     "output_type": "display_data"
    }
   ],
   "source": [
    "print_eigensystem(σA)"
   ]
  },
  {
   "cell_type": "markdown",
   "metadata": {},
   "source": [
    "Ez a függvény akkor is jól működik, ha többszörös sajátértékeink vannak. Vegyük szélsőséges példának az egységmátrixot! Tudjuk, hogy ennek az egyetlen sajátértéke az 1, melynek multiplicitása 3-szoros. Az ehhez tartozó sajátvektorok pedig az $\\mathbf{i}, \\mathbf{j}$ és $\\mathbf{k}$.\n",
    "\n",
    "A `sympy` modulban $N\\times N$-es egységmátrixot az `sp.eye(N)` paranccsal hozhatunk létre."
   ]
  },
  {
   "cell_type": "code",
   "execution_count": 5,
   "metadata": {
    "ExecuteTime": {
     "end_time": "2020-03-19T09:56:04.423910Z",
     "start_time": "2020-03-19T09:56:02.982693Z"
    }
   },
   "outputs": [
    {
     "name": "stdout",
     "output_type": "stream",
     "text": [
      "1. Főfeszültség: 1.0000 MPa\n",
      "1. Főirány: \n"
     ]
    },
    {
     "data": {
      "image/png": "[encoded data removed]",
      "text/latex": [
       "$\\displaystyle \\left[\\begin{matrix}1.0\\\\0\\\\0\\end{matrix}\\right]$"
      ],
      "text/plain": [
       "⎡1.0⎤\n",
       "⎢   ⎥\n",
       "⎢ 0 ⎥\n",
       "⎢   ⎥\n",
       "⎣ 0 ⎦"
      ]
     },
     "metadata": {},
     "output_type": "display_data"
    },
    {
     "name": "stdout",
     "output_type": "stream",
     "text": [
      "2. Főfeszültség: 1.0000 MPa\n",
      "2. Főirány: \n"
     ]
    },
    {
     "data": {
      "image/png": "[encoded data removed]",
      "text/latex": [
       "$\\displaystyle \\left[\\begin{matrix}0\\\\1.0\\\\0\\end{matrix}\\right]$"
      ],
      "text/plain": [
       "⎡ 0 ⎤\n",
       "⎢   ⎥\n",
       "⎢1.0⎥\n",
       "⎢   ⎥\n",
       "⎣ 0 ⎦"
      ]
     },
     "metadata": {},
     "output_type": "display_data"
    },
    {
     "name": "stdout",
     "output_type": "stream",
     "text": [
      "3. Főfeszültség: 1.0000 MPa\n",
      "3. Főirány: \n"
     ]
    },
    {
     "data": {
      "image/png": "[encoded data removed]",
      "text/latex": [
       "$\\displaystyle \\left[\\begin{matrix}0\\\\0\\\\1.0\\end{matrix}\\right]$"
      ],
      "text/plain": [
       "⎡ 0 ⎤\n",
       "⎢   ⎥\n",
       "⎢ 0 ⎥\n",
       "⎢   ⎥\n",
       "⎣1.0⎦"
      ]
     },
     "metadata": {},
     "output_type": "display_data"
    }
   ],
   "source": [
    "print_eigensystem(sp.eye(3))"
   ]
  },
  {
   "cell_type": "markdown",
   "metadata": {},
   "source": [
    "### Mohr körös ellenőrzés\n",
    "\n",
    "#### Megjegyzés:\n",
    "A Mohr körök módszere eredetileg a sajátérték, sajátvektor számítás megkerülésére/felgyorsítására szolgált. A bemutatott \"szerkesztéshez\" szükséges, hogy az egyik feszültségi irány főfeszültségi irány legyen. Az előbb láthattuk, hogy a sajátérték, sajátvektor számítás számítógéppel nem okoz problémát, és nincsenek megkötéseink a feszültségek irányára. (Csak győzzük a számítógép által számolt dolgokat értelmezni és a nekünk kellő formára hozni...) Ezen felül \"szerkeszteni\" a számítógépen nehézkes (ha nem célszoftvert használunk - a Python nem az), ezért a Mohr körös megoldás itt csak ellenőrzésre szolgál."
   ]
  },
  {
   "cell_type": "markdown",
   "metadata": {},
   "source": [
    "Szükségünk lesz a `matplotlib.pyplot` modulra, valamint a `numpy` modulból több függvényre is - ezért most a teljes modult importáljuk. A `numpy` neve a \"Numercial Python\"-ból ered, több olyan függvénye van, ami hasznos lesz számunkra.\n",
    "\n",
    "A `matplotlib` az általunk használt szintaktikával (`plt.utasitas`-ok után `plt.show()`) minden egyes ábrázoláskor törli a megjegyzett dolgokat, ezért ebben a példában az érthetőség kedvéért az egyes részeket külön-külön kirajzoljuk, majd az összes rész kódját összekombinálva rajzoljuk ki a végleges ábrát.\n",
    "\n",
    "1. lépés: A $\\boldsymbol{\\sigma}_A$ mátrix által megadott feszültségállapotot felrajzoljuk a $\\sigma-|\\tau|$ síkra."
   ]
  },
  {
   "cell_type": "code",
   "execution_count": 6,
   "metadata": {
    "ExecuteTime": {
     "end_time": "2020-03-19T09:56:04.884073Z",
     "start_time": "2020-03-19T09:56:04.426624Z"
    }
   },
   "outputs": [],
   "source": [
    "import matplotlib.pyplot as plt #betöltjük a plotoló modult\n",
    "import numpy as np #betöltjük a numpy modult"
   ]
  },
  {
   "cell_type": "code",
   "execution_count": 7,
   "metadata": {
    "ExecuteTime": {
     "end_time": "2020-03-19T09:56:06.040515Z",
     "start_time": "2020-03-19T09:56:04.886396Z"
    }
   },
   "outputs": [
    {
     "data": {
      "image/png": "[encoded data removed]",
      "text/plain": [
       "<Figure size 432x288 with 1 Axes>"
      ]
     },
     "metadata": {
      "needs_background": "light"
     },
     "output_type": "display_data"
    }
   ],
   "source": [
    "#az X pont, a σx-τxy értékpárból:\n",
    "plt.plot(σAx,τAxy,'X',label=\"X\") #'X': a kirajzolt marker formája, 'label=\"X\"': a jelmagyarázatban kiírt név\n",
    "#az Y pont, a σy-τxy értékpárból:\n",
    "plt.plot(σAy,τAxy,'X',label=\"Y\")\n",
    "#a Z pont, a σz-0 értékpárból:\n",
    "plt.plot(σAz,0,'X',label=\"Z\")\n",
    "plt.xlabel(r\"$\\sigma \\; \\rm{(MPa)}$\")\n",
    "plt.ylabel(r\"$|\\tau| \\; \\rm{(MPa)}$\")\n",
    "plt.legend()\n",
    "plt.grid()\n",
    "plt.show()"
   ]
  },
  {
   "cell_type": "markdown",
   "metadata": {},
   "source": [
    "2. lépés: $\\sigma_x$, $\\sigma_y$ és $\\tau_{xy}$ alapján:\n",
    "$$\\sigma_{AK}=\\frac{\\sigma_x+\\sigma_y}{2},$$  \n",
    "$$R_{A}=\\sqrt{\\left(\\frac{\\sigma_x-\\sigma_y}{2}\\right)^2+\\tau_{xy}^2}.$$\n",
    "\n",
    "$\\sigma_K$ középponttal és $R$ sugárral rajzolunk egy félkört. Ennek egyik módja, hogy a félkör pontjainak $x$ (avagy $\\sigma$) koordinátáit $\\sigma_K+R\\cos \\varphi$-ként, $y$ (avagy $|\\tau|$) koordinátáit $R\\sin \\varphi$-ként kapjuk, ahol $\\varphi=0\\ldots \\pi$.\n",
    "\n",
    "Hasonló módon rajzolhatjuk ki a másik két félkört, melyeknek középpontja: $$\\sigma_{AK2}=\\frac{\\sigma_z+\\sigma_{AK}+R_A}{2},$$  \n",
    "$$\\sigma_{AK3}=\\frac{\\sigma_z+\\sigma_{AK}-R_A}{2}.$$\n",
    "\n",
    "A félkörök sugarai: $$R_{A2}=\\frac{\\sigma_z+\\sigma_{AK}+R_A}{2}-\\sigma_z,$$  \n",
    "$$R_{A3}=\\frac{\\sigma_z+\\sigma_{AK}-R_A}{2}-\\sigma_z.$$"
   ]
  },
  {
   "cell_type": "code",
   "execution_count": 8,
   "metadata": {
    "ExecuteTime": {
     "end_time": "2020-03-19T09:56:06.556246Z",
     "start_time": "2020-03-19T09:56:06.043416Z"
    }
   },
   "outputs": [
    {
     "data": {
      "image/png": "[encoded data removed]",
      "text/plain": [
       "<Figure size 432x288 with 1 Axes>"
      ]
     },
     "metadata": {
      "needs_background": "light"
     },
     "output_type": "display_data"
    }
   ],
   "source": [
    "fi=np.linspace(0,np.pi,201) #mivel most az egész 'numpy'-t importáltuk, kell az 'np' előtag\n",
    "\n",
    "#az első félkör számolása:\n",
    "σAK=(σAx+σAy)/2\n",
    "RA=sp.sqrt(((σAx-σAy)/2)**2+τAxy**2)\n",
    "felkor1x=σAK+RA*np.cos(fi) #az első félkör x koordinátái\n",
    "felkor1y=RA*np.sin(fi) #az első félkör y koordinátái\n",
    "\n",
    "#a második félkör számolása:\n",
    "σAK2=(σAz+σAK+RA)/2\n",
    "RA2=(σAz+σAK+RA)/2-σAz\n",
    "felkor2x=σAK2+RA2*np.cos(fi)\n",
    "felkor2y=RA2*np.sin(fi)\n",
    "\n",
    "#a 3. félkör számolása:\n",
    "σAK3=(σAz+σAK-RA)/2\n",
    "RA3=(σAz+σAK-RA)/2-σAz\n",
    "felkor3x=σAK3+RA3*np.cos(fi)\n",
    "felkor3y=RA3*np.sin(fi)\n",
    "\n",
    "plt.plot(felkor1x,felkor1y)\n",
    "plt.plot(felkor2x,felkor2y)\n",
    "plt.plot(felkor3x,felkor3y)\n",
    "plt.xlabel(r\"$\\sigma \\; \\rm{(MPa)}$\")\n",
    "plt.ylabel(r\"$|\\tau| \\; \\rm{(MPa)}$\")\n",
    "plt.grid()\n",
    "plt.show()"
   ]
  },
  {
   "cell_type": "markdown",
   "metadata": {},
   "source": [
    "Ezek alapján a főfeszültségek:\n",
    "$$\\sigma_{A1}=\\sigma_{AK}+R=110 \\; \\rm{MPa}$$\n",
    "$$\\sigma_{A2}=\\sigma_{AK}-R=10 \\; \\rm{MPa}$$\n",
    "$$\\sigma_{A3}=\\sigma_z=-50 \\; \\rm{MPa}$$\n",
    "Ezek megegyeznek a korábbi eredményekkel."
   ]
  },
  {
   "cell_type": "markdown",
   "metadata": {},
   "source": [
    "3. lépés: A $\\sigma_{AK}-X$ szakasz vízszintes tengellyel bezárt szögének ($2\\alpha$) a fele adja meg, hogy hány fokkal kell elforgatnunk a koordináta rendszert a főirányok megkapásához. Geometriai megfontolásból:\n",
    "$$\\tan{2\\alpha}=\\frac{|\\tau_{xy}|}{\\sigma_x-\\sigma_K}=\\frac{2|\\tau_{xy}|}{\\sigma_x-\\sigma_y} \\Rightarrow \\alpha=\\frac 12 \\arctan \\frac{2|\\tau_{xy}|}{\\sigma_x-\\sigma_y}.$$"
   ]
  },
  {
   "cell_type": "code",
   "execution_count": 9,
   "metadata": {
    "ExecuteTime": {
     "end_time": "2020-03-19T09:56:07.017618Z",
     "start_time": "2020-03-19T09:56:06.558646Z"
    }
   },
   "outputs": [
    {
     "data": {
      "image/png": "[encoded data removed]",
      "text/latex": [
       "$\\displaystyle 0.46365$"
      ],
      "text/plain": [
       "0.46365"
      ]
     },
     "execution_count": 9,
     "metadata": {},
     "output_type": "execute_result"
    }
   ],
   "source": [
    "αA=sp.atan(2*sp.Abs(τAxy)/(σAx-σAy))/2\n",
    "αA.evalf(5) #α értéke radiánban"
   ]
  },
  {
   "cell_type": "code",
   "execution_count": 10,
   "metadata": {
    "ExecuteTime": {
     "end_time": "2020-03-19T09:56:07.484701Z",
     "start_time": "2020-03-19T09:56:07.021159Z"
    }
   },
   "outputs": [
    {
     "data": {
      "image/png": "[encoded data removed]",
      "text/latex": [
       "$\\displaystyle 26.565$"
      ],
      "text/plain": [
       "26.565"
      ]
     },
     "execution_count": 10,
     "metadata": {},
     "output_type": "execute_result"
    }
   ],
   "source": [
    "def rad2deg(rad):           # Saját függvény a radián-fok átváltáshoz.\n",
    "    return rad*180/sp.pi\n",
    "\n",
    "αAn=rad2deg(αA).evalf(5) \n",
    "αAn"
   ]
  },
  {
   "cell_type": "markdown",
   "metadata": {},
   "source": [
    "Most ábrázolhatjuk a félköröket és pontokat egy ábrán, valamint bejelölhetjük a $\\sigma_K-X$ szakaszt is."
   ]
  },
  {
   "cell_type": "code",
   "execution_count": 11,
   "metadata": {
    "ExecuteTime": {
     "end_time": "2020-03-19T09:56:07.981129Z",
     "start_time": "2020-03-19T09:56:07.486529Z"
    }
   },
   "outputs": [
    {
     "data": {
      "image/png": "[encoded data removed]",
      "text/plain": [
       "<Figure size 1008x504 with 1 Axes>"
      ]
     },
     "metadata": {
      "needs_background": "light"
     },
     "output_type": "display_data"
    }
   ],
   "source": [
    "plt.figure(figsize=(14,7)) #ábra mérete\n",
    "\n",
    "#X, Y, Z pontok\n",
    "plt.plot(σAx,τAxy,'X',label=\"X\")\n",
    "plt.plot(σAy,τAxy,'X',label=\"Y\")\n",
    "plt.plot(σAz,0,'X',label=\"Z\")\n",
    "\n",
    "#félkörök\n",
    "plt.plot(felkor1x,felkor1y)\n",
    "plt.plot(felkor2x,felkor2y)\n",
    "plt.plot(felkor3x,felkor3y)\n",
    "\n",
    "#σAK-X szakasz\n",
    "plt.plot([σAK,σAx],[0,τAxy],label=r\"$\\sigma_{AK}-X}$\")\n",
    "\n",
    "plt.xlabel(r\"$\\sigma \\; \\rm{(MPa)}$\")\n",
    "plt.ylabel(r\"$|\\tau| \\; \\rm{(MPa)}$\")\n",
    "plt.legend()\n",
    "plt.grid()\n",
    "plt.show()"
   ]
  },
  {
   "cell_type": "markdown",
   "metadata": {},
   "source": [
    "Az $\\alpha$ szöggel kell elforgatni az $x$ tengelyt a $z$ körül a $\\tau_{xy}$ irányába, hogy megkapjuk az 1-es főirányt.\n",
    "<img src=\"Fig_4.9a.png\" style=\"width: 400px;\">\n",
    "\n",
    "Ez alapján az 1-es főirányt kijelölő egységvektor:\n",
    "$$\\mathbf{e}_1=\\left[\\begin{matrix}\\cos \\alpha \\\\ \\sin \\alpha \\\\0\\end{matrix}\\right].$$"
   ]
  },
  {
   "cell_type": "code",
   "execution_count": 12,
   "metadata": {
    "ExecuteTime": {
     "end_time": "2020-03-19T09:56:08.467119Z",
     "start_time": "2020-03-19T09:56:07.984190Z"
    }
   },
   "outputs": [
    {
     "data": {
      "image/png": "[encoded data removed]",
      "text/latex": [
       "$\\displaystyle \\left[\\begin{matrix}0.89443\\\\0.44721\\\\0\\end{matrix}\\right]$"
      ],
      "text/plain": [
       "⎡0.89443⎤\n",
       "⎢       ⎥\n",
       "⎢0.44721⎥\n",
       "⎢       ⎥\n",
       "⎣   0   ⎦"
      ]
     },
     "execution_count": 12,
     "metadata": {},
     "output_type": "execute_result"
    }
   ],
   "source": [
    "e1A=sp.Matrix([sp.cos(αA),sp.sin(αA),0])\n",
    "e1A.evalf(5)"
   ]
  },
  {
   "cell_type": "markdown",
   "metadata": {},
   "source": [
    "Mivel $\\sigma_z$ főfeszültség, ezért:\n",
    "$$\\mathbf{e}_3=\\mathbf{k}=\\left[\\begin{matrix}0 \\\\ 0 \\\\1\\end{matrix}\\right].$$\n",
    "\n",
    "Így $\\mathbf{e}_2$ a következő módon számolható:\n",
    "$$\\mathbf{e}_2=\\mathbf{e}_3 \\times \\mathbf{e}_1.$$"
   ]
  },
  {
   "cell_type": "code",
   "execution_count": 13,
   "metadata": {
    "ExecuteTime": {
     "end_time": "2020-03-19T09:56:08.991000Z",
     "start_time": "2020-03-19T09:56:08.469942Z"
    },
    "scrolled": true
   },
   "outputs": [
    {
     "data": {
      "image/png": "[encoded data removed]",
      "text/latex": [
       "$\\displaystyle \\left[\\begin{matrix}-0.44721\\\\0.89443\\\\0\\end{matrix}\\right]$"
      ],
      "text/plain": [
       "⎡-0.44721⎤\n",
       "⎢        ⎥\n",
       "⎢0.89443 ⎥\n",
       "⎢        ⎥\n",
       "⎣   0    ⎦"
      ]
     },
     "execution_count": 13,
     "metadata": {},
     "output_type": "execute_result"
    }
   ],
   "source": [
    "e3A=sp.Matrix([0,0,1])\n",
    "e2A=e3A.cross(e1A)\n",
    "e2A.evalf(5)"
   ]
  },
  {
   "cell_type": "markdown",
   "metadata": {},
   "source": [
    "Láthatjuk, hogy az eredmények megegyeznek a sajátérték és sajátvektor számítással kapottakkal."
   ]
  },
  {
   "cell_type": "markdown",
   "metadata": {},
   "source": [
    "## $\\boldsymbol{\\sigma}_B$ mátrix\n",
    "\n",
    "$$\\boldsymbol{\\sigma}_B=\\left[\\begin{matrix} -30 & 0 & 0\\\\ 0 & -20 & -40\\\\ 0 & -40 & -10 \\end{matrix}\\right] \\rm{MPa}$$\n"
   ]
  },
  {
   "cell_type": "code",
   "execution_count": 14,
   "metadata": {
    "ExecuteTime": {
     "end_time": "2020-03-19T09:56:09.501356Z",
     "start_time": "2020-03-19T09:56:08.993902Z"
    }
   },
   "outputs": [
    {
     "data": {
      "image/png": "[encoded data removed]",
      "text/latex": [
       "$\\displaystyle \\left[\\begin{matrix}-30 & 0 & 0\\\\0 & -20 & -40\\\\0 & -40 & -10\\end{matrix}\\right]$"
      ],
      "text/plain": [
       "⎡-30   0    0 ⎤\n",
       "⎢             ⎥\n",
       "⎢ 0   -20  -40⎥\n",
       "⎢             ⎥\n",
       "⎣ 0   -40  -10⎦"
      ]
     },
     "execution_count": 14,
     "metadata": {},
     "output_type": "execute_result"
    }
   ],
   "source": [
    "σBx = -30\n",
    "σBy = -20\n",
    "σBz = -10\n",
    "τByz = -40\n",
    "σB = sp.Matrix([[σBx,0,0],[0,σBy,τByz],[0,τByz,σBz]])\n",
    "σB"
   ]
  },
  {
   "cell_type": "markdown",
   "metadata": {},
   "source": [
    "Ezen a mátrixon is elvégezhetnénk az előbbihez hasonló módon a sajátérték és sajátvektor számítást, illetve a Mohr körös ábrázolást.\n",
    "\n",
    "Ehelyett írjunk függvényt a Mohr körökhöz, amellyel tetszőleges $\\boldsymbol{\\sigma}$-ra könnyen ki tudjuk rajzolni őket! Ennek során felhasználjuk a $\\boldsymbol{\\sigma}_A$-ra használt kódot is (ezeket a részeket nem magyarázzuk újra részletesen)."
   ]
  },
  {
   "cell_type": "code",
   "execution_count": 15,
   "metadata": {
    "ExecuteTime": {
     "end_time": "2020-03-19T09:56:11.550049Z",
     "start_time": "2020-03-19T09:56:09.504226Z"
    }
   },
   "outputs": [
    {
     "name": "stdout",
     "output_type": "stream",
     "text": [
      "1. Főfeszültség: 25.311 MPa\n",
      "1. Főirány: \n"
     ]
    },
    {
     "data": {
      "image/png": "[encoded data removed]",
      "text/latex": [
       "$\\displaystyle \\left[\\begin{matrix}0\\\\-0.6618\\\\0.74968\\end{matrix}\\right]$"
      ],
      "text/plain": [
       "⎡   0   ⎤\n",
       "⎢       ⎥\n",
       "⎢-0.6618⎥\n",
       "⎢       ⎥\n",
       "⎣0.74968⎦"
      ]
     },
     "metadata": {},
     "output_type": "display_data"
    },
    {
     "name": "stdout",
     "output_type": "stream",
     "text": [
      "2. Főfeszültség: -30.000 MPa\n",
      "2. Főirány: \n"
     ]
    },
    {
     "data": {
      "image/png": "[encoded data removed]",
      "text/latex": [
       "$\\displaystyle \\left[\\begin{matrix}1.0\\\\0\\\\0\\end{matrix}\\right]$"
      ],
      "text/plain": [
       "⎡1.0⎤\n",
       "⎢   ⎥\n",
       "⎢ 0 ⎥\n",
       "⎢   ⎥\n",
       "⎣ 0 ⎦"
      ]
     },
     "metadata": {},
     "output_type": "display_data"
    },
    {
     "name": "stdout",
     "output_type": "stream",
     "text": [
      "3. Főfeszültség: -55.311 MPa\n",
      "3. Főirány: \n"
     ]
    },
    {
     "data": {
      "image/png": "[encoded data removed]",
      "text/latex": [
       "$\\displaystyle \\left[\\begin{matrix}0\\\\0.74968\\\\0.6618\\end{matrix}\\right]$"
      ],
      "text/plain": [
       "⎡   0   ⎤\n",
       "⎢       ⎥\n",
       "⎢0.74968⎥\n",
       "⎢       ⎥\n",
       "⎣0.6618 ⎦"
      ]
     },
     "metadata": {},
     "output_type": "display_data"
    }
   ],
   "source": [
    "print_eigensystem(σB)"
   ]
  },
  {
   "cell_type": "markdown",
   "metadata": {},
   "source": [
    "Láthatjuk, hogy az első és utolsó egységvektorok nem egyeznek meg a PDF-es kidolgozásban lévőkkel, hanem azokkal pont ellentétesek. Ez nem probléma, az itt kapott vektorok ugyanúgy jobbsodrású rendszert alkotnak."
   ]
  },
  {
   "cell_type": "markdown",
   "metadata": {},
   "source": [
    "### Mohr körös ábrázoló\n",
    "\n",
    "A Mohr körök csak fizikailag helyes feszültségállapot esetén adnak jó eredményt, ezért ha itt nem szimmetrikus mátrixot kapnánk bemenetnek, a számolást nem folytatjuk. A `return` utasítással léphetünk ki a függvényből. Hogy a beadott mátrix szimmetrikus-e, azt a `matrix.is_symmetric()` utasítással ellenőrizzük.\n",
    "\n",
    "A Mohr körök módszere csak akkor használható, ha $\\sigma_x, \\sigma_y$ és $\\sigma_z$ közül az egyik főfeszültség. Ha általános függvényt akarunk írni, akkor ezt ellenőriznünk kell a programban. Ezt több elven meg lehet valósítani.\n",
    "\n",
    "Mi azt fogjuk vizsgálni, hogy a $\\tau$ feszültségek közül legalább kettőnek 0-nak kell lennie. A `bool()` függvény számokra `True` értéket ad, kivéve, ha a szám 0 - ekkor `False`-t ad. A `True` és `False` értékek kezelhetők számként (összeadhatók, kivonhatók, szorozhatók, stb.) olyan módon, hogy a `True` 1-nek, a `False` 0-nak felel meg. Azaz ha a $\\tau$ feszültségekre egyesével meghívjuk a `bool()`-t és az eredményeket összeadjuk, akkor megkapjuk a nemnulla $\\tau$ feszültségek darabszámát. Ha ez 2-nél kisebb, akkor van olyan mátrixunk, ami a Mohr körök módszerével kezelhető. Ha 2 vagy 3, akkor kilépünk a függvényből.\n",
    "\n",
    "A függvényen belül is definiálhatunk alfüggvényeket. Az alfüggvényeket csak a függvényből érjük el, és ugyan azzal a szintaktikával definiáljuk őket, mint a \"sima\" függvényeket (csak indentáljuk őket a fő-függvénynek megfelelően). A `mohr()` függvényen belül definiálunk egy `felkorok()` alfüggvényt, ami kirajzolja a főfeszültség, a két további húzófeszültség és a csúsztatófeszültség alapján a félköröket. A `felkor()` alfüggvény ehhez ad segítséget, kiszámolja a középpont és sugár alapján az $x$ és $y$ koordinátákat, melyek alapján majd ábrázolunk.\n",
    "\n",
    "A `return valami,valami2,valami3...` szintaktikát haszálva a függvény által adott eredményeket külön változóba tárolhatjuk el.\n",
    "\n",
    "Az $\\alpha$ szög meghatározásához ki kell választanunk a nem főfeszültséghez tartozó pontok közül azt, ahol $\\sigma$ nagyobb. Ezt összekötve $\\sigma_K$-val adódik a $2\\alpha$ szög."
   ]
  },
  {
   "cell_type": "code",
   "execution_count": 16,
   "metadata": {
    "ExecuteTime": {
     "end_time": "2020-03-19T09:56:11.596904Z",
     "start_time": "2020-03-19T09:56:11.554347Z"
    }
   },
   "outputs": [],
   "source": [
    "def mohr(matrix):\n",
    "    def felkor(Kp,Rf):\n",
    "        Rf=sp.Abs(Rf)\n",
    "        x=Kp+Rf*np.cos(fi)\n",
    "        y=Rf*np.sin(fi)\n",
    "        return x,y\n",
    "\n",
    "    def felkorok(σfo,σnemfo,σnemfo2,τ):\n",
    "        #félkörök középpontja és sugara:\n",
    "        σK1=(σnemfo+σnemfo2)/2\n",
    "        R1=sp.sqrt(((σnemfo-σnemfo2)/2)**2+τ**2)        \n",
    "        σK2=(σfo+σK1+R1)/2\n",
    "        R2=(σfo+σK1+R1)/2-σfo        \n",
    "        σK3=(σfo+σK1-R1)/2\n",
    "        R3=(σfo+σK1-R1)/2-σfo        \n",
    "        felkor1x,felkor1y=felkor(σK1,R1)\n",
    "        felkor2x,felkor2y=felkor(σK2,R2)\n",
    "        felkor3x,felkor3y=felkor(σK3,R3)\n",
    "\n",
    "        plt.plot(felkor1x,felkor1y)\n",
    "        plt.plot(felkor2x,felkor2y)\n",
    "        plt.plot(felkor3x,felkor3y)\n",
    "    \n",
    "    if not matrix.is_symmetric():\n",
    "        print(\"Ez a mátrix nem szimmetrikus, így a beadott feszültségállapotnak fizikailag nincs értelme!\")\n",
    "        print(\"A Mohr körök ilyenkor nem adnak jó eredményt!\")\n",
    "        return\n",
    "    \n",
    "    σx=matrix[0,0]\n",
    "    σy=matrix[1,1]\n",
    "    σz=matrix[2,2]\n",
    "    #a Mohr körök módszerével a τ feszültségeknek az abszolút értékét vizsgáljuk\n",
    "    τxy=sp.Abs(matrix[0,1])\n",
    "    τxz=sp.Abs(matrix[0,2])\n",
    "    τyz=sp.Abs(matrix[1,2])\n",
    "    \n",
    "    τxy_nemnulla=bool(τxy) # => A 'z' irány feszültségi főirány\n",
    "    τxz_nemnulla=bool(τxz) # => Az 'y' irány feszültségi főirány\n",
    "    τyz_nemnulla=bool(τyz) # => Az 'x' irány feszültségi főirány\n",
    "    \n",
    "    nemnulla_darab=τxy_nemnulla+τxz_nemnulla+τyz_nemnulla\n",
    "    if nemnulla_darab>1:\n",
    "        print(\"Ez a mátrix Mohr körökkel nem kezelhető!\")\n",
    "        return\n",
    "    \n",
    "    fi=np.linspace(0,np.pi,201)    \n",
    "    plt.figure(figsize=(14,7)) #ábra mérete   \n",
    "        \n",
    "    if τxy_nemnulla:\n",
    "        print(\"A 'z' irány feszültségi főirány.\")\n",
    "        plt.plot(σx,τxy,'X',label=\"X\")\n",
    "        plt.plot(σy,τxy,'X',label=\"Y\")\n",
    "        plt.plot(σz,0,'X',label=\"Z\")        \n",
    "        felkorok(σz,σx,σy,τxy)\n",
    "        σK=(σx+σy)/2        \n",
    "        plt.plot([σK,max(σx,σy)],[0,τxy])\n",
    "        α=sp.atan(2*sp.Abs(τxy/(σx-σy)))/2\n",
    "        \n",
    "                  \n",
    "    elif τxz_nemnulla:\n",
    "        print(\"Az 'y' irány feszültségi főirány.\")\n",
    "        plt.plot(σx,τxz,'X',label=\"X\")\n",
    "        plt.plot(σy,0,'X',label=\"Y\")\n",
    "        plt.plot(σz,τxz,'X',label=\"Z\")        \n",
    "        felkorok(σy,σz,σx,τxz)\n",
    "        σK=(σx+σz)/2        \n",
    "        plt.plot([σK,max(σx,σz)],[0,τxz])\n",
    "        α=sp.atan(2*sp.Abs(τxz/(σz-σx)))/2\n",
    "        \n",
    "    elif τyz_nemnulla:\n",
    "        print(\"Az 'x' irány feszültségi főirány.\")\n",
    "        plt.plot(σx,0,'X',label=\"X\")\n",
    "        plt.plot(σy,τyz,'X',label=\"Y\")\n",
    "        plt.plot(σz,τyz,'X',label=\"Z\")        \n",
    "        felkorok(σx,σz,σy,τyz)\n",
    "        σK=(σz+σy)/2        \n",
    "        plt.plot([σK,max(σz,σy)],[0,τyz])\n",
    "        α=sp.atan(2*sp.Abs(τyz/(σz-σy)))/2\n",
    "        \n",
    "    else: #mindegyik τ feszültség 0!\n",
    "        print(\"Mindegyik irány feszültségi főirány.\")\n",
    "        plt.plot(σx,0,'X',label=\"X\")\n",
    "        plt.plot(σy,0,'X',label=\"Y\")\n",
    "        plt.plot(σz,0,'X',label=\"Z\")        \n",
    "        felkorok(σx,σz,σy,0)\n",
    "        α=0\n",
    "   \n",
    "    plt.xlabel(r\"$\\sigma \\; \\rm{(MPa)}$\")\n",
    "    plt.ylabel(r\"$|\\tau| \\; \\rm{(MPa)}$\")\n",
    "    plt.legend()\n",
    "    plt.grid()\n",
    "    plt.show()\n",
    "    \n",
    "    print(\"α értéke:\")\n",
    "    display(rad2deg(α).evalf(5))\n"
   ]
  },
  {
   "cell_type": "markdown",
   "metadata": {},
   "source": [
    "Most már elvégezhetjük a Mohr körök ábrázolását a $\\boldsymbol{\\sigma}_B$ mátrixon is. Ha jól írtuk meg a kódot, akkor tetszőleges mátrixra elvégezhető az ábrázolás a `mohr()` függvénnyel."
   ]
  },
  {
   "cell_type": "code",
   "execution_count": 17,
   "metadata": {
    "ExecuteTime": {
     "end_time": "2020-03-19T09:56:13.500325Z",
     "start_time": "2020-03-19T09:56:11.599757Z"
    },
    "scrolled": false
   },
   "outputs": [
    {
     "name": "stdout",
     "output_type": "stream",
     "text": [
      "Az 'x' irány feszültségi főirány.\n"
     ]
    },
    {
     "data": {
      "image/png": "[encoded data removed]",
      "text/plain": [
       "<Figure size 1008x504 with 1 Axes>"
      ]
     },
     "metadata": {
      "needs_background": "light"
     },
     "output_type": "display_data"
    },
    {
     "name": "stdout",
     "output_type": "stream",
     "text": [
      "α értéke:\n"
     ]
    },
    {
     "data": {
      "image/png": "[encoded data removed]",
      "text/latex": [
       "$\\displaystyle 41.438$"
      ],
      "text/plain": [
       "41.438"
      ]
     },
     "metadata": {},
     "output_type": "display_data"
    }
   ],
   "source": [
    "mohr(σB)"
   ]
  }
 ],
 "metadata": {
  "kernelspec": {
   "display_name": "Python 3",
   "language": "python",
   "name": "python3"
  },
  "language_info": {
   "codemirror_mode": {
    "name": "ipython",
    "version": 3
   },
   "file_extension": ".py",
   "mimetype": "text/x-python",
   "name": "python",
   "nbconvert_exporter": "python",
   "pygments_lexer": "ipython3",
   "version": "3.7.4"
  },
  "toc": {
   "base_numbering": 1,
   "nav_menu": {},
   "number_sections": true,
   "sideBar": true,
   "skip_h1_title": false,
   "title_cell": "Table of Contents",
   "title_sidebar": "Contents",
   "toc_cell": false,
   "toc_position": {},
   "toc_section_display": true,
   "toc_window_display": false
  }
 },
 "nbformat": 4,
 "nbformat_minor": 2
}
