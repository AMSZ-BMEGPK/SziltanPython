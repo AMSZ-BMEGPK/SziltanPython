{
 "cells": [
  {
   "cell_type": "markdown",
   "metadata": {},
   "source": [
    "# Példa 4.7\n",
    "Egy kör keresztmetszetű tartó adott keresztmetszetének terheléseit az ábra mutatja. Határozzuk meg A, B, C pontokban a főfeszültségeket és a hozzájuk tartozó főirányokat! Ábrázoljuk a főirányokat kiskockán!\n",
    "<img src=\"./Fig_1.47.1.jpg\" style=\"width: 500px;\">"
   ]
  },
  {
   "cell_type": "markdown",
   "metadata": {},
   "source": [
    "# Megoldás\n",
    "A megoldás során szükségünk lesz a `sympy` modulra. Az egyes pontok koordinátáira szimbolikus változókat hozunk létre. Definiáljuk a bemenő adatokat és kiszámítjuk a keresztmetszet jellemző értékeit."
   ]
  },
  {
   "cell_type": "code",
   "execution_count": 1,
   "metadata": {
    "ExecuteTime": {
     "end_time": "2020-03-19T09:02:36.939978Z",
     "start_time": "2020-03-19T09:02:34.788260Z"
    }
   },
   "outputs": [
    {
     "data": {
      "image/png": "[encoded data removed]",
      "text/latex": [
       "$\\displaystyle 11310.0$"
      ],
      "text/plain": [
       "11310."
      ]
     },
     "metadata": {},
     "output_type": "display_data"
    },
    {
     "data": {
      "image/png": "[encoded data removed]",
      "text/latex": [
       "$\\displaystyle 1.0179 \\cdot 10^{7}$"
      ],
      "text/plain": [
       "1.0179e+7"
      ]
     },
     "metadata": {},
     "output_type": "display_data"
    },
    {
     "data": {
      "image/png": "[encoded data removed]",
      "text/latex": [
       "$\\displaystyle 2.0358 \\cdot 10^{7}$"
      ],
      "text/plain": [
       "2.0358e+7"
      ]
     },
     "metadata": {},
     "output_type": "display_data"
    }
   ],
   "source": [
    "import sympy as sp\n",
    "sp.init_printing()\n",
    "y,z = sp.symbols('y,z')\n",
    "\n",
    "d = 120 #mm\n",
    "N = -50e3 #N\n",
    "Mh = 4e6 #Nmm\n",
    "Mt = 6e6 #Nmm\n",
    "\n",
    "A = d**2*sp.pi/4\n",
    "Iz = d**4*sp.pi/64\n",
    "Ip = d**4*sp.pi/32\n",
    "\n",
    "display(A.evalf(5)) #mm^2\n",
    "display(Iz.evalf(5)) #mm^4\n",
    "display(Ip.evalf(5)) #mm^4"
   ]
  },
  {
   "cell_type": "markdown",
   "metadata": {},
   "source": [
    "Felírhatjuk az egyes terhelésekből adódó feszültségkomponenseket:"
   ]
  },
  {
   "cell_type": "code",
   "execution_count": 2,
   "metadata": {
    "ExecuteTime": {
     "end_time": "2020-03-19T09:02:38.341683Z",
     "start_time": "2020-03-19T09:02:36.944062Z"
    }
   },
   "outputs": [
    {
     "name": "stdout",
     "output_type": "stream",
     "text": [
      "Hajlításból származó normálfeszültség:\n"
     ]
    },
    {
     "data": {
      "image/png": "[encoded data removed]",
      "text/latex": [
       "$\\displaystyle 0.39298 y$"
      ],
      "text/plain": [
       "0.39298⋅y"
      ]
     },
     "metadata": {},
     "output_type": "display_data"
    },
    {
     "name": "stdout",
     "output_type": "stream",
     "text": [
      "Nyírásból származó xy csúsztatófeszültség:\n"
     ]
    },
    {
     "data": {
      "image/png": "[encoded data removed]",
      "text/latex": [
       "$\\displaystyle 0.29473 z$"
      ],
      "text/plain": [
       "0.29473⋅z"
      ]
     },
     "metadata": {},
     "output_type": "display_data"
    },
    {
     "name": "stdout",
     "output_type": "stream",
     "text": [
      "Nyírásból származó xz csúsztatófeszültség:\n"
     ]
    },
    {
     "data": {
      "image/png": "[encoded data removed]",
      "text/latex": [
       "$\\displaystyle - 0.29473 y$"
      ],
      "text/plain": [
       "-0.29473⋅y"
      ]
     },
     "metadata": {},
     "output_type": "display_data"
    }
   ],
   "source": [
    "# Normál igénybevétel\n",
    "σ_xN = N/A\n",
    "\n",
    "# Hajlító igénybevétel\n",
    "σ_xMh = Mh/Iz*y\n",
    "\n",
    "# Csavaró igénybevételek\n",
    "τ_xyt = Mt/Ip*z\n",
    "τ_xzt = Mt/Ip*(-y)\n",
    "\n",
    "print(\"Hajlításból származó normálfeszültség:\")\n",
    "display(σ_xMh.evalf(5)) #MPa\n",
    "print(\"Nyírásból származó xy csúsztatófeszültség:\")\n",
    "display(τ_xyt.evalf(5)) #MPa\n",
    "print(\"Nyírásból származó xz csúsztatófeszültség:\")\n",
    "display(τ_xzt.evalf(5)) #MPa"
   ]
  },
  {
   "cell_type": "markdown",
   "metadata": {},
   "source": [
    "Az egyes komponensekből összeállíthatjuk a paraméteres feszültségi tenzort, amibe behelyettesítve az egyes pontok koordinátáit, az ott jellemző feszültségi tenzort kapjuk."
   ]
  },
  {
   "cell_type": "code",
   "execution_count": 3,
   "metadata": {
    "ExecuteTime": {
     "end_time": "2020-03-19T09:02:38.849339Z",
     "start_time": "2020-03-19T09:02:38.345369Z"
    }
   },
   "outputs": [
    {
     "data": {
      "image/png": "[encoded data removed]",
      "text/latex": [
       "$\\displaystyle \\left[\\begin{matrix}0.39298 y - 4.421 & 0.29473 z & - 0.29473 y\\\\0.29473 z & 0 & 0\\\\- 0.29473 y & 0 & 0\\end{matrix}\\right]$"
      ],
      "text/plain": [
       "⎡0.39298⋅y - 4.421  0.29473⋅z  -0.29473⋅y⎤\n",
       "⎢                                        ⎥\n",
       "⎢    0.29473⋅z          0          0     ⎥\n",
       "⎢                                        ⎥\n",
       "⎣   -0.29473⋅y          0          0     ⎦"
      ]
     },
     "execution_count": 3,
     "metadata": {},
     "output_type": "execute_result"
    }
   ],
   "source": [
    "σ_matrix = sp.Matrix([[σ_xN+σ_xMh,τ_xyt,τ_xzt],[τ_xyt,0,0],[τ_xzt,0,0]])\n",
    "σ_matrix.evalf(5)"
   ]
  },
  {
   "cell_type": "code",
   "execution_count": 4,
   "metadata": {
    "ExecuteTime": {
     "end_time": "2020-03-19T09:02:38.864483Z",
     "start_time": "2020-03-19T09:02:38.851731Z"
    }
   },
   "outputs": [],
   "source": [
    "# 'A' pont feszültségi tenzora\n",
    "σ_A = σ_matrix.subs([(y,d/2),(z,0)])\n",
    "\n",
    "# 'B' pont feszültségi tenzora\n",
    "σ_B = σ_matrix.subs([(y,0),(z,d/2)])\n",
    "\n",
    "# 'C' pont feszültségi tenzora\n",
    "σ_C = σ_matrix.subs([(y,-d/2),(z,0)])"
   ]
  },
  {
   "cell_type": "markdown",
   "metadata": {},
   "source": [
    "## Sajátérték, sajátvektor számítás\n",
    "\n",
    "A feszültségi állapotot jellemző főfeszültségek és a hozzájuk tartozó főirányok megfeleltethetőek a feszültségi állapotot jellemző tenzor sajátértékeivel és sajátvektoraival.\n",
    "\n",
    "A `sympy` segítségével a sajátértékeket és sajátvektorokat egy utasítással (`.eigenvects()`) megkaphatjuk. Mivel a `sympy` speciális esetekre is fel van készítve, ezért a megoldást erősen \"becsomagolva\" kapjuk meg.\n",
    "\n",
    "Eredményül a mátrixhoz tartozó sajátérték/sajátvektor párokat kapjuk. Az `.eigenvects()` egy listát ad vissza. Ennek a listának az elemei olyan `tuple`-ök (a mi szempontunkból a `tuple` gyakorlatilag egy lista), melyek:\n",
    "\n",
    "- A sajátérték\n",
    "- A sajátérték multiplicitása (pl: ha két sajátérték egybeesik, akkor annak a multiplicitása 2 lesz)\n",
    "- A sajátértékhez tartozó sajátvektor(ok) listája melynek elemszáma a az adott sajátérték multiplicitása\n",
    "\n",
    "Tartsuk észben, hogy egy $3\\times3$-as mátrix esetén ha egy sajátérték multiplicitása nagyobb mint egy, akkor az `sp.eigenvects` nem 3 elemű listát ad eredményül!  \n",
    "Ha csak egy mátrixot kell kiértékeljünk, akkor a fent említett mennyiségek 'kézzel' is kiolvashatóak."
   ]
  },
  {
   "cell_type": "code",
   "execution_count": 5,
   "metadata": {
    "ExecuteTime": {
     "end_time": "2020-03-19T09:02:39.388954Z",
     "start_time": "2020-03-19T09:02:38.866661Z"
    },
    "scrolled": true
   },
   "outputs": [
    {
     "data": {
      "image/png": "[encoded data removed]",
      "text/latex": [
       "$\\displaystyle \\left[ \\left( 1, \\  2, \\  \\left[ \\left[\\begin{matrix}1\\\\0\\\\0\\end{matrix}\\right], \\  \\left[\\begin{matrix}0\\\\0\\\\1\\end{matrix}\\right]\\right]\\right), \\  \\left( 2, \\  1, \\  \\left[ \\left[\\begin{matrix}0\\\\1\\\\0\\end{matrix}\\right]\\right]\\right)\\right]$"
      ],
      "text/plain": [
       "⎡⎛      ⎡⎡1⎤  ⎡0⎤⎤⎞  ⎛      ⎡⎡0⎤⎤⎞⎤\n",
       "⎢⎜      ⎢⎢ ⎥  ⎢ ⎥⎥⎟  ⎜      ⎢⎢ ⎥⎥⎟⎥\n",
       "⎢⎜1, 2, ⎢⎢0⎥, ⎢0⎥⎥⎟, ⎜2, 1, ⎢⎢1⎥⎥⎟⎥\n",
       "⎢⎜      ⎢⎢ ⎥  ⎢ ⎥⎥⎟  ⎜      ⎢⎢ ⎥⎥⎟⎥\n",
       "⎣⎝      ⎣⎣0⎦  ⎣1⎦⎦⎠  ⎝      ⎣⎣0⎦⎦⎠⎦"
      ]
     },
     "metadata": {},
     "output_type": "display_data"
    }
   ],
   "source": [
    "# Példa:\n",
    "display(sp.Matrix([[1,0,0],[0,2,0],[0,0,1]]).eigenvects()) # Így néz ki, ha többszörösek a sajátértékek"
   ]
  },
  {
   "cell_type": "code",
   "execution_count": 6,
   "metadata": {
    "ExecuteTime": {
     "end_time": "2020-03-19T09:02:40.091663Z",
     "start_time": "2020-03-19T09:02:39.391798Z"
    }
   },
   "outputs": [
    {
     "data": {
      "image/png": "[encoded data removed]",
      "text/latex": [
       "$\\displaystyle \\left[ \\left( 0, \\  1, \\  \\left[ \\left[\\begin{matrix}0\\\\1.0\\\\0\\end{matrix}\\right]\\right]\\right), \\  \\left( -10.5327327570106, \\  1, \\  \\left[ \\left[\\begin{matrix}0.595612005329682\\\\0\\\\1.0\\end{matrix}\\right]\\right]\\right), \\  \\left( 29.6902722032572, \\  1, \\  \\left[ \\left[\\begin{matrix}-1.67894533866302\\\\0\\\\1.0\\end{matrix}\\right]\\right]\\right)\\right]$"
      ],
      "text/plain": [
       "⎡⎛      ⎡⎡ 0 ⎤⎤⎞  ⎛                      ⎡⎡0.595612005329682⎤⎤⎞  ⎛            \n",
       "⎢⎜      ⎢⎢   ⎥⎥⎟  ⎜                      ⎢⎢                 ⎥⎥⎟  ⎜            \n",
       "⎢⎜0, 1, ⎢⎢1.0⎥⎥⎟, ⎜-10.5327327570106, 1, ⎢⎢        0        ⎥⎥⎟, ⎜29.690272203\n",
       "⎢⎜      ⎢⎢   ⎥⎥⎟  ⎜                      ⎢⎢                 ⎥⎥⎟  ⎜            \n",
       "⎣⎝      ⎣⎣ 0 ⎦⎦⎠  ⎝                      ⎣⎣       1.0       ⎦⎦⎠  ⎝            \n",
       "\n",
       "         ⎡⎡-1.67894533866302⎤⎤⎞⎤\n",
       "         ⎢⎢                 ⎥⎥⎟⎥\n",
       "2572, 1, ⎢⎢        0        ⎥⎥⎟⎥\n",
       "         ⎢⎢                 ⎥⎥⎟⎥\n",
       "         ⎣⎣       1.0       ⎦⎦⎠⎦"
      ]
     },
     "metadata": {},
     "output_type": "display_data"
    }
   ],
   "source": [
    "σ_A_sajat=σ_A.eigenvects()\n",
    "display(σ_A_sajat) # Ilyen, ha egyszeresek"
   ]
  },
  {
   "cell_type": "markdown",
   "metadata": {
    "ExecuteTime": {
     "end_time": "2020-03-19T08:56:30.647631Z",
     "start_time": "2020-03-19T08:56:30.636436Z"
    }
   },
   "source": [
    "Az `.eigenvects()` függvény nem feltétlenül sorrendben adja vissza a sajátértékeket, ezért rendeznünk kell őket. Célszerű a sajátértékek alapján csökkenő sorrendbe tenni a fenti eredményt. Ezt a következő paranccsal tudjuk megtenni: `σ_A_sajat.sort(key = lambda x : x[0], reverse=True)`.\n",
    "\n",
    "Rövid magyarázat:\n",
    "\n",
    "- `lista.sort()`: a listát helyben rendezi, azaz a rendezetlen listát felülírja a rendezett listával,\n",
    "- `key` =: ami alapján rendez, egyszerű számoknál, stringeknél erre nincs szükség (a mi kódunk is lefut key nélkül, de nem tudjuk, hogy mi alapján rendezi az elemeket, így biztonságosabb megadni a key-t),\n",
    "- `lambda x : x[0]`: egy úgynevezett `lambda` függvény, ami a bemenő x-nek az első elemét adja vissza, azaz az első elem alapján fogunk rendezni,\n",
    "- `reverse = True`: növekvő helyett csökkenő sorrendbe teszi az eredményt.\n",
    "\n"
   ]
  },
  {
   "cell_type": "code",
   "execution_count": 7,
   "metadata": {
    "ExecuteTime": {
     "end_time": "2020-03-19T09:02:40.590548Z",
     "start_time": "2020-03-19T09:02:40.095599Z"
    }
   },
   "outputs": [
    {
     "data": {
      "image/png": "[encoded data removed]",
      "text/latex": [
       "$\\displaystyle \\left[ \\left( 29.6902722032572, \\  1, \\  \\left[ \\left[\\begin{matrix}-1.67894533866302\\\\0\\\\1.0\\end{matrix}\\right]\\right]\\right), \\  \\left( 0, \\  1, \\  \\left[ \\left[\\begin{matrix}0\\\\1.0\\\\0\\end{matrix}\\right]\\right]\\right), \\  \\left( -10.5327327570106, \\  1, \\  \\left[ \\left[\\begin{matrix}0.595612005329682\\\\0\\\\1.0\\end{matrix}\\right]\\right]\\right)\\right]$"
      ],
      "text/plain": [
       "⎡⎛                     ⎡⎡-1.67894533866302⎤⎤⎞  ⎛      ⎡⎡ 0 ⎤⎤⎞  ⎛             \n",
       "⎢⎜                     ⎢⎢                 ⎥⎥⎟  ⎜      ⎢⎢   ⎥⎥⎟  ⎜             \n",
       "⎢⎜29.6902722032572, 1, ⎢⎢        0        ⎥⎥⎟, ⎜0, 1, ⎢⎢1.0⎥⎥⎟, ⎜-10.532732757\n",
       "⎢⎜                     ⎢⎢                 ⎥⎥⎟  ⎜      ⎢⎢   ⎥⎥⎟  ⎜             \n",
       "⎣⎝                     ⎣⎣       1.0       ⎦⎦⎠  ⎝      ⎣⎣ 0 ⎦⎦⎠  ⎝             \n",
       "\n",
       "         ⎡⎡0.595612005329682⎤⎤⎞⎤\n",
       "         ⎢⎢                 ⎥⎥⎟⎥\n",
       "0106, 1, ⎢⎢        0        ⎥⎥⎟⎥\n",
       "         ⎢⎢                 ⎥⎥⎟⎥\n",
       "         ⎣⎣       1.0       ⎦⎦⎠⎦"
      ]
     },
     "metadata": {},
     "output_type": "display_data"
    }
   ],
   "source": [
    "σ_A_sajat.sort(key = lambda x : x[0], reverse=True)\n",
    "display(σ_A_sajat) # Ilyen, ha egyszeresek"
   ]
  },
  {
   "cell_type": "markdown",
   "metadata": {},
   "source": [
    "## Automatizálás\n",
    "Tegyük fel, hogy a lustaságunk által vezérelve nem szeretnénk minden mátrix eredményét kézzel kiolvasni/kiiratni a listákból. Írjunk egy függvényt ami automatizálja ezt a feladatot!"
   ]
  },
  {
   "cell_type": "code",
   "execution_count": 8,
   "metadata": {
    "ExecuteTime": {
     "end_time": "2020-03-19T09:02:40.600234Z",
     "start_time": "2020-03-19T09:02:40.593300Z"
    }
   },
   "outputs": [],
   "source": [
    "def print_eigensystem(matrix):\n",
    "    # Legyen a függvény bemenete a vizsgálandó mátrix\n",
    "    eig_system= matrix.eigenvects()\n",
    "    \n",
    "    # Az eredményt a program nem rendezi alapból a sajátértékek nagysága szerint, így azt nekünk kell megtenni\n",
    "    # A rendezést a 'tuple'-ök első elemei szerint végezzük\n",
    "    # Utánanézési lehetőség: lambda függvények, sorted() függvény \n",
    "    eig_system.sort(key=lambda x: x[0], reverse=True)\n",
    "    \n",
    "    # Végig iterálva az 'eig_system' elemein, kiiratjuk a főfeszültségeket és főirányokat\n",
    "    n = 1\n",
    "    for elem in eig_system:\n",
    "        # Ha egy főfeszültség többszörös multiplicitású, akkor többször kell kiírni!\n",
    "        for i in range(elem[1]): # Az 'elem[1]' értéke a multiplicitást mutatja meg.\n",
    "                                 # 'range(elem[1])' : csinál egy 'range' objektumot, amin a 'for' ciklus végig\n",
    "                                 # tud futni. Pontosan annyiszor fut le így a ciklus, amekkora számot adunk a\n",
    "                                 # 'range' függvény argumentumaként, jelen esetben ez 'elem[1]', azaz a multiplicitás\n",
    "            sajatertek = elem[0].evalf(5)\n",
    "            # Normáljuk a sajátvektorokat, hogy egység hosszúságúak legyenek\n",
    "            sajatvektor = (elem[2][i].normalized()).evalf(5) # '.normalize()': a vektort 1 hosszúságúra normálja\n",
    "            # Az 'n' változóval sorszámozzuk az egyes értékeket\n",
    "            print(str(n)+'. Főfeszültség: '+str(sajatertek.evalf(5))+' MPa')\n",
    "            print(str(n)+'. Főirány: ')\n",
    "            display(sajatvektor)\n",
    "            n += 1 # sorszám léptetése"
   ]
  },
  {
   "cell_type": "markdown",
   "metadata": {},
   "source": [
    "Innen az egyes pontokhoz tartozó jellemző értékeket mindössze 1 sor kóddal kiirathatjuk! <br>\n",
    "$A$ pont:\n",
    "<img src=\"./Fig_1.47.2.jpg\" style=\"width: 500px;\">"
   ]
  },
  {
   "cell_type": "code",
   "execution_count": 9,
   "metadata": {
    "ExecuteTime": {
     "end_time": "2020-03-19T09:02:42.565172Z",
     "start_time": "2020-03-19T09:02:40.603308Z"
    }
   },
   "outputs": [
    {
     "data": {
      "image/png": "[encoded data removed]",
      "text/latex": [
       "$\\displaystyle \\left[\\begin{matrix}19.16 & 0 & -17.68\\\\0 & 0 & 0\\\\-17.68 & 0 & 0\\end{matrix}\\right]$"
      ],
      "text/plain": [
       "⎡19.16   0  -17.68⎤\n",
       "⎢                 ⎥\n",
       "⎢  0     0    0   ⎥\n",
       "⎢                 ⎥\n",
       "⎣-17.68  0    0   ⎦"
      ]
     },
     "metadata": {},
     "output_type": "display_data"
    },
    {
     "name": "stdout",
     "output_type": "stream",
     "text": [
      "1. Főfeszültség: 29.690 MPa\n",
      "1. Főirány: \n"
     ]
    },
    {
     "data": {
      "image/png": "[encoded data removed]",
      "text/latex": [
       "$\\displaystyle \\left[\\begin{matrix}-0.85915\\\\0\\\\0.51172\\end{matrix}\\right]$"
      ],
      "text/plain": [
       "⎡-0.85915⎤\n",
       "⎢        ⎥\n",
       "⎢   0    ⎥\n",
       "⎢        ⎥\n",
       "⎣0.51172 ⎦"
      ]
     },
     "metadata": {},
     "output_type": "display_data"
    },
    {
     "name": "stdout",
     "output_type": "stream",
     "text": [
      "2. Főfeszültség: 0 MPa\n",
      "2. Főirány: \n"
     ]
    },
    {
     "data": {
      "image/png": "[encoded data removed]",
      "text/latex": [
       "$\\displaystyle \\left[\\begin{matrix}0\\\\1.0\\\\0\\end{matrix}\\right]$"
      ],
      "text/plain": [
       "⎡ 0 ⎤\n",
       "⎢   ⎥\n",
       "⎢1.0⎥\n",
       "⎢   ⎥\n",
       "⎣ 0 ⎦"
      ]
     },
     "metadata": {},
     "output_type": "display_data"
    },
    {
     "name": "stdout",
     "output_type": "stream",
     "text": [
      "3. Főfeszültség: -10.533 MPa\n",
      "3. Főirány: \n"
     ]
    },
    {
     "data": {
      "image/png": "[encoded data removed]",
      "text/latex": [
       "$\\displaystyle \\left[\\begin{matrix}0.51172\\\\0\\\\0.85915\\end{matrix}\\right]$"
      ],
      "text/plain": [
       "⎡0.51172⎤\n",
       "⎢       ⎥\n",
       "⎢   0   ⎥\n",
       "⎢       ⎥\n",
       "⎣0.85915⎦"
      ]
     },
     "metadata": {},
     "output_type": "display_data"
    }
   ],
   "source": [
    "display(σ_A.evalf(4))\n",
    "print_eigensystem(σ_A)"
   ]
  },
  {
   "cell_type": "markdown",
   "metadata": {},
   "source": [
    "$B$ pont:\n",
    "<img src=\"./Fig_1.47.3.jpg\" style=\"width: 500px;\">"
   ]
  },
  {
   "cell_type": "code",
   "execution_count": 10,
   "metadata": {
    "ExecuteTime": {
     "end_time": "2020-03-19T09:02:44.672647Z",
     "start_time": "2020-03-19T09:02:42.567479Z"
    }
   },
   "outputs": [
    {
     "data": {
      "image/png": "[encoded data removed]",
      "text/latex": [
       "$\\displaystyle \\left[\\begin{matrix}-4.421 & 17.68 & 0\\\\17.68 & 0 & 0\\\\0 & 0 & 0\\end{matrix}\\right]$"
      ],
      "text/plain": [
       "⎡-4.421  17.68  0⎤\n",
       "⎢                ⎥\n",
       "⎢17.68     0    0⎥\n",
       "⎢                ⎥\n",
       "⎣  0       0    0⎦"
      ]
     },
     "metadata": {},
     "output_type": "display_data"
    },
    {
     "name": "stdout",
     "output_type": "stream",
     "text": [
      "1. Főfeszültség: 15.611 MPa\n",
      "1. Főirány: \n"
     ]
    },
    {
     "data": {
      "image/png": "[encoded data removed]",
      "text/latex": [
       "$\\displaystyle \\left[\\begin{matrix}0.6618\\\\0.74968\\\\0\\end{matrix}\\right]$"
      ],
      "text/plain": [
       "⎡0.6618 ⎤\n",
       "⎢       ⎥\n",
       "⎢0.74968⎥\n",
       "⎢       ⎥\n",
       "⎣   0   ⎦"
      ]
     },
     "metadata": {},
     "output_type": "display_data"
    },
    {
     "name": "stdout",
     "output_type": "stream",
     "text": [
      "2. Főfeszültség: 0 MPa\n",
      "2. Főirány: \n"
     ]
    },
    {
     "data": {
      "image/png": "[encoded data removed]",
      "text/latex": [
       "$\\displaystyle \\left[\\begin{matrix}0\\\\0\\\\1.0\\end{matrix}\\right]$"
      ],
      "text/plain": [
       "⎡ 0 ⎤\n",
       "⎢   ⎥\n",
       "⎢ 0 ⎥\n",
       "⎢   ⎥\n",
       "⎣1.0⎦"
      ]
     },
     "metadata": {},
     "output_type": "display_data"
    },
    {
     "name": "stdout",
     "output_type": "stream",
     "text": [
      "3. Főfeszültség: -20.032 MPa\n",
      "3. Főirány: \n"
     ]
    },
    {
     "data": {
      "image/png": "[encoded data removed]",
      "text/latex": [
       "$\\displaystyle \\left[\\begin{matrix}-0.74968\\\\0.6618\\\\0\\end{matrix}\\right]$"
      ],
      "text/plain": [
       "⎡-0.74968⎤\n",
       "⎢        ⎥\n",
       "⎢ 0.6618 ⎥\n",
       "⎢        ⎥\n",
       "⎣   0    ⎦"
      ]
     },
     "metadata": {},
     "output_type": "display_data"
    }
   ],
   "source": [
    "display(σ_B.evalf(4))\n",
    "print_eigensystem(σ_B)"
   ]
  },
  {
   "cell_type": "markdown",
   "metadata": {},
   "source": [
    "$C$ pont:\n",
    "<img src=\"./Fig_1.47.4.jpg\" style=\"width: 500px;\">"
   ]
  },
  {
   "cell_type": "code",
   "execution_count": 11,
   "metadata": {
    "ExecuteTime": {
     "end_time": "2020-03-19T09:02:46.853694Z",
     "start_time": "2020-03-19T09:02:44.675160Z"
    },
    "scrolled": false
   },
   "outputs": [
    {
     "data": {
      "image/png": "[encoded data removed]",
      "text/latex": [
       "$\\displaystyle \\left[\\begin{matrix}-28.0 & 0 & 17.68\\\\0 & 0 & 0\\\\17.68 & 0 & 0\\end{matrix}\\right]$"
      ],
      "text/plain": [
       "⎡-28.0  0  17.68⎤\n",
       "⎢               ⎥\n",
       "⎢  0    0    0  ⎥\n",
       "⎢               ⎥\n",
       "⎣17.68  0    0  ⎦"
      ]
     },
     "metadata": {},
     "output_type": "display_data"
    },
    {
     "name": "stdout",
     "output_type": "stream",
     "text": [
      "1. Főfeszültség: 8.5549 MPa\n",
      "1. Főirány: \n"
     ]
    },
    {
     "data": {
      "image/png": "[encoded data removed]",
      "text/latex": [
       "$\\displaystyle \\left[\\begin{matrix}0.43549\\\\0\\\\0.9002\\end{matrix}\\right]$"
      ],
      "text/plain": [
       "⎡0.43549⎤\n",
       "⎢       ⎥\n",
       "⎢   0   ⎥\n",
       "⎢       ⎥\n",
       "⎣0.9002 ⎦"
      ]
     },
     "metadata": {},
     "output_type": "display_data"
    },
    {
     "name": "stdout",
     "output_type": "stream",
     "text": [
      "2. Főfeszültség: 0 MPa\n",
      "2. Főirány: \n"
     ]
    },
    {
     "data": {
      "image/png": "[encoded data removed]",
      "text/latex": [
       "$\\displaystyle \\left[\\begin{matrix}0\\\\1.0\\\\0\\end{matrix}\\right]$"
      ],
      "text/plain": [
       "⎡ 0 ⎤\n",
       "⎢   ⎥\n",
       "⎢1.0⎥\n",
       "⎢   ⎥\n",
       "⎣ 0 ⎦"
      ]
     },
     "metadata": {},
     "output_type": "display_data"
    },
    {
     "name": "stdout",
     "output_type": "stream",
     "text": [
      "3. Főfeszültség: -36.554 MPa\n",
      "3. Főirány: \n"
     ]
    },
    {
     "data": {
      "image/png": "[encoded data removed]",
      "text/latex": [
       "$\\displaystyle \\left[\\begin{matrix}-0.9002\\\\0\\\\0.43549\\end{matrix}\\right]$"
      ],
      "text/plain": [
       "⎡-0.9002⎤\n",
       "⎢       ⎥\n",
       "⎢   0   ⎥\n",
       "⎢       ⎥\n",
       "⎣0.43549⎦"
      ]
     },
     "metadata": {},
     "output_type": "display_data"
    }
   ],
   "source": [
    "display(σ_C.evalf(4))\n",
    "print_eigensystem(σ_C)"
   ]
  }
 ],
 "metadata": {
  "kernelspec": {
   "display_name": "Python 3",
   "language": "python",
   "name": "python3"
  },
  "language_info": {
   "codemirror_mode": {
    "name": "ipython",
    "version": 3
   },
   "file_extension": ".py",
   "mimetype": "text/x-python",
   "name": "python",
   "nbconvert_exporter": "python",
   "pygments_lexer": "ipython3",
   "version": "3.8.2"
  },
  "toc": {
   "base_numbering": 1,
   "nav_menu": {},
   "number_sections": true,
   "sideBar": true,
   "skip_h1_title": false,
   "title_cell": "Table of Contents",
   "title_sidebar": "Contents",
   "toc_cell": false,
   "toc_position": {},
   "toc_section_display": true,
   "toc_window_display": false
  }
 },
 "nbformat": 4,
 "nbformat_minor": 2
}
